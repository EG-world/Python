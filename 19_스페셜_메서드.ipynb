{
  "nbformat": 4,
  "nbformat_minor": 0,
  "metadata": {
    "colab": {
      "provenance": [],
      "authorship_tag": "ABX9TyPjfbDvy7sENvNyHA9lU/Di",
      "include_colab_link": true
    },
    "kernelspec": {
      "name": "python3",
      "display_name": "Python 3"
    },
    "language_info": {
      "name": "python"
    }
  },
  "cells": [
    {
      "cell_type": "markdown",
      "metadata": {
        "id": "view-in-github",
        "colab_type": "text"
      },
      "source": [
        "<a href=\"https://colab.research.google.com/github/EG-world/Python/blob/main/19_%EC%8A%A4%ED%8E%98%EC%85%9C_%EB%A9%94%EC%84%9C%EB%93%9C.ipynb\" target=\"_parent\"><img src=\"https://colab.research.google.com/assets/colab-badge.svg\" alt=\"Open In Colab\"/></a>"
      ]
    },
    {
      "cell_type": "markdown",
      "source": [
        "# **1. 스페셜 메서드**\n",
        "파이썬의 스페셜 메서드 (또는 매직 메서드라고도 불림)는 더블 언더스코어(__)로 시작하고 끝나는 메서드 이름을 갖습니다. 이 메서드들은 특정 구문이나 내장 함수를 사용할 때 파이썬 인터프리터에 의해 자동으로 호출됩니다.\n",
        "\n",
        "예를 들어, 객체에 대해 + 연산자를 사용하면 해당 객체의 \\_\\_add__ 메서드가 호출됩니다. 또는 len() 함수를 사용하면 \\_\\_len__ 메서드가 호출됩니다."
      ],
      "metadata": {
        "id": "HsgIecO8uXNs"
      }
    },
    {
      "cell_type": "markdown",
      "source": [
        "### 1-1. \\_\\_repr__()\n",
        "* 객체의 상태를 개발자가 쉽게 이해 할 수 있도록 반환\n",
        "* 재생성 할 수 있는 코드를 출력하도록 함\n",
        "* 객체의 주요 정보를 담고 있어야 함"
      ],
      "metadata": {
        "id": "OxguO3equfXj"
      }
    },
    {
      "cell_type": "code",
      "source": [
        "class Dog :\n",
        "  def __init__(self, name, age) :\n",
        "    self.name = name\n",
        "    self.age = age\n",
        "\n",
        "  def __repr__(self) :\n",
        "    return f\"Dog(name='{self.name}', age={self.age})\""
      ],
      "metadata": {
        "id": "8JVZDsVPugc_"
      },
      "execution_count": 12,
      "outputs": []
    },
    {
      "cell_type": "code",
      "source": [
        "Rucy = Dog('루시', 14)\n",
        "print(repr(Rucy))\n",
        "print(Rucy)"
      ],
      "metadata": {
        "colab": {
          "base_uri": "https://localhost:8080/"
        },
        "id": "Ixa-rEKqugZh",
        "outputId": "9b7be600-c75b-4a5a-f506-1723833b666d"
      },
      "execution_count": 13,
      "outputs": [
        {
          "output_type": "stream",
          "name": "stdout",
          "text": [
            "Dog(name='루시', age=14)\n",
            "Dog(name='루시', age=14)\n"
          ]
        }
      ]
    },
    {
      "cell_type": "markdown",
      "source": [
        "### eval()\n",
        "파이썬 내장 함수로 문자열로 표현된 파이썬 코드를 실행하고 그 결과를 반환하는 기능"
      ],
      "metadata": {
        "id": "ZmFwg1cNugV9"
      }
    },
    {
      "cell_type": "code",
      "source": [
        "x = 10\n",
        "y = 3\n",
        "result = x + y\n",
        "print(result)\n",
        "result = eval(\"x + y\")\n",
        "print(result)"
      ],
      "metadata": {
        "colab": {
          "base_uri": "https://localhost:8080/"
        },
        "id": "pTt35CPAw0l1",
        "outputId": "969c876a-9631-4a82-f972-d271366f62e4"
      },
      "execution_count": 15,
      "outputs": [
        {
          "output_type": "stream",
          "name": "stdout",
          "text": [
            "13\n",
            "13\n"
          ]
        }
      ]
    },
    {
      "cell_type": "code",
      "source": [
        "Rucy_repr = repr(Rucy)\n",
        "Rucy_repr"
      ],
      "metadata": {
        "colab": {
          "base_uri": "https://localhost:8080/",
          "height": 35
        },
        "id": "434FKIPvugTB",
        "outputId": "fd0f37c2-90e3-4559-ce30-0daf68d8d8a2"
      },
      "execution_count": 16,
      "outputs": [
        {
          "output_type": "execute_result",
          "data": {
            "text/plain": [
              "\"Dog(name='루시', age=14)\""
            ],
            "application/vnd.google.colaboratory.intrinsic+json": {
              "type": "string"
            }
          },
          "metadata": {},
          "execution_count": 16
        }
      ]
    },
    {
      "cell_type": "code",
      "source": [
        "new_Rucy = eval(Rucy_repr)\n",
        "print(new_Rucy)"
      ],
      "metadata": {
        "colab": {
          "base_uri": "https://localhost:8080/"
        },
        "id": "1ea1hr90ugPg",
        "outputId": "7359b745-e087-47b8-b102-85984c9e5f20"
      },
      "execution_count": 18,
      "outputs": [
        {
          "output_type": "stream",
          "name": "stdout",
          "text": [
            "Dog(name='루시', age=14)\n"
          ]
        }
      ]
    },
    {
      "cell_type": "code",
      "source": [
        "new_Rucy == Rucy # False, 같은 값을 가진 다른 객체"
      ],
      "metadata": {
        "colab": {
          "base_uri": "https://localhost:8080/"
        },
        "id": "VHbeWHUOugL_",
        "outputId": "2d4016ee-e86c-4bab-e4b7-5b425a17f389"
      },
      "execution_count": 19,
      "outputs": [
        {
          "output_type": "execute_result",
          "data": {
            "text/plain": [
              "False"
            ]
          },
          "metadata": {},
          "execution_count": 19
        }
      ]
    },
    {
      "cell_type": "code",
      "source": [
        "# Dog(name='루시', age=14) 를 return 하니까\n",
        "# eval 함수로 위 결과를 리턴하면 새로운 객체를 만들 수 있는것이다.\n",
        "# 따라서 new_Rucy = Dog(name='루시', age=14)를 한것과 같다."
      ],
      "metadata": {
        "id": "GKbu5bxFugJE"
      },
      "execution_count": null,
      "outputs": []
    },
    {
      "cell_type": "markdown",
      "source": [
        "### 1-2. \\_\\_str__()\n",
        "* 객체가 사람이 이해하기 쉽게 표현되도록 문자열로 반환하는 역할\n",
        "* \\_\\_repr__()와 \\_\\_str__()의 차이\n",
        "  * \\_\\_repr__() : 프로그래머에게 유용한 객체의 자세한 표현을 반환\n",
        "  * \\_\\_str__() : 사람이 읽기 쉽게 표현한 객체의 비공식적인 문자열을 반환\n",
        "* print()는 항상 \\_\\_str__()을 우선 호출함, \\_\\_str__()가 없을 때 \\_\\_repr\\_\\_()가 호출 됨"
      ],
      "metadata": {
        "id": "HsuEsJ_YugFj"
      }
    },
    {
      "cell_type": "code",
      "source": [
        "class Book :\n",
        "  def __init__(self, title) :\n",
        "    self.title = title"
      ],
      "metadata": {
        "id": "p3c2aBG9ugBc"
      },
      "execution_count": 26,
      "outputs": []
    },
    {
      "cell_type": "code",
      "source": [
        "book = Book('미친듯이 재밌는 파이썬')\n",
        "print(book)\n",
        "print(str(book))"
      ],
      "metadata": {
        "colab": {
          "base_uri": "https://localhost:8080/"
        },
        "id": "qnYahSBmuf97",
        "outputId": "852da8e0-f556-4662-8fb5-14369fdceee7"
      },
      "execution_count": 22,
      "outputs": [
        {
          "output_type": "stream",
          "name": "stdout",
          "text": [
            "<__main__.Book object at 0x7f8484b16b00>\n",
            "<__main__.Book object at 0x7f8484b16b00>\n"
          ]
        }
      ]
    },
    {
      "cell_type": "code",
      "source": [
        "class Book :\n",
        "  def __init__(self, title) :\n",
        "    self.title = title\n",
        "\n",
        "  def __str__(self) :\n",
        "    return self.title"
      ],
      "metadata": {
        "id": "XRRM7sZfue4D"
      },
      "execution_count": 24,
      "outputs": []
    },
    {
      "cell_type": "code",
      "source": [
        "book = Book('미친듯이 재밌는 파이썬')\n",
        "print(book)\n",
        "print(str(book))"
      ],
      "metadata": {
        "colab": {
          "base_uri": "https://localhost:8080/"
        },
        "id": "1lXdj-1Fue1r",
        "outputId": "4ddd03e2-e660-41a0-fe44-f0acce4875c0"
      },
      "execution_count": 25,
      "outputs": [
        {
          "output_type": "stream",
          "name": "stdout",
          "text": [
            "미친듯이 재밌는 파이썬\n",
            "미친듯이 재밌는 파이썬\n"
          ]
        }
      ]
    },
    {
      "cell_type": "code",
      "source": [
        "# 리스트 class와 문자열로 나온 객체는 다르다\n",
        "# 따라서 list클래스의 str은 요소를 뽑아 반환하는 걸로 써있는 것 같다고 생각 할 수 있다."
      ],
      "metadata": {
        "id": "zYWTS9VLueyw"
      },
      "execution_count": 27,
      "outputs": []
    },
    {
      "cell_type": "markdown",
      "source": [
        "### 1-3. \\_\\_add__()\n",
        "* 연산자 오버로딩 메서드로 '+' 연산이 정의되어 있음\n",
        "* '+' 연산자를 사용했을 경우 그 동작을 커스터마이즈 하기 위해 사용"
      ],
      "metadata": {
        "id": "E8aQk7rBuewk"
      }
    },
    {
      "cell_type": "code",
      "source": [
        "class Student :\n",
        "  def __init__(self, name, age) :\n",
        "    self.name = name\n",
        "    self.age = age\n",
        "\n",
        "  def __add__(self, other) :\n",
        "    return self.age + other.age"
      ],
      "metadata": {
        "id": "18JtUjXEueYT"
      },
      "execution_count": 34,
      "outputs": []
    },
    {
      "cell_type": "code",
      "source": [
        "kim = Student('김사과', 20)\n",
        "lee = Student('이메론', 30)\n",
        "print(kim + lee)\n",
        "# + 가 함수를 호출했다고 보면 됨."
      ],
      "metadata": {
        "colab": {
          "base_uri": "https://localhost:8080/"
        },
        "id": "E-HV87b51y11",
        "outputId": "dd7f89be-3dab-4ac2-fafc-7213ac0516ef"
      },
      "execution_count": 35,
      "outputs": [
        {
          "output_type": "stream",
          "name": "stdout",
          "text": [
            "50\n"
          ]
        }
      ]
    },
    {
      "cell_type": "markdown",
      "source": [
        "### 1-4. \\_\\_len__()\n",
        "* 객체의 길이(또는 크기)를 반환하는 메서드로 len() 함수가 호출 될 때 자동으로 실행됨"
      ],
      "metadata": {
        "id": "p8s6bE8t2U1f"
      }
    },
    {
      "cell_type": "code",
      "source": [
        "class Queue :\n",
        "  def __init__(self) :\n",
        "    self.items = [1, 2, 3, 4, 5]\n",
        "\n",
        "  def __len__(self) :\n",
        "    return len(self.items)"
      ],
      "metadata": {
        "id": "i6tBCASJ2sRn"
      },
      "execution_count": 48,
      "outputs": []
    },
    {
      "cell_type": "code",
      "source": [
        "li = [1, 2, 3, 4, 5]\n",
        "print(len(li))\n",
        "print(li)"
      ],
      "metadata": {
        "colab": {
          "base_uri": "https://localhost:8080/"
        },
        "id": "xj2SmiXT3DSW",
        "outputId": "c98340ff-c11a-4e96-affa-826b4b9a0b2e"
      },
      "execution_count": 49,
      "outputs": [
        {
          "output_type": "stream",
          "name": "stdout",
          "text": [
            "5\n",
            "[1, 2, 3, 4, 5]\n"
          ]
        }
      ]
    },
    {
      "cell_type": "code",
      "source": [
        "queue = Queue()\n",
        "print(queue)\n",
        "print(len(queue))\n",
        "# 콜백함수에 가까운 구조이다."
      ],
      "metadata": {
        "colab": {
          "base_uri": "https://localhost:8080/"
        },
        "id": "pt2_6DCx3G1Y",
        "outputId": "01316129-1bc1-4eeb-e3dd-e24d882f8b51"
      },
      "execution_count": 51,
      "outputs": [
        {
          "output_type": "stream",
          "name": "stdout",
          "text": [
            "<__main__.Queue object at 0x7f8484b16dd0>\n",
            "5\n"
          ]
        }
      ]
    },
    {
      "cell_type": "markdown",
      "source": [
        "### 1-5. \\_\\_getitem__()\n",
        "* 객체를 리스트나 딕셔너리처럼 인덱싱할 수 있도록 해주는 메서드\n",
        "* \\_\\_getitem__()를 오버라이드 하면, 사용자 정의 클래스의 인스턴스에서도 인덱스, 키, 슬라이싱 등을 사용해 요소에 접근 할 수 있게됨"
      ],
      "metadata": {
        "id": "EY8XAqiZ3Mg1"
      }
    },
    {
      "cell_type": "code",
      "source": [
        "class Point :\n",
        "  def __init__(self, x, y) :\n",
        "    self.x = x\n",
        "    self.y = y\n",
        "\n",
        "  def __getitem__(self, index) :\n",
        "    if index == 0 :\n",
        "      return self.x\n",
        "    elif index == 1 :\n",
        "      return self.y\n",
        "    else :\n",
        "      return -1"
      ],
      "metadata": {
        "id": "ag90k-o66plW"
      },
      "execution_count": 52,
      "outputs": []
    },
    {
      "cell_type": "code",
      "source": [
        "pt = Point(5, 3)\n",
        "print(pt)\n",
        "print(pt[0])\n",
        "print(pt[-100])\n",
        "# object에서는 아마 try except로 예외처리를 해서 오류를 띄웠을것이다."
      ],
      "metadata": {
        "colab": {
          "base_uri": "https://localhost:8080/"
        },
        "id": "0VLZxuYj7UbO",
        "outputId": "d4fa5da3-0600-427a-da27-1f76ccea7d5f"
      },
      "execution_count": 56,
      "outputs": [
        {
          "output_type": "stream",
          "name": "stdout",
          "text": [
            "<__main__.Point object at 0x7f8484b17f70>\n",
            "5\n",
            "-1\n"
          ]
        }
      ]
    },
    {
      "cell_type": "code",
      "source": [
        "class MyList :\n",
        "  def __init__(self, data) :\n",
        "    self.data = data\n",
        "\n",
        "  def __getitem__(self, index) :\n",
        "    return self.data[index]"
      ],
      "metadata": {
        "id": "ZIXRnjBR7ZAp"
      },
      "execution_count": 57,
      "outputs": []
    },
    {
      "cell_type": "code",
      "source": [
        "ml = MyList([10, 20, 30, 40])\n",
        "print(ml[0])\n",
        "print(ml[1])\n",
        "print(ml[-1])"
      ],
      "metadata": {
        "colab": {
          "base_uri": "https://localhost:8080/"
        },
        "id": "c6Q0ZHM48MR_",
        "outputId": "9eadd0a2-5c67-45f6-f083-e3b30a84462e"
      },
      "execution_count": 59,
      "outputs": [
        {
          "output_type": "stream",
          "name": "stdout",
          "text": [
            "10\n",
            "20\n",
            "40\n"
          ]
        }
      ]
    },
    {
      "cell_type": "markdown",
      "source": [
        "### 1-6. \\_\\_call()__\n",
        "* 클래스의 인스턴스를 함수처럼 호출할 수 있게 만들어주는 메서드"
      ],
      "metadata": {
        "id": "YnvJIKl48VRk"
      }
    },
    {
      "cell_type": "code",
      "source": [
        "class CallableObject :\n",
        "  def __call__(self, *args, **kwargs) :\n",
        "    print(f'args : {args}, kwargs : {kwargs}')"
      ],
      "metadata": {
        "id": "YacML7h-8wh9"
      },
      "execution_count": 60,
      "outputs": []
    },
    {
      "cell_type": "code",
      "source": [
        "callable_obj = CallableObject()\n",
        "callable_obj(1, 2, 3, a='A', b='B')\n",
        "# * 가 붙는다면 요소의 개수와 상관없이 모두 받고 ** 는 키와 벨류로 받는것."
      ],
      "metadata": {
        "colab": {
          "base_uri": "https://localhost:8080/"
        },
        "id": "U5oTtQlu8_yY",
        "outputId": "6af5fe21-a407-4871-d66a-911813a22b75"
      },
      "execution_count": 63,
      "outputs": [
        {
          "output_type": "stream",
          "name": "stdout",
          "text": [
            "args : (1, 2, 3), kwargs : {'a': 'A', 'b': 'B'}\n"
          ]
        }
      ]
    },
    {
      "cell_type": "code",
      "source": [],
      "metadata": {
        "id": "FVVMS2dr9Lf1"
      },
      "execution_count": null,
      "outputs": []
    }
  ]
}