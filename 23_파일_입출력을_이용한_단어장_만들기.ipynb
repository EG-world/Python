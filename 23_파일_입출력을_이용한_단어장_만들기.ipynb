{
  "nbformat": 4,
  "nbformat_minor": 0,
  "metadata": {
    "colab": {
      "provenance": [],
      "authorship_tag": "ABX9TyNnCK+OVgx0O5OdtiPYXwSI",
      "include_colab_link": true
    },
    "kernelspec": {
      "name": "python3",
      "display_name": "Python 3"
    },
    "language_info": {
      "name": "python"
    }
  },
  "cells": [
    {
      "cell_type": "markdown",
      "metadata": {
        "id": "view-in-github",
        "colab_type": "text"
      },
      "source": [
        "<a href=\"https://colab.research.google.com/github/EG-world/Python/blob/main/23_%ED%8C%8C%EC%9D%BC_%EC%9E%85%EC%B6%9C%EB%A0%A5%EC%9D%84_%EC%9D%B4%EC%9A%A9%ED%95%9C_%EB%8B%A8%EC%96%B4%EC%9E%A5_%EB%A7%8C%EB%93%A4%EA%B8%B0.ipynb\" target=\"_parent\"><img src=\"https://colab.research.google.com/assets/colab-badge.svg\" alt=\"Open In Colab\"/></a>"
      ]
    },
    {
      "cell_type": "markdown",
      "source": [
        "### 문제\n",
        "아래 조건을 만족하는 영어 단어장을 만들어보자\n",
        "* 실행 예\n",
        "\n",
        "```\n",
        "1. 등록하기 2. 출력하기 3. 저장하기 4. 불러오기 5. 종료하기\n",
        "```\n",
        "\n",
        "* 1을 선택했을 경우 (입력한 데이터는 파일에 저장하지 않음)\n",
        "\n",
        "```\n",
        "단어를 입력하세요 : apple\n",
        "뜻을 입력하세요 : 사과\n",
        "레벨을 입력하세요 : 1\n",
        "등록 되었습니다.\n",
        "```\n",
        "\n",
        "* 2를 선택했을 경우(메모리에 저장된 모든 영단어를 리스트로 출력)\n",
        "\n",
        "```\n",
        "apple : 사과(레벨1)\n",
        "banana : 바나나(레벨1)\n",
        "```\n",
        "\n",
        "* 3을 선택했을 경우(메모리에 저장된 모든 영단어를 파일에 저장, words.txt)\n",
        "\n",
        "```\n",
        "저장 되었습니다.\n",
        "```\n",
        "\n",
        "* 4를 선택했을 경우 (파일에 저장된 모든 영단어를 메모리로 불러옴)\n",
        "\n",
        "```\n",
        "불러왔습니다.\n",
        "```\n",
        "\n",
        "* 5를 선택했을 경우 (반복을 끝내고 프로그램을 종료함)\n",
        "\n",
        "```\n",
        "프로그램을 종료합니다.\n",
        "```\n",
        "\n",
        "* 단, 프로그램을 종료할 때까지 반복하여 메뉴를 입력받도록 하며, 클래스를 이용하여 설계하도록 함. 메뉴 입력시 1~5가 아닌 숫자가 입력되는 경우 \"다시 입력하세요!\" 라고 메세지를 출력(오류 처리)"
      ],
      "metadata": {
        "id": "Lz07XDblFBqk"
      }
    },
    {
      "cell_type": "markdown",
      "source": [
        "---\n",
        "클래스 하나를 사용하고 객체 생성 시 실행하게 하는 방법."
      ],
      "metadata": {
        "id": "FIHdi5RtkQfu"
      }
    },
    {
      "cell_type": "code",
      "source": [
        "class RangeError(Exception) :\n",
        "  def __init__(self) :\n",
        "    super().__init__('다시 입력하세요!')\n",
        "\n",
        "class Dictionary :\n",
        "  def __init__(self) :\n",
        "    self.li = []\n",
        "    while True :\n",
        "      try :\n",
        "        choice = int(input('1.등록하기 2.출력하기 3.저장하기 4.불러오기 5.종료하기'))\n",
        "        if choice == 1 :\n",
        "          word = input('단어를 입력하세요 : ').strip().lower()\n",
        "          mean = input('뜻을 입력하세요 : ').strip()\n",
        "          lv = input('레벨을 입력하세요 : ').strip()\n",
        "          self.li.append((word,mean,lv))\n",
        "          print('등록 되었습니다.')\n",
        "          continue\n",
        "        elif choice == 2 :\n",
        "          for i in self.li:\n",
        "            print(f'{i[0]} : {i[1]}(레벨{i[2]})')\n",
        "          continue\n",
        "        elif choice == 3 :\n",
        "          with open('words.txt', 'wt') as f :\n",
        "            f.writelines(\n",
        "                [f'{i[j]} 'if j<2 else i[j]+'\\n' for i in self.li for j in range(0,3)]\n",
        "            )\n",
        "          continue\n",
        "        elif choice == 4 :\n",
        "          with open('words.txt', 'r') as f :\n",
        "            li = []\n",
        "            lil = f.readlines()\n",
        "            while True :\n",
        "              for i in lil :\n",
        "                li.append(i.replace('\\n','').split(' '))\n",
        "              break\n",
        "            self.li = li\n",
        "          continue\n",
        "        elif choice == 5 :\n",
        "          print('프로그램을 종료합니다.')\n",
        "          break\n",
        "        else :\n",
        "          raise RangeError()\n",
        "      except RangeError as e:\n",
        "        print(e)"
      ],
      "metadata": {
        "id": "_b3H-ULWISE-"
      },
      "execution_count": null,
      "outputs": []
    },
    {
      "cell_type": "markdown",
      "source": [
        "---\n",
        "클래스 여러개를 사용하여 객체를 생성하고 객체를 함수처럼 사용하는 방법 (배운걸 더 많이 써봄.)"
      ],
      "metadata": {
        "id": "98nmoiptkU4e"
      }
    },
    {
      "cell_type": "code",
      "source": [
        "class RangeError(Exception) :\n",
        "  def __init__(self) :\n",
        "    super().__init__('다시 입력하세요!')\n",
        "\n",
        "class Dictionary :\n",
        "  def __init__(self) :\n",
        "    self.li = []\n",
        "\n",
        "  def register(self, word, mean, lv) :\n",
        "        self.li.append((word,mean,lv))\n",
        "        print('등록 되었습니다.')\n",
        "\n",
        "  def print_dict(self) :\n",
        "    for i in self.li:\n",
        "      print(f'{i[0]} : {i[1]}(레벨{i[2]})')\n",
        "\n",
        "  def save_dict(self) :\n",
        "    with open('words.txt', 'wt') as f :\n",
        "      f.writelines(\n",
        "          [f'{i[j]} 'if j<2 else i[j]+'\\n' for i in self.li for j in range(0,3)]\n",
        "          )\n",
        "\n",
        "  def load_dict(self) :\n",
        "    with open('words.txt', 'r') as f :\n",
        "      li = []\n",
        "      lil = f.readlines()\n",
        "      while True :\n",
        "        for i in lil :\n",
        "          li.append(i.replace('\\n','').split(' '))\n",
        "        break\n",
        "      self.li = li\n",
        "      print('불러왔습니다')\n",
        "      print(self.li)\n",
        "\n",
        "class Users(Dictionary):\n",
        "  def __call__(self) :\n",
        "    while True :\n",
        "      try :\n",
        "        choice = int(input('1.등록하기 2.출력하기 3.저장하기 4.불러오기 5.종료하기'))\n",
        "        if choice == 1 :\n",
        "          word = input('단어를 입력하세요 : ').strip().lower()\n",
        "          mean = input('뜻을 입력하세요 : ').strip()\n",
        "          lv = input('레벨을 입력하세요 : ').strip()\n",
        "          self.register(word, mean, lv)\n",
        "        elif choice == 2 :\n",
        "          self.print_dict()\n",
        "        elif choice == 3 :\n",
        "          self.save_dict()\n",
        "        elif choice == 4 :\n",
        "          self.load_dict()\n",
        "        elif choice == 5 :\n",
        "          print('프로그램을 종료합니다.')\n",
        "          break\n",
        "        else :\n",
        "          raise RangeError()\n",
        "      except RangeError as e:\n",
        "        print(e)\n",
        "      except Exception as e:\n",
        "        print('숫자를 입력해주세요')\n"
      ],
      "metadata": {
        "id": "Vlj9_MeCezpF"
      },
      "execution_count": 5,
      "outputs": []
    },
    {
      "cell_type": "code",
      "source": [
        "user = Users()"
      ],
      "metadata": {
        "id": "amgKlzjIIR-j"
      },
      "execution_count": null,
      "outputs": []
    },
    {
      "cell_type": "markdown",
      "source": [
        "---\n",
        "강사님 코드"
      ],
      "metadata": {
        "id": "3a2DBONArSxW"
      }
    },
    {
      "cell_type": "code",
      "source": [
        "wordList = []"
      ],
      "metadata": {
        "id": "dUUgaDorwME_"
      },
      "execution_count": 24,
      "outputs": []
    },
    {
      "cell_type": "code",
      "source": [
        "class WordService :\n",
        "  def insertWord(self) :\n",
        "    eng = input('단어를 입력하세요')\n",
        "    kor = input('뜻을 입력하세요')\n",
        "    lv = input('레벨을 입력하세요')\n",
        "    word = Word(eng, kor, lv)\n",
        "    wordList.append(word)\n",
        "    print('등록 되었습니다.')\n",
        "\n",
        "  def printAll(self) :\n",
        "    for data in wordList :\n",
        "      # 객체.eng, 객체.kor, 객체.lev\n",
        "      print(data.gerEng()+ ' : ' + data.getKor() + '(레벨'+ data.getLv +')')"
      ],
      "metadata": {
        "id": "8yI4j_YgseCP"
      },
      "execution_count": 25,
      "outputs": []
    },
    {
      "cell_type": "code",
      "source": [
        "class Word:\n",
        "    def __init__(self, eng, kor, lev=1):\n",
        "        self.eng = eng\n",
        "        self.kor = kor\n",
        "        self.lev = lev\n",
        "    def setEng(self, eng):\n",
        "        self.eng = eng\n",
        "    def getEng(self):\n",
        "        return self.eng\n",
        "    def setKor(self, kor):\n",
        "        self.kor = kor\n",
        "    def getKor(self):\n",
        "        return self.kor\n",
        "    def setLv(self, lv):\n",
        "        self.lv = lv\n",
        "    def getLv(self):\n",
        "        return self.lv"
      ],
      "metadata": {
        "id": "Y0E9Hc80t2xf"
      },
      "execution_count": 26,
      "outputs": []
    },
    {
      "cell_type": "code",
      "source": [
        "class Menu :\n",
        "  def __init__(self) :\n",
        "    self.wordService = WordService()\n",
        "\n",
        "  def run(self) :\n",
        "    while True :\n",
        "      try :\n",
        "        menu = int(input('1.등록하기 2.출력하기 3.저장하기 4.불러오기 5.종료하기'))\n",
        "        if menu == 1 :\n",
        "          self.wordService.insertWord()\n",
        "        elif menu == 2 :\n",
        "          self.wordService.printAll()\n",
        "        elif menu == 3 :\n",
        "          pass\n",
        "        elif menu == 4 :\n",
        "          pass\n",
        "        elif menu == 5 :\n",
        "          print('프로그램을 종료합니다')\n",
        "          break\n",
        "        else :\n",
        "          print('다시 입력하세요!!')\n",
        "      except Exception as e :\n",
        "        print(e)\n",
        "        print('다시 입력하세요!')"
      ],
      "metadata": {
        "id": "HBdQgqgLrScu"
      },
      "execution_count": 27,
      "outputs": []
    },
    {
      "cell_type": "code",
      "source": [
        "user = Menu()\n",
        "user.run()"
      ],
      "metadata": {
        "colab": {
          "base_uri": "https://localhost:8080/"
        },
        "id": "0vJxdj6ArkjN",
        "outputId": "6d83ba4d-fa1f-4d94-b844-1c13c7b6bbb1"
      },
      "execution_count": 28,
      "outputs": [
        {
          "output_type": "stream",
          "name": "stdout",
          "text": [
            "1.등록하기 2.출력하기 3.저장하기 4.불러오기 5.종료하기1\n",
            "단어를 입력하세요apple\n",
            "뜻을 입력하세요사과\n",
            "레벨을 입력하세요1\n",
            "등록 되었습니다.\n",
            "1.등록하기 2.출력하기 3.저장하기 4.불러오기 5.종료하기banana\n",
            "invalid literal for int() with base 10: 'banana'\n",
            "다시 입력하세요!\n",
            "1.등록하기 2.출력하기 3.저장하기 4.불러오기 5.종료하기1\n",
            "단어를 입력하세요banana\n",
            "뜻을 입력하세요1\n",
            "레벨을 입력하세요1\n",
            "등록 되었습니다.\n",
            "1.등록하기 2.출력하기 3.저장하기 4.불러오기 5.종료하기2\n",
            "1.등록하기 2.출력하기 3.저장하기 4.불러오기 5.종료하기2\n",
            "1.등록하기 2.출력하기 3.저장하기 4.불러오기 5.종료하기2\n",
            "1.등록하기 2.출력하기 3.저장하기 4.불러오기 5.종료하기5\n",
            "프로그램을 종료합니다\n"
          ]
        }
      ]
    },
    {
      "cell_type": "code",
      "source": [
        "wordList"
      ],
      "metadata": {
        "colab": {
          "base_uri": "https://localhost:8080/"
        },
        "id": "i856YgUrsBkb",
        "outputId": "51e1de46-6469-407f-bfee-f082bcee73f1"
      },
      "execution_count": 21,
      "outputs": [
        {
          "output_type": "execute_result",
          "data": {
            "text/plain": [
              "[<__main__.Word at 0x79bc646bb0a0>]"
            ]
          },
          "metadata": {},
          "execution_count": 21
        }
      ]
    },
    {
      "cell_type": "code",
      "source": [],
      "metadata": {
        "id": "2cPCWUf_wmpk"
      },
      "execution_count": null,
      "outputs": []
    }
  ]
}