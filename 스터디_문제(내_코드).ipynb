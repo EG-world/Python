{
  "nbformat": 4,
  "nbformat_minor": 0,
  "metadata": {
    "colab": {
      "provenance": [],
      "authorship_tag": "ABX9TyNVEn6zrmQqhgLKtz2LFGpT",
      "include_colab_link": true
    },
    "kernelspec": {
      "name": "python3",
      "display_name": "Python 3"
    },
    "language_info": {
      "name": "python"
    }
  },
  "cells": [
    {
      "cell_type": "markdown",
      "metadata": {
        "id": "view-in-github",
        "colab_type": "text"
      },
      "source": [
        "<a href=\"https://colab.research.google.com/github/EG-world/Python/blob/main/%EC%8A%A4%ED%84%B0%EB%94%94_%EB%AC%B8%EC%A0%9C(%EB%82%B4_%EC%BD%94%EB%93%9C).ipynb\" target=\"_parent\"><img src=\"https://colab.research.google.com/assets/colab-badge.svg\" alt=\"Open In Colab\"/></a>"
      ]
    },
    {
      "cell_type": "markdown",
      "source": [
        "# 1. 클로저 & 데코레이터 문제\n",
        "\n",
        "클로저와 데코레이터를 사용해서 다음과 같은 프로그램을 만드세요\n",
        "```\n",
        "3개의 매개변수를 받아 리스트와 튜플과 세트를 만드는 함수를 구성해주세요\n",
        "\n",
        "입력예시)\n",
        "get_list('리스트', 1, 2, 2)\n",
        "\n",
        "출력예시)\n",
        "리스트 만들기\n",
        "처리중입니다..\n",
        "[1, 2, 2]\n",
        "```"
      ],
      "metadata": {
        "id": "sln644BAA4y6"
      }
    },
    {
      "cell_type": "code",
      "source": [
        "def elapsed(func) :\n",
        "  def wrapper(t, a, b, c) :\n",
        "    print(f'{t} 만들기')\n",
        "    result = func(t, a, b, c)\n",
        "    print('처리중입니다..')\n",
        "    return result\n",
        "  return wrapper"
      ],
      "metadata": {
        "id": "FIvTlrZlvBQ7"
      },
      "execution_count": null,
      "outputs": []
    },
    {
      "cell_type": "code",
      "source": [
        "@elapsed\n",
        "def get_list(t, a, b, c) :\n",
        "  return [a, b, c]\n",
        "\n",
        "@elapsed\n",
        "def get_set(t, a, b, c) :\n",
        "  return {a, b, c}\n",
        "\n",
        "@elapsed\n",
        "def get_tuple(t, a, b, c) :\n",
        "  return (a, b, c)"
      ],
      "metadata": {
        "id": "phs7pX6gxch6"
      },
      "execution_count": null,
      "outputs": []
    },
    {
      "cell_type": "code",
      "source": [
        "get_tuple('튜플', 1, 2, 3)"
      ],
      "metadata": {
        "colab": {
          "base_uri": "https://localhost:8080/"
        },
        "id": "9PNZoy1Zx65j",
        "outputId": "2947b7d3-6074-49c1-ef59-23f09621c1c5"
      },
      "execution_count": null,
      "outputs": [
        {
          "output_type": "stream",
          "name": "stdout",
          "text": [
            "튜플 만들기\n",
            "처리중입니다..\n"
          ]
        },
        {
          "output_type": "execute_result",
          "data": {
            "text/plain": [
              "(1, 2, 3)"
            ]
          },
          "metadata": {},
          "execution_count": 8
        }
      ]
    },
    {
      "cell_type": "markdown",
      "source": [
        "----"
      ],
      "metadata": {
        "id": "Jr8En8yJzbZM"
      }
    },
    {
      "cell_type": "markdown",
      "source": [
        "# 2. 숫자 맞추기 게임 (up & down)\n",
        "숫자맞추기 게임 만들기\n",
        "```\n",
        "1. 메뉴구성 (1. 게임시작, 2. 이전 최고기록 3. 게임종료)\n",
        "2. Class 사용해주세요\n",
        "3. up and down 게임입니다! 1부터 100까지 컴퓨터는 하나의 숫자를 랜덤으로 저장합니다.\n",
        "4. 게임 시작 시 사용자는 6번의 기회를 갖게됩니다.\n",
        "5. 맞추지 못했다면 기록은 0 이며 맞췄다면 기록을 저장하고 끝냅니다.\n",
        "6. 2번을 누르면 최고기록을 출력합니다.\n",
        "7. 3번을 누르면 게임을 즉시 종료합니다.\n",
        "\n",
        "입력예시)\n",
        "kimapple = Game()\n",
        "Kimapple.start()\n",
        "\n",
        "출력예시)\n",
        "1. 게임시작 2. 이전 최고기록 3. 게임종료\n",
        "(1 입력시)\n",
        "숫자를 입력하여 맞춰보세요\n",
        "com의 숫자는 (입력숫자) 보다 큽니다\n",
        "```"
      ],
      "metadata": {
        "id": "U4W8rq5h0bc0"
      }
    },
    {
      "cell_type": "code",
      "source": [
        "import random\n",
        "class Game :\n",
        "  def start(self) :\n",
        "    self.user = int(input('1. 게임시작 2. 이전 최고기록 3. 게임종료'))\n",
        "    com = int(random.random() * 100 + 1)\n",
        "    while True :\n",
        "      if self.user == 1 :\n",
        "        self.tryed = 0\n",
        "        while True :\n",
        "          self.pick = int(input('숫자를 입력하여 맞춰보세요!'))\n",
        "          if self.tryed == 6 :\n",
        "            print(f'com의 숫자는 {com}이였습니다')\n",
        "            print('다음기회에 다시 도전하세요!')\n",
        "            break\n",
        "          elif com > self.pick :\n",
        "            print(f'com 은 숫자는 {self.pick}보다 큽니다!')\n",
        "            self.tryed += 1\n",
        "            continue\n",
        "          elif com < self.pick :\n",
        "            print(f'com의 숫자는 {self.pick}보다 작습니다!')\n",
        "            self.tryed += 1\n",
        "            continue\n",
        "          elif com == self.pick :\n",
        "            print('축하합니다 맞추는데 성공하셨습니다!')\n",
        "            self.max = self.tryed\n",
        "            break\n",
        "        break\n",
        "\n",
        "      elif self.user == 2 :\n",
        "        print(f'이전 최고기록은 {self.max}점 입니다.')\n",
        "        break\n",
        "\n",
        "      elif self.user == 3 :\n",
        "        print('게임을 종료합니다.')\n",
        "        break\n",
        "\n",
        "      else :\n",
        "        print('잘못입력하셨습니다.')\n",
        "        break\n",
        "\n",
        "eugene = Game()\n",
        "eugene.start()"
      ],
      "metadata": {
        "id": "jTV86aCl2bqk",
        "colab": {
          "base_uri": "https://localhost:8080/"
        },
        "outputId": "09ed6687-3ed3-4719-f4d3-8581ae409d3d"
      },
      "execution_count": null,
      "outputs": [
        {
          "output_type": "stream",
          "name": "stdout",
          "text": [
            "1. 게임시작 2. 이전 최고기록 3. 게임종료3\n",
            "게임을 종료합니다.\n"
          ]
        }
      ]
    },
    {
      "cell_type": "markdown",
      "source": [
        "----\n",
        "# 3. 클래스 문제\n",
        "해당 작동을 하는 클래스를 작성 후 실행하고 문제를 풀어주세요\n",
        "```\n",
        "* 생성자를 사용하고 인스턴스변수를 0으로 초기화 해주세요.\n",
        "1. 매개변수가 없고 반환값이 없는 함수 작성\n",
        "  (실행 시 '매개변수가 없습니다' 출력)\n",
        "\n",
        "2. 매개변수가 있고 반환값이 없는 함수 작성\n",
        "  (실행 시 '매개변수가 있습니다 (매개변수값)' 출력)\n",
        "\n",
        "3. 매개변수가 있고 반환값이 있는 함수\n",
        "(단, 매개변수는 출력하지 않습니다. 반환값은 원하는 이모티콘으로 해주세요)\n",
        "\n",
        "4. 두개의 문자열을 합쳐서 반환하는 함수\n",
        "```"
      ],
      "metadata": {
        "id": "dKxzRM3tGoGk"
      }
    },
    {
      "cell_type": "code",
      "source": [
        "class Q:\n",
        "  def __init__(self, num) :\n",
        "    self.num = 0\n",
        "  def func3(self, num) :\n",
        "    print('반환값은 아래와 같습니다 ')\n",
        "    return '🧨'\n",
        "  def func2(self, num) :\n",
        "    print(f'매개변수가 있습니다 ({num})')\n",
        "  def func1(self) :\n",
        "    print('매개변수가 없습니다')\n",
        "  def func4(self, a, b) :\n",
        "    return a + b"
      ],
      "metadata": {
        "id": "NdlVQSUPKnK-"
      },
      "execution_count": null,
      "outputs": []
    },
    {
      "cell_type": "code",
      "source": [
        "na = Q(10)\n",
        "na.func1()\n",
        "na.func2(10)\n",
        "print(na.func3(123))\n",
        "print(na.func4('문제는 만', '들기 어려워~'))"
      ],
      "metadata": {
        "colab": {
          "base_uri": "https://localhost:8080/"
        },
        "id": "rUoMGMgXKqKj",
        "outputId": "f8e554cf-0836-4cab-f171-858025bceea2"
      },
      "execution_count": null,
      "outputs": [
        {
          "output_type": "stream",
          "name": "stdout",
          "text": [
            "매개변수가 없습니다\n",
            "매개변수가 있습니다 (10)\n",
            "반환값은 아래와 같습니다 \n",
            "🧨\n",
            "문제는 만들기 어려워~\n"
          ]
        }
      ]
    },
    {
      "cell_type": "markdown",
      "source": [
        "Q1. na = Q(10) 을 실행 했을 때, self.num의 값은?    답 : 10\n",
        "\n",
        "Q2. num 을 실행 했을 때, 결과는?    답 : 정의가 되지 않았기 때문에 오류가 발생함 (self.num을 정의했을뿐 num자체를 정의한적은 없습니다.)\n",
        "\n",
        "Q3. na.func2(10) 을 실행 했을 때, self.num의 값은?  답 : 0"
      ],
      "metadata": {
        "id": "VGvwzkquQZD3"
      }
    },
    {
      "cell_type": "markdown",
      "source": [
        "# 4. 제어문(반복문 & 조건문) 문제\n",
        "---\n",
        "Q1. for문을 사용하여 ['토','마','토','는','거꾸로하면 토마토']를 역순으로 출력하는 코드를 작성해주세요\n",
        "\n",
        "Q2. while문을 사용하여 사용자가 '이제 그만'이라고 입력하게 될 경우 탈출 하는 코드를 작성해주세요\n",
        "\n",
        "Q3. 1~100 까지 중 3의 배수가 될 경우 '짝'을 10의 배수일 경우 '야호'를 나머지는 '패스'를 출력하는 코드를 작성해주세요 (단, 30,60,90은 짝으로 하겠습니다.)\n",
        "\n",
        "Q4. '🎃'를 이용하여 아래와 같은 모형을 만들어주세요\n",
        "```\n",
        "    🎃\n",
        "  🎃🎃🎃\n",
        "🎃🎃🎃🎃🎃\n",
        "  🎃🎃🎃\n",
        "     🎃\n",
        "```\n"
      ],
      "metadata": {
        "id": "eW9tc9xUPkLF"
      }
    },
    {
      "cell_type": "code",
      "source": [
        "# Q1\n",
        "li =  ['토','마','토','는','거꾸로하면 토마토']\n",
        "for i in range(1,len(li)+1) :\n",
        "  print(li[-i], end=' ')\n",
        "# Q2\n",
        "while True :\n",
        "  user = input('입력하세요')\n",
        "  if user == '이제 그만' :\n",
        "    break\n",
        "  else :\n",
        "    continue\n",
        "# Q3\n",
        "for i in range(1, 101) :\n",
        "  if i%3==0 :\n",
        "    print('짝')\n",
        "  elif i%10 == 0:\n",
        "    print('야호')\n",
        "  else :\n",
        "    print('패스')\n",
        "# Q4\n",
        "for i in range(1,6):\n",
        "    if i <= 3:\n",
        "        for j in range(3-i):\n",
        "            print(\"  \",end=\"\")\n",
        "        for j in range(2*i-1):\n",
        "            print(\"🎃\",end=\"\")\n",
        "        print()\n",
        "    else:\n",
        "        for j in range(i-3):\n",
        "            print(\"  \",end=\"\")\n",
        "        for j in range((5-i)*2+1):\n",
        "            print(\"🎃\",end=\"\")\n",
        "        print()"
      ],
      "metadata": {
        "colab": {
          "base_uri": "https://localhost:8080/"
        },
        "id": "DPlKGVFCSIqm",
        "outputId": "bb294a55-2ebc-40bd-bfe6-ff3f817df258"
      },
      "execution_count": null,
      "outputs": [
        {
          "output_type": "stream",
          "name": "stdout",
          "text": [
            "거꾸로하면 토마토 는 토 마 토 입력하세요 이제 그만\n",
            "입력하세요이제 그만\n",
            "패스\n",
            "패스\n",
            "짝\n",
            "패스\n",
            "패스\n",
            "짝\n",
            "패스\n",
            "패스\n",
            "짝\n",
            "야호\n",
            "패스\n",
            "짝\n",
            "패스\n",
            "패스\n",
            "짝\n",
            "패스\n",
            "패스\n",
            "짝\n",
            "패스\n",
            "야호\n",
            "짝\n",
            "패스\n",
            "패스\n",
            "짝\n",
            "패스\n",
            "패스\n",
            "짝\n",
            "패스\n",
            "패스\n",
            "짝\n",
            "패스\n",
            "패스\n",
            "짝\n",
            "패스\n",
            "패스\n",
            "짝\n",
            "패스\n",
            "패스\n",
            "짝\n",
            "야호\n",
            "패스\n",
            "짝\n",
            "패스\n",
            "패스\n",
            "짝\n",
            "패스\n",
            "패스\n",
            "짝\n",
            "패스\n",
            "야호\n",
            "짝\n",
            "패스\n",
            "패스\n",
            "짝\n",
            "패스\n",
            "패스\n",
            "짝\n",
            "패스\n",
            "패스\n",
            "짝\n",
            "패스\n",
            "패스\n",
            "짝\n",
            "패스\n",
            "패스\n",
            "짝\n",
            "패스\n",
            "패스\n",
            "짝\n",
            "야호\n",
            "패스\n",
            "짝\n",
            "패스\n",
            "패스\n",
            "짝\n",
            "패스\n",
            "패스\n",
            "짝\n",
            "패스\n",
            "야호\n",
            "짝\n",
            "패스\n",
            "패스\n",
            "짝\n",
            "패스\n",
            "패스\n",
            "짝\n",
            "패스\n",
            "패스\n",
            "짝\n",
            "패스\n",
            "패스\n",
            "짝\n",
            "패스\n",
            "패스\n",
            "짝\n",
            "패스\n",
            "패스\n",
            "짝\n",
            "야호\n",
            "    🎃\n",
            "  🎃🎃🎃\n",
            "🎃🎃🎃🎃🎃\n",
            "  🎃🎃🎃\n",
            "    🎃\n"
          ]
        }
      ]
    },
    {
      "cell_type": "markdown",
      "source": [
        "### 회원가입 클래스와 회원 정보를 관리하는 클래스를 만들고 회원가입 로그인 기능을 구현"
      ],
      "metadata": {
        "id": "HEi-dBvPx1hc"
      }
    },
    {
      "cell_type": "code",
      "source": [
        "# 전역 변수 log 딕셔너리 선언\n",
        "log = {}\n",
        "\n",
        "# 회원가입 class\n",
        "class SignUp:\n",
        "    def register(self):\n",
        "        print(\"회원가입을 진행하시겠습니까? (Y/N)\")\n",
        "        while True:\n",
        "            userid = input(\"아이디를 입력하세요: \")\n",
        "            if userid in log:\n",
        "                print(\"이미 존재하는 아이디입니다. 다시 입력해주세요.\")\n",
        "            else:\n",
        "                break\n",
        "        userpw = input(\"비밀번호를 입력하세요: \")\n",
        "        log[userid] = userpw\n",
        "        print(f\"회원가입이 완료되었습니다.\")\n",
        "\n",
        "# 로그인 class\n",
        "class Login:\n",
        "    def login(self):\n",
        "        print(\"로그인을 진행합니다.\")\n",
        "        userid = input(\"아이디를 입력하세요: \")\n",
        "        if userid in log:\n",
        "            userpw = input(\"비밀번호를 입력하세요: \")\n",
        "            if log[userid] == userpw:\n",
        "                print(f\"{userid}님, 로그인에 성공했습니다.\")\n",
        "            else:\n",
        "                print(\"비밀번호가 틀렸습니다.\")\n",
        "        else:\n",
        "            print(\"존재하지 않는 아이디입니다.\")\n",
        "\n",
        "    def lookup(self):\n",
        "        print(\"조회할 아이디를 입력하세요.\")\n",
        "        userid = input(\"아이디를 입력하세요: \")\n",
        "        if userid in log:\n",
        "            print(f\"아이디: {userid}, 비밀번호: {log[userid]}\")\n",
        "        else:\n",
        "            print(\"존재하지 않는 아이디입니다.\")\n",
        "\n",
        "    def delete_account(self):\n",
        "        print(\"탈퇴할 아이디를 입력하세요.\")\n",
        "        userid = input(\"아이디를 입력하세요: \")\n",
        "        if userid in log:\n",
        "            userpw = input(\"비밀번호를 입력하세요: \")\n",
        "            if log[userid] == userpw:\n",
        "                del log[userid]\n",
        "                print(f\"{userid}님의 계정이 삭제되었습니다.\")\n",
        "            else:\n",
        "                print(\"비밀번호가 틀렸습니다.\")\n",
        "        else:\n",
        "            print(\"존재하지 않는 아이디입니다.\")\n",
        "\n",
        "# 메뉴 class\n",
        "class Menu:\n",
        "    def __init__(self):\n",
        "        self.signup = SignUp()\n",
        "        self.login = Login()\n",
        "\n",
        "    def display_menu(self):\n",
        "        while True:\n",
        "            menu = int(input('1. 회원가입, 2. 로그인, 3. 조회 4. 탈퇴 5. 종료 :  '))\n",
        "            if menu == 1:\n",
        "                self.signup.register()\n",
        "            elif menu == 2:\n",
        "                self.login.login()\n",
        "            elif menu == 3:\n",
        "                self.login.lookup()\n",
        "            elif menu == 4:\n",
        "                self.login.delete_account()\n",
        "            elif menu == 5:\n",
        "                print(\"프로그램을 종료합니다.\")\n",
        "                break\n",
        "            else:\n",
        "                print(\"잘못된 입력입니다. 다시 입력해주세요.\")"
      ],
      "metadata": {
        "id": "M0WOLIYrrVS6"
      },
      "execution_count": 20,
      "outputs": []
    },
    {
      "cell_type": "code",
      "source": [
        "duser = Menu()\n",
        "user.display_menu()"
      ],
      "metadata": {
        "id": "cpoxDxo6v7Tf"
      },
      "execution_count": null,
      "outputs": []
    },
    {
      "cell_type": "code",
      "source": [],
      "metadata": {
        "id": "YhApboSJw6nr"
      },
      "execution_count": null,
      "outputs": []
    }
  ]
}