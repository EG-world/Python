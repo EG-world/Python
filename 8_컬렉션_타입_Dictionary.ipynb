{
  "nbformat": 4,
  "nbformat_minor": 0,
  "metadata": {
    "colab": {
      "provenance": [],
      "authorship_tag": "ABX9TyMZMuzhL9VC/iH1EqGpaDCL",
      "include_colab_link": true
    },
    "kernelspec": {
      "name": "python3",
      "display_name": "Python 3"
    },
    "language_info": {
      "name": "python"
    }
  },
  "cells": [
    {
      "cell_type": "markdown",
      "metadata": {
        "id": "view-in-github",
        "colab_type": "text"
      },
      "source": [
        "<a href=\"https://colab.research.google.com/github/EG-world/Python/blob/main/8_%EC%BB%AC%EB%A0%89%EC%85%98_%ED%83%80%EC%9E%85_Dictionary.ipynb\" target=\"_parent\"><img src=\"https://colab.research.google.com/assets/colab-badge.svg\" alt=\"Open In Colab\"/></a>"
      ]
    },
    {
      "cell_type": "markdown",
      "source": [
        "# .**1. Dictionary**\n",
        "파이썬의 딕셔너리는 키-값 쌍을 저장하는 변경 가능한(mutable) 컬렉션입니다."
      ],
      "metadata": {
        "id": "GEFA6K5YGIOw"
      }
    },
    {
      "cell_type": "code",
      "source": [
        "dict1 = {}\n",
        "print(dict1)\n",
        "print(type(dict1))"
      ],
      "metadata": {
        "colab": {
          "base_uri": "https://localhost:8080/"
        },
        "id": "JPoZTwfUGU0g",
        "outputId": "497e14a6-f572-4aab-81de-6a84ca563209"
      },
      "execution_count": 1,
      "outputs": [
        {
          "output_type": "stream",
          "name": "stdout",
          "text": [
            "{}\n",
            "<class 'dict'>\n"
          ]
        }
      ]
    },
    {
      "cell_type": "code",
      "source": [
        "dict2 = {1:'김사과', 2:'반하나', 3:'오렌지', 4:'이메론'}\n",
        "print(dict2)\n",
        "print(type(dict2))"
      ],
      "metadata": {
        "colab": {
          "base_uri": "https://localhost:8080/"
        },
        "id": "JhM9UhFFHDee",
        "outputId": "5c84d7de-32f5-463d-bd89-83b95e3709c5"
      },
      "execution_count": 3,
      "outputs": [
        {
          "output_type": "stream",
          "name": "stdout",
          "text": [
            "{1: '김사과', 2: '반하나', 3: '오렌지', 4: '이메론'}\n",
            "<class 'dict'>\n"
          ]
        }
      ]
    },
    {
      "cell_type": "code",
      "source": [
        "dict2 = {1:'김사과', 2:'반하나', 3:'오렌지', 2:'이메론'}\n",
        "# 키가 중복되면 재저장\n",
        "print(dict2)\n",
        "print(type(dict2))"
      ],
      "metadata": {
        "colab": {
          "base_uri": "https://localhost:8080/"
        },
        "id": "uqMIR2YjHQz8",
        "outputId": "9427561e-feeb-4b87-c023-13edb6e98aec"
      },
      "execution_count": 4,
      "outputs": [
        {
          "output_type": "stream",
          "name": "stdout",
          "text": [
            "{1: '김사과', 2: '이메론', 3: '오렌지'}\n",
            "<class 'dict'>\n"
          ]
        }
      ]
    },
    {
      "cell_type": "code",
      "source": [
        "dict2 = {1:'김사과', 2:'반하나', 3:'오렌지', 4:'이메론'}\n",
        "print(dict2[2])\n",
        "print(dict2[4])"
      ],
      "metadata": {
        "colab": {
          "base_uri": "https://localhost:8080/"
        },
        "id": "cbnoF5ugHq-t",
        "outputId": "b85694a9-105e-42e1-db5c-3992082ad34f"
      },
      "execution_count": 7,
      "outputs": [
        {
          "output_type": "stream",
          "name": "stdout",
          "text": [
            "반하나\n",
            "이메론\n"
          ]
        }
      ]
    },
    {
      "cell_type": "code",
      "source": [
        "dict3 = {'no':1, 'userId':'apple', 'name':'김사과', 'hp':'010-1111-1111'}\n",
        "print(dict3)\n",
        "print(dict3['userId'])\n",
        "print(dict3['hp'])"
      ],
      "metadata": {
        "colab": {
          "base_uri": "https://localhost:8080/"
        },
        "id": "-c4rFMVyH-Dd",
        "outputId": "56759400-8bb7-40e6-a9d1-64f5835a87e1"
      },
      "execution_count": 14,
      "outputs": [
        {
          "output_type": "stream",
          "name": "stdout",
          "text": [
            "{'no': 1, 'userId': 'apple', 'name': '김사과', 'hp': '010-1111-1111'}\n",
            "apple\n",
            "010-1111-1111\n"
          ]
        }
      ]
    },
    {
      "cell_type": "code",
      "source": [
        "dict4 = {1:'apple'}\n",
        "print(dict4)\n",
        "# 주로 데이터 추가하는 방법\n",
        "dict4[100] = 'banana'\n",
        "print(dict4)\n",
        "# 키가 set의 구조로 만들어져있기 때문에 위치는 무작위\n",
        "dict4[50] = 'orange'\n",
        "print(dict4)\n",
        "dict4[100] = 'melon'\n",
        "print(dict4)"
      ],
      "metadata": {
        "colab": {
          "base_uri": "https://localhost:8080/"
        },
        "id": "BcGSv4cCX9a7",
        "outputId": "a008e0a0-725b-4aed-b870-a9f79bb4c5b7"
      },
      "execution_count": 39,
      "outputs": [
        {
          "output_type": "stream",
          "name": "stdout",
          "text": [
            "{1: 'apple'}\n",
            "{1: 'apple', 100: 'banana'}\n",
            "{1: 'apple', 100: 'banana', 50: 'orange'}\n",
            "{1: 'apple', 100: 'melon', 50: 'orange'}\n"
          ]
        }
      ]
    },
    {
      "cell_type": "code",
      "source": [
        "del dict4[100]\n",
        "print(dict4)"
      ],
      "metadata": {
        "colab": {
          "base_uri": "https://localhost:8080/"
        },
        "id": "5CVEGL0OX9X_",
        "outputId": "ab89e9b2-12ac-4207-f72b-6871ffc0b8ea"
      },
      "execution_count": 40,
      "outputs": [
        {
          "output_type": "stream",
          "name": "stdout",
          "text": [
            "{1: 'apple', 50: 'orange'}\n"
          ]
        }
      ]
    },
    {
      "cell_type": "code",
      "source": [
        "dict3 = {'no':1, 'userId':'apple', 'name':'김사과', 'hp':'010-1111-1111'}\n",
        "print(dict3)\n",
        "\n",
        "# 요소 추가\n",
        "dict3['gender'] = 'female'\n",
        "print(dict3)\n",
        "dict3['score'] = [100, 90, 40]\n",
        "print(dict3)\n",
        "\n",
        "# 요소의 값 변경\n",
        "dict3['no'] = 10\n",
        "print(dict3)\n",
        "\n",
        "# dict3[[10, 20, 30]] = ['십', '이십', '삼십'] # TypeError: unhashable type: 'list'\n",
        "# print(dict3)\n",
        "\n",
        "dict3[(10, 20, 30)] = ['십', '이십', '삼십'] # 변경 불가능한 것들만 키가 될 수 있기 때문에 Tuple 가능\n",
        "print(dict3)\n",
        "\n",
        "dict3['과일'] = {'과일':'🍎', '바나나':'🍌'} # 딕셔너리 안에 딕셔너리도 가능하다.\n",
        "print(dict3)"
      ],
      "metadata": {
        "colab": {
          "base_uri": "https://localhost:8080/"
        },
        "id": "JWPzPz4nX9SG",
        "outputId": "61c370fa-01e2-4c4f-b7f9-1677453604bb"
      },
      "execution_count": 50,
      "outputs": [
        {
          "output_type": "stream",
          "name": "stdout",
          "text": [
            "{'no': 1, 'userId': 'apple', 'name': '김사과', 'hp': '010-1111-1111'}\n",
            "{'no': 1, 'userId': 'apple', 'name': '김사과', 'hp': '010-1111-1111', 'gender': 'female'}\n",
            "{'no': 1, 'userId': 'apple', 'name': '김사과', 'hp': '010-1111-1111', 'gender': 'female', 'score': [100, 90, 40]}\n",
            "{'no': 10, 'userId': 'apple', 'name': '김사과', 'hp': '010-1111-1111', 'gender': 'female', 'score': [100, 90, 40]}\n",
            "{'no': 10, 'userId': 'apple', 'name': '김사과', 'hp': '010-1111-1111', 'gender': 'female', 'score': [100, 90, 40], (10, 20, 30): ['십', '이십', '삼십']}\n",
            "{'no': 10, 'userId': 'apple', 'name': '김사과', 'hp': '010-1111-1111', 'gender': 'female', 'score': [100, 90, 40], (10, 20, 30): ['십', '이십', '삼십'], '과일': {'과일': '🍎', '바나나': '🍌'}}\n"
          ]
        }
      ]
    },
    {
      "cell_type": "markdown",
      "source": [
        "# **2. Dict의 메서드**"
      ],
      "metadata": {
        "id": "SWh3XkrcX9Iw"
      }
    },
    {
      "cell_type": "code",
      "source": [
        "dict3 = {'no':1, 'userId':'apple', 'name':'김사과', 'hp':'010-1111-1111'}\n",
        "print(dict3)\n",
        "print(dict3.keys())"
      ],
      "metadata": {
        "colab": {
          "base_uri": "https://localhost:8080/"
        },
        "id": "Zln1aMC2X9F3",
        "outputId": "a7b3e90a-c357-4d3f-e4db-401576d94b7c"
      },
      "execution_count": 70,
      "outputs": [
        {
          "output_type": "stream",
          "name": "stdout",
          "text": [
            "{'no': 1, 'userId': 'apple', 'name': '김사과', 'hp': '010-1111-1111'}\n",
            "dict_keys(['no', 'userId', 'name', 'hp'])\n"
          ]
        }
      ]
    },
    {
      "cell_type": "code",
      "source": [
        "dict3 = {'no':1, 'userId':'apple', 'name':'김사과', 'hp':'010-1111-1111'}\n",
        "print(dict3)\n",
        "\n",
        "# values() : 딕셔너리의 모든 값을 반환\n",
        "print(dict3.values())"
      ],
      "metadata": {
        "colab": {
          "base_uri": "https://localhost:8080/"
        },
        "id": "KRF8twzCX9C6",
        "outputId": "087e69fa-591f-449f-d489-395ed06afb50"
      },
      "execution_count": 52,
      "outputs": [
        {
          "output_type": "stream",
          "name": "stdout",
          "text": [
            "{'no': 1, 'userId': 'apple', 'name': '김사과', 'hp': '010-1111-1111'}\n",
            "dict_values([1, 'apple', '김사과', '010-1111-1111'])\n"
          ]
        }
      ]
    },
    {
      "cell_type": "code",
      "source": [
        "dict3 = {'no':1, 'userId':'apple', 'name':'김사과', 'hp':'010-1111-1111'}\n",
        "print(dict3)\n",
        "# items() : 딕셔너리의 모든 키-값을 튜플로 반환\n",
        "print(dict3.items())"
      ],
      "metadata": {
        "colab": {
          "base_uri": "https://localhost:8080/"
        },
        "id": "NWUo5W7hX8__",
        "outputId": "59c22e18-011e-4d51-b66f-f681e8d94aaa"
      },
      "execution_count": 53,
      "outputs": [
        {
          "output_type": "stream",
          "name": "stdout",
          "text": [
            "{'no': 1, 'userId': 'apple', 'name': '김사과', 'hp': '010-1111-1111'}\n",
            "dict_items([('no', 1), ('userId', 'apple'), ('name', '김사과'), ('hp', '010-1111-1111')])\n"
          ]
        }
      ]
    },
    {
      "cell_type": "code",
      "source": [
        "dict3 = {'no':1, 'userId':'apple', 'name':'김사과', 'hp':'010-1111-1111'}\n",
        "print(dict3)\n",
        "# get() : 특정 키에 대한 값을 반환, 만약, 키가 딕셔너리에 없으면 None을 반환\n",
        "# None을 치환 할 수 있는 문자열을 설정 할 수 있음\n",
        "print(dict3.get('userId'))\n",
        "# print(dict3['gender']) # KeyError: 'gender'\n",
        "print(dict3.get('userId'))\n",
        "print(dict3.get('gender')) # None\n",
        "print(dict3.get('gender', '성별 알 수 없음'))\n",
        "print(dict3.get('name', '이름 알 수 없음'))"
      ],
      "metadata": {
        "colab": {
          "base_uri": "https://localhost:8080/"
        },
        "id": "6N2lS3R8X89D",
        "outputId": "2833350c-df21-44fb-d831-88500fb364d4"
      },
      "execution_count": 60,
      "outputs": [
        {
          "output_type": "stream",
          "name": "stdout",
          "text": [
            "{'no': 1, 'userId': 'apple', 'name': '김사과', 'hp': '010-1111-1111'}\n",
            "apple\n",
            "apple\n",
            "None\n",
            "성별 알 수 없음\n",
            "김사과\n"
          ]
        }
      ]
    },
    {
      "cell_type": "code",
      "source": [
        "dict3 = {'no':1, 'userId':'apple', 'name':'김사과', 'hp':'010-1111-1111'}\n",
        "print(dict3)\n",
        "# pop() : 특정 키에 대한 값을 제거하고 제거된 \"값\"을 반환, 키가 없다면 에러\n",
        "temp = dict3.pop('hp')\n",
        "print(dict3)\n",
        "print(temp)"
      ],
      "metadata": {
        "colab": {
          "base_uri": "https://localhost:8080/"
        },
        "id": "aqe4k0BWX86I",
        "outputId": "015b2dec-cbd2-4613-b8cf-0c6871be5dc8"
      },
      "execution_count": 63,
      "outputs": [
        {
          "output_type": "stream",
          "name": "stdout",
          "text": [
            "{'no': 1, 'userId': 'apple', 'name': '김사과', 'hp': '010-1111-1111'}\n",
            "{'no': 1, 'userId': 'apple', 'name': '김사과'}\n",
            "010-1111-1111\n"
          ]
        }
      ]
    },
    {
      "cell_type": "code",
      "source": [
        "dict3 = {'no':1, 'userId':'apple', 'name':'김사과', 'hp':'010-1111-1111'}\n",
        "print(dict3)\n",
        "# in : 딕셔너리에 특정 키가 있는지 확인\n",
        "print('hp' in dict3)\n",
        "print('010-1111-1111' in dict3)"
      ],
      "metadata": {
        "colab": {
          "base_uri": "https://localhost:8080/"
        },
        "id": "IQ9syvPEX83N",
        "outputId": "c95e44b1-d20f-418b-e159-ad48e01636ed"
      },
      "execution_count": 64,
      "outputs": [
        {
          "output_type": "stream",
          "name": "stdout",
          "text": [
            "{'no': 1, 'userId': 'apple', 'name': '김사과', 'hp': '010-1111-1111'}\n",
            "True\n",
            "False\n"
          ]
        }
      ]
    },
    {
      "cell_type": "code",
      "source": [],
      "metadata": {
        "id": "NQYyzX6rX8zu"
      },
      "execution_count": null,
      "outputs": []
    },
    {
      "cell_type": "code",
      "source": [],
      "metadata": {
        "id": "TFDCbRTUX8wx"
      },
      "execution_count": null,
      "outputs": []
    },
    {
      "cell_type": "code",
      "source": [],
      "metadata": {
        "id": "dXPhc_wUX8t0"
      },
      "execution_count": null,
      "outputs": []
    },
    {
      "cell_type": "code",
      "source": [],
      "metadata": {
        "id": "lIuua8v9X8q4"
      },
      "execution_count": null,
      "outputs": []
    },
    {
      "cell_type": "code",
      "source": [],
      "metadata": {
        "id": "fVMgWtnAX8oA"
      },
      "execution_count": null,
      "outputs": []
    },
    {
      "cell_type": "code",
      "source": [],
      "metadata": {
        "id": "_M5pxMcyX8lD"
      },
      "execution_count": null,
      "outputs": []
    },
    {
      "cell_type": "code",
      "source": [],
      "metadata": {
        "id": "OO-G-lT8X8hi"
      },
      "execution_count": null,
      "outputs": []
    },
    {
      "cell_type": "code",
      "source": [],
      "metadata": {
        "id": "T4Hqh2DQXILT"
      },
      "execution_count": null,
      "outputs": []
    }
  ]
}