{
  "nbformat": 4,
  "nbformat_minor": 0,
  "metadata": {
    "colab": {
      "provenance": [],
      "authorship_tag": "ABX9TyO+UaMtEnVBxqErxutEyFX1",
      "include_colab_link": true
    },
    "kernelspec": {
      "name": "python3",
      "display_name": "Python 3"
    },
    "language_info": {
      "name": "python"
    }
  },
  "cells": [
    {
      "cell_type": "markdown",
      "metadata": {
        "id": "view-in-github",
        "colab_type": "text"
      },
      "source": [
        "<a href=\"https://colab.research.google.com/github/EG-world/Python/blob/main/13_%EC%82%AC%EC%9A%A9%EC%9E%90_%EC%A0%95%EC%9D%98_%ED%95%A8%EC%88%98.ipynb\" target=\"_parent\"><img src=\"https://colab.research.google.com/assets/colab-badge.svg\" alt=\"Open In Colab\"/></a>"
      ]
    },
    {
      "cell_type": "markdown",
      "source": [
        "# **1. 사용자 정의 함수**\n",
        "사용자 정의 함수란 사용자가 특정 작업을 수행하기 위해 직접 작성한 함수를 의미합니다. 파이썬에는 많은 내장 함수들이 있지만, 때로는 우리의 요구사항에 맞게 동작하는 함수를 직접 만들어야 할 때가 있습니다. 이때 사용자 정의 함수를 작성하게 됩니다. 기본적인 구조는 아래와 같습니다.\n",
        "```\n",
        "def 함수명(매개변수1, 매개변수2, ...):\n",
        "    # 함수 내용\n",
        "    return 결과값\n",
        "```"
      ],
      "metadata": {
        "id": "BoRYJNIpAk82"
      }
    },
    {
      "cell_type": "markdown",
      "source": [
        "### 1-1. 매개변수와 반환값이 없는 함수"
      ],
      "metadata": {
        "id": "GQu2KgUnAy-I"
      }
    },
    {
      "cell_type": "code",
      "source": [
        "def func1() :\n",
        "  print('처음으로 만드는 함수')"
      ],
      "metadata": {
        "id": "9iODDnpLCLpA"
      },
      "execution_count": 21,
      "outputs": []
    },
    {
      "cell_type": "code",
      "source": [
        "func1()"
      ],
      "metadata": {
        "colab": {
          "base_uri": "https://localhost:8080/"
        },
        "id": "DfMPrRr1CdBb",
        "outputId": "dfe71afd-2bd9-4a87-cc02-d1701bbc957c"
      },
      "execution_count": 2,
      "outputs": [
        {
          "output_type": "stream",
          "name": "stdout",
          "text": [
            "처음으로 만드는 함수\n"
          ]
        }
      ]
    },
    {
      "cell_type": "code",
      "source": [
        "print(func1())"
      ],
      "metadata": {
        "colab": {
          "base_uri": "https://localhost:8080/"
        },
        "id": "IUPqQ1K7JbEG",
        "outputId": "02f8f495-7e63-4f08-9936-ed1f309f830c"
      },
      "execution_count": 19,
      "outputs": [
        {
          "output_type": "stream",
          "name": "stdout",
          "text": [
            "처음으로 만드는 함수\n",
            "None\n"
          ]
        }
      ]
    },
    {
      "cell_type": "markdown",
      "source": [
        "### 1-2. 매개변수가 있고 반환값이 없는 함수"
      ],
      "metadata": {
        "id": "3SYEYE2pDFw2"
      }
    },
    {
      "cell_type": "code",
      "source": [
        "def func2(num) :\n",
        "  print(f'입력받은 숫자: {num}')"
      ],
      "metadata": {
        "id": "x_SxmXhyGyEq"
      },
      "execution_count": 4,
      "outputs": []
    },
    {
      "cell_type": "code",
      "source": [
        "func2(100)"
      ],
      "metadata": {
        "colab": {
          "base_uri": "https://localhost:8080/"
        },
        "id": "h8J5vSVWG79v",
        "outputId": "559b1196-412f-4e7f-da69-24f8b86d3510"
      },
      "execution_count": 5,
      "outputs": [
        {
          "output_type": "stream",
          "name": "stdout",
          "text": [
            "입력받은 숫자: 100\n"
          ]
        }
      ]
    },
    {
      "cell_type": "code",
      "source": [
        "def func3(start, end) :\n",
        "  sum = 0\n",
        "  for i in range(start, end+1) :\n",
        "    sum += i\n",
        "  print(f'{start}부터 {end}까지의 합: {sum}')"
      ],
      "metadata": {
        "id": "NFxWpxTTG-sK"
      },
      "execution_count": 6,
      "outputs": []
    },
    {
      "cell_type": "code",
      "source": [
        "func3(0,100)"
      ],
      "metadata": {
        "colab": {
          "base_uri": "https://localhost:8080/"
        },
        "id": "lBPbw4_uHfSc",
        "outputId": "af64cad9-6c5b-4efe-cfe8-8b6e0e1fd8c0"
      },
      "execution_count": 7,
      "outputs": [
        {
          "output_type": "stream",
          "name": "stdout",
          "text": [
            "0부터 100까지의 합: 5050\n"
          ]
        }
      ]
    },
    {
      "cell_type": "code",
      "source": [
        "def func3(start, end,) :\n",
        "  sum = 0\n",
        "  for i in range(start, end+1) :\n",
        "    sum += i\n",
        "  print(f'{start}부터 {end}까지의 합: {sum}')"
      ],
      "metadata": {
        "id": "Vp-FR69_HiDT"
      },
      "execution_count": 9,
      "outputs": []
    },
    {
      "cell_type": "markdown",
      "source": [
        "### 1-3. 반환값이 있는 함수"
      ],
      "metadata": {
        "id": "X96P61CDH1yc"
      }
    },
    {
      "cell_type": "code",
      "source": [
        "def func4() :\n",
        "  return '🧨'"
      ],
      "metadata": {
        "id": "KPNUUY7_IFb2"
      },
      "execution_count": 15,
      "outputs": []
    },
    {
      "cell_type": "code",
      "source": [
        "print(func4())"
      ],
      "metadata": {
        "colab": {
          "base_uri": "https://localhost:8080/"
        },
        "id": "Kyz6fmB2IFYV",
        "outputId": "e95402bc-5e02-40ae-d930-0b2df9b7b62d"
      },
      "execution_count": 16,
      "outputs": [
        {
          "output_type": "stream",
          "name": "stdout",
          "text": [
            "🧨\n"
          ]
        }
      ]
    },
    {
      "cell_type": "code",
      "source": [
        "def func5(num1, num2) :\n",
        "  sum = num1 + num2\n",
        "  return sum"
      ],
      "metadata": {
        "id": "ga_eYIRtIFR3"
      },
      "execution_count": 18,
      "outputs": []
    },
    {
      "cell_type": "code",
      "source": [
        "print(func5(10,5))\n",
        "temp = func5(4,3)\n",
        "print(temp)"
      ],
      "metadata": {
        "colab": {
          "base_uri": "https://localhost:8080/"
        },
        "id": "zfaXwdAqIFOW",
        "outputId": "5aab5c7b-531d-42e9-e627-6e12d0affbad"
      },
      "execution_count": 20,
      "outputs": [
        {
          "output_type": "stream",
          "name": "stdout",
          "text": [
            "15\n",
            "7\n"
          ]
        }
      ]
    },
    {
      "cell_type": "markdown",
      "source": [
        "### 1-4. 기본값이 설정된 매개변수"
      ],
      "metadata": {
        "id": "Iycl92uXIFK1"
      }
    },
    {
      "cell_type": "code",
      "source": [
        "def func6(num1=0, num2=0) :\n",
        "  sum = num1 + num2\n",
        "  return sum"
      ],
      "metadata": {
        "id": "eUR2eNnJIFHT"
      },
      "execution_count": 27,
      "outputs": []
    },
    {
      "cell_type": "code",
      "source": [
        "print(func6())\n",
        "print(func6(10))\n",
        "print(func6(10,3))\n",
        "print(func6(0,3))\n",
        "print(func6(num2=3))"
      ],
      "metadata": {
        "colab": {
          "base_uri": "https://localhost:8080/"
        },
        "id": "npQUwVQ-IFA2",
        "outputId": "119ed51b-a583-44c7-9a94-7d4b1ec7f1fa"
      },
      "execution_count": 39,
      "outputs": [
        {
          "output_type": "stream",
          "name": "stdout",
          "text": [
            "0\n",
            "10\n",
            "13\n",
            "3\n",
            "3\n"
          ]
        }
      ]
    },
    {
      "cell_type": "markdown",
      "source": [
        "### 1-5.가변 매개변수\n",
        "함수를 호출할 때 *를 사용하면 시퀀스(리스트, 튜플 등)의 요소를 개별적인 위치 인자로 풀어서 전달할 수 있습니다.\n",
        "(unpacking 이라는 뜻)"
      ],
      "metadata": {
        "id": "jhNOBuMqIE9V"
      }
    },
    {
      "cell_type": "code",
      "source": [
        "def func7(*args) :\n",
        "  return args"
      ],
      "metadata": {
        "id": "jgVscaG6IE5z"
      },
      "execution_count": 40,
      "outputs": []
    },
    {
      "cell_type": "code",
      "source": [
        "print(func7())\n",
        "print(func7(10,30,50))"
      ],
      "metadata": {
        "colab": {
          "base_uri": "https://localhost:8080/"
        },
        "id": "3lJcG0KpIE25",
        "outputId": "6a2c023d-fe7e-4ac2-b969-e3f8de3e3c38"
      },
      "execution_count": 42,
      "outputs": [
        {
          "output_type": "stream",
          "name": "stdout",
          "text": [
            "()\n",
            "(10, 30, 50)\n"
          ]
        }
      ]
    },
    {
      "cell_type": "markdown",
      "source": [
        "### 1-6. 키워드 매개변수"
      ],
      "metadata": {
        "id": "VTg9mL30IEQs"
      }
    },
    {
      "cell_type": "code",
      "source": [
        "def func8(id, name, age) :\n",
        "  print(f'아이디 : {id}')\n",
        "  print(f'이름 : {name}')\n",
        "  print(f'나이 : {age}')"
      ],
      "metadata": {
        "id": "Nh1GSa1KM--R"
      },
      "execution_count": 43,
      "outputs": []
    },
    {
      "cell_type": "code",
      "source": [
        "func8('apple', '김사과', 20)\n",
        "func8(age=30, id='orange', name='오렌지')"
      ],
      "metadata": {
        "colab": {
          "base_uri": "https://localhost:8080/"
        },
        "id": "7CZiht6LNKr-",
        "outputId": "dd6d67d5-bfe1-42eb-9672-f074828e2f93"
      },
      "execution_count": 45,
      "outputs": [
        {
          "output_type": "stream",
          "name": "stdout",
          "text": [
            "아이디 : apple\n",
            "이름 : 김사과\n",
            "나이 : 20\n",
            "아이디 : orange\n",
            "이름 : 오렌지\n",
            "나이 : 30\n"
          ]
        }
      ]
    },
    {
      "cell_type": "code",
      "source": [
        "dict1 = {'age':25, 'id':'banana', 'name':'반하나'}\n",
        "func8(**dict1)\n",
        "func8(*dict1)"
      ],
      "metadata": {
        "colab": {
          "base_uri": "https://localhost:8080/"
        },
        "id": "cBRH1ZQ_NNxT",
        "outputId": "1d7d4ca8-bb91-4f26-fe18-8403c31f6b2e"
      },
      "execution_count": 47,
      "outputs": [
        {
          "output_type": "stream",
          "name": "stdout",
          "text": [
            "아이디 : banana\n",
            "이름 : 반하나\n",
            "나이 : 25\n",
            "아이디 : age\n",
            "이름 : id\n",
            "나이 : name\n"
          ]
        }
      ]
    },
    {
      "cell_type": "markdown",
      "source": [
        "### 1-7. 여러개의 반환값"
      ],
      "metadata": {
        "id": "RPCk5shGN7nE"
      }
    },
    {
      "cell_type": "code",
      "source": [
        "def func6(num1=0, num2=0) :\n",
        "  sum = num1 + num2\n",
        "  return sum"
      ],
      "metadata": {
        "id": "cFNCvZ6wOoXS"
      },
      "execution_count": 54,
      "outputs": []
    },
    {
      "cell_type": "code",
      "source": [
        "result1 = func6(10,3)\n",
        "print(result1)\n",
        "# 만약 사칙연산을 모두 구하고 싶다면?"
      ],
      "metadata": {
        "colab": {
          "base_uri": "https://localhost:8080/"
        },
        "id": "nZruI3MxOubm",
        "outputId": "7d369af1-865c-491d-93b1-28c0ff7d255a"
      },
      "execution_count": 49,
      "outputs": [
        {
          "output_type": "stream",
          "name": "stdout",
          "text": [
            "13\n"
          ]
        }
      ]
    },
    {
      "cell_type": "code",
      "source": [
        "def func9(num1=0, num2=0) :\n",
        "  return num1+num2, num1-num2, num1*num2, num1/num2"
      ],
      "metadata": {
        "id": "Bt5LkbkgO0dl"
      },
      "execution_count": 50,
      "outputs": []
    },
    {
      "cell_type": "code",
      "source": [
        "result1, result2, result3, result4, = func9(10,3)\n",
        "print(f'덧셈 : {result1}')\n",
        "print(f'뺼셈 : {result2}')\n",
        "print(f'곱셈 : {result3}')\n",
        "print(f'나눗셈 : {result4}')"
      ],
      "metadata": {
        "colab": {
          "base_uri": "https://localhost:8080/"
        },
        "id": "sIUnv3djPAUZ",
        "outputId": "58fa192e-b01d-4fc1-9f96-e313cbba0323"
      },
      "execution_count": 51,
      "outputs": [
        {
          "output_type": "stream",
          "name": "stdout",
          "text": [
            "덧셈 : 13\n",
            "뺼셈 : 7\n",
            "곱셈 : 30\n",
            "나눗셈 : 3.3333333333333335\n"
          ]
        }
      ]
    },
    {
      "cell_type": "code",
      "source": [
        "_, _, result3, _, = func9(10,3)\n",
        "print(f'곱셈 : {result3}')"
      ],
      "metadata": {
        "colab": {
          "base_uri": "https://localhost:8080/"
        },
        "id": "-fXhofo3POFV",
        "outputId": "ddd3af7f-6d2d-4ff2-9f47-6553f3e9a459"
      },
      "execution_count": 53,
      "outputs": [
        {
          "output_type": "stream",
          "name": "stdout",
          "text": [
            "곱셈 : 30\n"
          ]
        }
      ]
    },
    {
      "cell_type": "markdown",
      "source": [
        "# **2. None의 특징**\n",
        "None은 파이썬에서 특별한 값으로, 아무런 값이 없음을 표현하는 데 사용됩니다. 다른 언어에서의 null 또는 nil과 유사한 개념입니다.\n",
        "\n",
        "None은 파이썬의 내장 상수이며, 그 자체로 데이터 타입이 NoneType입니다. 모든 None은 동일하므로, 두 개의 None 값을 비교할 때 항상 True를 반환합니다."
      ],
      "metadata": {
        "id": "BT38V-OePjfK"
      }
    },
    {
      "cell_type": "code",
      "source": [
        "num = None\n",
        "print(num)"
      ],
      "metadata": {
        "colab": {
          "base_uri": "https://localhost:8080/"
        },
        "id": "uVnEo9dxTpdV",
        "outputId": "5c5bb7c5-3a6e-480e-aa1d-02f89389fed8"
      },
      "execution_count": 56,
      "outputs": [
        {
          "output_type": "stream",
          "name": "stdout",
          "text": [
            "None\n"
          ]
        }
      ]
    },
    {
      "cell_type": "code",
      "source": [
        "def func10(num) :\n",
        "  if num >= 10 :\n",
        "    return num"
      ],
      "metadata": {
        "id": "DXHD5-TjTpbA"
      },
      "execution_count": 57,
      "outputs": []
    },
    {
      "cell_type": "code",
      "source": [
        "print(func10(5))"
      ],
      "metadata": {
        "colab": {
          "base_uri": "https://localhost:8080/"
        },
        "id": "iy0oJWvQTpYE",
        "outputId": "b3dabf43-5bba-46bf-862e-7167d201b186"
      },
      "execution_count": 59,
      "outputs": [
        {
          "output_type": "stream",
          "name": "stdout",
          "text": [
            "None\n"
          ]
        }
      ]
    },
    {
      "cell_type": "code",
      "source": [
        "def func11(num=None) :\n",
        "  if num is None :\n",
        "    print('전달된 값이 없습니다')\n",
        "  else :\n",
        "    print(num)"
      ],
      "metadata": {
        "id": "K8vIKUG5TpVt"
      },
      "execution_count": 60,
      "outputs": []
    },
    {
      "cell_type": "code",
      "source": [
        "func11(10)\n",
        "func11()"
      ],
      "metadata": {
        "colab": {
          "base_uri": "https://localhost:8080/"
        },
        "id": "4Q79D-96TpSx",
        "outputId": "d6844bfb-17ef-4426-f330-726b3cffde15"
      },
      "execution_count": 62,
      "outputs": [
        {
          "output_type": "stream",
          "name": "stdout",
          "text": [
            "10\n",
            "전달된 값이 없습니다\n"
          ]
        }
      ]
    },
    {
      "cell_type": "code",
      "source": [
        "num = None\n",
        "\n",
        "if num is None :\n",
        "  print('num의 값은 없습니다.')\n",
        "if num == None :\n",
        "  print('num의 값은 없습니다.')"
      ],
      "metadata": {
        "colab": {
          "base_uri": "https://localhost:8080/"
        },
        "id": "nJuuTYrtTpQc",
        "outputId": "7eec1e5f-d09e-4a1e-95f4-f2e94991e7c7"
      },
      "execution_count": 65,
      "outputs": [
        {
          "output_type": "stream",
          "name": "stdout",
          "text": [
            "num의 값은 없습니다.\n",
            "num의 값은 없습니다.\n"
          ]
        }
      ]
    },
    {
      "cell_type": "code",
      "source": [
        "# 객체비교\n",
        "li1 = [1, 2, 3, 4, 5]\n",
        "li2 = [1, 2, 3, 4, 5]\n",
        "\n",
        "result1 = li1 is li2\n",
        "print(result1)\n",
        "\n",
        "result2 = li1 == li2\n",
        "print(result2)"
      ],
      "metadata": {
        "colab": {
          "base_uri": "https://localhost:8080/"
        },
        "id": "9WPvaknrTpLJ",
        "outputId": "7e97ff8e-1061-4068-bc4d-c24176165553"
      },
      "execution_count": 67,
      "outputs": [
        {
          "output_type": "stream",
          "name": "stdout",
          "text": [
            "False\n",
            "True\n"
          ]
        }
      ]
    },
    {
      "cell_type": "code",
      "source": [],
      "metadata": {
        "id": "ox71E6V3TpIz"
      },
      "execution_count": null,
      "outputs": []
    },
    {
      "cell_type": "code",
      "source": [],
      "metadata": {
        "id": "w14jUV-rTpGe"
      },
      "execution_count": null,
      "outputs": []
    },
    {
      "cell_type": "code",
      "source": [],
      "metadata": {
        "id": "KyuOdV0CTpEE"
      },
      "execution_count": null,
      "outputs": []
    },
    {
      "cell_type": "code",
      "source": [],
      "metadata": {
        "id": "9q6TBp0JTaeU"
      },
      "execution_count": null,
      "outputs": []
    }
  ]
}