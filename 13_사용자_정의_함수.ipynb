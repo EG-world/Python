{
  "nbformat": 4,
  "nbformat_minor": 0,
  "metadata": {
    "colab": {
      "provenance": [],
      "authorship_tag": "ABX9TyMYK9Fr3j7pIUllR1zaBYhi",
      "include_colab_link": true
    },
    "kernelspec": {
      "name": "python3",
      "display_name": "Python 3"
    },
    "language_info": {
      "name": "python"
    }
  },
  "cells": [
    {
      "cell_type": "markdown",
      "metadata": {
        "id": "view-in-github",
        "colab_type": "text"
      },
      "source": [
        "<a href=\"https://colab.research.google.com/github/EG-world/Python/blob/main/13_%EC%82%AC%EC%9A%A9%EC%9E%90_%EC%A0%95%EC%9D%98_%ED%95%A8%EC%88%98.ipynb\" target=\"_parent\"><img src=\"https://colab.research.google.com/assets/colab-badge.svg\" alt=\"Open In Colab\"/></a>"
      ]
    },
    {
      "cell_type": "markdown",
      "source": [
        "# **1. 사용자 정의 함수**\n",
        "사용자 정의 함수란 사용자가 특정 작업을 수행하기 위해 직접 작성한 함수를 의미합니다. 파이썬에는 많은 내장 함수들이 있지만, 때로는 우리의 요구사항에 맞게 동작하는 함수를 직접 만들어야 할 때가 있습니다. 이때 사용자 정의 함수를 작성하게 됩니다. 기본적인 구조는 아래와 같습니다.\n",
        "```\n",
        "def 함수명(매개변수1, 매개변수2, ...):\n",
        "    # 함수 내용\n",
        "    return 결과값\n",
        "```"
      ],
      "metadata": {
        "id": "BoRYJNIpAk82"
      }
    },
    {
      "cell_type": "markdown",
      "source": [
        "### 1-1. 매개변수와 반환값이 없는 함수"
      ],
      "metadata": {
        "id": "GQu2KgUnAy-I"
      }
    },
    {
      "cell_type": "code",
      "source": [
        "def func1() :\n",
        "  print('처음으로 만드는 함수')"
      ],
      "metadata": {
        "id": "9iODDnpLCLpA"
      },
      "execution_count": 1,
      "outputs": []
    },
    {
      "cell_type": "code",
      "source": [
        "func1()"
      ],
      "metadata": {
        "colab": {
          "base_uri": "https://localhost:8080/"
        },
        "id": "DfMPrRr1CdBb",
        "outputId": "dfe71afd-2bd9-4a87-cc02-d1701bbc957c"
      },
      "execution_count": 2,
      "outputs": [
        {
          "output_type": "stream",
          "name": "stdout",
          "text": [
            "처음으로 만드는 함수\n"
          ]
        }
      ]
    },
    {
      "cell_type": "code",
      "source": [],
      "metadata": {
        "id": "qO6D1EWDCd1S"
      },
      "execution_count": null,
      "outputs": []
    }
  ]
}