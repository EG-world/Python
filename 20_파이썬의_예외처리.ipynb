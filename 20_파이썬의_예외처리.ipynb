{
  "nbformat": 4,
  "nbformat_minor": 0,
  "metadata": {
    "colab": {
      "provenance": [],
      "authorship_tag": "ABX9TyP69edYK+TG4MAk+aNJ7USz",
      "include_colab_link": true
    },
    "kernelspec": {
      "name": "python3",
      "display_name": "Python 3"
    },
    "language_info": {
      "name": "python"
    }
  },
  "cells": [
    {
      "cell_type": "markdown",
      "metadata": {
        "id": "view-in-github",
        "colab_type": "text"
      },
      "source": [
        "<a href=\"https://colab.research.google.com/github/EG-world/Python/blob/main/20_%ED%8C%8C%EC%9D%B4%EC%8D%AC%EC%9D%98_%EC%98%88%EC%99%B8%EC%B2%98%EB%A6%AC.ipynb\" target=\"_parent\"><img src=\"https://colab.research.google.com/assets/colab-badge.svg\" alt=\"Open In Colab\"/></a>"
      ]
    },
    {
      "cell_type": "markdown",
      "source": [
        "# **1. 예외(Exception)**\n",
        "예외(Exception)는 프로그램 실행 중 발생할 수 있는 예상치 못한 문제 또는 오류 상황을 의미합니다. 예외가 발생하면 프로그램은 중단되기 때문에 이를 적절하게 처리하여 중단을 방지하거나 오류에 대한 정보를 사용자에게 제공해야 합니다."
      ],
      "metadata": {
        "id": "mC29jmOm98jE"
      }
    },
    {
      "cell_type": "code",
      "source": [
        "print(10 / 3)\n",
        "# print(5 / 0)  # ZeroDivisionError: division by zero -> 0으로 나눌 수 없습니다. 라는 의미\n",
        "print(4 / 2)"
      ],
      "metadata": {
        "colab": {
          "base_uri": "https://localhost:8080/"
        },
        "id": "vps3cRcL-Gqv",
        "outputId": "dcba2ee3-4de6-4880-afb3-9757d6697a73"
      },
      "execution_count": 3,
      "outputs": [
        {
          "output_type": "stream",
          "name": "stdout",
          "text": [
            "3.3333333333333335\n",
            "2.0\n"
          ]
        }
      ]
    },
    {
      "cell_type": "markdown",
      "source": [
        "# **2. 예외처리 기본 구조**\n",
        "```\n",
        "try:\n",
        "    # 예외가 발생할 가능성이 있는 코드\n",
        "    \n",
        "except ExceptionType1:  # 'ExceptionType1'에는 실제 예외 유형이 들어갑니다.\n",
        "    # ExceptionType1 예외가 발생했을 때 실행될 코드\n",
        "    \n",
        "except ExceptionType2:  # 'ExceptionType2'에는 다른 예외 유형이 들어갑니다.\n",
        "    # ExceptionType2 예외가 발생했을 때 실행될 코드\n",
        "    \n",
        "# 추가적인 except 블록을 계속 추가할 수 있습니다.\n",
        "\n",
        "else:\n",
        "    # try 블록에서 예외가 발생하지 않았을 때 실행될 코드\n",
        "    \n",
        "finally:\n",
        "    # 예외 발생 여부와 관계없이 항상 실행될 코드\n",
        "```"
      ],
      "metadata": {
        "id": "cWxGNR2I-Gnz"
      }
    },
    {
      "cell_type": "code",
      "source": [
        "try :\n",
        "  print(10 / 3)\n",
        "  print(5 / 0)\n",
        "  print(4 / 2)\n",
        "except ZeroDivisionError :\n",
        "  print('0은 나눌 수 없습니다')\n",
        "print('프로그램을 종료합니다')  # try except로 인해 정상 종료가 되었기 때문에 실행된다."
      ],
      "metadata": {
        "colab": {
          "base_uri": "https://localhost:8080/"
        },
        "id": "n4P9F_RY-Gk5",
        "outputId": "91aeb2cd-0af1-4b9e-add6-d2e8a0f5ff8c"
      },
      "execution_count": 6,
      "outputs": [
        {
          "output_type": "stream",
          "name": "stdout",
          "text": [
            "3.3333333333333335\n",
            "0은 나눌 수 없습니다\n",
            "프로그램을 종료합니다\n"
          ]
        }
      ]
    },
    {
      "cell_type": "code",
      "source": [
        "try :\n",
        "  print(10 / 3)\n",
        "  print(5 / 0)\n",
        "  print(4 / 2)\n",
        "except :  # 이름을 쓰지 않으면 '에러가 날 경우' 즉, 모든 에러를 아래로 처리하겠다.\n",
        "  print('0은 나눌 수 없습니다')\n",
        "print('프로그램을 종료합니다')"
      ],
      "metadata": {
        "colab": {
          "base_uri": "https://localhost:8080/"
        },
        "id": "-wnD5Mwq-GiH",
        "outputId": "5c12ca07-09fd-40d6-d6d4-a08f6aea2d99"
      },
      "execution_count": 7,
      "outputs": [
        {
          "output_type": "stream",
          "name": "stdout",
          "text": [
            "3.3333333333333335\n",
            "0은 나눌 수 없습니다\n",
            "프로그램을 종료합니다\n"
          ]
        }
      ]
    },
    {
      "cell_type": "markdown",
      "source": [
        "### 문제1\n",
        "* 아래와 같이 데이터가 있을 떄 인덱싱 오류가 발생할 경우 \"인덱스 지정이 올바르지 않습니다\" 라는 메세지를 출력해보자\n",
        "* data = [10, 20, 30, 40, 50]\n",
        "* 오류가 발생 : print(data[5])"
      ],
      "metadata": {
        "id": "gMLFTCCV-GfD"
      }
    },
    {
      "cell_type": "code",
      "source": [
        "class Index :\n",
        "  def __init__(self, data) :\n",
        "    self.data = data\n",
        "\n",
        "  def __getitem__(self, index) :\n",
        "    try :\n",
        "      print(self.data[index])\n",
        "    except IndexError :       # 동작을 딕셔너리 처럼 사용한다고 생각하면 됨.\n",
        "      print('인덱스 지정이 올바르지 않습니다.')"
      ],
      "metadata": {
        "id": "h4KHU9AP-Gc1"
      },
      "execution_count": 19,
      "outputs": []
    },
    {
      "cell_type": "code",
      "source": [
        "data = [10, 20, 30, 40, 50]"
      ],
      "metadata": {
        "id": "ic6WuBSTYTri"
      },
      "execution_count": 14,
      "outputs": []
    },
    {
      "cell_type": "code",
      "source": [
        "index_Test = Index(data)\n",
        "index_Test[6]"
      ],
      "metadata": {
        "colab": {
          "base_uri": "https://localhost:8080/"
        },
        "id": "kf4hwEiz-Gaf",
        "outputId": "fa5ffe79-d2a7-4be9-a996-3737561730a6"
      },
      "execution_count": 18,
      "outputs": [
        {
          "output_type": "stream",
          "name": "stdout",
          "text": [
            "인덱스 지정이 올바르지 않습니다.\n"
          ]
        }
      ]
    },
    {
      "cell_type": "code",
      "source": [
        "try :\n",
        "  data = [10, 20, 30, 40 ,50]\n",
        "  # print(data[5])\n",
        "  # print(int('안녕'))\n",
        "  print(5 / 0)\n",
        "except IndexError:      # except 뒤에 나오는 에러명은 전부 클래스다.\n",
        "  print('인덱스 지정이 올바르지 않습니다')\n",
        "except ValueError:\n",
        "  print('값이 잘 못 입력되었습니다')\n",
        "except ZeroDivisionError:\n",
        "  print('0으로 나눌 수 없습니다')\n",
        "except :\n",
        "  print('예외가 발생했습니다')\n",
        "print('프로그램을 종료합니다')"
      ],
      "metadata": {
        "colab": {
          "base_uri": "https://localhost:8080/"
        },
        "id": "_7xzqLrt-GX9",
        "outputId": "ee38eb77-02fa-4c34-a2ba-0852b1999eaa"
      },
      "execution_count": 21,
      "outputs": [
        {
          "output_type": "stream",
          "name": "stdout",
          "text": [
            "0으로 나눌 수 없습니다\n",
            "프로그램을 종료합니다\n"
          ]
        }
      ]
    },
    {
      "cell_type": "code",
      "source": [
        "try :\n",
        "  data = [10, 20, 30, 40 ,50]\n",
        "  print(data[5])\n",
        "  # print(int('안녕'))\n",
        "  # print(5 / 0)\n",
        "except IndexError as e:\n",
        "  print(e.with_traceback)\n",
        "except ValueError as e:\n",
        "  print(e)\n",
        "except ZeroDivisionError as e:\n",
        "  print(e)\n",
        "except Exception as e:     # Exception 은 모든 에러를 나타내는 클래스 (생략이 가능하다.)\n",
        "  print(e)\n",
        "print('프로그램을 종료합니다')"
      ],
      "metadata": {
        "colab": {
          "base_uri": "https://localhost:8080/"
        },
        "id": "kybUhlc3-GVo",
        "outputId": "fa918604-306e-4563-fff1-9331ccd9b637"
      },
      "execution_count": 28,
      "outputs": [
        {
          "output_type": "stream",
          "name": "stdout",
          "text": [
            "<built-in method with_traceback of IndexError object at 0x78bb3bcd7ba0>\n",
            "프로그램을 종료합니다\n"
          ]
        }
      ]
    },
    {
      "cell_type": "code",
      "source": [
        "try :\n",
        "  data = [10, 20, 30, 40 ,50]\n",
        "  # print(data[5])\n",
        "  # print(int('안녕'))\n",
        "  # print(5 / 0)\n",
        "except IndexError as e:\n",
        "  print(e)\n",
        "except ValueError as e:\n",
        "  print(e)\n",
        "except ZeroDivisionError as e:\n",
        "  print(e)\n",
        "except Exception as e:\n",
        "  print(e)\n",
        "else :\n",
        "  print('에러가 발생하지 않은 정상적인 프로그램')\n",
        "finally :\n",
        "  print('에러에 관계없이 무조건 실행되는 문장')\n",
        "print('프로그램을 종료합니다')    # 다른이유 : try구문 안에 있는것과 밖에 있는것은 다름."
      ],
      "metadata": {
        "colab": {
          "base_uri": "https://localhost:8080/"
        },
        "id": "kFI8VRJ7-GS3",
        "outputId": "6a125e02-a826-416e-df37-193243f7ea2f"
      },
      "execution_count": 27,
      "outputs": [
        {
          "output_type": "stream",
          "name": "stdout",
          "text": [
            "에러가 발생하지 않은 정상적인 프로그램\n",
            "에러에 관계없이 무조건 실행되는 문장\n",
            "프로그램을 종료합니다\n"
          ]
        }
      ]
    },
    {
      "cell_type": "markdown",
      "source": [
        "# **3. Exception 클래스**\n",
        "Exception 클래스는 파이썬의 내장 예외 계층 구조에서 거의 모든 내장 예외의 기본 클래스입니다. 이 클래스는 사용자 정의 예외를 만들거나 특정 예외 유형을 잡기 위한 기본적인 인터페이스를 제공합니다."
      ],
      "metadata": {
        "id": "RV-kjBV--GQX"
      }
    },
    {
      "cell_type": "code",
      "source": [
        "# raise : 예외 상황을 발생시킴\n",
        "#  raise ZeroDivisionError('예외가 발생했어요!!')     # 0으로 나눈 상황을 발생시킨다."
      ],
      "metadata": {
        "id": "sPXkidH3-GN_"
      },
      "execution_count": null,
      "outputs": []
    },
    {
      "cell_type": "code",
      "source": [
        "try :\n",
        "  raise Exception('예외가 발생했어요!!')\n",
        "except Exception as e :\n",
        "  print(e)"
      ],
      "metadata": {
        "colab": {
          "base_uri": "https://localhost:8080/"
        },
        "id": "OrD0vLZl-GLP",
        "outputId": "6fe75f42-95c2-4259-9f89-2d59d13a7039"
      },
      "execution_count": 29,
      "outputs": [
        {
          "output_type": "stream",
          "name": "stdout",
          "text": [
            "예외가 발생했어요!!\n"
          ]
        }
      ]
    },
    {
      "cell_type": "code",
      "source": [
        "def func1() :\n",
        "  n = int (input('짝수를 입력하세요 : '))\n",
        "  if n % 2 == 1 :\n",
        "    raise Exception('홀수를 입력했어요!!')\n",
        "  print(n)"
      ],
      "metadata": {
        "id": "AsMDElCd-F3R"
      },
      "execution_count": 33,
      "outputs": []
    },
    {
      "cell_type": "code",
      "source": [
        "# func1()"
      ],
      "metadata": {
        "colab": {
          "base_uri": "https://localhost:8080/",
          "height": 276
        },
        "id": "Gy72WlIcespY",
        "outputId": "ee45f0a0-a47d-4d03-8fe6-cd6b4271f6f4"
      },
      "execution_count": 31,
      "outputs": [
        {
          "name": "stdout",
          "output_type": "stream",
          "text": [
            "짝수를 입력하세요 : 5\n"
          ]
        },
        {
          "output_type": "error",
          "ename": "Exception",
          "evalue": "홀수를 입력했어요!!",
          "traceback": [
            "\u001b[0;31m---------------------------------------------------------------------------\u001b[0m",
            "\u001b[0;31mException\u001b[0m                                 Traceback (most recent call last)",
            "\u001b[0;32m<ipython-input-31-d88c41ef3303>\u001b[0m in \u001b[0;36m<cell line: 1>\u001b[0;34m()\u001b[0m\n\u001b[0;32m----> 1\u001b[0;31m \u001b[0mfunc1\u001b[0m\u001b[0;34m(\u001b[0m\u001b[0;34m)\u001b[0m\u001b[0;34m\u001b[0m\u001b[0;34m\u001b[0m\u001b[0m\n\u001b[0m",
            "\u001b[0;32m<ipython-input-30-cda2d04f9360>\u001b[0m in \u001b[0;36mfunc1\u001b[0;34m()\u001b[0m\n\u001b[1;32m      2\u001b[0m   \u001b[0mn\u001b[0m \u001b[0;34m=\u001b[0m \u001b[0mint\u001b[0m \u001b[0;34m(\u001b[0m\u001b[0minput\u001b[0m\u001b[0;34m(\u001b[0m\u001b[0;34m'짝수를 입력하세요 : '\u001b[0m\u001b[0;34m)\u001b[0m\u001b[0;34m)\u001b[0m\u001b[0;34m\u001b[0m\u001b[0;34m\u001b[0m\u001b[0m\n\u001b[1;32m      3\u001b[0m   \u001b[0;32mif\u001b[0m \u001b[0mn\u001b[0m \u001b[0;34m%\u001b[0m \u001b[0;36m2\u001b[0m \u001b[0;34m==\u001b[0m \u001b[0;36m1\u001b[0m \u001b[0;34m:\u001b[0m\u001b[0;34m\u001b[0m\u001b[0;34m\u001b[0m\u001b[0m\n\u001b[0;32m----> 4\u001b[0;31m     \u001b[0;32mraise\u001b[0m \u001b[0mException\u001b[0m\u001b[0;34m(\u001b[0m\u001b[0;34m'홀수를 입력했어요!!'\u001b[0m\u001b[0;34m)\u001b[0m\u001b[0;34m\u001b[0m\u001b[0;34m\u001b[0m\u001b[0m\n\u001b[0m\u001b[1;32m      5\u001b[0m   \u001b[0mprint\u001b[0m\u001b[0;34m(\u001b[0m\u001b[0mn\u001b[0m\u001b[0;34m)\u001b[0m\u001b[0;34m\u001b[0m\u001b[0;34m\u001b[0m\u001b[0m\n",
            "\u001b[0;31mException\u001b[0m: 홀수를 입력했어요!!"
          ]
        }
      ]
    },
    {
      "cell_type": "code",
      "source": [
        "try:\n",
        "  func1()\n",
        "except Exception as e:\n",
        "  print('예외가 발생 : ', e)"
      ],
      "metadata": {
        "colab": {
          "base_uri": "https://localhost:8080/"
        },
        "id": "ETQQ2PZ5euvU",
        "outputId": "60179bdd-444d-4b97-f523-2826f3d4592c"
      },
      "execution_count": 34,
      "outputs": [
        {
          "output_type": "stream",
          "name": "stdout",
          "text": [
            "짝수를 입력하세요 : 5\n",
            "예외가 발생 :  홀수를 입력했어요!!\n"
          ]
        }
      ]
    },
    {
      "cell_type": "code",
      "source": [],
      "metadata": {
        "id": "A-rwtcKjfDqt"
      },
      "execution_count": null,
      "outputs": []
    }
  ]
}