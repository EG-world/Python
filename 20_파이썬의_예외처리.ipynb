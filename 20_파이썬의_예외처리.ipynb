{
  "nbformat": 4,
  "nbformat_minor": 0,
  "metadata": {
    "colab": {
      "provenance": [],
      "authorship_tag": "ABX9TyMWu9Xnr+uusx1yBc1ObilA",
      "include_colab_link": true
    },
    "kernelspec": {
      "name": "python3",
      "display_name": "Python 3"
    },
    "language_info": {
      "name": "python"
    }
  },
  "cells": [
    {
      "cell_type": "markdown",
      "metadata": {
        "id": "view-in-github",
        "colab_type": "text"
      },
      "source": [
        "<a href=\"https://colab.research.google.com/github/EG-world/Python/blob/main/20_%ED%8C%8C%EC%9D%B4%EC%8D%AC%EC%9D%98_%EC%98%88%EC%99%B8%EC%B2%98%EB%A6%AC.ipynb\" target=\"_parent\"><img src=\"https://colab.research.google.com/assets/colab-badge.svg\" alt=\"Open In Colab\"/></a>"
      ]
    },
    {
      "cell_type": "markdown",
      "source": [
        "# **1. 예외(Exception)**\n",
        "예외(Exception)는 프로그램 실행 중 발생할 수 있는 예상치 못한 문제 또는 오류 상황을 의미합니다. 예외가 발생하면 프로그램은 중단되기 때문에 이를 적절하게 처리하여 중단을 방지하거나 오류에 대한 정보를 사용자에게 제공해야 합니다."
      ],
      "metadata": {
        "id": "mC29jmOm98jE"
      }
    },
    {
      "cell_type": "code",
      "source": [
        "print(10 / 3)\n",
        "# print(5 / 0)  # ZeroDivisionError: division by zero -> 0으로 나눌 수 없습니다. 라는 의미\n",
        "print(4 / 2)"
      ],
      "metadata": {
        "colab": {
          "base_uri": "https://localhost:8080/"
        },
        "id": "vps3cRcL-Gqv",
        "outputId": "dcba2ee3-4de6-4880-afb3-9757d6697a73"
      },
      "execution_count": 3,
      "outputs": [
        {
          "output_type": "stream",
          "name": "stdout",
          "text": [
            "3.3333333333333335\n",
            "2.0\n"
          ]
        }
      ]
    },
    {
      "cell_type": "markdown",
      "source": [
        "# **2. 예외처리 기본 구조**\n",
        "```\n",
        "try:\n",
        "    # 예외가 발생할 가능성이 있는 코드\n",
        "    \n",
        "except ExceptionType1:  # 'ExceptionType1'에는 실제 예외 유형이 들어갑니다.\n",
        "    # ExceptionType1 예외가 발생했을 때 실행될 코드\n",
        "    \n",
        "except ExceptionType2:  # 'ExceptionType2'에는 다른 예외 유형이 들어갑니다.\n",
        "    # ExceptionType2 예외가 발생했을 때 실행될 코드\n",
        "    \n",
        "# 추가적인 except 블록을 계속 추가할 수 있습니다.\n",
        "\n",
        "else:\n",
        "    # try 블록에서 예외가 발생하지 않았을 때 실행될 코드\n",
        "    \n",
        "finally:\n",
        "    # 예외 발생 여부와 관계없이 항상 실행될 코드\n",
        "```"
      ],
      "metadata": {
        "id": "cWxGNR2I-Gnz"
      }
    },
    {
      "cell_type": "code",
      "source": [
        "try :\n",
        "  print(10 / 3)\n",
        "  print(5 / 0)\n",
        "  print(4 / 2)\n",
        "except ZeroDivisionError :\n",
        "  print('0은 나눌 수 없습니다')\n",
        "print('프로그램을 종료합니다')  # try except로 인해 정상 종료가 되었기 때문에 실행된다."
      ],
      "metadata": {
        "colab": {
          "base_uri": "https://localhost:8080/"
        },
        "id": "n4P9F_RY-Gk5",
        "outputId": "91aeb2cd-0af1-4b9e-add6-d2e8a0f5ff8c"
      },
      "execution_count": 6,
      "outputs": [
        {
          "output_type": "stream",
          "name": "stdout",
          "text": [
            "3.3333333333333335\n",
            "0은 나눌 수 없습니다\n",
            "프로그램을 종료합니다\n"
          ]
        }
      ]
    },
    {
      "cell_type": "code",
      "source": [
        "try :\n",
        "  print(10 / 3)\n",
        "  print(5 / 0)\n",
        "  print(4 / 2)\n",
        "except :  # 이름을 쓰지 않으면 '에러가 날 경우' 즉, 모든 에러를 아래로 처리하겠다.\n",
        "  print('0은 나눌 수 없습니다')\n",
        "print('프로그램을 종료합니다')"
      ],
      "metadata": {
        "colab": {
          "base_uri": "https://localhost:8080/"
        },
        "id": "-wnD5Mwq-GiH",
        "outputId": "5c12ca07-09fd-40d6-d6d4-a08f6aea2d99"
      },
      "execution_count": 7,
      "outputs": [
        {
          "output_type": "stream",
          "name": "stdout",
          "text": [
            "3.3333333333333335\n",
            "0은 나눌 수 없습니다\n",
            "프로그램을 종료합니다\n"
          ]
        }
      ]
    },
    {
      "cell_type": "markdown",
      "source": [
        "### 문제1\n"
      ],
      "metadata": {
        "id": "gMLFTCCV-GfD"
      }
    },
    {
      "cell_type": "code",
      "source": [],
      "metadata": {
        "id": "h4KHU9AP-Gc1"
      },
      "execution_count": null,
      "outputs": []
    },
    {
      "cell_type": "code",
      "source": [],
      "metadata": {
        "id": "kf4hwEiz-Gaf"
      },
      "execution_count": null,
      "outputs": []
    },
    {
      "cell_type": "code",
      "source": [],
      "metadata": {
        "id": "_7xzqLrt-GX9"
      },
      "execution_count": null,
      "outputs": []
    },
    {
      "cell_type": "code",
      "source": [],
      "metadata": {
        "id": "kybUhlc3-GVo"
      },
      "execution_count": null,
      "outputs": []
    },
    {
      "cell_type": "code",
      "source": [],
      "metadata": {
        "id": "kFI8VRJ7-GS3"
      },
      "execution_count": null,
      "outputs": []
    },
    {
      "cell_type": "code",
      "source": [],
      "metadata": {
        "id": "RV-kjBV--GQX"
      },
      "execution_count": null,
      "outputs": []
    },
    {
      "cell_type": "code",
      "source": [],
      "metadata": {
        "id": "sPXkidH3-GN_"
      },
      "execution_count": null,
      "outputs": []
    },
    {
      "cell_type": "code",
      "source": [],
      "metadata": {
        "id": "OrD0vLZl-GLP"
      },
      "execution_count": null,
      "outputs": []
    },
    {
      "cell_type": "code",
      "source": [],
      "metadata": {
        "id": "AsMDElCd-F3R"
      },
      "execution_count": null,
      "outputs": []
    }
  ]
}