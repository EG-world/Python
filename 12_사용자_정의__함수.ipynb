{
  "nbformat": 4,
  "nbformat_minor": 0,
  "metadata": {
    "colab": {
      "provenance": [],
      "authorship_tag": "ABX9TyM2wJT1xdNg064sVk0uZjwE",
      "include_colab_link": true
    },
    "kernelspec": {
      "name": "python3",
      "display_name": "Python 3"
    },
    "language_info": {
      "name": "python"
    }
  },
  "cells": [
    {
      "cell_type": "markdown",
      "metadata": {
        "id": "view-in-github",
        "colab_type": "text"
      },
      "source": [
        "<a href=\"https://colab.research.google.com/github/EG-world/Python/blob/main/12_%EC%82%AC%EC%9A%A9%EC%9E%90_%EC%A0%95%EC%9D%98__%ED%95%A8%EC%88%98.ipynb\" target=\"_parent\"><img src=\"https://colab.research.google.com/assets/colab-badge.svg\" alt=\"Open In Colab\"/></a>"
      ]
    },
    {
      "cell_type": "markdown",
      "source": [
        "# **1. 함수**\n",
        "- 변수 x, y에 대해 x값이 정해지면 그에 따라 y값을 결정하는 것\n",
        "- 반복적으로 사용되는 가치있는 부분을 묶어서 하나의 집합으로 만듦\n",
        "- 코드를 재활용하기 위한 목적"
      ],
      "metadata": {
        "id": "P7CT47_hJIec"
      }
    },
    {
      "cell_type": "markdown",
      "source": [
        "### 1-1.이름만 있는 함수\n",
        "\n",
        "```\n",
        "def 함수명() :\n",
        "    함수가 호출되면 실행할 문장\n",
        "    ...\n",
        "```\n",
        "```\n",
        "함수명() #호출\n",
        "```"
      ],
      "metadata": {
        "id": "mRZ9E7EmK_G3"
      }
    },
    {
      "cell_type": "code",
      "source": [
        "def func1() :\n",
        "  print('1.처음 만드는 함수')\n",
        "  print('2.처음 만드는 함수')\n"
      ],
      "metadata": {
        "id": "ntA7PCSwLpPQ"
      },
      "execution_count": null,
      "outputs": []
    },
    {
      "cell_type": "code",
      "source": [
        "func1()"
      ],
      "metadata": {
        "colab": {
          "base_uri": "https://localhost:8080/"
        },
        "id": "2tqwU3ADMW8r",
        "outputId": "e5e8fdce-3e18-4862-f6be-8dea913e3cb6"
      },
      "execution_count": null,
      "outputs": [
        {
          "output_type": "stream",
          "name": "stdout",
          "text": [
            "1.처음 만드는 함수\n",
            "2.처음 만드는 함수\n"
          ]
        }
      ]
    },
    {
      "cell_type": "code",
      "source": [
        "for i in range(5):\n",
        "  func1()"
      ],
      "metadata": {
        "colab": {
          "base_uri": "https://localhost:8080/"
        },
        "id": "OD4MfpoFMjpI",
        "outputId": "92c3aeeb-ad5c-4df7-d668-267931861ffc"
      },
      "execution_count": null,
      "outputs": [
        {
          "output_type": "stream",
          "name": "stdout",
          "text": [
            "1.처음 만드는 함수\n",
            "2.처음 만드는 함수\n",
            "1.처음 만드는 함수\n",
            "2.처음 만드는 함수\n",
            "1.처음 만드는 함수\n",
            "2.처음 만드는 함수\n",
            "1.처음 만드는 함수\n",
            "2.처음 만드는 함수\n",
            "1.처음 만드는 함수\n",
            "2.처음 만드는 함수\n"
          ]
        }
      ]
    },
    {
      "cell_type": "markdown",
      "source": [
        "### 1-2.매개변수(parameter)가 있는 함수\n",
        "\n",
        "```\n",
        "def 함수명(변수1, 변수2, ...) :\n",
        "    함수가 호출되면 실행할 문장\n",
        "    ...\n",
        "```\n",
        "```\n",
        "함수명(값1, 값2, ...) #호출\n",
        "```"
      ],
      "metadata": {
        "id": "G2-URWJaMr5B"
      }
    },
    {
      "cell_type": "code",
      "source": [
        "# func2(10) 이 형태로 호출이 되었다면\n",
        "# num = 10 이 실행된 이후\n",
        "# 함수 내에 선언되어 있는 코드가 실행이 된다.\n",
        "def func2(num) :\n",
        "  print(f'매개변수로 넘어 온 값은 : {num}')"
      ],
      "metadata": {
        "id": "ZaP2wV35NBRc"
      },
      "execution_count": null,
      "outputs": []
    },
    {
      "cell_type": "code",
      "source": [
        "func2(10)\n",
        "func2(20)\n",
        "func2(30)\n",
        "func2(40)\n",
        "\n",
        "# 변수의 범위, 스코프\n",
        "# print(num)  # 매개변수는 지역변수라서 해당 영역 내에서만 사용 가능."
      ],
      "metadata": {
        "colab": {
          "base_uri": "https://localhost:8080/"
        },
        "id": "PzDX80tfNR0K",
        "outputId": "db5cfd0e-7d93-4dfa-96d2-1bf19e59d8e5"
      },
      "execution_count": null,
      "outputs": [
        {
          "output_type": "stream",
          "name": "stdout",
          "text": [
            "매개변수로 넘어 온 값은 : 10\n",
            "매개변수로 넘어 온 값은 : 20\n",
            "매개변수로 넘어 온 값은 : 30\n",
            "매개변수로 넘어 온 값은 : 40\n"
          ]
        }
      ]
    },
    {
      "cell_type": "code",
      "source": [
        "# func2() # 내가 만든 func2()함수는 매개변수를 1개를 설정하였기 때문에 매개변수가 없으면 오류\n",
        "# 오류가 발생하지 않는 경우도 있다. 그건 밑에 디폴트 매개변수 참고!"
      ],
      "metadata": {
        "id": "FeD0UEMRNTv_"
      },
      "execution_count": null,
      "outputs": []
    },
    {
      "cell_type": "code",
      "source": [
        "# 두 정수를 매개변수로 받아서\n",
        "# start 부터 end 까지 정수의 합을 구하는 함수\n",
        "\n",
        "def addAll(start, end) :\n",
        "  sum = 0\n",
        "  for i in range(start, end+1) :\n",
        "    sum += i\n",
        "  print(f'{start}부터 {end}까지의 합은 {sum}입니다.')"
      ],
      "metadata": {
        "id": "_irNXF8WOUWD"
      },
      "execution_count": null,
      "outputs": []
    },
    {
      "cell_type": "code",
      "source": [
        "addAll(1,100)"
      ],
      "metadata": {
        "colab": {
          "base_uri": "https://localhost:8080/"
        },
        "id": "U_m28sYdO82V",
        "outputId": "ad851486-cc18-41d6-b311-f7081f9080ef"
      },
      "execution_count": null,
      "outputs": [
        {
          "output_type": "stream",
          "name": "stdout",
          "text": [
            "1부터 100까지의 합은 5050입니다.\n"
          ]
        }
      ]
    },
    {
      "cell_type": "code",
      "source": [
        "# 매개변수는 기본적으로 작성해준 순서대로 들어가게 된다.\n",
        "# 단, 순서대로 넣고싶지 않다면 매개변수 명을 명시해준다.\n",
        "addAll(end = 100, start = 1)"
      ],
      "metadata": {
        "colab": {
          "base_uri": "https://localhost:8080/"
        },
        "id": "nBF9jJESPGR_",
        "outputId": "037b9768-09c5-4c99-eec7-537a315ebb8e"
      },
      "execution_count": null,
      "outputs": [
        {
          "output_type": "stream",
          "name": "stdout",
          "text": [
            "1부터 100까지의 합은 5050입니다.\n"
          ]
        }
      ]
    },
    {
      "cell_type": "markdown",
      "source": [
        "### 1-3.리턴값이 있는 함수\n",
        "\n",
        "```\n",
        "def 함수명(변수1, 변수2, ...) :\n",
        "    함수가 호출되면 실행할 문장\n",
        "    ...\n",
        "    return 값\n",
        "```\n",
        "```\n",
        "변수 = 함수명(값1, 값2, ...) #호출\n",
        "변수 = 함수명() #에러\n",
        "```"
      ],
      "metadata": {
        "id": "-fPT53GrPSkJ"
      }
    },
    {
      "cell_type": "code",
      "source": [
        "# 리턴이 있는 함수는!\n",
        "# 함수가 호출된 부분 전체를 리번 값으로 볼 줄 알아야한다.\n",
        "def printMind():\n",
        "  return '설날이 빨리 됐음 좋겠다'\n",
        "\n",
        "Temp = printMind()\n",
        "print(Temp)"
      ],
      "metadata": {
        "colab": {
          "base_uri": "https://localhost:8080/"
        },
        "id": "-CCJ7ozEQN_R",
        "outputId": "b3d5704a-90d4-4d56-8e95-c39373cabf69"
      },
      "execution_count": null,
      "outputs": [
        {
          "output_type": "stream",
          "name": "stdout",
          "text": [
            "설날이 빨리 됐음 좋겠다\n"
          ]
        }
      ]
    },
    {
      "cell_type": "code",
      "source": [
        "# start에서 end까지 정수의 합을 리턴\n",
        "def addAll_re(start, end) :\n",
        "  sum = 0\n",
        "  for i in range(start, end+1) :\n",
        "    sum += i\n",
        "  return sum"
      ],
      "metadata": {
        "id": "PJ2jAZ4DRDVO"
      },
      "execution_count": null,
      "outputs": []
    },
    {
      "cell_type": "code",
      "source": [
        "start, end = map(int,input('시작과 끝을 스페이스바로 구분>> ').split(' '))\n",
        "\n",
        "result = addAll_re(start, end)\n",
        "print(f'{start}부터 {end}까지의 총 합은 {result}입니다.')"
      ],
      "metadata": {
        "colab": {
          "base_uri": "https://localhost:8080/"
        },
        "id": "DFDfy3rdRUKY",
        "outputId": "9d59e469-36d8-45ef-fb9a-86aec6d9b2f8"
      },
      "execution_count": null,
      "outputs": [
        {
          "name": "stdout",
          "output_type": "stream",
          "text": [
            "시작과 끝을 스페이스바로 구분>> 1 100\n"
          ]
        },
        {
          "output_type": "execute_result",
          "data": {
            "text/plain": [
              "5060"
            ]
          },
          "metadata": {},
          "execution_count": 29
        }
      ]
    },
    {
      "cell_type": "markdown",
      "source": [
        "### 1-4. 디폴트 매개변수\n",
        "```\n",
        "def 함수명(변수1=디폴트값, 변수2=디폴트값, ...):\n",
        "    함수가 호출되면 실행할 문장\n",
        "    ...\n",
        "    return 값\n",
        "```\n",
        "```\n",
        "변수 = 함수명(값1, 값2, ...) # 호출\n",
        "변수 = 함수명() # 호출 (에러가 나지 않는다.)\n",
        "```"
      ],
      "metadata": {
        "id": "e6DViQP2R3nw"
      }
    },
    {
      "cell_type": "code",
      "source": [
        "# 디폴트 매개변수를 사용하지 않은 함수\n",
        "def multiple(num1,num2):\n",
        "  return num1 * num2"
      ],
      "metadata": {
        "id": "4xAFAGIhSkd5"
      },
      "execution_count": null,
      "outputs": []
    },
    {
      "cell_type": "code",
      "source": [
        "print(multiple(4,9))\n",
        "\n",
        "# 매개변수가 무조건 초기화가 되어야 실행이 가능하다."
      ],
      "metadata": {
        "colab": {
          "base_uri": "https://localhost:8080/"
        },
        "id": "V1I-c3AASzBM",
        "outputId": "45192eff-0138-465c-8e40-de16bfb961cc"
      },
      "execution_count": null,
      "outputs": [
        {
          "output_type": "stream",
          "name": "stdout",
          "text": [
            "36\n"
          ]
        }
      ]
    },
    {
      "cell_type": "code",
      "source": [
        "def multiple_de(num1=4, num2=3):\n",
        "  return num1 * num2"
      ],
      "metadata": {
        "id": "bJn2ASkdS6Y0"
      },
      "execution_count": null,
      "outputs": []
    },
    {
      "cell_type": "code",
      "source": [
        "# 에러가 나지 않고 디폴트로 초기화 해준 값이 들어간다.\n",
        "print(multiple_de())"
      ],
      "metadata": {
        "colab": {
          "base_uri": "https://localhost:8080/"
        },
        "id": "H11ApX20TMYs",
        "outputId": "0226d6be-4c9c-41ff-fd2f-339d23eaf979"
      },
      "execution_count": null,
      "outputs": [
        {
          "output_type": "stream",
          "name": "stdout",
          "text": [
            "12\n"
          ]
        }
      ]
    },
    {
      "cell_type": "code",
      "source": [
        "# 여러가지 테스트\n",
        "def multiple_de1(num1, num2=3):\n",
        "  return num1 * num2"
      ],
      "metadata": {
        "id": "LYa-8_YkTaD2"
      },
      "execution_count": null,
      "outputs": []
    },
    {
      "cell_type": "code",
      "source": [
        "print(multiple_de1(8))        # 스크립트나 프로그램에서 중간 결과를 확인하거나 사용자에게 정보를 보여주기 위해 print함수를 사용하는게 일반적이다."
      ],
      "metadata": {
        "colab": {
          "base_uri": "https://localhost:8080/"
        },
        "id": "WLLyuW6wTgZv",
        "outputId": "11801e6d-738d-4852-f08e-9e6908029407"
      },
      "execution_count": null,
      "outputs": [
        {
          "output_type": "stream",
          "name": "stdout",
          "text": [
            "24\n"
          ]
        }
      ]
    },
    {
      "cell_type": "code",
      "source": [
        "# 여러가지 테스트\n",
        "# def multiple_de2(num1=3, num2):       # 디폴트 값을 정해놓은 위치 이후에 다른 변수들은 전부 디폴트 값이 존재해야한다.\n",
        "#   return num1 * num2"
      ],
      "metadata": {
        "id": "2vAEzjPKTl3O"
      },
      "execution_count": null,
      "outputs": []
    },
    {
      "cell_type": "markdown",
      "source": [
        "### 1-5.매개변수의 개수가 가변적인 함수\n",
        "```\n",
        "def 함수명(*변수):\n",
        "    함수가 호출되면 실행할 문장\n",
        "    ...\n",
        "    return 값\n",
        "```\n",
        "```\n",
        "변수 = 함수명(값1, 값2, ...) # 호출\n",
        "변수 = 함수명() # 호출\n",
        "```"
      ],
      "metadata": {
        "id": "99UzUZ0RTreo"
      }
    },
    {
      "cell_type": "code",
      "source": [
        "def add(*args):         # 가변적인 함수 : 값을 많이 넣어도 해결 OKAY\n",
        "  print(args)\n",
        "  sum = 0\n",
        "  for i in args:\n",
        "    sum += i\n",
        "  return sum"
      ],
      "metadata": {
        "id": "0UWt_JwEZQTR"
      },
      "execution_count": null,
      "outputs": []
    },
    {
      "cell_type": "code",
      "source": [
        "print(add(10,20,30))"
      ],
      "metadata": {
        "colab": {
          "base_uri": "https://localhost:8080/"
        },
        "id": "ZMUj2GEyZh18",
        "outputId": "f2ed2c40-2a1d-43dc-be48-2a2b471b6433"
      },
      "execution_count": null,
      "outputs": [
        {
          "output_type": "stream",
          "name": "stdout",
          "text": [
            "(10, 20, 30)\n",
            "60\n"
          ]
        }
      ]
    },
    {
      "cell_type": "code",
      "source": [
        "# 리스트 타입의 값을 넘겨서 실행!\n",
        "def add(nums):\n",
        "  sum = 0\n",
        "  for i in nums:\n",
        "    sum += i\n",
        "  return sum,nums"
      ],
      "metadata": {
        "id": "h_MvyVVJZ0S8"
      },
      "execution_count": null,
      "outputs": []
    },
    {
      "cell_type": "code",
      "source": [
        "add([10,20,30,40])\n"
      ],
      "metadata": {
        "colab": {
          "base_uri": "https://localhost:8080/"
        },
        "id": "k1FrGyI4Z8oP",
        "outputId": "6ca1ed19-772d-4fac-9668-87d0e51dd3f0"
      },
      "execution_count": null,
      "outputs": [
        {
          "output_type": "execute_result",
          "data": {
            "text/plain": [
              "(100, [10, 20, 30, 40])"
            ]
          },
          "metadata": {},
          "execution_count": 66
        }
      ]
    },
    {
      "cell_type": "markdown",
      "source": [
        "### 1-6.매개변수를 딕셔너리 구조로 전달받는 함수\n",
        "```\n",
        "def 함수명(**변수):\n",
        "    함수가 호출되면 실행할 문장\n",
        "    ...\n",
        "    return 값\n",
        "```\n",
        "```\n",
        "변수 = 함수명(키1=값1, 키2=값2, ...) # 호출\n",
        "```"
      ],
      "metadata": {
        "id": "pq8L3X3QagUA"
      }
    },
    {
      "cell_type": "code",
      "source": [
        "def func1(**args):\n",
        "  print(args)\n",
        "  print(type(args))"
      ],
      "metadata": {
        "id": "CliONCOhatmI"
      },
      "execution_count": null,
      "outputs": []
    },
    {
      "cell_type": "code",
      "source": [
        "func1(user_id = 'dldbwls', name = '이유진', age = 25)"
      ],
      "metadata": {
        "colab": {
          "base_uri": "https://localhost:8080/"
        },
        "id": "6TGP4I3kbA3t",
        "outputId": "3308efc1-4453-4fe7-9811-7d77df625b98"
      },
      "execution_count": null,
      "outputs": [
        {
          "output_type": "stream",
          "name": "stdout",
          "text": [
            "{'user_id': 'dldbwls', 'name': '이유진', 'age': 25}\n",
            "<class 'dict'>\n"
          ]
        }
      ]
    },
    {
      "cell_type": "markdown",
      "source": [
        "### 1-7.리턴값이 여러개인 함수\n",
        "```\n",
        "def 함수명(변수1, 변수2, ...):\n",
        "    함수가 호출되면 실행할 문장\n",
        "    ...\n",
        "    return 값1, 값2, ...\n",
        "```\n",
        "```\n",
        "변수1, 변수2, ... = 함수명(값1, 값2, ...) # 호출\n",
        "```"
      ],
      "metadata": {
        "id": "IasaZpGYb59O"
      }
    },
    {
      "cell_type": "code",
      "source": [
        "def getResult(num1, num2):\n",
        "  return num1+num2, num1-num2, num1*num2, num1/num2\n"
      ],
      "metadata": {
        "id": "wsOWjFnJclF4"
      },
      "execution_count": null,
      "outputs": []
    },
    {
      "cell_type": "code",
      "source": [
        "# 여러 값을 리턴하면 그 값들이 튜플에 묶여 리턴된다.\n",
        "getResult(5,7)"
      ],
      "metadata": {
        "colab": {
          "base_uri": "https://localhost:8080/"
        },
        "id": "C6WmXccuc5aw",
        "outputId": "5a3da493-3acc-42cd-e02d-81dfc3f05566"
      },
      "execution_count": null,
      "outputs": [
        {
          "output_type": "execute_result",
          "data": {
            "text/plain": [
              "(12, -2, 35, 0.7142857142857143)"
            ]
          },
          "metadata": {},
          "execution_count": 75
        }
      ]
    },
    {
      "cell_type": "code",
      "source": [
        "# 튜플의 원소를 각각 저장\n",
        "plus, minus, multiple, divide = getResult(5,7)\n",
        "print(plus)\n",
        "print(minus)\n",
        "print(multiple)\n",
        "print(divide)"
      ],
      "metadata": {
        "colab": {
          "base_uri": "https://localhost:8080/"
        },
        "id": "-yFwcsQpdKah",
        "outputId": "bab5d5cb-39cd-4545-ac5f-8426ab3093a0"
      },
      "execution_count": null,
      "outputs": [
        {
          "output_type": "stream",
          "name": "stdout",
          "text": [
            "12\n",
            "-2\n",
            "35\n",
            "0.7142857142857143\n"
          ]
        }
      ]
    },
    {
      "cell_type": "code",
      "source": [
        "# 내가 사용하고 싶은 친구만 저장!\n",
        "_, _, temp, _ = getResult(4,9)        # 물론 다른 값도 변수를 줄 수 있지만 굳이 사용하지 않는다면 _를 사용해 메모리 낭비가 되지 않게 하기 위함!\n",
        "print(temp)"
      ],
      "metadata": {
        "colab": {
          "base_uri": "https://localhost:8080/"
        },
        "id": "O_gjw6p7dWOG",
        "outputId": "7651d37c-4a25-45dc-b07e-560c4da446d5"
      },
      "execution_count": null,
      "outputs": [
        {
          "output_type": "stream",
          "name": "stdout",
          "text": [
            "36\n"
          ]
        }
      ]
    },
    {
      "cell_type": "markdown",
      "source": [
        "### 문제\n",
        "- 700원 짜리 음료수를 뽑을 수 있는 자판기 프로그램을 구현해보자.\n",
        "- 매개변수로 금액을 입력!\n",
        "- 아래 텍스트가 나오도록 구현.\n",
        "- 출력 예시\n",
        "```\n",
        "vending_machine(3000) #호출\n",
        "실행결과\n",
        "음료수 = 0개, 잔돈 = 3000원\n",
        "음료수 = 1개, 잔돈 = 2300원\n",
        "음료수 = 2개, 잔돈 = 1600원\n",
        "음료수 = 3개, 잔돈 = 900원\n",
        "음료수 = 3개, 잔돈 = 200원\n",
        "```"
      ],
      "metadata": {
        "id": "3NajrhAIeahw"
      }
    },
    {
      "cell_type": "code",
      "source": [
        "def vending_machine(money):\n",
        "  price = 700\n",
        "  count = money // price\n",
        "  for i in range(count+1):\n",
        "    change = money - price *i\n",
        "    print(f'음료수 {i:2d}개, 잔돈 = {change:5d}원')\n"
      ],
      "metadata": {
        "id": "YXzaAzl5eu7V"
      },
      "execution_count": null,
      "outputs": []
    },
    {
      "cell_type": "code",
      "source": [
        "vending_machine(3000)"
      ],
      "metadata": {
        "colab": {
          "base_uri": "https://localhost:8080/"
        },
        "id": "ewUnJjBXfhCZ",
        "outputId": "5bb5b610-26b7-44e5-afb1-10c424430bce"
      },
      "execution_count": null,
      "outputs": [
        {
          "output_type": "stream",
          "name": "stdout",
          "text": [
            "음료수  0개, 잔돈 =  3000원\n",
            "음료수  1개, 잔돈 =  2300원\n",
            "음료수  2개, 잔돈 =  1600원\n",
            "음료수  3개, 잔돈 =   900원\n",
            "음료수  4개, 잔돈 =   200원\n"
          ]
        }
      ]
    },
    {
      "cell_type": "code",
      "source": [
        "def vending_machine_w(money):\n",
        "  drink = 0\n",
        "  price = 700\n",
        "  while(money > 0):\n",
        "    print(f'음료수 = {drink:2d}개, 잔돈 = {money:4d}원')\n",
        "    drink += 1\n",
        "    money -= price"
      ],
      "metadata": {
        "id": "04jyXF6hiEDF"
      },
      "execution_count": null,
      "outputs": []
    },
    {
      "cell_type": "code",
      "source": [],
      "metadata": {
        "id": "Y39h8k40krdp"
      },
      "execution_count": null,
      "outputs": []
    },
    {
      "cell_type": "code",
      "source": [
        "vending_machine_w(3000)"
      ],
      "metadata": {
        "colab": {
          "base_uri": "https://localhost:8080/"
        },
        "id": "U4jt579mjWYl",
        "outputId": "973177c2-fe76-4ffc-f93e-057d47dfedf6"
      },
      "execution_count": null,
      "outputs": [
        {
          "output_type": "stream",
          "name": "stdout",
          "text": [
            "음료수 =  0개, 잔돈 = 3000원\n",
            "음료수 =  1개, 잔돈 = 2300원\n",
            "음료수 =  2개, 잔돈 = 1600원\n",
            "음료수 =  3개, 잔돈 =  900원\n",
            "음료수 =  4개, 잔돈 =  200원\n"
          ]
        }
      ]
    },
    {
      "cell_type": "code",
      "source": [],
      "metadata": {
        "id": "NtfWkKtSkklj"
      },
      "execution_count": null,
      "outputs": []
    }
  ]
}