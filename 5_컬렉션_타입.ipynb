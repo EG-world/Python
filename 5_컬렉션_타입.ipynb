{
  "nbformat": 4,
  "nbformat_minor": 0,
  "metadata": {
    "colab": {
      "provenance": [],
      "authorship_tag": "ABX9TyORrQhP1Od9wpSs9oCC9J1S",
      "include_colab_link": true
    },
    "kernelspec": {
      "name": "python3",
      "display_name": "Python 3"
    },
    "language_info": {
      "name": "python"
    }
  },
  "cells": [
    {
      "cell_type": "markdown",
      "metadata": {
        "id": "view-in-github",
        "colab_type": "text"
      },
      "source": [
        "<a href=\"https://colab.research.google.com/github/EG-world/Python/blob/main/5_%EC%BB%AC%EB%A0%89%EC%85%98_%ED%83%80%EC%9E%85.ipynb\" target=\"_parent\"><img src=\"https://colab.research.google.com/assets/colab-badge.svg\" alt=\"Open In Colab\"/></a>"
      ]
    },
    {
      "cell_type": "markdown",
      "source": [
        "# **1. 컬렉션 타입**\n",
        "여러 개의 데이터 항목을 하나의 단위로 관리할 수 있게 해주는 데이터 구조를 의미합니다. 이것은 여러 개의 데이터를 하나의 변수에 저장하고, 관리할 수 있게 해줍니다. 파이썬에서는 리스트, 튜플, 세트, 딕셔너리 등이 기본적인 컬렉션 타입에 속합니다."
      ],
      "metadata": {
        "id": "zu5ytTngbpob"
      }
    },
    {
      "cell_type": "markdown",
      "source": [
        "# **2. List**\n",
        "여러 값들을 하나의 변수에 저장하고 관리할 수 있게 해주는 순차적인 자료구조입니다."
      ],
      "metadata": {
        "id": "oYKp2-ulcGJc"
      }
    },
    {
      "cell_type": "code",
      "source": [
        "li1 = ['일', 1, 1.0, True]\n",
        "print(li1)\n",
        "print(type(li1))"
      ],
      "metadata": {
        "colab": {
          "base_uri": "https://localhost:8080/"
        },
        "id": "HYdwazMBcK_F",
        "outputId": "8416ff8e-6d60-43b3-d8da-a45e6c495888"
      },
      "execution_count": 2,
      "outputs": [
        {
          "output_type": "stream",
          "name": "stdout",
          "text": [
            "['일', 1, 1.0, True]\n",
            "<class 'list'>\n"
          ]
        }
      ]
    },
    {
      "cell_type": "code",
      "source": [
        "li2 = list([1,3,5,7,9])\n",
        "print(li2)\n",
        "print(type(li2))"
      ],
      "metadata": {
        "colab": {
          "base_uri": "https://localhost:8080/"
        },
        "id": "TFFPM8KvfcyU",
        "outputId": "8b1e7f26-9f97-46ba-bd96-67aeac054058"
      },
      "execution_count": 3,
      "outputs": [
        {
          "output_type": "stream",
          "name": "stdout",
          "text": [
            "[1, 3, 5, 7, 9]\n",
            "<class 'list'>\n"
          ]
        }
      ]
    },
    {
      "cell_type": "code",
      "source": [
        "li3 = ['김사과', '반하나', '오렌지', '이메론']\n",
        "print(li3)"
      ],
      "metadata": {
        "colab": {
          "base_uri": "https://localhost:8080/"
        },
        "id": "rE9J_T1FfcvO",
        "outputId": "966c160a-6571-4820-e2e8-4ae73c696be2"
      },
      "execution_count": 4,
      "outputs": [
        {
          "output_type": "stream",
          "name": "stdout",
          "text": [
            "['김사과', '반하나', '오렌지', '이메론']\n"
          ]
        }
      ]
    },
    {
      "cell_type": "code",
      "source": [
        "li4 = ['일', 1, 1.0, True]\n",
        "print(li4)\n",
        "print(type(li4))"
      ],
      "metadata": {
        "colab": {
          "base_uri": "https://localhost:8080/"
        },
        "id": "fEBRpTGyfcsS",
        "outputId": "7164de30-3761-4bc0-b279-66576b76d7a0"
      },
      "execution_count": 5,
      "outputs": [
        {
          "output_type": "stream",
          "name": "stdout",
          "text": [
            "['일', 1, 1.0, True]\n",
            "<class 'list'>\n"
          ]
        }
      ]
    },
    {
      "cell_type": "code",
      "source": [
        "li4[0], li4[1], li4[2], li4[3]\n",
        "# li4[4] # IndexError: list index out of range"
      ],
      "metadata": {
        "colab": {
          "base_uri": "https://localhost:8080/"
        },
        "id": "M-ZBtli8fcoy",
        "outputId": "a2aafbb0-193b-4590-9e94-cc6d50f8282e"
      },
      "execution_count": 8,
      "outputs": [
        {
          "output_type": "execute_result",
          "data": {
            "text/plain": [
              "('일', 1, 1.0, True)"
            ]
          },
          "metadata": {},
          "execution_count": 8
        }
      ]
    },
    {
      "cell_type": "code",
      "source": [
        "for i in range(4):\n",
        "  print(type(li4[i]))"
      ],
      "metadata": {
        "colab": {
          "base_uri": "https://localhost:8080/"
        },
        "id": "G0zqanZwfcl1",
        "outputId": "b5213087-53dc-4bd9-d573-47c7bfac71fc"
      },
      "execution_count": 10,
      "outputs": [
        {
          "output_type": "stream",
          "name": "stdout",
          "text": [
            "<class 'str'>\n",
            "<class 'int'>\n",
            "<class 'float'>\n",
            "<class 'bool'>\n"
          ]
        }
      ]
    },
    {
      "cell_type": "code",
      "source": [
        "li1 = list([1,3,5,7,9])\n",
        "print(li1)\n",
        "print(li1[2])\n",
        "print(li1[-1])\n",
        "print(li1[2]+li1[-1])"
      ],
      "metadata": {
        "colab": {
          "base_uri": "https://localhost:8080/"
        },
        "id": "u7kiY3K9fciV",
        "outputId": "3e6bd598-9608-4312-d918-3c51fd2dbe0e"
      },
      "execution_count": 12,
      "outputs": [
        {
          "output_type": "stream",
          "name": "stdout",
          "text": [
            "[1, 3, 5, 7, 9]\n",
            "5\n",
            "9\n",
            "14\n"
          ]
        }
      ]
    },
    {
      "cell_type": "code",
      "source": [
        "li2 = [1, 2, '파이썬', ['김사과', '오렌지']]\n",
        "print(li2)\n",
        "print(type(li2))\n",
        "print(li2[3])\n",
        "print(type(li2[3]))\n",
        "print(li2[3][1])\n",
        "print(type(li2[3][1]))"
      ],
      "metadata": {
        "colab": {
          "base_uri": "https://localhost:8080/"
        },
        "id": "totigElLfcfY",
        "outputId": "4dfc34bc-1799-429c-deb9-fc0bb65a958c"
      },
      "execution_count": 16,
      "outputs": [
        {
          "output_type": "stream",
          "name": "stdout",
          "text": [
            "[1, 2, '파이썬', ['김사과', '오렌지']]\n",
            "<class 'list'>\n",
            "['김사과', '오렌지']\n",
            "<class 'list'>\n",
            "오렌지\n",
            "<class 'str'>\n"
          ]
        }
      ]
    },
    {
      "cell_type": "code",
      "source": [
        "li3 = [1, 2, 3, ['김사과', '오렌지', '반하나', ['🍔','🍿','🌭']]]\n",
        "print(li3)\n",
        "print(li3[2])\n",
        "print(li3[-1])\n",
        "print(li3[-1][-2])\n",
        "print(li3[-1][-1][-2])"
      ],
      "metadata": {
        "colab": {
          "base_uri": "https://localhost:8080/"
        },
        "id": "HZ7gJyYUfccd",
        "outputId": "508a6036-0d00-4b28-cb9c-9bc5ee66b1c4"
      },
      "execution_count": 18,
      "outputs": [
        {
          "output_type": "stream",
          "name": "stdout",
          "text": [
            "[1, 2, 3, ['김사과', '오렌지', '반하나', ['🍔', '🍿', '🌭']]]\n",
            "3\n",
            "['김사과', '오렌지', '반하나', ['🍔', '🍿', '🌭']]\n",
            "반하나\n",
            "🍿\n"
          ]
        }
      ]
    },
    {
      "cell_type": "code",
      "source": [
        "li1 = [1, 3, 5, 7, 9]\n",
        "print(li1)\n",
        "print(li1[0:3])"
      ],
      "metadata": {
        "colab": {
          "base_uri": "https://localhost:8080/"
        },
        "id": "oklBjh-MfcY8",
        "outputId": "dae52d7e-af66-4bd1-992f-b5e0a444f7f4"
      },
      "execution_count": 19,
      "outputs": [
        {
          "output_type": "stream",
          "name": "stdout",
          "text": [
            "[1, 3, 5, 7, 9]\n",
            "[1, 3, 5]\n"
          ]
        }
      ]
    },
    {
      "cell_type": "code",
      "source": [
        "li2 = li1\n",
        "print(li2)\n",
        "li2[0] = 100\n",
        "print(li2)\n",
        "print(li1)"
      ],
      "metadata": {
        "colab": {
          "base_uri": "https://localhost:8080/"
        },
        "id": "F0RcNgFVfcV_",
        "outputId": "2d2d9d7d-92ba-4036-d5f6-3e2273ed65cd"
      },
      "execution_count": 23,
      "outputs": [
        {
          "output_type": "stream",
          "name": "stdout",
          "text": [
            "[100, 3, 5, 7, 9]\n",
            "[100, 3, 5, 7, 9]\n",
            "[100, 3, 5, 7, 9]\n"
          ]
        }
      ]
    },
    {
      "cell_type": "code",
      "source": [
        "li3 = [1, 2, 3, ['김사과', '오렌지', '반하나', ['🍔','🍿','🌭']]]\n",
        "print(li3[2:3])\n",
        "print(li3[3][:2])"
      ],
      "metadata": {
        "colab": {
          "base_uri": "https://localhost:8080/"
        },
        "id": "N0LKRkkqfcTD",
        "outputId": "3c5e4daf-7d66-45ea-927f-322c3da357af"
      },
      "execution_count": 24,
      "outputs": [
        {
          "output_type": "stream",
          "name": "stdout",
          "text": [
            "[3]\n",
            "['김사과', '오렌지']\n"
          ]
        }
      ]
    },
    {
      "cell_type": "code",
      "source": [
        "li4 = [10, 20, 30, 40, 50]\n",
        "li4[1:2] = ['😁','😀','🤨','😣']\n",
        "print(li4)"
      ],
      "metadata": {
        "colab": {
          "base_uri": "https://localhost:8080/"
        },
        "id": "dfPbLRCNfcQI",
        "outputId": "f8378566-e87f-4a8d-934b-345b36fb89c0"
      },
      "execution_count": 27,
      "outputs": [
        {
          "output_type": "stream",
          "name": "stdout",
          "text": [
            "[10, '😁', '😀', '🤨', '😣', 30, 40, 50]\n"
          ]
        }
      ]
    },
    {
      "cell_type": "code",
      "source": [
        "li4 = [10, 20, 30, 40, 50]\n",
        "# 인덱싱을 이용하여 요소를 추가한 경우 리스트 안에 리스트를 만들고 포함시킨다.\n",
        "li4[1] = ['😁','😀','🤨','😣']\n",
        "print(li4)"
      ],
      "metadata": {
        "colab": {
          "base_uri": "https://localhost:8080/"
        },
        "id": "XfznUny_fcMn",
        "outputId": "f6eeaf1d-ac00-4424-8d24-3e3f9b9d874c"
      },
      "execution_count": 29,
      "outputs": [
        {
          "output_type": "stream",
          "name": "stdout",
          "text": [
            "[10, ['😁', '😀', '🤨', '😣'], 30, 40, 50]\n"
          ]
        }
      ]
    },
    {
      "cell_type": "code",
      "source": [
        "li4 = [10, 20, 30, 40, 50]\n",
        "print(li4[1:3])\n",
        "li4[1:3] = [] # 빈 리스트를 슬라이싱을 통해 저장하면 해당 요소가 삭제가된다.\n",
        "print(li4)"
      ],
      "metadata": {
        "colab": {
          "base_uri": "https://localhost:8080/"
        },
        "id": "bcpBKuqMfcJs",
        "outputId": "946e4266-c382-4011-e5c1-604a0df62ef0"
      },
      "execution_count": 32,
      "outputs": [
        {
          "output_type": "stream",
          "name": "stdout",
          "text": [
            "[20, 30]\n",
            "[10, 40, 50]\n"
          ]
        }
      ]
    },
    {
      "cell_type": "code",
      "source": [
        "li4 = [10, 20, 30, 40, 50]\n",
        "print(li4[1:2])\n",
        "print(li4[1])\n",
        "li4[1] = []\n",
        "print(li4)"
      ],
      "metadata": {
        "colab": {
          "base_uri": "https://localhost:8080/"
        },
        "id": "cB0aFqUwfcGK",
        "outputId": "9df31932-9b3d-4e22-a011-7dd80fb6a3cd"
      },
      "execution_count": 42,
      "outputs": [
        {
          "output_type": "stream",
          "name": "stdout",
          "text": [
            "[20]\n",
            "20\n",
            "[10, [], 30, 40, 50]\n"
          ]
        }
      ]
    },
    {
      "cell_type": "code",
      "source": [
        "li4 = [10, 20, 30, 40, 50]\n",
        "print(li4)\n",
        "del li4[1]\n",
        "print(li4)"
      ],
      "metadata": {
        "colab": {
          "base_uri": "https://localhost:8080/"
        },
        "id": "w15Fjkw7fb8x",
        "outputId": "20069467-cb44-463d-97b0-abc78c874838"
      },
      "execution_count": 43,
      "outputs": [
        {
          "output_type": "stream",
          "name": "stdout",
          "text": [
            "[10, 20, 30, 40, 50]\n",
            "[10, 30, 40, 50]\n"
          ]
        }
      ]
    },
    {
      "cell_type": "code",
      "source": [
        "li5 = [10, 20, 30]\n",
        "li6 = [40, 50 ,60]\n",
        "print(li5 + li6)\n",
        "print(li6 + li5)"
      ],
      "metadata": {
        "colab": {
          "base_uri": "https://localhost:8080/"
        },
        "id": "1IsTz8fNfb5R",
        "outputId": "fae4c144-7b89-45dd-f2e6-ed1bf98caf0a"
      },
      "execution_count": 48,
      "outputs": [
        {
          "output_type": "stream",
          "name": "stdout",
          "text": [
            "[10, 20, 30, 40, 50, 60]\n",
            "[40, 50, 60, 10, 20, 30]\n"
          ]
        }
      ]
    },
    {
      "cell_type": "code",
      "source": [
        "li5 = [10, 20, 30]\n",
        "li6 = li5 + [40, 50 ,60] # [10, 20, 30] + [40, 50, 60]\n",
        "print(li6)\n",
        "\n",
        "li6 = [10, 20, 30]\n",
        "li6 += [40, 50, 60] # li6 = li6 + [40, 50, 60]\n",
        "print(li6)"
      ],
      "metadata": {
        "colab": {
          "base_uri": "https://localhost:8080/"
        },
        "id": "OhjPB2lsfb2V",
        "outputId": "5849f5c3-74d5-483a-8e60-04ec49c07a2b"
      },
      "execution_count": 52,
      "outputs": [
        {
          "output_type": "stream",
          "name": "stdout",
          "text": [
            "[10, 20, 30, 40, 50, 60]\n",
            "[10, 20, 30, 40, 50, 60]\n"
          ]
        }
      ]
    },
    {
      "cell_type": "code",
      "source": [
        "li6 = [10, 20, 30]\n",
        "print(li6 * 3)"
      ],
      "metadata": {
        "colab": {
          "base_uri": "https://localhost:8080/"
        },
        "id": "sAb_GZmHfbzY",
        "outputId": "073f6525-04bb-4e22-fb5b-d6092f9f1b15"
      },
      "execution_count": 53,
      "outputs": [
        {
          "output_type": "stream",
          "name": "stdout",
          "text": [
            "[10, 20, 30, 10, 20, 30, 10, 20, 30]\n"
          ]
        }
      ]
    },
    {
      "cell_type": "markdown",
      "source": [
        "# **3. 리스트의 메서드**"
      ],
      "metadata": {
        "id": "SloPK0k7fbwd"
      }
    },
    {
      "cell_type": "code",
      "source": [
        "# len() : 객체의 길이를 반환하는 파이썬 기본 내장 함수\n",
        "li6 = [10, 20, 30]\n",
        "print(len(li6))"
      ],
      "metadata": {
        "id": "8QONGByWfbs9"
      },
      "execution_count": null,
      "outputs": []
    },
    {
      "cell_type": "code",
      "source": [
        "li6 = [10, 20, 30]\n",
        "print(li6)"
      ],
      "metadata": {
        "id": "3-Dg0B7dfbqA"
      },
      "execution_count": null,
      "outputs": []
    },
    {
      "cell_type": "code",
      "source": [
        "li6 = [10, 20, 30]\n",
        "print(li6)\n",
        "# append() : 리스트 요소의 끝에 새로운 요소를 추가\n",
        "li6.append(100)\n",
        "print(li6)\n",
        "# li6.append(200, 300) # TypeError: list.append() takes exactly one argument (2 given)\n",
        "li6.append([200, 300])\n",
        "print(li6)"
      ],
      "metadata": {
        "colab": {
          "base_uri": "https://localhost:8080/"
        },
        "id": "7UEEywUXfbme",
        "outputId": "27792b25-b663-46e4-f2de-1225e94c174c"
      },
      "execution_count": 63,
      "outputs": [
        {
          "output_type": "stream",
          "name": "stdout",
          "text": [
            "[10, 20, 30]\n",
            "[10, 20, 30, 100]\n",
            "[10, 20, 30, 100, [200, 300]]\n"
          ]
        }
      ]
    },
    {
      "cell_type": "code",
      "source": [
        "li6 = [10, 20, 30]\n",
        "print(li6)\n",
        "# extend() : 리스트 요소의 끝에 새로운 여러 요소를 추가\n",
        "# li6.extend(100) # TypeError: 'int' object is not iterable\n",
        "li6.extend([100])\n",
        "print(li6)"
      ],
      "metadata": {
        "colab": {
          "base_uri": "https://localhost:8080/"
        },
        "id": "XTBWzJoifbkJ",
        "outputId": "ed289949-2b25-4f09-8be3-2667366fcb5d"
      },
      "execution_count": 60,
      "outputs": [
        {
          "output_type": "stream",
          "name": "stdout",
          "text": [
            "[10, 20, 30]\n",
            "[10, 20, 30, 100]\n"
          ]
        }
      ]
    },
    {
      "cell_type": "code",
      "source": [
        "li6 = [10, 20, 30]\n",
        "print(li6)\n",
        "# pop() : 리스트 마지막 요소를 삭제하고 삭제된 요소를 반환\n",
        "print(li6.pop())\n",
        "print(li6)"
      ],
      "metadata": {
        "colab": {
          "base_uri": "https://localhost:8080/"
        },
        "id": "vDvH0liQfbhP",
        "outputId": "dd743333-03fa-4982-ce42-769e37d2329a"
      },
      "execution_count": 61,
      "outputs": [
        {
          "output_type": "stream",
          "name": "stdout",
          "text": [
            "[10, 20, 30]\n",
            "30\n",
            "[10, 20]\n"
          ]
        }
      ]
    },
    {
      "cell_type": "code",
      "source": [
        "li6 = [10, 20, 30]\n",
        "print(li6)\n",
        "# index() : 리스트에서 특정 요소의 값 인덱스를 반환\n",
        "print(li6.index(20))"
      ],
      "metadata": {
        "colab": {
          "base_uri": "https://localhost:8080/"
        },
        "id": "GZ4VAhO7fbeR",
        "outputId": "82d2b6bd-5483-4de2-bf10-9de8d9b951fc"
      },
      "execution_count": 64,
      "outputs": [
        {
          "output_type": "stream",
          "name": "stdout",
          "text": [
            "[10, 20, 30]\n",
            "1\n"
          ]
        }
      ]
    },
    {
      "cell_type": "code",
      "source": [
        "li7 = [100, 50, 70, 60, 20]\n",
        "print(li7)\n",
        "li7.reverse()\n",
        "print(li7)"
      ],
      "metadata": {
        "colab": {
          "base_uri": "https://localhost:8080/"
        },
        "id": "VGacu5qifbax",
        "outputId": "43e33d8f-d6f5-49e3-a4e3-4c8c766c16d9"
      },
      "execution_count": 65,
      "outputs": [
        {
          "output_type": "stream",
          "name": "stdout",
          "text": [
            "[100, 50, 70, 60, 20]\n",
            "[20, 60, 70, 50, 100]\n"
          ]
        }
      ]
    },
    {
      "cell_type": "code",
      "source": [
        "# 슬라이싱을 사용하여 리스트의 요소들의 순서를 반대로 설정하는 방법\n",
        "li7 = [100, 50, 70, 60, 20]\n",
        "print(li7[:]) # [0:5]\n",
        "print(li7[0:5])\n",
        "print(li7[::]) # step 생략 (default = 1)\n",
        "print(li7[0:5:1]) # 따라서 생략한 결과와 같다\n",
        "print(li7[0:5:2]) # step을 2로 설정\n",
        "print(li7[::-1]) # step이 -1일 경우 start 기본값은 -1, stop의 기본값은 0으로 설정\n",
        "print(li7[1::-1])\n",
        "print(li7[:0:-1])"
      ],
      "metadata": {
        "colab": {
          "base_uri": "https://localhost:8080/"
        },
        "id": "hw3j-BGkfauz",
        "outputId": "98f79ec6-cfba-44af-8deb-e0a0bd60bbca"
      },
      "execution_count": 72,
      "outputs": [
        {
          "output_type": "stream",
          "name": "stdout",
          "text": [
            "[100, 50, 70, 60, 20]\n",
            "[100, 50, 70, 60, 20]\n",
            "[100, 50, 70, 60, 20]\n",
            "[100, 50, 70, 60, 20]\n",
            "[100, 70, 20]\n",
            "[20, 60, 70, 50, 100]\n",
            "[50, 100]\n",
            "[20, 60, 70, 50]\n"
          ]
        }
      ]
    },
    {
      "cell_type": "code",
      "source": [
        "li7 = [100, 50, 70, 60, 20]\n",
        "print(li7)\n",
        "# sort() : 리스트의 요소를 오름차순으로 정렬\n",
        "li7.sort()\n",
        "print(li7)\n",
        "# sort(reverse=True) : 리스트의 요소를 내림차순으로 정렬\n",
        "li7.sort(reverse=True)\n",
        "print(li7)"
      ],
      "metadata": {
        "colab": {
          "base_uri": "https://localhost:8080/"
        },
        "id": "uM6CDzFny5vm",
        "outputId": "c363f6e3-8424-4770-99eb-f26b2fca8788"
      },
      "execution_count": 76,
      "outputs": [
        {
          "output_type": "stream",
          "name": "stdout",
          "text": [
            "[100, 50, 70, 60, 20]\n",
            "[20, 50, 60, 70, 100]\n",
            "[100, 70, 60, 50, 20]\n"
          ]
        }
      ]
    },
    {
      "cell_type": "code",
      "source": [
        "li8 = ['Apple', 'apple', 'orange', 'banana', 'melon']\n",
        "li8.sort()\n",
        "print(li8)"
      ],
      "metadata": {
        "colab": {
          "base_uri": "https://localhost:8080/"
        },
        "id": "Lb2eWTSy0qBQ",
        "outputId": "4781d9ee-3ede-4d45-8bb7-ef671ead3252"
      },
      "execution_count": 77,
      "outputs": [
        {
          "output_type": "stream",
          "name": "stdout",
          "text": [
            "['Apple', 'apple', 'banana', 'melon', 'orange']\n"
          ]
        }
      ]
    },
    {
      "cell_type": "code",
      "source": [
        "li9 = ['김사과', '오렌지', '반하나', '이메론', '배애리']\n",
        "li9.sort()\n",
        "print(li9)"
      ],
      "metadata": {
        "colab": {
          "base_uri": "https://localhost:8080/"
        },
        "id": "M7J71Met2gDw",
        "outputId": "b8a2c54f-e4f9-4173-e52b-6f2e091a0db6"
      },
      "execution_count": 79,
      "outputs": [
        {
          "output_type": "stream",
          "name": "stdout",
          "text": [
            "['김사과', '반하나', '배애리', '오렌지', '이메론']\n"
          ]
        }
      ]
    },
    {
      "cell_type": "code",
      "source": [],
      "metadata": {
        "id": "yTs1fYXn2otk"
      },
      "execution_count": null,
      "outputs": []
    }
  ]
}