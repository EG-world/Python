{
  "nbformat": 4,
  "nbformat_minor": 0,
  "metadata": {
    "colab": {
      "provenance": [],
      "authorship_tag": "ABX9TyNAnkp3Zq4GJWmkGRO1JSgN",
      "include_colab_link": true
    },
    "kernelspec": {
      "name": "python3",
      "display_name": "Python 3"
    },
    "language_info": {
      "name": "python"
    }
  },
  "cells": [
    {
      "cell_type": "markdown",
      "metadata": {
        "id": "view-in-github",
        "colab_type": "text"
      },
      "source": [
        "<a href=\"https://colab.research.google.com/github/EG-world/Python/blob/main/5_%EC%BB%AC%EB%A0%89%EC%85%98_%ED%83%80%EC%9E%85.ipynb\" target=\"_parent\"><img src=\"https://colab.research.google.com/assets/colab-badge.svg\" alt=\"Open In Colab\"/></a>"
      ]
    },
    {
      "cell_type": "markdown",
      "source": [
        "# **1. 컬렉션 타입**\n",
        "여러 개의 데이터 항목을 하나의 단위로 관리할 수 있게 해주는 데이터 구조를 의미합니다. 이것은 여러 개의 데이터를 하나의 변수에 저장하고, 관리할 수 있게 해줍니다. 파이썬에서는 리스트, 튜플, 세트, 딕셔너리 등이 기본적인 컬렉션 타입에 속합니다."
      ],
      "metadata": {
        "id": "zu5ytTngbpob"
      }
    },
    {
      "cell_type": "markdown",
      "source": [
        "# **2. List**\n",
        "여러 값들을 하나의 변수에 저장하고 관리할 수 있게 해주는 순차적인 자료구조입니다."
      ],
      "metadata": {
        "id": "oYKp2-ulcGJc"
      }
    },
    {
      "cell_type": "code",
      "source": [
        "li1 = ['일', 1, 1.0, True]\n",
        "print(li1)\n",
        "print(type(li1))"
      ],
      "metadata": {
        "colab": {
          "base_uri": "https://localhost:8080/"
        },
        "id": "HYdwazMBcK_F",
        "outputId": "06d24675-2e31-4c38-bd63-df09b729049a"
      },
      "execution_count": 1,
      "outputs": [
        {
          "output_type": "stream",
          "name": "stdout",
          "text": [
            "['일', 1, 1.0, True]\n",
            "<class 'list'>\n"
          ]
        }
      ]
    },
    {
      "cell_type": "code",
      "source": [
        "li2 = list([1,3,5,7,9])\n",
        "print(li2)\n",
        "print(type(li2))"
      ],
      "metadata": {
        "colab": {
          "base_uri": "https://localhost:8080/"
        },
        "id": "TFFPM8KvfcyU",
        "outputId": "a7b5c51d-b150-4ede-f0b1-55b1e27b96c8"
      },
      "execution_count": 2,
      "outputs": [
        {
          "output_type": "stream",
          "name": "stdout",
          "text": [
            "[1, 3, 5, 7, 9]\n",
            "<class 'list'>\n"
          ]
        }
      ]
    },
    {
      "cell_type": "code",
      "source": [
        "li3 = ['김사과', '반하나', '오렌지', '이메론']\n",
        "print(li3)"
      ],
      "metadata": {
        "colab": {
          "base_uri": "https://localhost:8080/"
        },
        "id": "rE9J_T1FfcvO",
        "outputId": "d20eb648-28cf-4005-c86d-4c04d56fef8d"
      },
      "execution_count": 3,
      "outputs": [
        {
          "output_type": "stream",
          "name": "stdout",
          "text": [
            "['김사과', '반하나', '오렌지', '이메론']\n"
          ]
        }
      ]
    },
    {
      "cell_type": "code",
      "source": [
        "li4 = ['일', 1, 1.0, True]\n",
        "print(li4)\n",
        "print(type(li4))"
      ],
      "metadata": {
        "colab": {
          "base_uri": "https://localhost:8080/"
        },
        "id": "fEBRpTGyfcsS",
        "outputId": "a7addbf9-977d-43b6-c412-86a17d17b62c"
      },
      "execution_count": 4,
      "outputs": [
        {
          "output_type": "stream",
          "name": "stdout",
          "text": [
            "['일', 1, 1.0, True]\n",
            "<class 'list'>\n"
          ]
        }
      ]
    },
    {
      "cell_type": "code",
      "source": [
        "li4[0], li4[1], li4[2], li4[3]\n",
        "# li4[4] # IndexError: list index out of range"
      ],
      "metadata": {
        "colab": {
          "base_uri": "https://localhost:8080/"
        },
        "id": "M-ZBtli8fcoy",
        "outputId": "f4ba06b5-54f9-440b-c821-4e9812d17e3b"
      },
      "execution_count": 5,
      "outputs": [
        {
          "output_type": "execute_result",
          "data": {
            "text/plain": [
              "('일', 1, 1.0, True)"
            ]
          },
          "metadata": {},
          "execution_count": 5
        }
      ]
    },
    {
      "cell_type": "code",
      "source": [
        "for i in range(4):\n",
        "  print(type(li4[i]))"
      ],
      "metadata": {
        "colab": {
          "base_uri": "https://localhost:8080/"
        },
        "id": "G0zqanZwfcl1",
        "outputId": "3d6dad17-c9c9-4e6b-c06e-d4e4afa686c5"
      },
      "execution_count": 6,
      "outputs": [
        {
          "output_type": "stream",
          "name": "stdout",
          "text": [
            "<class 'str'>\n",
            "<class 'int'>\n",
            "<class 'float'>\n",
            "<class 'bool'>\n"
          ]
        }
      ]
    },
    {
      "cell_type": "code",
      "source": [
        "li1 = list([1,3,5,7,9])\n",
        "print(li1)\n",
        "print(li1[2])\n",
        "print(li1[-1])\n",
        "print(li1[2]+li1[-1])"
      ],
      "metadata": {
        "colab": {
          "base_uri": "https://localhost:8080/"
        },
        "id": "u7kiY3K9fciV",
        "outputId": "e9b98571-8791-46eb-9ce1-d7164a2538be"
      },
      "execution_count": 7,
      "outputs": [
        {
          "output_type": "stream",
          "name": "stdout",
          "text": [
            "[1, 3, 5, 7, 9]\n",
            "5\n",
            "9\n",
            "14\n"
          ]
        }
      ]
    },
    {
      "cell_type": "code",
      "source": [
        "li2 = [1, 2, '파이썬', ['김사과', '오렌지']]\n",
        "print(li2)\n",
        "print(type(li2))\n",
        "print(li2[3])\n",
        "print(type(li2[3]))\n",
        "print(li2[3][1])\n",
        "print(type(li2[3][1]))"
      ],
      "metadata": {
        "colab": {
          "base_uri": "https://localhost:8080/"
        },
        "id": "totigElLfcfY",
        "outputId": "2f3108b8-601e-4d6b-9abb-b2b7a626dba1"
      },
      "execution_count": 8,
      "outputs": [
        {
          "output_type": "stream",
          "name": "stdout",
          "text": [
            "[1, 2, '파이썬', ['김사과', '오렌지']]\n",
            "<class 'list'>\n",
            "['김사과', '오렌지']\n",
            "<class 'list'>\n",
            "오렌지\n",
            "<class 'str'>\n"
          ]
        }
      ]
    },
    {
      "cell_type": "code",
      "source": [
        "li3 = [1, 2, 3, ['김사과', '오렌지', '반하나', ['🍔','🍿','🌭']]]\n",
        "print(li3)\n",
        "print(li3[2])\n",
        "print(li3[-1])\n",
        "print(li3[-1][-2])\n",
        "print(li3[-1][-1][-2])"
      ],
      "metadata": {
        "colab": {
          "base_uri": "https://localhost:8080/"
        },
        "id": "HZ7gJyYUfccd",
        "outputId": "8c92ec7e-4bf1-437a-cc59-28bb74d6148f"
      },
      "execution_count": 9,
      "outputs": [
        {
          "output_type": "stream",
          "name": "stdout",
          "text": [
            "[1, 2, 3, ['김사과', '오렌지', '반하나', ['🍔', '🍿', '🌭']]]\n",
            "3\n",
            "['김사과', '오렌지', '반하나', ['🍔', '🍿', '🌭']]\n",
            "반하나\n",
            "🍿\n"
          ]
        }
      ]
    },
    {
      "cell_type": "code",
      "source": [
        "li1 = [1, 3, 5, 7, 9]\n",
        "print(li1)\n",
        "print(li1[0:3])"
      ],
      "metadata": {
        "colab": {
          "base_uri": "https://localhost:8080/"
        },
        "id": "oklBjh-MfcY8",
        "outputId": "233f705c-b045-46d5-dc2d-a43a7c01ff72"
      },
      "execution_count": 10,
      "outputs": [
        {
          "output_type": "stream",
          "name": "stdout",
          "text": [
            "[1, 3, 5, 7, 9]\n",
            "[1, 3, 5]\n"
          ]
        }
      ]
    },
    {
      "cell_type": "code",
      "source": [
        "li2 = li1\n",
        "print(li2)\n",
        "li2[0] = 100\n",
        "print(li2)\n",
        "print(li1)"
      ],
      "metadata": {
        "colab": {
          "base_uri": "https://localhost:8080/"
        },
        "id": "F0RcNgFVfcV_",
        "outputId": "549546b7-0ddc-4431-e8fd-7fb948011906"
      },
      "execution_count": 11,
      "outputs": [
        {
          "output_type": "stream",
          "name": "stdout",
          "text": [
            "[1, 3, 5, 7, 9]\n",
            "[100, 3, 5, 7, 9]\n",
            "[100, 3, 5, 7, 9]\n"
          ]
        }
      ]
    },
    {
      "cell_type": "code",
      "source": [
        "li3 = [1, 2, 3, ['김사과', '오렌지', '반하나', ['🍔','🍿','🌭']]]\n",
        "print(li3[2:3])\n",
        "print(li3[3][:2])"
      ],
      "metadata": {
        "colab": {
          "base_uri": "https://localhost:8080/"
        },
        "id": "N0LKRkkqfcTD",
        "outputId": "b2e41e88-bf5b-4603-b6db-23c564f9c0a5"
      },
      "execution_count": 12,
      "outputs": [
        {
          "output_type": "stream",
          "name": "stdout",
          "text": [
            "[3]\n",
            "['김사과', '오렌지']\n"
          ]
        }
      ]
    },
    {
      "cell_type": "code",
      "source": [
        "li4 = [10, 20, 30, 40, 50]\n",
        "li4[1:2] = ['😁','😀','🤨','😣']\n",
        "print(li4)"
      ],
      "metadata": {
        "colab": {
          "base_uri": "https://localhost:8080/"
        },
        "id": "dfPbLRCNfcQI",
        "outputId": "3cdceb4c-8f40-4278-c96a-7aacd798fd48"
      },
      "execution_count": 13,
      "outputs": [
        {
          "output_type": "stream",
          "name": "stdout",
          "text": [
            "[10, '😁', '😀', '🤨', '😣', 30, 40, 50]\n"
          ]
        }
      ]
    },
    {
      "cell_type": "code",
      "source": [
        "li4 = [10, 20, 30, 40, 50]\n",
        "# 인덱싱을 이용하여 요소를 추가한 경우 리스트 안에 리스트를 만들고 포함시킨다.\n",
        "li4[1] = ['😁','😀','🤨','😣']\n",
        "print(li4)"
      ],
      "metadata": {
        "colab": {
          "base_uri": "https://localhost:8080/"
        },
        "id": "XfznUny_fcMn",
        "outputId": "1a95e147-5da2-44e1-8de7-a20c9bd20bd0"
      },
      "execution_count": 14,
      "outputs": [
        {
          "output_type": "stream",
          "name": "stdout",
          "text": [
            "[10, ['😁', '😀', '🤨', '😣'], 30, 40, 50]\n"
          ]
        }
      ]
    },
    {
      "cell_type": "code",
      "source": [
        "li4 = [10, 20, 30, 40, 50]\n",
        "print(li4[1:3])\n",
        "li4[1:3] = [] # 빈 리스트를 슬라이싱을 통해 저장하면 해당 요소가 삭제가된다.\n",
        "print(li4)"
      ],
      "metadata": {
        "colab": {
          "base_uri": "https://localhost:8080/"
        },
        "id": "bcpBKuqMfcJs",
        "outputId": "302fbf8b-a616-4ca1-8667-90eae4c44448"
      },
      "execution_count": 15,
      "outputs": [
        {
          "output_type": "stream",
          "name": "stdout",
          "text": [
            "[20, 30]\n",
            "[10, 40, 50]\n"
          ]
        }
      ]
    },
    {
      "cell_type": "code",
      "source": [
        "li4 = [10, 20, 30, 40, 50]\n",
        "print(li4[1:2])\n",
        "print(li4[1])\n",
        "li4[1] = []\n",
        "print(li4)"
      ],
      "metadata": {
        "colab": {
          "base_uri": "https://localhost:8080/"
        },
        "id": "cB0aFqUwfcGK",
        "outputId": "ccd0e86d-ddbc-46d5-8a90-98ac5c459e0b"
      },
      "execution_count": 16,
      "outputs": [
        {
          "output_type": "stream",
          "name": "stdout",
          "text": [
            "[20]\n",
            "20\n",
            "[10, [], 30, 40, 50]\n"
          ]
        }
      ]
    },
    {
      "cell_type": "code",
      "source": [
        "li4 = [10, 20, 30, 40, 50]\n",
        "print(li4)\n",
        "del li4[1]\n",
        "print(li4)"
      ],
      "metadata": {
        "colab": {
          "base_uri": "https://localhost:8080/"
        },
        "id": "w15Fjkw7fb8x",
        "outputId": "617db91a-66fa-47fd-9205-1f614cbe75c7"
      },
      "execution_count": 17,
      "outputs": [
        {
          "output_type": "stream",
          "name": "stdout",
          "text": [
            "[10, 20, 30, 40, 50]\n",
            "[10, 30, 40, 50]\n"
          ]
        }
      ]
    },
    {
      "cell_type": "code",
      "source": [
        "li5 = [10, 20, 30]\n",
        "li6 = [40, 50 ,60]\n",
        "print(li5 + li6)\n",
        "print(li6 + li5)"
      ],
      "metadata": {
        "colab": {
          "base_uri": "https://localhost:8080/"
        },
        "id": "1IsTz8fNfb5R",
        "outputId": "f93918e4-8bf6-480d-cf0d-c65027f55fea"
      },
      "execution_count": 18,
      "outputs": [
        {
          "output_type": "stream",
          "name": "stdout",
          "text": [
            "[10, 20, 30, 40, 50, 60]\n",
            "[40, 50, 60, 10, 20, 30]\n"
          ]
        }
      ]
    },
    {
      "cell_type": "code",
      "source": [
        "li5 = [10, 20, 30]\n",
        "li6 = li5 + [40, 50 ,60] # [10, 20, 30] + [40, 50, 60]\n",
        "print(li6)\n",
        "\n",
        "li6 = [10, 20, 30]\n",
        "li6 += [40, 50, 60] # li6 = li6 + [40, 50, 60]\n",
        "print(li6)"
      ],
      "metadata": {
        "colab": {
          "base_uri": "https://localhost:8080/"
        },
        "id": "OhjPB2lsfb2V",
        "outputId": "73075e88-99cc-46a9-fa09-61e42c950bcd"
      },
      "execution_count": 19,
      "outputs": [
        {
          "output_type": "stream",
          "name": "stdout",
          "text": [
            "[10, 20, 30, 40, 50, 60]\n",
            "[10, 20, 30, 40, 50, 60]\n"
          ]
        }
      ]
    },
    {
      "cell_type": "code",
      "source": [
        "li6 = [10, 20, 30]\n",
        "print(li6 * 3)"
      ],
      "metadata": {
        "colab": {
          "base_uri": "https://localhost:8080/"
        },
        "id": "sAb_GZmHfbzY",
        "outputId": "ee2da30f-6d02-4445-d243-15350171df84"
      },
      "execution_count": 20,
      "outputs": [
        {
          "output_type": "stream",
          "name": "stdout",
          "text": [
            "[10, 20, 30, 10, 20, 30, 10, 20, 30]\n"
          ]
        }
      ]
    },
    {
      "cell_type": "markdown",
      "source": [
        "# **3. 리스트의 메서드**"
      ],
      "metadata": {
        "id": "SloPK0k7fbwd"
      }
    },
    {
      "cell_type": "code",
      "source": [
        "# len() : 객체의 길이를 반환하는 파이썬 기본 내장 함수\n",
        "li6 = [10, 20, 30]\n",
        "print(len(li6))"
      ],
      "metadata": {
        "id": "8QONGByWfbs9",
        "colab": {
          "base_uri": "https://localhost:8080/"
        },
        "outputId": "31cd9482-9a09-4e4b-c201-b10c36bb61ce"
      },
      "execution_count": 21,
      "outputs": [
        {
          "output_type": "stream",
          "name": "stdout",
          "text": [
            "3\n"
          ]
        }
      ]
    },
    {
      "cell_type": "code",
      "source": [
        "li6 = [10, 20, 30]\n",
        "print(li6)"
      ],
      "metadata": {
        "id": "3-Dg0B7dfbqA",
        "colab": {
          "base_uri": "https://localhost:8080/"
        },
        "outputId": "8dfc4b28-9162-438d-c9ba-1f5d6c16a0f0"
      },
      "execution_count": 22,
      "outputs": [
        {
          "output_type": "stream",
          "name": "stdout",
          "text": [
            "[10, 20, 30]\n"
          ]
        }
      ]
    },
    {
      "cell_type": "code",
      "source": [
        "li6 = [10, 20, 30]\n",
        "print(li6)\n",
        "# append() : 리스트 요소의 끝에 새로운 요소를 추가\n",
        "li6.append(100)\n",
        "print(li6)\n",
        "# li6.append(200, 300) # TypeError: list.append() takes exactly one argument (2 given)\n",
        "li6.append([200, 300])\n",
        "print(li6)"
      ],
      "metadata": {
        "colab": {
          "base_uri": "https://localhost:8080/"
        },
        "id": "7UEEywUXfbme",
        "outputId": "5df23211-7c38-4a2a-e6b6-bc3fe6a78b4f"
      },
      "execution_count": 23,
      "outputs": [
        {
          "output_type": "stream",
          "name": "stdout",
          "text": [
            "[10, 20, 30]\n",
            "[10, 20, 30, 100]\n",
            "[10, 20, 30, 100, [200, 300]]\n"
          ]
        }
      ]
    },
    {
      "cell_type": "code",
      "source": [
        "li6 = [10, 20, 30]\n",
        "print(li6)\n",
        "# extend() : 리스트 요소의 끝에 새로운 여러 요소를 추가\n",
        "# li6.extend(100) # TypeError: 'int' object is not iterable\n",
        "li6.extend([100])\n",
        "print(li6)"
      ],
      "metadata": {
        "colab": {
          "base_uri": "https://localhost:8080/"
        },
        "id": "XTBWzJoifbkJ",
        "outputId": "3cf72dc5-21d3-42fc-feab-05584830df7e"
      },
      "execution_count": 24,
      "outputs": [
        {
          "output_type": "stream",
          "name": "stdout",
          "text": [
            "[10, 20, 30]\n",
            "[10, 20, 30, 100]\n"
          ]
        }
      ]
    },
    {
      "cell_type": "code",
      "source": [
        "li6 = [10, 20, 30]\n",
        "print(li6)\n",
        "# pop() : 리스트 마지막 요소를 삭제하고 삭제된 요소를 반환\n",
        "print(li6.pop())\n",
        "print(li6)"
      ],
      "metadata": {
        "colab": {
          "base_uri": "https://localhost:8080/"
        },
        "id": "vDvH0liQfbhP",
        "outputId": "211e0a58-4306-4c50-f89d-18d7a19c0b55"
      },
      "execution_count": 25,
      "outputs": [
        {
          "output_type": "stream",
          "name": "stdout",
          "text": [
            "[10, 20, 30]\n",
            "30\n",
            "[10, 20]\n"
          ]
        }
      ]
    },
    {
      "cell_type": "code",
      "source": [
        "li6 = [10, 20, 30]\n",
        "print(li6)\n",
        "# index() : 리스트에서 특정 요소의 값 인덱스를 반환\n",
        "print(li6.index(20))"
      ],
      "metadata": {
        "colab": {
          "base_uri": "https://localhost:8080/"
        },
        "id": "GZ4VAhO7fbeR",
        "outputId": "aeeb6643-7d7b-4653-803b-bc1fa655bec0"
      },
      "execution_count": 26,
      "outputs": [
        {
          "output_type": "stream",
          "name": "stdout",
          "text": [
            "[10, 20, 30]\n",
            "1\n"
          ]
        }
      ]
    },
    {
      "cell_type": "code",
      "source": [
        "li7 = [100, 50, 70, 60, 20]\n",
        "print(li7)\n",
        "li7.reverse()\n",
        "print(li7)"
      ],
      "metadata": {
        "colab": {
          "base_uri": "https://localhost:8080/"
        },
        "id": "VGacu5qifbax",
        "outputId": "365019a4-3949-42e7-9a27-54c5ba8baa97"
      },
      "execution_count": 27,
      "outputs": [
        {
          "output_type": "stream",
          "name": "stdout",
          "text": [
            "[100, 50, 70, 60, 20]\n",
            "[20, 60, 70, 50, 100]\n"
          ]
        }
      ]
    },
    {
      "cell_type": "code",
      "source": [
        "# 슬라이싱을 사용하여 리스트의 요소들의 순서를 반대로 설정하는 방법\n",
        "li7 = [100, 50, 70, 60, 20]\n",
        "print(li7[:]) # [0:5]\n",
        "print(li7[0:5])\n",
        "print(li7[::]) # step 생략 (default = 1)\n",
        "print(li7[0:5:1]) # 따라서 생략한 결과와 같다\n",
        "print(li7[0:5:2]) # step을 2로 설정\n",
        "print(li7[::-1]) # step이 -1일 경우 start 기본값은 -1, stop의 기본값은 0으로 설정\n",
        "print(li7[1::-1])\n",
        "print(li7[:0:-1])"
      ],
      "metadata": {
        "colab": {
          "base_uri": "https://localhost:8080/"
        },
        "id": "hw3j-BGkfauz",
        "outputId": "59dda357-c988-46fa-fda0-74199913dbc8"
      },
      "execution_count": 28,
      "outputs": [
        {
          "output_type": "stream",
          "name": "stdout",
          "text": [
            "[100, 50, 70, 60, 20]\n",
            "[100, 50, 70, 60, 20]\n",
            "[100, 50, 70, 60, 20]\n",
            "[100, 50, 70, 60, 20]\n",
            "[100, 70, 20]\n",
            "[20, 60, 70, 50, 100]\n",
            "[50, 100]\n",
            "[20, 60, 70, 50]\n"
          ]
        }
      ]
    },
    {
      "cell_type": "code",
      "source": [
        "li7 = [100, 50, 70, 60, 20]\n",
        "print(li7)\n",
        "# sort() : 리스트의 요소를 오름차순으로 정렬\n",
        "li7.sort()\n",
        "print(li7)\n",
        "# sort(reverse=True) : 리스트의 요소를 내림차순으로 정렬\n",
        "li7.sort(reverse=True)\n",
        "print(li7)"
      ],
      "metadata": {
        "colab": {
          "base_uri": "https://localhost:8080/"
        },
        "id": "uM6CDzFny5vm",
        "outputId": "ed801d88-8095-4320-b622-b750b5b8d475"
      },
      "execution_count": 29,
      "outputs": [
        {
          "output_type": "stream",
          "name": "stdout",
          "text": [
            "[100, 50, 70, 60, 20]\n",
            "[20, 50, 60, 70, 100]\n",
            "[100, 70, 60, 50, 20]\n"
          ]
        }
      ]
    },
    {
      "cell_type": "code",
      "source": [
        "li8 = ['Apple', 'apple', 'orange', 'banana', 'melon']\n",
        "li8.sort()\n",
        "print(li8)"
      ],
      "metadata": {
        "colab": {
          "base_uri": "https://localhost:8080/"
        },
        "id": "Lb2eWTSy0qBQ",
        "outputId": "707c0ce0-bd90-4c50-ee22-d4d869fb77f5"
      },
      "execution_count": 30,
      "outputs": [
        {
          "output_type": "stream",
          "name": "stdout",
          "text": [
            "['Apple', 'apple', 'banana', 'melon', 'orange']\n"
          ]
        }
      ]
    },
    {
      "cell_type": "code",
      "source": [
        "li9 = ['김사과', '오렌지', '반하나', '이메론', '배애리']\n",
        "li9.sort()\n",
        "print(li9)"
      ],
      "metadata": {
        "colab": {
          "base_uri": "https://localhost:8080/"
        },
        "id": "M7J71Met2gDw",
        "outputId": "af3fcc74-840a-4994-d889-f6238e620dec"
      },
      "execution_count": 31,
      "outputs": [
        {
          "output_type": "stream",
          "name": "stdout",
          "text": [
            "['김사과', '반하나', '배애리', '오렌지', '이메론']\n"
          ]
        }
      ]
    },
    {
      "cell_type": "code",
      "source": [
        "# sorted() : 모든 요소를 정렬한 후 반환해주는 함수"
      ],
      "metadata": {
        "id": "yTs1fYXn2otk"
      },
      "execution_count": 31,
      "outputs": []
    }
  ]
}