{
  "nbformat": 4,
  "nbformat_minor": 0,
  "metadata": {
    "colab": {
      "provenance": [],
      "authorship_tag": "ABX9TyOHOm9SrzFE6Z3aLv42vBXZ",
      "include_colab_link": true
    },
    "kernelspec": {
      "name": "python3",
      "display_name": "Python 3"
    },
    "language_info": {
      "name": "python"
    }
  },
  "cells": [
    {
      "cell_type": "markdown",
      "metadata": {
        "id": "view-in-github",
        "colab_type": "text"
      },
      "source": [
        "<a href=\"https://colab.research.google.com/github/EG-world/Python/blob/main/6_%EC%BB%AC%EB%A0%89%EC%85%98_%ED%83%80%EC%9E%85_Tuple.ipynb\" target=\"_parent\"><img src=\"https://colab.research.google.com/assets/colab-badge.svg\" alt=\"Open In Colab\"/></a>"
      ]
    },
    {
      "cell_type": "markdown",
      "source": [
        "# 1. 튜플\n",
        "여러 가지 데이터 타입의 값을 저장할 수 있는, 변경 불가능(immutable)한 순서가 있는 컬렉션입니다."
      ],
      "metadata": {
        "id": "C4LhzpoweRRs"
      }
    },
    {
      "cell_type": "code",
      "source": [
        "tu1 = ()\n",
        "print(tu1)\n",
        "print(type(tu1))"
      ],
      "metadata": {
        "colab": {
          "base_uri": "https://localhost:8080/"
        },
        "id": "BVgzlZwoegxa",
        "outputId": "78c8fe54-0379-4a0d-e8c5-a34e8973bec3"
      },
      "execution_count": 1,
      "outputs": [
        {
          "output_type": "stream",
          "name": "stdout",
          "text": [
            "()\n",
            "<class 'tuple'>\n"
          ]
        }
      ]
    },
    {
      "cell_type": "code",
      "source": [
        "tu1 = (1,) # 요소가 1개일 경우 끝에 콤마를 꼭! 붙여야 함\n",
        "print(tu1)\n",
        "print(type(tu1))"
      ],
      "metadata": {
        "colab": {
          "base_uri": "https://localhost:8080/"
        },
        "id": "eCTKLpOpegt7",
        "outputId": "f700690a-34df-4cdf-e2b4-cbb05e77a4a2"
      },
      "execution_count": 3,
      "outputs": [
        {
          "output_type": "stream",
          "name": "stdout",
          "text": [
            "(1,)\n",
            "<class 'tuple'>\n"
          ]
        }
      ]
    },
    {
      "cell_type": "code",
      "source": [
        "tu2 = (1, 3, 5, 7)\n",
        "print(tu2)\n",
        "print(type(tu2))"
      ],
      "metadata": {
        "colab": {
          "base_uri": "https://localhost:8080/"
        },
        "id": "hjtjvYAaegri",
        "outputId": "cc2ed98d-0e45-4332-ef20-1e04bd508687"
      },
      "execution_count": 4,
      "outputs": [
        {
          "output_type": "stream",
          "name": "stdout",
          "text": [
            "(1, 3, 5, 7)\n",
            "<class 'tuple'>\n"
          ]
        }
      ]
    },
    {
      "cell_type": "code",
      "source": [
        "tu3 = tuple([1, 3, 5, 7])\n",
        "print(tu3)\n",
        "print(type(tu3))"
      ],
      "metadata": {
        "colab": {
          "base_uri": "https://localhost:8080/"
        },
        "id": "c9UFuS6megon",
        "outputId": "d224f597-ac2e-4491-dc1d-5fcb858010bf"
      },
      "execution_count": 5,
      "outputs": [
        {
          "output_type": "stream",
          "name": "stdout",
          "text": [
            "(1, 3, 5, 7)\n",
            "<class 'tuple'>\n"
          ]
        }
      ]
    },
    {
      "cell_type": "code",
      "source": [
        "li3 = list(tu3)\n",
        "print(li3)\n",
        "print(type(li3))"
      ],
      "metadata": {
        "colab": {
          "base_uri": "https://localhost:8080/"
        },
        "id": "bCVYwhNTeglr",
        "outputId": "76a4108d-af19-4812-caed-21f8253993c5"
      },
      "execution_count": 6,
      "outputs": [
        {
          "output_type": "stream",
          "name": "stdout",
          "text": [
            "[1, 3, 5, 7]\n",
            "<class 'list'>\n"
          ]
        }
      ]
    },
    {
      "cell_type": "code",
      "source": [
        "tu4 = 1, 3, 5, 7\n",
        "print(tu4)\n",
        "print(type(tu4))"
      ],
      "metadata": {
        "colab": {
          "base_uri": "https://localhost:8080/"
        },
        "id": "1GTC5gGregiv",
        "outputId": "a7bb5c08-fef8-43af-cff4-dcd634a9e27e"
      },
      "execution_count": 7,
      "outputs": [
        {
          "output_type": "stream",
          "name": "stdout",
          "text": [
            "(1, 3, 5, 7)\n",
            "<class 'tuple'>\n"
          ]
        }
      ]
    },
    {
      "cell_type": "code",
      "source": [
        "num1 = 10\n",
        "num2 = 20\n",
        "num3 = 30\n",
        "tu4 = num1, num2, num3\n",
        "print(tu4)\n",
        "result1, result2, result3 = tu4\n",
        "print(result1)\n",
        "print(result2)\n",
        "print(result3)"
      ],
      "metadata": {
        "colab": {
          "base_uri": "https://localhost:8080/"
        },
        "id": "xC71zo1Pegfz",
        "outputId": "7db49650-c2f5-44da-9967-68705b9e9438"
      },
      "execution_count": 10,
      "outputs": [
        {
          "output_type": "stream",
          "name": "stdout",
          "text": [
            "(10, 20, 30)\n",
            "10\n",
            "20\n",
            "30\n"
          ]
        }
      ]
    },
    {
      "cell_type": "code",
      "source": [
        "tu5 = ('apple', 'banana', ('🍎','🍌'))\n",
        "print(tu5)\n",
        "print(type(tu5))\n",
        "print(tu5[0])\n",
        "print(type(tu5[0]))\n",
        "print(tu5[2][0])\n",
        "print(type(tu5[2][0]))"
      ],
      "metadata": {
        "colab": {
          "base_uri": "https://localhost:8080/"
        },
        "id": "cUM4kBAjegcT",
        "outputId": "34e9b6cb-040f-4256-9424-28726c60dc77"
      },
      "execution_count": 12,
      "outputs": [
        {
          "output_type": "stream",
          "name": "stdout",
          "text": [
            "('apple', 'banana', ('🍎', '🍌'))\n",
            "<class 'tuple'>\n",
            "apple\n",
            "<class 'str'>\n",
            "🍎\n",
            "<class 'str'>\n"
          ]
        }
      ]
    },
    {
      "cell_type": "code",
      "source": [
        "tu5 = ('apple', 'banana', ('🍎','🍌'))\n",
        "tu5 = 'orange'\n",
        "print(tu5)"
      ],
      "metadata": {
        "colab": {
          "base_uri": "https://localhost:8080/"
        },
        "id": "9ijwBiuHegZW",
        "outputId": "5b091678-7270-43f1-899d-61e654b64716"
      },
      "execution_count": 14,
      "outputs": [
        {
          "output_type": "stream",
          "name": "stdout",
          "text": [
            "orange\n"
          ]
        }
      ]
    },
    {
      "cell_type": "code",
      "source": [
        "tu5 = ('apple', 'banana', ['🍎','🍌'])\n",
        "print(tu5)\n",
        "print(type(tu5))\n",
        "print(tu5[2][0])\n",
        "tu5[2][0] = '🍕'\n",
        "print(tu5)\n",
        "print(type(tu5[2]))\n",
        "# tu5[2] = '🥓' # TypeError: 'tuple' object does not support item assignment (튜플의 요소기 때문에 바꾸지 못함)\n",
        "print(tu5)"
      ],
      "metadata": {
        "colab": {
          "base_uri": "https://localhost:8080/"
        },
        "id": "wIEnU335egWd",
        "outputId": "3e885145-d473-4a8a-c26d-4e67482d75dc"
      },
      "execution_count": 17,
      "outputs": [
        {
          "output_type": "stream",
          "name": "stdout",
          "text": [
            "('apple', 'banana', ['🍎', '🍌'])\n",
            "<class 'tuple'>\n",
            "🍎\n",
            "('apple', 'banana', ['🍕', '🍌'])\n",
            "<class 'list'>\n",
            "('apple', 'banana', ['🍕', '🍌'])\n"
          ]
        }
      ]
    },
    {
      "cell_type": "code",
      "source": [
        "tu6 = (1, 2, 'apple', 'banana')\n",
        "print(tu6[0])\n",
        "print(tu6[-1])\n",
        "print(tu6[1:])\n",
        "print(tu6[1:3])"
      ],
      "metadata": {
        "colab": {
          "base_uri": "https://localhost:8080/"
        },
        "id": "nsmjA3SLegTf",
        "outputId": "a433306f-1236-4cb5-d31c-595cac90893a"
      },
      "execution_count": 18,
      "outputs": [
        {
          "output_type": "stream",
          "name": "stdout",
          "text": [
            "1\n",
            "banana\n",
            "(2, 'apple', 'banana')\n",
            "(2, 'apple')\n"
          ]
        }
      ]
    },
    {
      "cell_type": "code",
      "source": [
        "tu7 = (10, 20, 30)\n",
        "tu8 = (40, 50, 60)\n",
        "print(tu7 + tu8)\n",
        "print(tu8 + tu7)\n",
        "tu7 = tu7 + (40, 50, 60)\n",
        "print(tu7)\n",
        "print(tu7 * 3)"
      ],
      "metadata": {
        "colab": {
          "base_uri": "https://localhost:8080/"
        },
        "id": "9AMdxgEqegQj",
        "outputId": "e72cf260-536b-4fa0-90ef-50a789a8e291"
      },
      "execution_count": 21,
      "outputs": [
        {
          "output_type": "stream",
          "name": "stdout",
          "text": [
            "(10, 20, 30, 40, 50, 60)\n",
            "(40, 50, 60, 10, 20, 30)\n",
            "(10, 20, 30, 40, 50, 60)\n",
            "(10, 20, 30, 40, 50, 60, 10, 20, 30, 40, 50, 60, 10, 20, 30, 40, 50, 60)\n"
          ]
        }
      ]
    },
    {
      "cell_type": "code",
      "source": [
        "# 컬렉션에 포함되어 있는 요소인지 확인\n",
        "print(2 in [2, 4, 6, 8, 10])\n",
        "print(7 in [2, 4, 6, 8, 10])"
      ],
      "metadata": {
        "colab": {
          "base_uri": "https://localhost:8080/"
        },
        "id": "q8CAA-f0egNn",
        "outputId": "b420a325-ac23-401d-8faa-b3395849661c"
      },
      "execution_count": 27,
      "outputs": [
        {
          "output_type": "stream",
          "name": "stdout",
          "text": [
            "True\n",
            "False\n"
          ]
        }
      ]
    },
    {
      "cell_type": "code",
      "source": [
        "tu9 = (10, 30, 100, 90, 50)\n",
        "# tu9.sort() # AttributeError: 'tuple' object has no attribute 'sort'\n",
        "result = sorted(tu9)\n",
        "print(result)\n",
        "result = tuple(result)\n",
        "print(result)\n",
        "result = sorted(tu9, reverse=True)\n",
        "print(result)"
      ],
      "metadata": {
        "colab": {
          "base_uri": "https://localhost:8080/"
        },
        "id": "I5sj48UxegKt",
        "outputId": "ce95d27b-b93e-4ee8-d66b-e96c0c0c153b"
      },
      "execution_count": 26,
      "outputs": [
        {
          "output_type": "stream",
          "name": "stdout",
          "text": [
            "[10, 30, 50, 90, 100]\n",
            "(10, 30, 50, 90, 100)\n",
            "[100, 90, 50, 30, 10]\n"
          ]
        }
      ]
    },
    {
      "cell_type": "markdown",
      "source": [
        "# **2. input() 함수**\n",
        "input()함수는 사용자로부터 키보드 입력을 받는 데 사용되는 내장 함수입니다. 프로그램 실행 중에 사용자가 입력하면, 입력한 값이 문자열로 반환되어 변수에 저장하거나 처리할 수 있습니다."
      ],
      "metadata": {
        "id": "Cq0KkxwSegHv"
      }
    },
    {
      "cell_type": "code",
      "source": [
        "name = input()"
      ],
      "metadata": {
        "colab": {
          "base_uri": "https://localhost:8080/"
        },
        "id": "MP0k9OiIegEO",
        "outputId": "2e8cb984-3b99-449f-c519-77c53681e410"
      },
      "execution_count": 28,
      "outputs": [
        {
          "name": "stdout",
          "output_type": "stream",
          "text": [
            "LeeEuGene\n"
          ]
        }
      ]
    },
    {
      "cell_type": "code",
      "source": [
        "name"
      ],
      "metadata": {
        "colab": {
          "base_uri": "https://localhost:8080/",
          "height": 35
        },
        "id": "n4h6Qy7JegBT",
        "outputId": "05605c83-f380-43e1-d214-91c63a81f563"
      },
      "execution_count": 29,
      "outputs": [
        {
          "output_type": "execute_result",
          "data": {
            "text/plain": [
              "'LeeEuGene'"
            ],
            "application/vnd.google.colaboratory.intrinsic+json": {
              "type": "string"
            }
          },
          "metadata": {},
          "execution_count": 29
        }
      ]
    },
    {
      "cell_type": "code",
      "source": [
        "name = input('이름을 입력하세요 : ')\n",
        "print(f'{name}님 안녕하세요')"
      ],
      "metadata": {
        "colab": {
          "base_uri": "https://localhost:8080/"
        },
        "id": "DVmKSLmIef-8",
        "outputId": "b6961db0-9302-4f69-af35-c7bec3ef50bf"
      },
      "execution_count": 30,
      "outputs": [
        {
          "name": "stdout",
          "output_type": "stream",
          "text": [
            "이름을 입력하세요 : 김사과\n"
          ]
        }
      ]
    },
    {
      "cell_type": "code",
      "source": [
        "# 김사과 20 50\n",
        "info = input('이름, 나이, 몸무게를 띄어쓰기로 구분하여 입력하세요 :').split(' ')\n",
        "print(info)"
      ],
      "metadata": {
        "colab": {
          "base_uri": "https://localhost:8080/"
        },
        "id": "s0DAaYUVef5G",
        "outputId": "ebe78d10-1852-41db-cfa3-cc95aa3b4495"
      },
      "execution_count": 36,
      "outputs": [
        {
          "output_type": "stream",
          "name": "stdout",
          "text": [
            "이름, 나이, 몸무게를 띄어쓰기로 구분하여 입력하세요 :김사과 20 50\n",
            "['김사과', '20', '50']\n"
          ]
        }
      ]
    },
    {
      "cell_type": "code",
      "source": [
        "name, age, weight = info = input('이름, 나이, 몸무게를 띄어쓰기로 구분하여 입력하세요 :').split(' ')\n",
        "print(name, age, weight)"
      ],
      "metadata": {
        "colab": {
          "base_uri": "https://localhost:8080/"
        },
        "id": "58FL7KdQeft8",
        "outputId": "4b1cfbdf-6410-400c-da35-eeba0acffe33"
      },
      "execution_count": 37,
      "outputs": [
        {
          "output_type": "stream",
          "name": "stdout",
          "text": [
            "이름, 나이, 몸무게를 띄어쓰기로 구분하여 입력하세요 :김사과 20 50\n",
            "김사과 20 50\n"
          ]
        }
      ]
    },
    {
      "cell_type": "code",
      "source": [
        "num1 = int(input('첫번째 숫자를 입력하세요 '))\n",
        "num2 = int(input('두번째 숫자를 입력하세요 '))\n",
        "print(f'결과 : {num1+num2}')"
      ],
      "metadata": {
        "colab": {
          "base_uri": "https://localhost:8080/"
        },
        "id": "zJg9_yr-efb-",
        "outputId": "d3e0359e-16a8-45d6-d1ea-e48b403389c6"
      },
      "execution_count": 39,
      "outputs": [
        {
          "output_type": "stream",
          "name": "stdout",
          "text": [
            "첫번째 숫자를 입력하세요 10\n",
            "두번째 숫자를 입력하세요 5\n",
            "결과 : 15\n"
          ]
        }
      ]
    },
    {
      "cell_type": "markdown",
      "source": [
        "### 문제\n",
        "* 국어점수, 영어점수, 수학점수를 입력받아 총점, 평균을 구하는 프로그램을 작성\n",
        "*단, 입력방식은 100/70/85 형태로 입력"
      ],
      "metadata": {
        "id": "DHom-pfDtbaT"
      }
    },
    {
      "cell_type": "code",
      "source": [
        "kor, eng, math = input('국영수 점수를 입력하세요 ').split('/')\n",
        "sum = int(kor) + int(eng) + int(math)\n",
        "avg = sum/3\n",
        "print(f'총점 : {sum}, 평균 : {avg}')\n",
        "print('평균 : %.2f' %avg)"
      ],
      "metadata": {
        "colab": {
          "base_uri": "https://localhost:8080/"
        },
        "id": "dr9UAwhktm_m",
        "outputId": "7e13d65e-86e0-49fa-a060-b2194873d5d6"
      },
      "execution_count": 50,
      "outputs": [
        {
          "output_type": "stream",
          "name": "stdout",
          "text": [
            "국영수 점수를 입력하세요 100/80/85\n",
            "총점 : 265, 평균 : 88.33333333333333\n",
            "평균 : 88.33\n"
          ]
        }
      ]
    },
    {
      "cell_type": "code",
      "source": [],
      "metadata": {
        "id": "GyByZaHk0aT5"
      },
      "execution_count": null,
      "outputs": []
    },
    {
      "cell_type": "code",
      "source": [],
      "metadata": {
        "id": "sPuqY9T11tvG"
      },
      "execution_count": null,
      "outputs": []
    }
  ]
}