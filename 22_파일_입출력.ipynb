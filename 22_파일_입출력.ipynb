{
  "nbformat": 4,
  "nbformat_minor": 0,
  "metadata": {
    "colab": {
      "provenance": [],
      "authorship_tag": "ABX9TyNJaowZHbzzmgJv8o2T1c4/",
      "include_colab_link": true
    },
    "kernelspec": {
      "name": "python3",
      "display_name": "Python 3"
    },
    "language_info": {
      "name": "python"
    }
  },
  "cells": [
    {
      "cell_type": "markdown",
      "metadata": {
        "id": "view-in-github",
        "colab_type": "text"
      },
      "source": [
        "<a href=\"https://colab.research.google.com/github/EG-world/Python/blob/main/22_%ED%8C%8C%EC%9D%BC_%EC%9E%85%EC%B6%9C%EB%A0%A5.ipynb\" target=\"_parent\"><img src=\"https://colab.research.google.com/assets/colab-badge.svg\" alt=\"Open In Colab\"/></a>"
      ]
    },
    {
      "cell_type": "markdown",
      "source": [
        "# **1. 파일 입출력**\n",
        "파이썬에서 파일 입출력은 다양한 용도로 사용됩니다. 텍스트 파일, 바이너리 파일, CSV 파일, JSON 파일 등을 읽고 쓸 수 있습니다"
      ],
      "metadata": {
        "id": "OyulGbBI2KfP"
      }
    },
    {
      "cell_type": "markdown",
      "source": [
        "### 1-1 파일 열기\n",
        "파일을 열려면 open 함수를 사용합니다\n",
        "```\n",
        "f = open(\"파일명\", \"모드\")\n",
        "\n",
        "파일명: 열고자 하는 파일의 이름이나 경로\n",
        "모드: 파일을 어떻게 열 것인지를 지정\n",
        "\n",
        "r: 읽기 모드 (기본값)\n",
        "w: 쓰기 모드 (파일이 있으면 덮어쓰기)\n",
        "a: 추가 모드 (파일의 끝에 내용을 추가)\n",
        "b: 바이너리 모드 (텍스트가 아닌 바이너리 데이터를 읽고/쓸 때 사용) ex) 이미지, 동영상, 사운드 등등\n",
        "t(생략가능) : 텍스트 모드 (텍스트 데이터를 읽고/ 쓸 때 사용) ex) 글자\n",
        "+: 읽기와 쓰기 모드\n",
        "```"
      ],
      "metadata": {
        "id": "EEgT2guE2V1Z"
      }
    },
    {
      "cell_type": "markdown",
      "source": [
        "### 1-2. 파일 쓰기"
      ],
      "metadata": {
        "id": "hScxrzR428v6"
      }
    },
    {
      "cell_type": "code",
      "source": [
        "f = open('example.txt', 'w')    # t는 생략이 가능하기 때문에 'wt'와 같은 의미이다.\n",
        "f.write('hello 파이썬! \\n')\n",
        "f.close() # 파일을 닫아야 저장이 완료됨."
      ],
      "metadata": {
        "id": "Q4OxvR4c31WI"
      },
      "execution_count": 2,
      "outputs": []
    },
    {
      "cell_type": "code",
      "source": [
        "f = open('example2.txt', 'w')\n",
        "f.writelines(['라인1\\n','라인2\\n','라인3\\n'])\n",
        "f.close()"
      ],
      "metadata": {
        "id": "9c1WO1ec4k1w"
      },
      "execution_count": 3,
      "outputs": []
    },
    {
      "cell_type": "code",
      "source": [
        "f = open('example3.txt', 'w')\n",
        "for i in range(10) :\n",
        "  f.write('파일 쓰기 테스트 : ' + str(i) + '\\n')\n",
        "f.close()\n",
        "print('example3.txt 파일에 쓰기 완료')"
      ],
      "metadata": {
        "colab": {
          "base_uri": "https://localhost:8080/"
        },
        "id": "dMs4OUvM5MR8",
        "outputId": "069ddc38-c150-40e0-edc7-eeb1a48e9018"
      },
      "execution_count": 4,
      "outputs": [
        {
          "output_type": "stream",
          "name": "stdout",
          "text": [
            "example3.txt 파일에 쓰기 완료\n"
          ]
        }
      ]
    },
    {
      "cell_type": "markdown",
      "source": [
        "### 1-3. 파일 읽기"
      ],
      "metadata": {
        "id": "X4B3dnAe5qbf"
      }
    },
    {
      "cell_type": "code",
      "source": [
        "f = open('example.txt', 'r')\n",
        "data = f.read()\n",
        "print(data)\n",
        "f.close() # 사실 읽기에서는 크게 문제가 되지 않지만 다시 쓸 때 문제가 생긴다. 따라서 꼭 close()한다."
      ],
      "metadata": {
        "colab": {
          "base_uri": "https://localhost:8080/"
        },
        "id": "8jO-y0ke5-Js",
        "outputId": "c70b0845-1e72-4dbe-e39e-63ad66dbd6d9"
      },
      "execution_count": 5,
      "outputs": [
        {
          "output_type": "stream",
          "name": "stdout",
          "text": [
            "hello 파이썬! \n",
            "\n"
          ]
        }
      ]
    },
    {
      "cell_type": "code",
      "source": [
        "f = open('example2.txt', 'r')\n",
        "data = f.read() # 매개변수가 없을 경우 여러줄을 한꺼번에 읽어옴\n",
        "print(data)\n",
        "f.close()"
      ],
      "metadata": {
        "colab": {
          "base_uri": "https://localhost:8080/"
        },
        "id": "KfTiOabk6cCq",
        "outputId": "5ea3e16b-3b57-4212-8135-e3156addc77d"
      },
      "execution_count": 6,
      "outputs": [
        {
          "output_type": "stream",
          "name": "stdout",
          "text": [
            "라인1\n",
            "라인2\n",
            "라인3\n",
            "\n"
          ]
        }
      ]
    },
    {
      "cell_type": "code",
      "source": [
        "f = open('example2.txt', 'r')\n",
        "data = f.read(5) # 매개변수 만큼 읽어옴 (\\n 까지도 하나의 문자로 판단함.)\n",
        "print(data)\n",
        "f.close()"
      ],
      "metadata": {
        "colab": {
          "base_uri": "https://localhost:8080/"
        },
        "id": "DDQpVngk6eZL",
        "outputId": "e6b555c7-2522-4986-cb00-6e9cad41001b"
      },
      "execution_count": 9,
      "outputs": [
        {
          "output_type": "stream",
          "name": "stdout",
          "text": [
            "라인1\n",
            "라\n"
          ]
        }
      ]
    },
    {
      "cell_type": "markdown",
      "source": [
        "### 문제\n",
        "read(5) 메서드를 사용하여 example3.txt의 모든 글자를 출력하는 프로그램을 작성해보자\n"
      ],
      "metadata": {
        "id": "1w_Jfj8m6pcD"
      }
    },
    {
      "cell_type": "code",
      "source": [
        "f = open('example3.txt', 'r')\n",
        "while True :\n",
        "  data = f.read(5)\n",
        "  if not data :     # 데이터가 없다면 ''이 되기 때문에 False로 판별된다.\n",
        "    break\n",
        "  print(data, end='')\n",
        "f.close()"
      ],
      "metadata": {
        "colab": {
          "base_uri": "https://localhost:8080/"
        },
        "id": "htgskJGj7YHQ",
        "outputId": "d77dd7d4-0767-44ba-9e63-bec5f7a65f73"
      },
      "execution_count": 18,
      "outputs": [
        {
          "output_type": "stream",
          "name": "stdout",
          "text": [
            "파일 쓰기 테스트 : 0\n",
            "파일 쓰기 테스트 : 1\n",
            "파일 쓰기 테스트 : 2\n",
            "파일 쓰기 테스트 : 3\n",
            "파일 쓰기 테스트 : 4\n",
            "파일 쓰기 테스트 : 5\n",
            "파일 쓰기 테스트 : 6\n",
            "파일 쓰기 테스트 : 7\n",
            "파일 쓰기 테스트 : 8\n",
            "파일 쓰기 테스트 : 9\n"
          ]
        }
      ]
    },
    {
      "cell_type": "markdown",
      "source": [
        "# **2. with 문 사용하기**\n",
        "* 파일을 보다 안전하고 깔끔하게 다루는 방법\n",
        "* 컨텍스트 매니저를 사용하여 파일을 열고, 파일 작업이 끝나면 자동으로 파일을 닫아주는 역할\n",
        "* 파일을 열고 나서 오류가 발생하더라도 파일을 자동으로 닫아줌\n",
        "* close()를 호출하지 않아도 되므로 코드가 간단해지고 깔끔해짐"
      ],
      "metadata": {
        "id": "3WcQDNby9tPu"
      }
    },
    {
      "cell_type": "code",
      "source": [
        "with open('word.txt', 'w') as f : # f = open('word.txt', 'w') 와 같은 의미\n",
        "  while True :\n",
        "    data = input('단어를 입력하세요 : ')\n",
        "    if data.lower() == 'quit' :\n",
        "      break\n",
        "    f.write(data + '\\n')\n",
        "# 같은 셀을 다시 실행시키면 w의 특징으로 쓸 때 지우고 다시 생성되게 함."
      ],
      "metadata": {
        "colab": {
          "base_uri": "https://localhost:8080/"
        },
        "id": "HdIYLWVD-Ams",
        "outputId": "90cdd53e-f34e-4f3a-da42-996c5c421e91"
      },
      "execution_count": 15,
      "outputs": [
        {
          "name": "stdout",
          "output_type": "stream",
          "text": [
            "단어를 입력하세요 : apple\n",
            "단어를 입력하세요 : banana\n",
            "단어를 입력하세요 : orange\n",
            "단어를 입력하세요 : melon\n",
            "단어를 입력하세요 : quit\n"
          ]
        }
      ]
    },
    {
      "cell_type": "code",
      "source": [
        "with open('example3.txt', 'r') as f :\n",
        "  while True :\n",
        "    data = f.read(5)\n",
        "    if not data :\n",
        "      break\n",
        "    print(data, end='')"
      ],
      "metadata": {
        "colab": {
          "base_uri": "https://localhost:8080/"
        },
        "id": "AbT0ybiP_Sq-",
        "outputId": "f5889b09-f4f2-4b15-cacc-bab7717a1888"
      },
      "execution_count": 19,
      "outputs": [
        {
          "output_type": "stream",
          "name": "stdout",
          "text": [
            "파일 쓰기 테스트 : 0\n",
            "파일 쓰기 테스트 : 1\n",
            "파일 쓰기 테스트 : 2\n",
            "파일 쓰기 테스트 : 3\n",
            "파일 쓰기 테스트 : 4\n",
            "파일 쓰기 테스트 : 5\n",
            "파일 쓰기 테스트 : 6\n",
            "파일 쓰기 테스트 : 7\n",
            "파일 쓰기 테스트 : 8\n",
            "파일 쓰기 테스트 : 9\n"
          ]
        }
      ]
    },
    {
      "cell_type": "code",
      "source": [
        "with open('word.txt', 'r') as f :\n",
        "  lines = []\n",
        "  while True :\n",
        "    line = f.readline() # 한줄만 읽어오기\n",
        "    if not line :\n",
        "      break\n",
        "    print(line, end='')\n",
        "    lines.append(line.strip())"
      ],
      "metadata": {
        "colab": {
          "base_uri": "https://localhost:8080/"
        },
        "id": "P3o_KE0k_7xB",
        "outputId": "7e706c94-0c5d-4ad0-d205-8c7e79dd386c"
      },
      "execution_count": 21,
      "outputs": [
        {
          "output_type": "stream",
          "name": "stdout",
          "text": [
            "apple\n",
            "banana\n",
            "orange\n",
            "melon\n"
          ]
        }
      ]
    },
    {
      "cell_type": "code",
      "source": [
        "lines"
      ],
      "metadata": {
        "colab": {
          "base_uri": "https://localhost:8080/"
        },
        "id": "mVabOSrBAbNy",
        "outputId": "c89a078b-464f-42f0-8368-6afc04d626b1"
      },
      "execution_count": 22,
      "outputs": [
        {
          "output_type": "execute_result",
          "data": {
            "text/plain": [
              "['apple', 'banana', 'orange', 'melon']"
            ]
          },
          "metadata": {},
          "execution_count": 22
        }
      ]
    },
    {
      "cell_type": "code",
      "source": [
        "# readlines() : 리스트에다 데이터를 담아주는 역할\n",
        "with open('word.txt', 'r') as f :\n",
        "  lines = f.readlines()\n",
        "  print(lines)"
      ],
      "metadata": {
        "colab": {
          "base_uri": "https://localhost:8080/"
        },
        "id": "NRV04E6hAfXO",
        "outputId": "75511aa1-98f9-4fcc-bd9c-2aaff1a28f5d"
      },
      "execution_count": 23,
      "outputs": [
        {
          "output_type": "stream",
          "name": "stdout",
          "text": [
            "['apple\\n', 'banana\\n', 'orange\\n', 'melon\\n']\n"
          ]
        }
      ]
    },
    {
      "cell_type": "code",
      "source": [
        "li = []\n",
        "for i in lines :\n",
        "  li.append(i.replace('\\n',''))"
      ],
      "metadata": {
        "id": "Z2y6YQfeA202"
      },
      "execution_count": 24,
      "outputs": []
    },
    {
      "cell_type": "code",
      "source": [
        "print(li)"
      ],
      "metadata": {
        "colab": {
          "base_uri": "https://localhost:8080/"
        },
        "id": "h5YoYqqBBAU1",
        "outputId": "3874c837-3bf0-4031-d922-0fc6574243a0"
      },
      "execution_count": 25,
      "outputs": [
        {
          "output_type": "stream",
          "name": "stdout",
          "text": [
            "['apple', 'banana', 'orange', 'melon']\n"
          ]
        }
      ]
    },
    {
      "cell_type": "markdown",
      "source": [
        "# **3. 예외 처리와 함께 사용하기**\n",
        "파일 입출력 중에는 여러 가지 오류가 발생할 수 있습니다 (예: 파일이 존재하지 않음). 이를 위해 try-except 블록을 사용해 오류를 처리할 수 있습니다."
      ],
      "metadata": {
        "id": "QDjyTeHebicC"
      }
    },
    {
      "cell_type": "code",
      "source": [
        "try :\n",
        "  with open('nofile.txt', 'r') as f :\n",
        "    data = f.read()\n",
        "    print(data)\n",
        "except FileNotFoundError :\n",
        "  print('파일이 존재하지 않습니다.')\n",
        "\n",
        "# 파일 명은 존재하지만 'b'를 사용하게되면 오류 발생은 안되지만 글이 깨져서 출력될것이다."
      ],
      "metadata": {
        "colab": {
          "base_uri": "https://localhost:8080/"
        },
        "id": "-F6ehmLabiYh",
        "outputId": "5b63e775-ff0d-4a60-d16b-dcedca9c1ffa"
      },
      "execution_count": null,
      "outputs": [
        {
          "output_type": "stream",
          "name": "stdout",
          "text": [
            "파일이 존재하지 않습니다.\n"
          ]
        }
      ]
    },
    {
      "cell_type": "code",
      "source": [],
      "metadata": {
        "id": "KlaTko86EmhV"
      },
      "execution_count": null,
      "outputs": []
    }
  ]
}