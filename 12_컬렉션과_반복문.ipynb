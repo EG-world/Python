{
  "nbformat": 4,
  "nbformat_minor": 0,
  "metadata": {
    "colab": {
      "provenance": [],
      "authorship_tag": "ABX9TyN5JDn7hxl/fbcWXo4uK+NV",
      "include_colab_link": true
    },
    "kernelspec": {
      "name": "python3",
      "display_name": "Python 3"
    },
    "language_info": {
      "name": "python"
    }
  },
  "cells": [
    {
      "cell_type": "markdown",
      "metadata": {
        "id": "view-in-github",
        "colab_type": "text"
      },
      "source": [
        "<a href=\"https://colab.research.google.com/github/EG-world/Python/blob/main/12_%EC%BB%AC%EB%A0%89%EC%85%98%EA%B3%BC_%EB%B0%98%EB%B3%B5%EB%AC%B8.ipynb\" target=\"_parent\"><img src=\"https://colab.research.google.com/assets/colab-badge.svg\" alt=\"Open In Colab\"/></a>"
      ]
    },
    {
      "cell_type": "markdown",
      "source": [
        "# **1. List와 for문**"
      ],
      "metadata": {
        "id": "n4vxJz5OrKHj"
      }
    },
    {
      "cell_type": "code",
      "source": [
        "li1 = ['apple', 'banana', 'orange', 'melon']\n",
        "\n",
        "for i in li1 :\n",
        "  print(i, end=' ')"
      ],
      "metadata": {
        "colab": {
          "base_uri": "https://localhost:8080/"
        },
        "id": "FdB8kONzrhUQ",
        "outputId": "dd1606b3-c967-4f09-bfb7-bee0800fca66"
      },
      "execution_count": 1,
      "outputs": [
        {
          "output_type": "stream",
          "name": "stdout",
          "text": [
            "apple banana orange melon "
          ]
        }
      ]
    },
    {
      "cell_type": "markdown",
      "source": [
        "### 문제\n",
        "score 리스트에 저장된 점수가 60점 이상인 개수가 몇개인지 확인하는 프로그램을 작성해보자\n",
        "* score = [90, 30, 50, 60, 80, 70, 100, 40, 20, 10]\n"
      ],
      "metadata": {
        "id": "vimM4WzXsBBF"
      }
    },
    {
      "cell_type": "code",
      "source": [
        "score = [90, 30, 50, 60, 80, 70, 100, 40, 20, 10]\n",
        "count = 0\n",
        "for i in score :\n",
        "  if i >= 60 :\n",
        "    count += 1\n",
        "count"
      ],
      "metadata": {
        "colab": {
          "base_uri": "https://localhost:8080/"
        },
        "id": "6IzW9ZRYsA-t",
        "outputId": "ec6c1bcb-329d-4c2f-b86f-db577399f620"
      },
      "execution_count": 5,
      "outputs": [
        {
          "output_type": "execute_result",
          "data": {
            "text/plain": [
              "5"
            ]
          },
          "metadata": {},
          "execution_count": 5
        }
      ]
    },
    {
      "cell_type": "code",
      "source": [
        "len([i for i in score if i >= 60])ㄴ"
      ],
      "metadata": {
        "colab": {
          "base_uri": "https://localhost:8080/"
        },
        "id": "gV9CeY0vsA7N",
        "outputId": "f24784ef-a576-434e-da54-df8966235d71"
      },
      "execution_count": 7,
      "outputs": [
        {
          "output_type": "execute_result",
          "data": {
            "text/plain": [
              "5"
            ]
          },
          "metadata": {},
          "execution_count": 7
        }
      ]
    },
    {
      "cell_type": "markdown",
      "source": [
        "# **2. dict와 for문**"
      ],
      "metadata": {
        "id": "ZlmotXQfsAwE"
      }
    },
    {
      "cell_type": "code",
      "source": [
        "dict1 = {'no': 1, 'userid':'apple', 'name':'김사과', 'hp':'010-1111-1111'}\n",
        "\n",
        "for i in dict1 :\n",
        "  print(i)"
      ],
      "metadata": {
        "colab": {
          "base_uri": "https://localhost:8080/"
        },
        "id": "mpaGrOF9sAtt",
        "outputId": "72132988-48f6-4179-fe8e-bef4ec5cc1e5"
      },
      "execution_count": 13,
      "outputs": [
        {
          "output_type": "stream",
          "name": "stdout",
          "text": [
            "no\n",
            "userid\n",
            "name\n",
            "hp\n"
          ]
        }
      ]
    },
    {
      "cell_type": "code",
      "source": [
        "dict1 = {'no': 1, 'userid':'apple', 'name':'김사과', 'hp':'010-1111-1111'}\n",
        "\n",
        "for i in dict1.keys():  # key들로 이루어진 리스트 반환.\n",
        "  print(i)"
      ],
      "metadata": {
        "colab": {
          "base_uri": "https://localhost:8080/"
        },
        "id": "HZOOsjB3sAqx",
        "outputId": "2db0b78c-bb54-4044-cb95-ad5097e8b2d0"
      },
      "execution_count": 14,
      "outputs": [
        {
          "output_type": "stream",
          "name": "stdout",
          "text": [
            "no\n",
            "userid\n",
            "name\n",
            "hp\n"
          ]
        }
      ]
    },
    {
      "cell_type": "code",
      "source": [
        "dict1 = {'no': 1, 'userid':'apple', 'name':'김사과', 'hp':'010-1111-1111'}\n",
        "\n",
        "for i in dict1 :\n",
        "  print(dict1[i])"
      ],
      "metadata": {
        "colab": {
          "base_uri": "https://localhost:8080/"
        },
        "id": "ZwqXWr45sAnR",
        "outputId": "2a194bd4-e0a0-41bc-ec08-b48e0cc6c658"
      },
      "execution_count": 12,
      "outputs": [
        {
          "output_type": "stream",
          "name": "stdout",
          "text": [
            "1\n",
            "apple\n",
            "김사과\n",
            "010-1111-1111\n"
          ]
        }
      ]
    },
    {
      "cell_type": "code",
      "source": [
        "dict1 = {'no': 1, 'userid':'apple', 'name':'김사과', 'hp':'010-1111-1111'}\n",
        "\n",
        "for i in dict1 :\n",
        "  print(dict1.get(i),  end=' ') # get은 없는 key값을 넣어도 오류가 나지않고 None값을 다른 출력으로 변경가능."
      ],
      "metadata": {
        "colab": {
          "base_uri": "https://localhost:8080/"
        },
        "id": "yHt7KGLFsAkd",
        "outputId": "c3ef3191-83d1-4ca5-9bf8-7a94ffd2a8e1"
      },
      "execution_count": 16,
      "outputs": [
        {
          "output_type": "stream",
          "name": "stdout",
          "text": [
            "1 apple 김사과 010-1111-1111 "
          ]
        }
      ]
    },
    {
      "cell_type": "code",
      "source": [
        "dict1 = {'no': 1, 'userid':'apple', 'name':'김사과', 'hp':'010-1111-1111'}\n",
        "\n",
        "for i in dict1.items() :\n",
        "  print(i)"
      ],
      "metadata": {
        "colab": {
          "base_uri": "https://localhost:8080/"
        },
        "id": "wXC719W6sAhe",
        "outputId": "12326dd7-a9cc-4089-b373-54bcdb7599df"
      },
      "execution_count": 18,
      "outputs": [
        {
          "output_type": "stream",
          "name": "stdout",
          "text": [
            "('no', 1)\n",
            "('userid', 'apple')\n",
            "('name', '김사과')\n",
            "('hp', '010-1111-1111')\n"
          ]
        }
      ]
    },
    {
      "cell_type": "code",
      "source": [
        "dict1 = {'no': 1, 'userid':'apple', 'name':'김사과', 'hp':'010-1111-1111'}\n",
        "\n",
        "for k, v in dict1.items() :\n",
        "  print(k, v)"
      ],
      "metadata": {
        "colab": {
          "base_uri": "https://localhost:8080/"
        },
        "id": "M4wlJR5OsAcJ",
        "outputId": "3e4ef222-9722-43f1-de28-e6a5b8dfb0fb"
      },
      "execution_count": 20,
      "outputs": [
        {
          "output_type": "stream",
          "name": "stdout",
          "text": [
            "no 1\n",
            "userid apple\n",
            "name 김사과\n",
            "hp 010-1111-1111\n"
          ]
        }
      ]
    },
    {
      "cell_type": "code",
      "source": [
        "li = [1,2,3,4]\n",
        "print(li.pop())\n",
        "print()"
      ],
      "metadata": {
        "id": "DCE8F-_UsAT6"
      },
      "execution_count": null,
      "outputs": []
    },
    {
      "cell_type": "markdown",
      "source": [
        "# **3. 컴프리헨션(Comprehension)**\n",
        "컴프리헨션은 파이썬에서 리스트, 세트, 딕셔너리 등의 컬렉션을 간단하게 생성하거나 변형하는 방법 중 하나입니다. 컴프리헨션은 반복문과 조건문을 사용하여 간결하게 컬렉션을 생성하는 기법으로, 코드를 더 간단하고 가독성 좋게 작성할 수 있도록 도와줍니다."
      ],
      "metadata": {
        "id": "5jtBR-SssAB9"
      }
    },
    {
      "cell_type": "markdown",
      "source": [
        "### 3-1. List 컴프리헨션\n",
        "```\n",
        "[요소 for문]\n",
        "\n",
        "입출력 예시 )\n",
        "      입력 : [i for i in range(10)]\n",
        "      출력 : [0,1,2,3,4,5,6,7,8,9]\n",
        "```"
      ],
      "metadata": {
        "id": "eV-AGA78yH0a"
      }
    },
    {
      "cell_type": "code",
      "source": [
        "num = 10\n",
        "result = [0 for i in range(num)]\n",
        "result"
      ],
      "metadata": {
        "colab": {
          "base_uri": "https://localhost:8080/"
        },
        "id": "c2BsahAwyvF5",
        "outputId": "e2ad2079-b3e4-42db-93cb-f8c896406373"
      },
      "execution_count": 23,
      "outputs": [
        {
          "output_type": "execute_result",
          "data": {
            "text/plain": [
              "[0, 0, 0, 0, 0, 0, 0, 0, 0, 0]"
            ]
          },
          "metadata": {},
          "execution_count": 23
        }
      ]
    },
    {
      "cell_type": "code",
      "source": [
        "li1 = [10, 20, 30, 40, 50, 60, 70, 80, 90, 100]\n",
        "result = [num for num in li1]\n",
        "result"
      ],
      "metadata": {
        "colab": {
          "base_uri": "https://localhost:8080/"
        },
        "id": "7Z3qU53TzT8f",
        "outputId": "17626e05-1e14-454a-892d-0f4a2e4bc35c"
      },
      "execution_count": 25,
      "outputs": [
        {
          "output_type": "execute_result",
          "data": {
            "text/plain": [
              "[10, 20, 30, 40, 50, 60, 70, 80, 90, 100]"
            ]
          },
          "metadata": {},
          "execution_count": 25
        }
      ]
    },
    {
      "cell_type": "code",
      "source": [
        "li2 = ['apple', 'banana', 'orange', 'melon']\n",
        "result = [len(str1) for str1 in li2]\n",
        "result"
      ],
      "metadata": {
        "colab": {
          "base_uri": "https://localhost:8080/"
        },
        "id": "D3q1y7Qs0C1S",
        "outputId": "820fc21a-cb71-4dfa-fbfe-f36cf2672e61"
      },
      "execution_count": 27,
      "outputs": [
        {
          "output_type": "execute_result",
          "data": {
            "text/plain": [
              "[5, 6, 6, 5]"
            ]
          },
          "metadata": {},
          "execution_count": 27
        }
      ]
    },
    {
      "cell_type": "code",
      "source": [
        "result = [num for num in range(10) if num%2 == 0]\n",
        "print(result)"
      ],
      "metadata": {
        "colab": {
          "base_uri": "https://localhost:8080/"
        },
        "id": "7kluiSOY4EOd",
        "outputId": "e98cde05-5769-4ddb-9199-c381d4182f8d"
      },
      "execution_count": 31,
      "outputs": [
        {
          "output_type": "stream",
          "name": "stdout",
          "text": [
            "[0, 2, 4, 6, 8]\n"
          ]
        }
      ]
    },
    {
      "cell_type": "code",
      "source": [
        "li3 = [-1, 0, -4, 24, 5, -10, 2, 20]\n",
        "# 양수만 리스트에 그대로 저장하고 음수는 0으로 변환해서 저장하기\n",
        "result = [i if i>0 else 0 for i in li3]\n",
        "result"
      ],
      "metadata": {
        "colab": {
          "base_uri": "https://localhost:8080/"
        },
        "id": "XzZME9Lf4fvF",
        "outputId": "7f62d849-9685-409f-de99-1016461a1189"
      },
      "execution_count": 34,
      "outputs": [
        {
          "output_type": "execute_result",
          "data": {
            "text/plain": [
              "[0, 0, 0, 24, 5, 0, 2, 20]"
            ]
          },
          "metadata": {},
          "execution_count": 34
        }
      ]
    },
    {
      "cell_type": "code",
      "source": [
        "li4 = []\n",
        "for i in range(1,4) :\n",
        "  for j in range(1,3) :\n",
        "    li4.append(i*j)\n",
        "print(li4)"
      ],
      "metadata": {
        "colab": {
          "base_uri": "https://localhost:8080/"
        },
        "id": "xauLe68i5Nk8",
        "outputId": "4a305a1a-621b-4b2b-d579-a1f1d25dff8a"
      },
      "execution_count": 35,
      "outputs": [
        {
          "output_type": "stream",
          "name": "stdout",
          "text": [
            "[1, 2, 2, 4, 3, 6]\n"
          ]
        }
      ]
    },
    {
      "cell_type": "code",
      "source": [
        "li4 = [i*j for i in range(1,4) for j in range(1,3)]\n",
        "li4"
      ],
      "metadata": {
        "colab": {
          "base_uri": "https://localhost:8080/"
        },
        "id": "EhoHPyhP6yZ_",
        "outputId": "3bf5f903-0077-4e1c-f6aa-f1abd19a0b13"
      },
      "execution_count": 37,
      "outputs": [
        {
          "output_type": "execute_result",
          "data": {
            "text/plain": [
              "[1, 2, 2, 4, 3, 6]"
            ]
          },
          "metadata": {},
          "execution_count": 37
        }
      ]
    },
    {
      "cell_type": "code",
      "source": [],
      "metadata": {
        "id": "5TGb6U6i7BZ8"
      },
      "execution_count": null,
      "outputs": []
    }
  ]
}