{
  "nbformat": 4,
  "nbformat_minor": 0,
  "metadata": {
    "colab": {
      "provenance": [],
      "authorship_tag": "ABX9TyM+a0/X3e88LlqIwqNVfUS5",
      "include_colab_link": true
    },
    "kernelspec": {
      "name": "python3",
      "display_name": "Python 3"
    },
    "language_info": {
      "name": "python"
    }
  },
  "cells": [
    {
      "cell_type": "markdown",
      "metadata": {
        "id": "view-in-github",
        "colab_type": "text"
      },
      "source": [
        "<a href=\"https://colab.research.google.com/github/EG-world/Python/blob/main/16_%EA%B0%9D%EC%B2%B4%EC%A7%80%ED%96%A5%EA%B3%BC_%ED%81%B4%EB%9E%98%EC%8A%A4.ipynb\" target=\"_parent\"><img src=\"https://colab.research.google.com/assets/colab-badge.svg\" alt=\"Open In Colab\"/></a>"
      ]
    },
    {
      "cell_type": "markdown",
      "source": [
        "# **1. 객체지향 프로그래밍**\n",
        "객체지향 프로그래밍(Object-Oriented Programming, OOP)은 소프트웨어를 설계하고 구현하는 데 사용되는 중요한 프로그래밍 패러다임 중 하나입니다. 이 패러다임은 프로그램을 \"객체\"라고 불리는 독립적인 개체로 나누고, 이러한 객체들 간의 상호작용을 통해 프로그램을 구성하는 개발 방법론입니다.\n"
      ],
      "metadata": {
        "id": "SivMwBOC1N0f"
      }
    },
    {
      "cell_type": "markdown",
      "source": [
        "### 절차지향 프로그래밍\n",
        "절차지향프로그래밍은 프로그램을 작성할 때 일련의 절차 또는 단계에 따라 코드를 구성하는 방식입니다. 이러한 단계나 절차들은 주로 함수나 서브루틴으로 나누어져 있으며, 각각의 함수는 특정한 작업을 수행합니다. 주로 '입력 - 처리 - 출력'의 순차적인 절차를 따르며, 코드를 위에서부터 아래로 실행하면서 데이터를 처리하는 방식으로 동작합니다. C 언어와 같은 프로그래밍 언어는 주로 절차지향적인 스타일을 따릅니다."
      ],
      "metadata": {
        "id": "k1qqVrnq2WYA"
      }
    },
    {
      "cell_type": "markdown",
      "source": [
        "### 함수형 프로그래밍\n",
        "함수형프로그래밍은 함수(function)를 가장 중요하게 생각하는 프로그램을 작성하는 패러다임입니다. 함수는 다른 함수에 전달되거나 반환될 수 있으며, 함수들 간의 조합을 통해 복잡한 작업을 수행합니다. 상태를 변경하지 않고 데이터를 처리하고, 부작용(side effect)을 최소화하려는 노력이 있습니다. 함수형 언어로는 Haskell, Lisp, Clojure 등이 있으며, 몇몇 다른 언어들도 함수형 프로그래밍을 지원합니다. 함수형 프로그래밍은 병렬처리와 상태 관리에 용이하며, 함수들을 조합하여 간결하고 안정적인 코드를 작성하는데 도움이 됩니다."
      ],
      "metadata": {
        "id": "-fw6osOw2Tc4"
      }
    },
    {
      "cell_type": "markdown",
      "source": [
        "# **2. 클래스**\n",
        "클래스는 객체를 만들기 위한 템플릿 또는 설계도입니다. 클래스는 객체의 공통 속성과 동작을 정의하며, 객체를 생성하는데 사용됩니다. 예를 들어, \"자동차\" 클래스는 모든 자동차 객체가 가져야 하는 속성(색상, 속도)과 메서드(주행, 멈춤)를 정의할 수 있습니다.\n",
        "```\n",
        "class 클래스이름:\n",
        "    # 클래스 속성(멤버 변수) 정의\n",
        "    속성1 = 초기값1\n",
        "    속성2 = 초기값2\n",
        "\n",
        "    # 생성자 메서드 (생략 가능)\n",
        "    def __init__(self, 매개변수1, 매개변수2, ...):\n",
        "        # 인스턴스 속성 초기화\n",
        "        self.속성1 = 매개변수1\n",
        "        self.속성2 = 매개변수2\n",
        "\n",
        "    # 메서드(멤버 함수) 정의\n",
        "    def 메서드1(self, 매개변수1, 매개변수2, ...):\n",
        "        # 메서드 동작 정의\n",
        "        pass\n",
        "\n",
        "    def 메서드2(self, 매개변수1, 매개변수2, ...):\n",
        "        # 메서드 동작 정의\n",
        "        pass\n",
        "```\n",
        "\n",
        "* **객체(Object)**: 객체는 현실 세계에서의 실제 개체나 추상적인 개념을 모델링한 것입니다. 예를 들어, 자동차, 사람, 은행 계좌 등이 객체가 될 수 있습니다. 객체는 데이터(속성, 상태)와 메서드(동작, 함수)로 구성됩니다.\n",
        "클래스에서 만들어진 실제 존재하는 데이터(프로그램 내에서 사용된 것)\n",
        "\n",
        "* **인스턴스(Instance)**: 클래스를 기반으로 실제로 생성된 객체를 인스턴스라고 합니다. 클래스는 여러 인스턴스를 생성할 수 있으며, 각 인스턴스는 독립적인 데이터와 메서드를 가집니다.\n",
        "객체가 어떤 클래스에서 나왔는지에 초점을 맞출 때 사용하는 용어\n",
        "\n",
        "* **속성(Attributes) 또는 멤버 변수(Fields)**: 객체는 데이터를 저장하기 위한 속성을 가집니다. 이러한 속성은 객체의 상태나 특성을 나타내며 변수로 표현됩니다. 예를 들어, 자동차 객체의 속성은 색상, 속도, 모델 등이 될 수 있습니다.\n",
        "\n",
        "* **메서드(Methods) 또는 멤버 함수(Functions)**: 객체는 데이터를 조작하거나 특정 작업을 수행하기 위한 메서드를 포함합니다. 이러한 메서드는 함수와 비슷하게 동작하지만, 객체의 상태에 접근하고 조작할 수 있습니다. 자동차 객체의 메서드로는 주행, 정지, 경적 울리기 등이 있을 수 있습니다."
      ],
      "metadata": {
        "id": "tcainv472U2a"
      }
    },
    {
      "cell_type": "code",
      "source": [
        "class Dog :\n",
        "  pass"
      ],
      "metadata": {
        "id": "BGwVLc4V2U0o"
      },
      "execution_count": 18,
      "outputs": []
    },
    {
      "cell_type": "code",
      "source": [
        "Dog()"
      ],
      "metadata": {
        "colab": {
          "base_uri": "https://localhost:8080/"
        },
        "id": "oB6eeO8x2Uyo",
        "outputId": "109b2910-1538-460c-a2e1-18a00245ff96"
      },
      "execution_count": 19,
      "outputs": [
        {
          "output_type": "execute_result",
          "data": {
            "text/plain": [
              "<__main__.Dog at 0x7c3898096f20>"
            ]
          },
          "metadata": {},
          "execution_count": 19
        }
      ]
    },
    {
      "cell_type": "code",
      "source": [
        "Rucy = Dog()  # 복사를 해도 같은 주소를 사용하지 않는다.\n",
        "print(Rucy)\n",
        "print(type(Rucy))"
      ],
      "metadata": {
        "colab": {
          "base_uri": "https://localhost:8080/"
        },
        "id": "jQND6F4T2UxB",
        "outputId": "5e201c24-0db1-49ce-a4fa-eec6688b5d0f"
      },
      "execution_count": 22,
      "outputs": [
        {
          "output_type": "stream",
          "name": "stdout",
          "text": [
            "<__main__.Dog object at 0x7c3858bfb5e0>\n",
            "<class '__main__.Dog'>\n"
          ]
        }
      ]
    },
    {
      "cell_type": "code",
      "source": [
        "PPomi = Dog() # 영역이 다른 곳에 메모리가 만들어지기 때문.\n",
        "print(PPomi)\n",
        "print(type(PPomi))"
      ],
      "metadata": {
        "colab": {
          "base_uri": "https://localhost:8080/"
        },
        "id": "ZAh6_Eb42UvN",
        "outputId": "a018fcc7-f7ac-444a-ca9d-cde34c3052d9"
      },
      "execution_count": 21,
      "outputs": [
        {
          "output_type": "stream",
          "name": "stdout",
          "text": [
            "<__main__.Dog object at 0x7c3858bfaef0>\n",
            "<class '__main__.Dog'>\n"
          ]
        }
      ]
    },
    {
      "cell_type": "code",
      "source": [
        "class Dog :\n",
        "  # 클래스 변수 (맴버 변수) : 클래스 안에다 변수를 적는것.\n",
        "  name = ''\n",
        "  age = 0\n",
        "  family = ''"
      ],
      "metadata": {
        "id": "4L10RzwV2UtI"
      },
      "execution_count": 23,
      "outputs": []
    },
    {
      "cell_type": "code",
      "source": [
        "Rucy = Dog()\n",
        "print(Rucy.name, Rucy.age, Rucy.family)"
      ],
      "metadata": {
        "colab": {
          "base_uri": "https://localhost:8080/"
        },
        "id": "lr-RdU8b2UrY",
        "outputId": "c855e79d-fa4f-499d-febd-c7137f8aaab3"
      },
      "execution_count": 24,
      "outputs": [
        {
          "output_type": "stream",
          "name": "stdout",
          "text": [
            " 0 \n"
          ]
        }
      ]
    },
    {
      "cell_type": "code",
      "source": [
        "Rucy.name = '루시'      # 객체지향 프로그래밍에서 직접접근은 위험한 일이다.\n",
        "Rucy.age = 14\n",
        "Rucy.family = '포메'\n",
        "print(Rucy.name, Rucy.age, Rucy.family)"
      ],
      "metadata": {
        "colab": {
          "base_uri": "https://localhost:8080/"
        },
        "id": "0JbQi2CP2Upo",
        "outputId": "8e2808a5-e9b6-4ba2-fdfb-7e0fb594e35e"
      },
      "execution_count": 25,
      "outputs": [
        {
          "output_type": "stream",
          "name": "stdout",
          "text": [
            "루시 14 포메\n"
          ]
        }
      ]
    },
    {
      "cell_type": "code",
      "source": [
        "PPomi = Dog()\n",
        "print(PPomi.name, PPomi.age, PPomi.family)"
      ],
      "metadata": {
        "colab": {
          "base_uri": "https://localhost:8080/"
        },
        "id": "DkbK8iag2Un4",
        "outputId": "35722194-fc06-49fd-9690-334ddd2e9fae"
      },
      "execution_count": 29,
      "outputs": [
        {
          "output_type": "stream",
          "name": "stdout",
          "text": [
            " 0 \n"
          ]
        }
      ]
    },
    {
      "cell_type": "code",
      "source": [
        "PPomi.name = '뽀미'\n",
        "PPomi.age = 7\n",
        "PPomi.family = '폼피츠'\n",
        "print(PPomi.name, PPomi.age, PPomi.family)"
      ],
      "metadata": {
        "colab": {
          "base_uri": "https://localhost:8080/"
        },
        "id": "uNFtCs8Z2UmI",
        "outputId": "0fa29a4c-3a74-4e55-89f3-22684ab3a726"
      },
      "execution_count": 30,
      "outputs": [
        {
          "output_type": "stream",
          "name": "stdout",
          "text": [
            "뽀미 7 폼피츠\n"
          ]
        }
      ]
    },
    {
      "cell_type": "code",
      "source": [
        "class Dog :\n",
        "  name = ''\n",
        "  age = 0\n",
        "  family = ''\n",
        "\n",
        "  def eat(self) : # class 내부에 만드는 함수(메서드)는 관례적으로 self를 넣는다.\n",
        "              # 공통 변수와 같이, 같은 메서드는 비슷한 class가 공통적으로 참조한다.\n",
        "              # 그때 메서드 주소를 넘기는데 관례적으로 self를 사용한다.\n",
        "    print('사료를 먹는다.')\n"
      ],
      "metadata": {
        "id": "vlFTH5Hd2UkY"
      },
      "execution_count": 33,
      "outputs": []
    },
    {
      "cell_type": "code",
      "source": [
        "Rucy = Dog()\n",
        "Rucy.eat()\n",
        "\n",
        "PPomi=Dog()\n",
        "PPomi.eat()\n",
        "\n",
        "# eat만 사용하여 오브젝트 주소를 사용한다면(영역의 주소가 나온다.)"
      ],
      "metadata": {
        "colab": {
          "base_uri": "https://localhost:8080/"
        },
        "id": "Uym-vAIl2Uig",
        "outputId": "1d423e2c-e0b6-49d8-ddf8-eb91ff14d20c"
      },
      "execution_count": 35,
      "outputs": [
        {
          "output_type": "stream",
          "name": "stdout",
          "text": [
            "사료를 먹는다.\n",
            "사료를 먹는다.\n"
          ]
        }
      ]
    },
    {
      "cell_type": "code",
      "source": [
        "print(id(Rucy.eat))\n",
        "print(id(Dog.eat))\n",
        "print(id(PPomi.eat))  # 강사님 그럼 id 주소는 어떤 주소가 나오나요?"
      ],
      "metadata": {
        "colab": {
          "base_uri": "https://localhost:8080/"
        },
        "id": "7PAetMpT2Ugg",
        "outputId": "ed1400e2-ed25-4598-f3a6-6e4b1ad1860a"
      },
      "execution_count": 43,
      "outputs": [
        {
          "output_type": "stream",
          "name": "stdout",
          "text": [
            "136581682573312\n",
            "136581447207088\n",
            "136581682409152\n"
          ]
        }
      ]
    },
    {
      "cell_type": "markdown",
      "source": [
        "# **4. 생성자**\n",
        "파이썬에서 생성자(Constructor)는 클래스의 인스턴스가 생성될 때 자동으로 호출되는 특별한 메서드입니다. 생성자는 객체의 초기화를 담당하며, 객체가 생성될 때 필요한 속성을 초기화하고 설정하는 역할을 합니다. 파이썬에서 생성자 메서드는 \\__init__라고 이름이 정해져 있습니다.\n",
        "```\n",
        "class 클래스이름:\n",
        "    def __init__(self, 매개변수1, 매개변수2):\n",
        "        self.속성1 = 매개변수1\n",
        "        self.속성2 = 매개변수2\n",
        "```"
      ],
      "metadata": {
        "id": "OQj7_c0c2UeY"
      }
    },
    {
      "cell_type": "code",
      "source": [
        "class Dog :\n",
        "  def __init__(self) :\n",
        "    print(self, 'init 호출')"
      ],
      "metadata": {
        "id": "UnztQbDR1ghX"
      },
      "execution_count": 44,
      "outputs": []
    },
    {
      "cell_type": "code",
      "source": [
        "Rucy = Dog()\n",
        "PPomi = Dog()"
      ],
      "metadata": {
        "colab": {
          "base_uri": "https://localhost:8080/"
        },
        "id": "MJ6xi6Sh1gd3",
        "outputId": "a4613c6c-968d-4cd1-daae-6bbc6392d401"
      },
      "execution_count": 47,
      "outputs": [
        {
          "output_type": "stream",
          "name": "stdout",
          "text": [
            "<__main__.Dog object at 0x7c3858bfbfd0> init 호출\n",
            "<__main__.Dog object at 0x7c3858bf9e70> init 호출\n"
          ]
        }
      ]
    },
    {
      "cell_type": "code",
      "source": [
        "class Dog :\n",
        "  def __init__(self) :\n",
        "    # 인스턴스 변수\n",
        "    self.name = ''\n",
        "    self.age = 0\n",
        "    self.family = '포메'"
      ],
      "metadata": {
        "id": "JIXmfQKx1ga5"
      },
      "execution_count": 98,
      "outputs": []
    },
    {
      "cell_type": "code",
      "source": [
        "Rucy = Dog()"
      ],
      "metadata": {
        "id": "u_-YDMSs1gXc"
      },
      "execution_count": 49,
      "outputs": []
    },
    {
      "cell_type": "code",
      "source": [
        "Rucy = Dog()\n",
        "print(Rucy, Rucy.name, Rucy.age, Rucy.family)"
      ],
      "metadata": {
        "colab": {
          "base_uri": "https://localhost:8080/"
        },
        "id": "7HtCmkw81gVD",
        "outputId": "8b2fe0ad-d8c2-4a77-e52c-5a4863fd9138"
      },
      "execution_count": 52,
      "outputs": [
        {
          "output_type": "stream",
          "name": "stdout",
          "text": [
            "<__main__.Dog object at 0x7c3858bfbf10>  0 포메\n"
          ]
        }
      ]
    },
    {
      "cell_type": "code",
      "source": [
        "class Dog :\n",
        "  def __init__(self, name, age,family='족보없음') : # 매개변수(name, age, family)\n",
        "    self.name = name\n",
        "    self.age = age\n",
        "    self.family = family"
      ],
      "metadata": {
        "id": "2xRtxfMG1gRh"
      },
      "execution_count": 60,
      "outputs": []
    },
    {
      "cell_type": "code",
      "source": [
        "# Ruct = Dog() # TypeError: Dog.__init__() missing 2 required positional arguments: 'name' and 'age'\n",
        "Rucy = Dog('rucy', 14, '포메')\n",
        "print(Rucy.name, Rucy.age, Rucy.family)\n",
        "PPomi = Dog('PPomi', 7, '폼피츠')\n",
        "print(PPomi.name, PPomi.age, PPomi.family)"
      ],
      "metadata": {
        "colab": {
          "base_uri": "https://localhost:8080/"
        },
        "id": "rq1XD2y1LHt6",
        "outputId": "aaeb14db-4ecc-4269-b402-721ed611b3bf"
      },
      "execution_count": 62,
      "outputs": [
        {
          "output_type": "stream",
          "name": "stdout",
          "text": [
            "rucy 14 포메\n",
            "PPomi 7 폼피츠\n"
          ]
        }
      ]
    },
    {
      "cell_type": "markdown",
      "source": [
        "# **5. 메서드**\n",
        "메서드(Method)는 객체지향 프로그래밍(OOP)에서 사용되는 함수와 비슷한 개념이지만, 클래스 내부에 정의되어 특정 객체에 연결된 함수입니다. 메서드는 해당 클래스의 모든 객체에서 공유되며, 객체의 동작을 정의하거나 특정 작업을 수행하는 데 사용됩니다.\n"
      ],
      "metadata": {
        "id": "Z6-YQap-1gHj"
      }
    },
    {
      "cell_type": "code",
      "source": [
        "class Counter :\n",
        "  def __init__(self) :\n",
        "    self.num = 0\n",
        "\n",
        "  def increment(self) :\n",
        "    self.num += 1\n",
        "\n",
        "  def current_value(self) :\n",
        "    return self.num\n",
        "\n",
        "  def decrement(self) :\n",
        "    self.num -= 1\n",
        "\n",
        "  def reset(self) :\n",
        "    self.num = 0"
      ],
      "metadata": {
        "id": "RoKf2m2M1gDd"
      },
      "execution_count": 67,
      "outputs": []
    },
    {
      "cell_type": "code",
      "source": [
        "KBbank = Counter()\n",
        "print(KBbank.num)\n",
        "print(KBbank.current_value())\n",
        "KBbank.increment()\n",
        "KBbank.increment()\n",
        "KBbank.increment()\n",
        "print(KBbank.current_value())\n",
        "KBbank.decrement()\n",
        "print(KBbank.current_value())\n",
        "KBbank.reset()\n",
        "print(KBbank.current_value())"
      ],
      "metadata": {
        "colab": {
          "base_uri": "https://localhost:8080/"
        },
        "id": "lj6Rpjox1gAi",
        "outputId": "64eb4d14-c532-4d72-d5fc-185c5b99e44a"
      },
      "execution_count": 70,
      "outputs": [
        {
          "output_type": "stream",
          "name": "stdout",
          "text": [
            "0\n",
            "0\n",
            "3\n",
            "2\n",
            "0\n"
          ]
        }
      ]
    },
    {
      "cell_type": "code",
      "source": [
        "HanaBank = Counter()\n",
        "print(HanaBank.num)\n",
        "HanaBank.increment()\n",
        "HanaBank.increment()\n",
        "HanaBank.increment()\n",
        "HanaBank.increment()\n",
        "HanaBank.increment()\n",
        "print(HanaBank.current_value())\n",
        "print(KBbank.current_value())"
      ],
      "metadata": {
        "colab": {
          "base_uri": "https://localhost:8080/"
        },
        "id": "s8gDqEin1f9x",
        "outputId": "a5dc78d7-2967-4a10-c7cd-d51a6bbd652d"
      },
      "execution_count": 74,
      "outputs": [
        {
          "output_type": "stream",
          "name": "stdout",
          "text": [
            "0\n",
            "5\n",
            "0\n"
          ]
        }
      ]
    },
    {
      "cell_type": "markdown",
      "source": [
        "### 문제 1\n",
        "* Math라는 클래스에 사칙연산을 할 수 있는 메서드를 만들고 이를 사용하는 에제 프로그램을 작성해보자\n",
        "* 단, 사칙연산 메서드는 각각 별도로 생성(plus, minus, mul, div)"
      ],
      "metadata": {
        "id": "JN0cSuL_1f6p"
      }
    },
    {
      "cell_type": "code",
      "source": [
        "class Math :\n",
        "  def __init__(self, num1, num2) :\n",
        "    self.num1 = num1\n",
        "    self.num2 = num2\n",
        "\n",
        "  def add(self) :\n",
        "    print(f'{self.num1} + {self.num2} = {self.num1+self.num2}')\n",
        "\n",
        "  def sub(self) :\n",
        "    print(f'{self.num1} - {self.num2} = {self.num1-self.num2}')\n",
        "\n",
        "  def mul(self) :\n",
        "    print(f'{self.num1} * {self.num2} = {self.num1*self.num2}')\n",
        "\n",
        "  def div(self) :\n",
        "    print(f'{self.num1} / {self.num2} = {self.num1/self.num2}')"
      ],
      "metadata": {
        "id": "cWC4hNjV1fvj"
      },
      "execution_count": 97,
      "outputs": []
    },
    {
      "cell_type": "code",
      "source": [
        "Ryu = Math(10, 3)\n",
        "Ryu.add()"
      ],
      "metadata": {
        "colab": {
          "base_uri": "https://localhost:8080/"
        },
        "id": "JJe8alco1fsn",
        "outputId": "012f1c96-0e94-4dc2-ac1e-ae39a3554f41"
      },
      "execution_count": 96,
      "outputs": [
        {
          "output_type": "stream",
          "name": "stdout",
          "text": [
            "10 + 3 = 13\n"
          ]
        }
      ]
    },
    {
      "cell_type": "code",
      "source": [
        "class Math2 :\n",
        "  def add(self. x, y) :\n",
        "    return"
      ],
      "metadata": {
        "id": "4hyDDzLkUgxt"
      },
      "execution_count": null,
      "outputs": []
    },
    {
      "cell_type": "markdown",
      "source": [
        "# **6. 클래스 변수와 인스턴스 변수**"
      ],
      "metadata": {
        "id": "72rmJVur1fp1"
      }
    },
    {
      "cell_type": "code",
      "source": [
        "class Dog :\n",
        "  family = '포메' # 클래스 변수\n",
        "\n",
        "  def __init__(self, name, age) :\n",
        "    # 인스턴스 변수\n",
        "    self.name = name\n",
        "    self.age = age\n",
        "\n",
        "  def print_info(self) :\n",
        "    print(f'종 : {Dog.family}') # 클래스 변수\n",
        "    print(f'이름 : {self.name}') # 인스턴스 변수\n",
        "    print(f'나이 : {self.age}') # 인스턴스 변수"
      ],
      "metadata": {
        "id": "h1xJTf1b1fmu"
      },
      "execution_count": 103,
      "outputs": []
    },
    {
      "cell_type": "code",
      "source": [
        "Angma = Dog('앙마', 3)\n",
        "PPomi = Dog('뽀미', 7)\n",
        "Angma.print_info()\n",
        "PPomi.print_info()"
      ],
      "metadata": {
        "colab": {
          "base_uri": "https://localhost:8080/"
        },
        "id": "h6y-RfN11fkB",
        "outputId": "ad630251-f77d-45bc-e18a-dd3bf7212576"
      },
      "execution_count": 106,
      "outputs": [
        {
          "output_type": "stream",
          "name": "stdout",
          "text": [
            "종 : 포메\n",
            "이름 : 앙마\n",
            "나이 : 3\n",
            "종 : 포메\n",
            "이름 : 뽀미\n",
            "나이 : 7\n"
          ]
        }
      ]
    },
    {
      "cell_type": "code",
      "source": [
        "PPomi.family = '폼피츠' # 새로 속성이 만들어졌다고 생각하면 됨.\n",
        "PPomi.print_info()\n",
        "print(PPomi.family)"
      ],
      "metadata": {
        "colab": {
          "base_uri": "https://localhost:8080/"
        },
        "id": "5-x9i1lB1fg4",
        "outputId": "d30e7c62-bafe-400f-9960-ee3e73cb01f4"
      },
      "execution_count": 109,
      "outputs": [
        {
          "output_type": "stream",
          "name": "stdout",
          "text": [
            "종 : 포메\n",
            "이름 : 뽀미\n",
            "나이 : 7\n",
            "폼피츠\n"
          ]
        }
      ]
    },
    {
      "cell_type": "markdown",
      "source": [
        "# **7. 메서드 타입**\n",
        "- **인스턴스 메서드(Instance Method)**: 객체의 상태를 조작하거나 객체에 특정 작업을 수행하는 메서드입니다. 대부분의 클래스 내의 메서드는 인스턴스 메서드입니다.\\_\\_init__ 메서드도 인스턴스 메서드입니다.\n",
        "\n",
        "- **클래스 메서드(Class Method)**: 클래스 레벨에서 동작하며, 모든 인스턴스가 공유하는 메서드입니다. 클래스 메서드는 @classmethod 데코레이터를 사용하여 정의하며, 첫 번째 매개변수로 cls를 사용합니다.\n",
        "\n",
        "- **정적 메서드(Static Method)**: 특정 클래스나 인스턴스와 관련이 없는 메서드로, 클래스 내부에 정의되어 있지만 클래스나 인스턴스와 독립적으로 호출될 수 있습니다. 정적 메서드는 @staticmethod 데코레이터를 사용하여 정의합니다."
      ],
      "metadata": {
        "id": "WlyMu5Ue1fd-"
      }
    },
    {
      "cell_type": "code",
      "source": [
        "# 인스턴스 메서드 예제\n",
        "class Math :\n",
        "  def add(self, x, y) :\n",
        "    return x + y\n",
        "  def sub(self, x, y) :\n",
        "    return x - y\n",
        "  def mul(self, x, y) :\n",
        "    return x * y\n",
        "  def div(self, x, y) :\n",
        "    return x / y\n",
        "\n",
        "math = Math()"
      ],
      "metadata": {
        "id": "LpDUm39e1fbA"
      },
      "execution_count": 110,
      "outputs": []
    },
    {
      "cell_type": "code",
      "source": [
        "# 클래스 메서드   객체를 만들필요가 없어서 함수처럼 실행되긴 하지만,\n",
        "                # 여러 함수를 패키징해서 굳이 저장을 하지 않고 사용하려고 할 떄 사용함.\n",
        "class Math :\n",
        "  title = '클래스 메서드'\n",
        "  @classmethod\n",
        "  def add(cls, x, y) :\n",
        "    return x + y\n",
        "\n",
        "  @classmethod\n",
        "  def sub(cls, x, y) :\n",
        "    return x - y\n",
        "\n",
        "  @classmethod\n",
        "  def methodTest(cls, name) :\n",
        "    return cls.title + name"
      ],
      "metadata": {
        "id": "_aeCDFgmYayj"
      },
      "execution_count": 112,
      "outputs": []
    },
    {
      "cell_type": "code",
      "source": [
        "print(Math.add(10, 3))\n",
        "print(Math.sub(10, 3))\n",
        "print(Math.methodTest('김사과'))"
      ],
      "metadata": {
        "colab": {
          "base_uri": "https://localhost:8080/"
        },
        "id": "DIvK0joh1fYE",
        "outputId": "a017be04-4cf2-4e35-c199-0505db462a98"
      },
      "execution_count": 114,
      "outputs": [
        {
          "output_type": "stream",
          "name": "stdout",
          "text": [
            "13\n",
            "7\n",
            "클래스 메서드김사과\n"
          ]
        }
      ]
    },
    {
      "cell_type": "code",
      "source": [
        "# 정적 메서드 예제\n",
        "class Math :\n",
        "  def __init__(self, x, y) :\n",
        "    self.x = x\n",
        "    self.y = y\n",
        "\n",
        "  def add(self) :\n",
        "    return self.x + self.y\n",
        "\n",
        "  @staticmethod\n",
        "  def div(x, y) :\n",
        "    return x / y"
      ],
      "metadata": {
        "id": "i-Kp1Eph1fVI"
      },
      "execution_count": 115,
      "outputs": []
    },
    {
      "cell_type": "code",
      "source": [
        "math = Math(10,3)\n",
        "print(math.add())\n",
        "print(math.div(10,3)) # 결과는 나오지만 사용하지 않음."
      ],
      "metadata": {
        "colab": {
          "base_uri": "https://localhost:8080/"
        },
        "id": "CvAAvJEv1fSM",
        "outputId": "2a82b7d6-ee59-4385-8273-7f20be577128"
      },
      "execution_count": 120,
      "outputs": [
        {
          "output_type": "stream",
          "name": "stdout",
          "text": [
            "13\n",
            "3.3333333333333335\n"
          ]
        }
      ]
    },
    {
      "cell_type": "code",
      "source": [
        "print(Math.div(10,3))"
      ],
      "metadata": {
        "colab": {
          "base_uri": "https://localhost:8080/"
        },
        "id": "2HdH3jDX1fP1",
        "outputId": "265b4457-4ae1-49a9-9610-5a7f3c579488"
      },
      "execution_count": 119,
      "outputs": [
        {
          "output_type": "stream",
          "name": "stdout",
          "text": [
            "3.3333333333333335\n"
          ]
        }
      ]
    },
    {
      "cell_type": "markdown",
      "source": [
        "### random 모듈"
      ],
      "metadata": {
        "id": "-1iEsQsN1fM6"
      }
    },
    {
      "cell_type": "code",
      "source": [
        "import random as rd"
      ],
      "metadata": {
        "id": "av2IIWVBg72O"
      },
      "execution_count": 128,
      "outputs": []
    },
    {
      "cell_type": "code",
      "source": [
        "rd.random() # 0 <= x < 1 실수"
      ],
      "metadata": {
        "colab": {
          "base_uri": "https://localhost:8080/"
        },
        "id": "YBgK2yK9hL7M",
        "outputId": "f7fa66b1-3db6-48c7-9dc3-731bbb5eef15"
      },
      "execution_count": 129,
      "outputs": [
        {
          "output_type": "execute_result",
          "data": {
            "text/plain": [
              "0.496568700163491"
            ]
          },
          "metadata": {},
          "execution_count": 129
        }
      ]
    },
    {
      "cell_type": "code",
      "source": [
        "rd.random() * 10"
      ],
      "metadata": {
        "colab": {
          "base_uri": "https://localhost:8080/"
        },
        "id": "zBtaUipuhoiY",
        "outputId": "e20c7de2-66df-4aff-d4f2-096eb316b699"
      },
      "execution_count": 130,
      "outputs": [
        {
          "output_type": "execute_result",
          "data": {
            "text/plain": [
              "8.71653722112246"
            ]
          },
          "metadata": {},
          "execution_count": 130
        }
      ]
    },
    {
      "cell_type": "code",
      "source": [
        "int(rd.random() * 10)"
      ],
      "metadata": {
        "colab": {
          "base_uri": "https://localhost:8080/"
        },
        "id": "bE7bU9Blh6_n",
        "outputId": "5c890212-0ba2-41e3-de55-51d2f2490533"
      },
      "execution_count": 131,
      "outputs": [
        {
          "output_type": "execute_result",
          "data": {
            "text/plain": [
              "1"
            ]
          },
          "metadata": {},
          "execution_count": 131
        }
      ]
    },
    {
      "cell_type": "code",
      "source": [
        "int((rd.random() * 45) + 1) # 1 ~ 45.999999"
      ],
      "metadata": {
        "colab": {
          "base_uri": "https://localhost:8080/"
        },
        "id": "ERgSrgJZh98a",
        "outputId": "985db835-6a98-4561-9f32-6ae9af0c268e"
      },
      "execution_count": 132,
      "outputs": [
        {
          "output_type": "execute_result",
          "data": {
            "text/plain": [
              "14"
            ]
          },
          "metadata": {},
          "execution_count": 132
        }
      ]
    },
    {
      "cell_type": "markdown",
      "source": [
        "### 과제 1\n",
        "* 가위, 바위, 보 게임을 만들어보자\n",
        "* 가위, 바위, 보 중 하나를 입력하세요 : 가위바위보 중 1 입력\n",
        "* 출력 예시\n",
        "  * 컴퓨터 -> 바위\n",
        "  * 유저 -> 가위\n",
        "  * 컴퓨터 승\n",
        "* 단, 사용자가 이길때 까지 반복"
      ],
      "metadata": {
        "id": "Bd6ZvK97ibvc"
      }
    },
    {
      "cell_type": "code",
      "source": [
        "class Battle :\n",
        "\n",
        "  def start(self) :\n",
        "    while True :\n",
        "      self.user = input('가위, 바위, 보 중 하나를 입력하세요 : ')\n",
        "      self.user.replace('가위','2')\n",
        "      self.user.replace('바위','0')\n",
        "      self.user.replace('보','1')\n",
        "      self.com = str(rd.randint(0,2))\n",
        "\n",
        "      if self.user == '2' :\n",
        "        if self.com == '0' :\n",
        "          print('졌습니다 다시하세요!')\n",
        "          continue\n",
        "        elif self.com == '1' :\n",
        "          print('이겼습니다! 축하드려요!')\n",
        "          break\n",
        "        else :\n",
        "          print('아쉽게 비겼네요 ㅠㅠ 다시해보세요!')\n",
        "          continue\n",
        "\n",
        "      elif self.user == '1' :\n",
        "        if self.com == '0' :\n",
        "          print('이겼습니다! 축하드려요!')\n",
        "          break\n",
        "        elif self.com == '1' :\n",
        "          print('아쉽게 비겼네요 ㅠㅠ 다시해보세요!')\n",
        "          continue\n",
        "        else :\n",
        "          print('졌습니다 다시하세요!')\n",
        "          continue\n",
        "\n",
        "      else :\n",
        "        if self.com == '0' :\n",
        "          print('아쉽게 비겼네요 ㅠㅠ 다시해보세요!')\n",
        "          continue\n",
        "        elif self.com == '1' :\n",
        "          print('졌습니다 다시하세요!')\n",
        "          continue\n",
        "        else :\n",
        "          print('이겼습니다! 축하드려요!')\n",
        "          break\n",
        "\n"
      ],
      "metadata": {
        "id": "joz05ToMjGVN"
      },
      "execution_count": 137,
      "outputs": []
    },
    {
      "cell_type": "code",
      "source": [
        "battle = Battle()\n",
        "battle.start()"
      ],
      "metadata": {
        "colab": {
          "base_uri": "https://localhost:8080/"
        },
        "id": "FA-ntIDSnN7f",
        "outputId": "558de252-4df4-4037-cdf8-56608610495a"
      },
      "execution_count": 138,
      "outputs": [
        {
          "output_type": "stream",
          "name": "stdout",
          "text": [
            "가위, 바위, 보 중 하나를 입력하세요 : 가위\n",
            "졌습니다 다시하세요!\n",
            "가위, 바위, 보 중 하나를 입력하세요 : 바위\n",
            "이겼습니다! 축하드려요!\n"
          ]
        }
      ]
    },
    {
      "cell_type": "markdown",
      "source": [
        "### 과제 2\n",
        "로또 예측 프로그램을 작성해보자\n",
        "* 1 ~ 45까지의 임의의 수 6개 출력\n",
        "* 적은 수가 앞으로 오도록 오름차순 출력\n",
        "* 단, 중복된 숫자가 없어야 함"
      ],
      "metadata": {
        "id": "_iPTSZ9sjP3g"
      }
    },
    {
      "cell_type": "code",
      "source": [
        "class Lotto :\n",
        "  def lotto(self) :\n",
        "    print('자동 로또번호 생성기 입니다.')\n",
        "    user = input('로또 번호를 출력 하시겠습니까? (y/n)').strip().lower()\n",
        "    if user == 'n' :\n",
        "      print('프로그램을 종료합니다.')\n",
        "    else :\n",
        "      a = []\n",
        "      while True :\n",
        "        a = set(a)\n",
        "        a.add(rd.randint(1,45))\n",
        "        if len(a) == 6 :\n",
        "          a = list(a)\n",
        "          a.sort()\n",
        "          print(f'예상번호는 {a} 입니다')\n",
        "          break\n",
        "        else :\n",
        "          continue"
      ],
      "metadata": {
        "id": "yqDfFUUPjkla"
      },
      "execution_count": 150,
      "outputs": []
    },
    {
      "cell_type": "code",
      "source": [
        "eugene = Lotto()\n",
        "eugene.lotto()"
      ],
      "metadata": {
        "colab": {
          "base_uri": "https://localhost:8080/"
        },
        "id": "zxpIwEsWqecp",
        "outputId": "224131af-92c3-4928-e5d0-2198e108dc1d"
      },
      "execution_count": 154,
      "outputs": [
        {
          "output_type": "stream",
          "name": "stdout",
          "text": [
            "자동 로또번호 생성기 입니다.\n",
            "로또 번호를 출력 하시겠습니까? (y/n)y\n",
            "예상번호는 [5, 22, 23, 42, 44, 45] 입니다\n"
          ]
        }
      ]
    },
    {
      "cell_type": "code",
      "source": [],
      "metadata": {
        "id": "fJ_-3Ws9qiuz"
      },
      "execution_count": 152,
      "outputs": []
    }
  ]
}