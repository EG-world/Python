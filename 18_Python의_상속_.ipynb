{
  "nbformat": 4,
  "nbformat_minor": 0,
  "metadata": {
    "colab": {
      "provenance": [],
      "authorship_tag": "ABX9TyOH7zAAZWuw2OsU1E3dNT8E",
      "include_colab_link": true
    },
    "kernelspec": {
      "name": "python3",
      "display_name": "Python 3"
    },
    "language_info": {
      "name": "python"
    }
  },
  "cells": [
    {
      "cell_type": "markdown",
      "metadata": {
        "id": "view-in-github",
        "colab_type": "text"
      },
      "source": [
        "<a href=\"https://colab.research.google.com/github/EG-world/Python/blob/main/18_Python%EC%9D%98_%EC%83%81%EC%86%8D_.ipynb\" target=\"_parent\"><img src=\"https://colab.research.google.com/assets/colab-badge.svg\" alt=\"Open In Colab\"/></a>"
      ]
    },
    {
      "cell_type": "markdown",
      "source": [
        "# **1. 상속**\n",
        "파이썬에서 상속은 한 클래스의 속성과 메서드를 다른 클래스에 전달하는 기능을 의미합니다. 상속을 사용하면 기존의 코드를 재사용하고 확장할 수 있습니다. 기본적으로 파이썬의 모든 클래스는 object라는 기본 클래스로부터 상속받습니다.\n",
        "```\n",
        "class Parent:\n",
        "    pass\n",
        "\n",
        "class Child(Parent):\n",
        "    pass\n",
        "```"
      ],
      "metadata": {
        "id": "SsB44DNiCcic"
      }
    },
    {
      "cell_type": "code",
      "source": [
        "class Animal :\n",
        "  def __init__(self, name, age) :\n",
        "    self.name = name\n",
        "    self.age = age\n",
        "\n",
        "  def eat(self, food) :\n",
        "    print(f'{self.name}(이/가) {food} 먹습니다')\n",
        "\n",
        "  def sleep(self, hour) :\n",
        "    print(f'{self.name}(이/가) {hour}시간동안 잡니다')"
      ],
      "metadata": {
        "id": "VKha6W0sKiN1"
      },
      "execution_count": 1,
      "outputs": []
    },
    {
      "cell_type": "code",
      "source": [
        "animal = Animal('동물', 10)\n",
        "animal.eat('먹이')\n",
        "animal.sleep(10)"
      ],
      "metadata": {
        "colab": {
          "base_uri": "https://localhost:8080/"
        },
        "id": "kYlpntGeKiQM",
        "outputId": "22ea4077-1225-4012-8293-6c5fd36b7b42"
      },
      "execution_count": 2,
      "outputs": [
        {
          "output_type": "stream",
          "name": "stdout",
          "text": [
            "동물(이/가) 먹이 먹습니다\n",
            "동물(이/가) 10시간동안 잡니다\n"
          ]
        }
      ]
    },
    {
      "cell_type": "code",
      "source": [
        "class Dog(Animal) :\n",
        "  pass"
      ],
      "metadata": {
        "id": "IZrvJ4M8KiSj"
      },
      "execution_count": 3,
      "outputs": []
    },
    {
      "cell_type": "code",
      "source": [
        "# Animal 클래스를 상속 받았기 때문에 Animal 클래스의 생성자\n",
        "# 매개변수를 전달해야함.\n",
        "Pori = Dog('포리', 3)\n",
        "Pori.eat('사료')\n",
        "Pori.sleep(12)"
      ],
      "metadata": {
        "colab": {
          "base_uri": "https://localhost:8080/"
        },
        "id": "aRZmU2TJKiVd",
        "outputId": "df0abf64-1408-4e66-f0b0-8422eb957ae8"
      },
      "execution_count": 4,
      "outputs": [
        {
          "output_type": "stream",
          "name": "stdout",
          "text": [
            "포리(이/가) 사료 먹습니다\n",
            "포리(이/가) 12시간동안 잡니다\n"
          ]
        }
      ]
    },
    {
      "cell_type": "markdown",
      "source": [
        "# **2. 클래스 상속 시 생성자 호출 순서**\n",
        "1. 자식 클래스(child class)의 생성자가 호출됩니다.\n",
        "2. 자식 클래스의 생성자에서 부모 클래스(parent class)의 생성자를 호출해야 합니다. 이를 위해 super() 함수를 사용합니다. super() 함수는 현재 클래스의 부모 클래스를 참조하며, 부모 클래스의 생성자를 호출할 수 있습니다.\n",
        "3. 부모 클래스의 생성자가 호출됩니다.\n",
        "4. 부모 클래스의 생성자가 실행을 마치면 자식 클래스의 생성자로 돌아가 자식 클래스의 생성자(다음) 코드가 실행됩니다."
      ],
      "metadata": {
        "id": "eWNWe73oKjPf"
      }
    },
    {
      "cell_type": "code",
      "source": [
        "class Parent :\n",
        "  def __init__(init) :\n",
        "    print('부모 클래스 생성자 호출')\n",
        "\n",
        "class Child(Parent) :\n",
        "  def __init__(self) :\n",
        "    print('Child 클래스 생성자 호출')\n",
        "    super().__init__()    # super() 부모클래스를 대신해주는 함수\n",
        "    print('모든 생성자 호출 완료')"
      ],
      "metadata": {
        "id": "vRzIFUXFKjMj"
      },
      "execution_count": 5,
      "outputs": []
    },
    {
      "cell_type": "code",
      "source": [
        "child = Child()"
      ],
      "metadata": {
        "colab": {
          "base_uri": "https://localhost:8080/"
        },
        "id": "3bPhGAsAKjJo",
        "outputId": "50d440b0-a18c-44a9-bf42-bac144f6d9db"
      },
      "execution_count": 6,
      "outputs": [
        {
          "output_type": "stream",
          "name": "stdout",
          "text": [
            "Child 클래스 생성자 호출\n",
            "부모 클래스 생성자 호출\n",
            "모든 생성자 호출 완료\n"
          ]
        }
      ]
    },
    {
      "cell_type": "markdown",
      "source": [
        "# **3. object 클래스**\n",
        "Object 클래스는 파이썬에서 모든 클래스의 부모 클래스 역할을 하는 기본 클래스입니다. 파이썬에서 정의하는 모든 클래스는 자동으로 Object 클래스를 상속받습니다. 이를 통해 파이썬의 모든 객체는 Object 클래스에서 제공하는 기본적인 동작과 메서드를 사용할 수 있게 됩니다. 예를들어 \\_\\_str__(), \\_\\_repr__(), \\_\\_eq__(), \\_\\_hash__() 등이 있습니다.\n",
        "```\n",
        "class MyClass:\n",
        "    pass\n",
        "\n",
        "# 위의 코드는 다음과 동일합니다.\n",
        "class MyClass(object):\n",
        "    pass\n",
        "```"
      ],
      "metadata": {
        "id": "n00aORgPKjDw"
      }
    },
    {
      "cell_type": "markdown",
      "source": [
        "# **4. 메서드 오버라이딩**\n",
        "메서드 오버라이딩(Method Overriding)은 객체 지향 프로그래밍에서 중요한 개념 중 하나로, 서브 클래스(자식 클래스)에서 슈퍼 클래스(부모 클래스)의 메서드를 재정의하는 것을 의미합니다. 오버라이딩을 사용하면, 서브 클래스에서 상속받은 메서드의 동작을 변경하거나 확장할 수 있습니다."
      ],
      "metadata": {
        "id": "v-W13VorKjAR"
      }
    },
    {
      "cell_type": "code",
      "source": [
        "class Animal :\n",
        "  def __init__(self, name, age) :\n",
        "    self.name = name\n",
        "    self.age = age\n",
        "\n",
        "  def eat(self, food) :\n",
        "    print(f'{self.name}(이/가) {food} 먹습니다')\n",
        "\n",
        "  def sleep(self, hour) :\n",
        "    print(f'{self.name}(이/가) {hour}시간동안 잡니다')"
      ],
      "metadata": {
        "id": "TY8ROqdkKi95"
      },
      "execution_count": 7,
      "outputs": []
    },
    {
      "cell_type": "code",
      "source": [
        "class Dog(Animal) :\n",
        "  def run(self) :\n",
        "    print(f'{self.name} 달립니다')"
      ],
      "metadata": {
        "id": "vyLCmesbKi6_"
      },
      "execution_count": 8,
      "outputs": []
    },
    {
      "cell_type": "code",
      "source": [
        "Rucy = Dog('루시', 14)\n",
        "Rucy.eat('사료')\n",
        "Rucy.sleep(12)\n",
        "Rucy.run()"
      ],
      "metadata": {
        "id": "0QoOD_iUKi4D",
        "colab": {
          "base_uri": "https://localhost:8080/"
        },
        "outputId": "c12d83a8-2cb6-4e23-c6f6-f887582b1e2d"
      },
      "execution_count": 9,
      "outputs": [
        {
          "output_type": "stream",
          "name": "stdout",
          "text": [
            "루시(이/가) 사료 먹습니다\n",
            "루시(이/가) 12시간동안 잡니다\n",
            "루시 달립니다\n"
          ]
        }
      ]
    },
    {
      "cell_type": "code",
      "source": [
        "class Animal :\n",
        "  def __init__(self, name, age) :\n",
        "    self.name = name\n",
        "    self.age = age\n",
        "\n",
        "  def eat(self, food) :\n",
        "    print(f'{self.name}(이/가) {food} 먹습니다')\n",
        "\n",
        "  def sleep(self, hour) :\n",
        "    print(f'{self.name}(이/가) {hour}시간동안 잡니다')\n",
        "\n",
        "class Dog(Animal) :\n",
        "  def run(self) :\n",
        "    print(f'{self.name} 달립니다')\n",
        "\n",
        "  def eat(self, food) :\n",
        "    print(f'{self.name}(이/가) {food}를 아주 맛있게 먹습니다')\n",
        "\n",
        "  def superEat(self, food) :\n",
        "    super().eat(food)\n"
      ],
      "metadata": {
        "id": "lmwzni6DKi1I"
      },
      "execution_count": 10,
      "outputs": []
    },
    {
      "cell_type": "code",
      "source": [
        "Rucy = Dog('루시', 14)\n",
        "Rucy.eat('사료')\n",
        "Rucy.sleep(12)\n",
        "Rucy.run()\n",
        "Rucy.superEat('사료')"
      ],
      "metadata": {
        "id": "tCwsRwiCKiyM",
        "colab": {
          "base_uri": "https://localhost:8080/"
        },
        "outputId": "1d111bff-e5ae-4309-862a-e5ef245ec413"
      },
      "execution_count": 11,
      "outputs": [
        {
          "output_type": "stream",
          "name": "stdout",
          "text": [
            "루시(이/가) 사료를 아주 맛있게 먹습니다\n",
            "루시(이/가) 12시간동안 잡니다\n",
            "루시 달립니다\n",
            "루시(이/가) 사료 먹습니다\n"
          ]
        }
      ]
    },
    {
      "cell_type": "code",
      "source": [
        "class Animal :\n",
        "  def __init__(self, name, age) :\n",
        "    self.name = name\n",
        "    self.age = age\n",
        "\n",
        "  #  시그니처 : 메서드의 이름, 매개변수의 타입과 개수도 일치해야한다.\n",
        "  def eat(self, food) :\n",
        "    print(f'{self.name}(이/가) {food} 먹습니다')\n",
        "\n",
        "  # def eat(self, name, food) : # 매개변수가 더 추가되어 위 재정의와 다르다면 매개변수가 더 많은걸 실행시킴.\n",
        "  #   print(f'{name}(이/가) {food} 먹습니다')\n",
        "\n",
        "  def sleep(self, hour) :\n",
        "    print(f'{self.name}(이/가) {hour}시간동안 잡니다')"
      ],
      "metadata": {
        "id": "ImVSXp2uKiva"
      },
      "execution_count": 14,
      "outputs": []
    },
    {
      "cell_type": "code",
      "source": [
        "animal = Animal('동물', 10)\n",
        "animal.eat('먹이')\n",
        "animal.sleep(10)"
      ],
      "metadata": {
        "id": "MNfcVcYwKisV",
        "colab": {
          "base_uri": "https://localhost:8080/"
        },
        "outputId": "1395eea5-f4f0-4d88-b4bd-eabc35bfd942"
      },
      "execution_count": 15,
      "outputs": [
        {
          "output_type": "stream",
          "name": "stdout",
          "text": [
            "동물(이/가) 먹이 먹습니다\n",
            "동물(이/가) 10시간동안 잡니다\n"
          ]
        }
      ]
    },
    {
      "cell_type": "markdown",
      "source": [
        "# **5. 다중 상속**\n",
        "다중 상속은 클래스가 둘 이상의 부모 클래스로부터 상속을 받는 기능을 의미합니다. 파이썬은 다른 많은 객체 지향 언어와 달리 다중 상속을 지원합니다. 다중 상속을 사용하면 코드의 재사용성을 향상시킬 수 있지만, 동시에 복잡성이 높아지기 때문에 주의해야 합니다.\n",
        "```\n",
        "class Parent1:\n",
        "    pass\n",
        "\n",
        "class Parent2:\n",
        "    pass\n",
        "\n",
        "class Child(Parent1, Parent2):\n",
        "    pass\n",
        "```"
      ],
      "metadata": {
        "id": "ED7tgeo5KipZ"
      }
    },
    {
      "cell_type": "code",
      "source": [
        "class Animal :\n",
        "  def __init__(self, name, age) :\n",
        "    self.name = name\n",
        "    self.age = age\n",
        "\n",
        "  def eat(self, food) :\n",
        "    print(f'{self.name}(이/가) {food} 먹습니다')\n",
        "\n",
        "  def sleep(self, hour) :\n",
        "    print(f'{self.name}(이/가) {hour}시간동안 잡니다')"
      ],
      "metadata": {
        "id": "vk1RUvuHKimd"
      },
      "execution_count": 16,
      "outputs": []
    },
    {
      "cell_type": "code",
      "source": [
        "class Human :\n",
        "  def __init__(self, name, age) :\n",
        "    self.name = name\n",
        "    self.age = age\n",
        "\n",
        "  def study(self, hour) :\n",
        "      print(f'{self.name}(이/가) {hour}시간 동안 공부를 합니다')\n",
        "\n",
        "  def sleep(self, hour) :\n",
        "      print(f'{self.name}(이/가) {hour} 시간 동안 꿀잠 잡니다')"
      ],
      "metadata": {
        "id": "BE4TL98XbOX3"
      },
      "execution_count": 20,
      "outputs": []
    },
    {
      "cell_type": "code",
      "source": [
        "class Kim(Animal, Human) :\n",
        "  pass"
      ],
      "metadata": {
        "id": "I5ZhLdN7Kijh"
      },
      "execution_count": 21,
      "outputs": []
    },
    {
      "cell_type": "code",
      "source": [
        "kim = Kim('김사과', 20)\n",
        "kim.eat('밥')\n",
        "kim.study(2)\n",
        "kim.sleep(8)"
      ],
      "metadata": {
        "id": "jY_-9ZJjKigl",
        "colab": {
          "base_uri": "https://localhost:8080/"
        },
        "outputId": "f4d9aeda-0646-4203-f5e7-f399393a756b"
      },
      "execution_count": 22,
      "outputs": [
        {
          "output_type": "stream",
          "name": "stdout",
          "text": [
            "김사과(이/가) 밥 먹습니다\n",
            "김사과(이/가) 2시간 동안 공부를 합니다\n",
            "김사과(이/가) 8시간동안 잡니다\n"
          ]
        }
      ]
    },
    {
      "cell_type": "code",
      "source": [
        "print(Kim.mro())"
      ],
      "metadata": {
        "id": "7l--yT4IKidq",
        "colab": {
          "base_uri": "https://localhost:8080/"
        },
        "outputId": "70ee06b5-fd7b-49ae-e246-c7330f2d421f"
      },
      "execution_count": 24,
      "outputs": [
        {
          "output_type": "stream",
          "name": "stdout",
          "text": [
            "[<class '__main__.Kim'>, <class '__main__.Animal'>, <class '__main__.Human'>, <class 'object'>]\n"
          ]
        }
      ]
    },
    {
      "cell_type": "markdown",
      "source": [
        "### C3 선형화 알고리즘\n",
        "* 파이썬의 다중 상속에서 메서드 해결 순서(Method Resolution Order, MRO)를 계산하는 데 사용되는 알고리즘\n",
        "* 복잡한 상속 구조에서 메서드 호출 순서를 명확하게 결정하기 위해 고안된 알고리즘\n",
        "* C3 선형화 규칙\n",
        "  * 자식 클래스가 항상 부모 클래스보다 먼저 온다.\n",
        "  * 부모 클래스들은 상속된 순서대로 나타난다.\n",
        "  * 충돌을 해결할 때는 왼쪽에 있는 부모 클래스의 순서를 우선시한다."
      ],
      "metadata": {
        "id": "7N-5nw-rKiX0"
      }
    },
    {
      "cell_type": "code",
      "source": [
        "class Animal :\n",
        "  def __init__(self, name, age) :\n",
        "    self.name = name\n",
        "    self.age = age\n",
        "\n",
        "  def eat(self, food) :\n",
        "    print(f'{self.name}(이/가) {food} 먹습니다')\n",
        "\n",
        "  def sleep(self, hour) :\n",
        "    print(f'{self.name}(이/가) {hour}시간동안 잡니다')\n",
        "\n",
        "\n",
        "class Human :\n",
        "  def __init__(self, name, age, height) :\n",
        "    self.name = name\n",
        "    self.age = age\n",
        "    self.height = height\n",
        "\n",
        "  def study(self, hour) :\n",
        "      print(f'{self.name}(이/가) {hour}시간 동안 공부를 합니다')\n",
        "\n",
        "  def sleep(self, hour) :\n",
        "      print(f'키가 {self.height}인 {self.name}(이/가) {hour} 시간 동안 꿀잠 잡니다')\n",
        "\n",
        "class Kim(Animal, Human) :\n",
        "  def __init__(self, name, age, height) :\n",
        "    Animal.__init__(self, name, age)\n",
        "    Human.__init__(self, name, age, height)\n",
        "\n",
        "  def sleep(self, hour) :\n",
        "    Human.sleep(self, hour)"
      ],
      "metadata": {
        "id": "a2zHgE4seqnr"
      },
      "execution_count": 35,
      "outputs": []
    },
    {
      "cell_type": "code",
      "source": [
        "kim = Kim('김사과', 20, 160)\n",
        "kim.eat('밥')\n",
        "kim.study(2)\n",
        "kim.sleep(8)"
      ],
      "metadata": {
        "colab": {
          "base_uri": "https://localhost:8080/"
        },
        "id": "Yr_z1fg0fttU",
        "outputId": "9080da15-c8ed-49e1-ef1b-8a293999a165"
      },
      "execution_count": 36,
      "outputs": [
        {
          "output_type": "stream",
          "name": "stdout",
          "text": [
            "김사과(이/가) 밥 먹습니다\n",
            "김사과(이/가) 2시간 동안 공부를 합니다\n",
            "키가 160인 김사과(이/가) 8 시간 동안 꿀잠 잡니다\n"
          ]
        }
      ]
    },
    {
      "cell_type": "code",
      "source": [
        "Kim.mro()"
      ],
      "metadata": {
        "colab": {
          "base_uri": "https://localhost:8080/"
        },
        "id": "aiLq9b82o7Ja",
        "outputId": "50b8d0da-4b04-458a-a22b-f6b0e118ebcd"
      },
      "execution_count": 57,
      "outputs": [
        {
          "output_type": "execute_result",
          "data": {
            "text/plain": [
              "[__main__.Kim, __main__.Animal, __main__.Human, object]"
            ]
          },
          "metadata": {},
          "execution_count": 57
        }
      ]
    },
    {
      "cell_type": "markdown",
      "source": [
        "# **6. super() 함수**\n",
        "super()는 파이썬의 내장 함수로서, 상속과 관련된 작업을 수행할 때 사용됩니다. 특히, 자식 클래스에서 부모 클래스의 메서드를 호출할 때 사용됩니다. super()의 주요 목적은 자식 클래스에서 부모 클래스의 메서드를 오버라이드(재정의)하면서도 그 오버라이드된 메서드 내에서 부모 클래스의 원본 메서드를 호출하는 것입니다."
      ],
      "metadata": {
        "id": "CRN-1OGQftqY"
      }
    },
    {
      "cell_type": "code",
      "source": [
        "class Parent :\n",
        "  def hello(self) :\n",
        "    print('부모 클래스의 hello 메서드')\n",
        "\n",
        "class Child(Parent) :\n",
        "  def hello(self) :\n",
        "    super().hello()\n",
        "    print('자식 클래스의 hello 메서드')"
      ],
      "metadata": {
        "id": "RVTmv6FuftoA"
      },
      "execution_count": 40,
      "outputs": []
    },
    {
      "cell_type": "code",
      "source": [
        "child = Child()\n",
        "child.hello()"
      ],
      "metadata": {
        "colab": {
          "base_uri": "https://localhost:8080/"
        },
        "id": "MyWOIjIyftkh",
        "outputId": "1156e481-e11b-4998-de05-1accebec0970"
      },
      "execution_count": 41,
      "outputs": [
        {
          "output_type": "stream",
          "name": "stdout",
          "text": [
            "부모 클래스의 hello 메서드\n",
            "자식 클래스의 hello 메서드\n"
          ]
        }
      ]
    },
    {
      "cell_type": "code",
      "source": [
        "class Parent :\n",
        "  def __init__(self, value) :\n",
        "    self.value = value\n",
        "\n",
        "class Child(Parent) :\n",
        "  def __init__(self, value, child_value) :\n",
        "    super().__init__(value)\n",
        "    self.child_value = child_value"
      ],
      "metadata": {
        "id": "3vEX1o43fthl"
      },
      "execution_count": 46,
      "outputs": []
    },
    {
      "cell_type": "code",
      "source": [
        "child = Child(10, 20)\n",
        "print(child.value)\n",
        "print(child.child_value)"
      ],
      "metadata": {
        "colab": {
          "base_uri": "https://localhost:8080/"
        },
        "id": "RYg4aMvFftfO",
        "outputId": "da3be724-9db4-49f6-a95f-8fa5095ea80f"
      },
      "execution_count": 49,
      "outputs": [
        {
          "output_type": "stream",
          "name": "stdout",
          "text": [
            "10\n",
            "20\n"
          ]
        }
      ]
    },
    {
      "cell_type": "markdown",
      "source": [
        "### 문제\n",
        "* 아래 다중상속 클래스의 출력이 어떻게 되는지 예측해보자\n",
        "\n",
        "```\n",
        "class Base :\n",
        "  def hello(self) :\n",
        "    print('Base의 hello()')\n",
        "    print('Base 클래스의 hello() 메서드')\n",
        "  \n",
        "class A(Base) :\n",
        "  def hello(self) :\n",
        "    print('A의 hello()')\n",
        "    super().hello()\n",
        "    print('A 클래스의 hello() 메서드')\n",
        "\n",
        "class B(Base) :\n",
        "  def hello(self) :\n",
        "    print('B의 hello()')\n",
        "    super().hello()\n",
        "    print('B 클래스의 hello() 메서드')\n",
        "\n",
        "class Child(A, B) :\n",
        "  def hello(self) :\n",
        "    print('Child의 hello()')\n",
        "    super().hello()\n",
        "    print('Child 클래스의 hello() 메서드')\n",
        "\n",
        "child = Child()\n",
        "child.hello()\n",
        "```"
      ],
      "metadata": {
        "id": "FWL-_geYftbt"
      }
    },
    {
      "cell_type": "markdown",
      "source": [
        "```\n",
        "Chuld의 hello()\n",
        "A의 hello()\n",
        "B의 hello()\n",
        "Base의 hello()\n",
        "Base 클래스의 hello() 메서드\n",
        "B클래스의 hello() 메서드\n",
        "A 클래스의 hello() 메서드\n",
        "Child 클래스의 hello() 메서드\n",
        "```"
      ],
      "metadata": {
        "id": "LbXwHoNNftYy"
      }
    },
    {
      "cell_type": "code",
      "source": [
        "class Base :\n",
        "  def hello(self) :\n",
        "    print('Base의 hello()')\n",
        "    print('Base 클래스의 hello() 메서드')\n",
        "\n",
        "class A(Base) :\n",
        "  def hello(self) :\n",
        "    print('A의 hello()')\n",
        "    super().hello()\n",
        "    print('A 클래스의 hello() 메서드')\n",
        "\n",
        "class B(Base) :\n",
        "  def hello(self) :\n",
        "    print('B의 hello()')\n",
        "    super().hello()\n",
        "    print('B 클래스의 hello() 메서드')\n",
        "\n",
        "class Child(A, B) :\n",
        "  def hello(self) :\n",
        "    print('Child의 hello()')\n",
        "    super().hello()\n",
        "    print('Child 클래스의 hello() 메서드')\n",
        "\n",
        "child = Child()\n",
        "child.hello()"
      ],
      "metadata": {
        "colab": {
          "base_uri": "https://localhost:8080/"
        },
        "id": "mBufunWaftTh",
        "outputId": "a77ecbca-d69c-47a7-dd42-0b3b95db9cea"
      },
      "execution_count": 53,
      "outputs": [
        {
          "output_type": "stream",
          "name": "stdout",
          "text": [
            "Child의 hello()\n",
            "A의 hello()\n",
            "B의 hello()\n",
            "Base의 hello()\n",
            "Base 클래스의 hello() 메서드\n",
            "B 클래스의 hello() 메서드\n",
            "A 클래스의 hello() 메서드\n",
            "Child 클래스의 hello() 메서드\n"
          ]
        }
      ]
    },
    {
      "cell_type": "code",
      "source": [
        "Child.mro()"
      ],
      "metadata": {
        "colab": {
          "base_uri": "https://localhost:8080/"
        },
        "id": "Du2Bcv5OftRN",
        "outputId": "debdff14-3e0b-482c-a910-b981832c4396"
      },
      "execution_count": 56,
      "outputs": [
        {
          "output_type": "execute_result",
          "data": {
            "text/plain": [
              "[__main__.Child, __main__.A, __main__.B, __main__.Base, object]"
            ]
          },
          "metadata": {},
          "execution_count": 56
        }
      ]
    },
    {
      "cell_type": "code",
      "source": [],
      "metadata": {
        "id": "9VuRCCMWftOP"
      },
      "execution_count": null,
      "outputs": []
    },
    {
      "cell_type": "code",
      "source": [],
      "metadata": {
        "id": "54iXTSOAftLT"
      },
      "execution_count": null,
      "outputs": []
    },
    {
      "cell_type": "code",
      "source": [],
      "metadata": {
        "id": "GNY_8uHTftIZ"
      },
      "execution_count": null,
      "outputs": []
    },
    {
      "cell_type": "code",
      "source": [],
      "metadata": {
        "id": "s47hREPsftGB"
      },
      "execution_count": null,
      "outputs": []
    },
    {
      "cell_type": "code",
      "source": [],
      "metadata": {
        "id": "ig84pxPEftCg"
      },
      "execution_count": null,
      "outputs": []
    },
    {
      "cell_type": "code",
      "source": [],
      "metadata": {
        "id": "d8LRb7sWftAL"
      },
      "execution_count": null,
      "outputs": []
    },
    {
      "cell_type": "code",
      "source": [],
      "metadata": {
        "id": "GK0QkmPBfs91"
      },
      "execution_count": null,
      "outputs": []
    },
    {
      "cell_type": "code",
      "source": [],
      "metadata": {
        "id": "nJ53wNVTfs66"
      },
      "execution_count": null,
      "outputs": []
    },
    {
      "cell_type": "code",
      "source": [],
      "metadata": {
        "id": "lMH_nIplfscj"
      },
      "execution_count": null,
      "outputs": []
    }
  ]
}