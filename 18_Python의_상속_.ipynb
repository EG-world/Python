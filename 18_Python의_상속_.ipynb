{
  "nbformat": 4,
  "nbformat_minor": 0,
  "metadata": {
    "colab": {
      "provenance": [],
      "authorship_tag": "ABX9TyMljr+KyOYyiEWzqyuSAZqG",
      "include_colab_link": true
    },
    "kernelspec": {
      "name": "python3",
      "display_name": "Python 3"
    },
    "language_info": {
      "name": "python"
    }
  },
  "cells": [
    {
      "cell_type": "markdown",
      "metadata": {
        "id": "view-in-github",
        "colab_type": "text"
      },
      "source": [
        "<a href=\"https://colab.research.google.com/github/EG-world/Python/blob/main/18_Python%EC%9D%98_%EC%83%81%EC%86%8D_.ipynb\" target=\"_parent\"><img src=\"https://colab.research.google.com/assets/colab-badge.svg\" alt=\"Open In Colab\"/></a>"
      ]
    },
    {
      "cell_type": "markdown",
      "source": [
        "# **1. 상속**\n",
        "파이썬에서 상속은 한 클래스의 속성과 메서드를 다른 클래스에 전달하는 기능을 의미합니다. 상속을 사용하면 기존의 코드를 재사용하고 확장할 수 있습니다. 기본적으로 파이썬의 모든 클래스는 object라는 기본 클래스로부터 상속받습니다.\n",
        "```\n",
        "class Parent:\n",
        "    pass\n",
        "\n",
        "class Child(Parent):\n",
        "    pass\n",
        "```"
      ],
      "metadata": {
        "id": "SsB44DNiCcic"
      }
    },
    {
      "cell_type": "code",
      "source": [
        "class Animal :\n",
        "  def __init__(self, name, age) :\n",
        "    self.name = name\n",
        "    self.age = age\n",
        "\n",
        "  def eat(self, food) :\n",
        "    print(f'{self.name}(이/가) {food} 먹습니다')\n",
        "\n",
        "  def sleep(self, hour) :\n",
        "    print(f'{self.name}(이/가) {hour}시간동안 잡니다')"
      ],
      "metadata": {
        "id": "VKha6W0sKiN1"
      },
      "execution_count": null,
      "outputs": []
    },
    {
      "cell_type": "code",
      "source": [
        "animal = Animal('동물', 10)\n",
        "animal.eat('먹이')\n",
        "animal.sleep(10)"
      ],
      "metadata": {
        "colab": {
          "base_uri": "https://localhost:8080/"
        },
        "id": "kYlpntGeKiQM",
        "outputId": "8a972042-315a-4549-c254-2648bf779ad7"
      },
      "execution_count": null,
      "outputs": [
        {
          "output_type": "stream",
          "name": "stdout",
          "text": [
            "동물(이/가) 먹이 먹습니다\n",
            "동물(이/가) 10시간동안 잡니다\n"
          ]
        }
      ]
    },
    {
      "cell_type": "code",
      "source": [
        "class Dog(Animal) :\n",
        "  pass"
      ],
      "metadata": {
        "id": "IZrvJ4M8KiSj"
      },
      "execution_count": null,
      "outputs": []
    },
    {
      "cell_type": "code",
      "source": [
        "# Animal 클래스를 상속 받았기 때문에 Animal 클래스의 생성자\n",
        "# 매개변수를 전달해야함.\n",
        "Pori = Dog('포리', 3)\n",
        "Pori.eat('사료')\n",
        "Pori.sleep(12)"
      ],
      "metadata": {
        "colab": {
          "base_uri": "https://localhost:8080/"
        },
        "id": "aRZmU2TJKiVd",
        "outputId": "9224ceda-189f-414e-ce7c-fbbf22268f4c"
      },
      "execution_count": null,
      "outputs": [
        {
          "output_type": "stream",
          "name": "stdout",
          "text": [
            "포리(이/가) 사료 먹습니다\n",
            "포리(이/가) 12시간동안 잡니다\n"
          ]
        }
      ]
    },
    {
      "cell_type": "markdown",
      "source": [
        "# **2. 클래스 상속 시 생성자 호출 순서**\n",
        "1. 자식 클래스(child class)의 생성자가 호출됩니다.\n",
        "2. 자식 클래스의 생성자에서 부모 클래스(parent class)의 생성자를 호출해야 합니다. 이를 위해 super() 함수를 사용합니다. super() 함수는 현재 클래스의 부모 클래스를 참조하며, 부모 클래스의 생성자를 호출할 수 있습니다.\n",
        "3. 부모 클래스의 생성자가 호출됩니다.\n",
        "4. 부모 클래스의 생성자가 실행을 마치면 자식 클래스의 생성자로 돌아가 자식 클래스의 생성자(다음) 코드가 실행됩니다."
      ],
      "metadata": {
        "id": "eWNWe73oKjPf"
      }
    },
    {
      "cell_type": "code",
      "source": [
        "class Parent :\n",
        "  def __init__(init) :\n",
        "    print('부모 클래스 생성자 호출')\n",
        "\n",
        "class Child(Parent) :\n",
        "  def __init__(self) :\n",
        "    print('Child 클래스 생성자 호출')\n",
        "    super().__init__()    # super() 부모클래스를 대신해주는 함수\n",
        "    print('모든 생성자 호출 완료')"
      ],
      "metadata": {
        "id": "vRzIFUXFKjMj"
      },
      "execution_count": null,
      "outputs": []
    },
    {
      "cell_type": "code",
      "source": [
        "child = Child()"
      ],
      "metadata": {
        "colab": {
          "base_uri": "https://localhost:8080/"
        },
        "id": "3bPhGAsAKjJo",
        "outputId": "2d45730b-2ad6-4c9c-c0d2-afa8c143105c"
      },
      "execution_count": null,
      "outputs": [
        {
          "output_type": "stream",
          "name": "stdout",
          "text": [
            "Child 클래스 생성자 호출\n",
            "부모 클래스 생성자 호출\n",
            "모든 생성자 호출 완료\n"
          ]
        }
      ]
    },
    {
      "cell_type": "code",
      "source": [],
      "metadata": {
        "id": "TGUaEt9fKjGs"
      },
      "execution_count": null,
      "outputs": []
    },
    {
      "cell_type": "code",
      "source": [],
      "metadata": {
        "id": "n00aORgPKjDw"
      },
      "execution_count": null,
      "outputs": []
    },
    {
      "cell_type": "code",
      "source": [],
      "metadata": {
        "id": "v-W13VorKjAR"
      },
      "execution_count": null,
      "outputs": []
    },
    {
      "cell_type": "code",
      "source": [],
      "metadata": {
        "id": "TY8ROqdkKi95"
      },
      "execution_count": null,
      "outputs": []
    },
    {
      "cell_type": "code",
      "source": [],
      "metadata": {
        "id": "vyLCmesbKi6_"
      },
      "execution_count": null,
      "outputs": []
    },
    {
      "cell_type": "code",
      "source": [],
      "metadata": {
        "id": "0QoOD_iUKi4D"
      },
      "execution_count": null,
      "outputs": []
    },
    {
      "cell_type": "code",
      "source": [],
      "metadata": {
        "id": "lmwzni6DKi1I"
      },
      "execution_count": null,
      "outputs": []
    },
    {
      "cell_type": "code",
      "source": [],
      "metadata": {
        "id": "tCwsRwiCKiyM"
      },
      "execution_count": null,
      "outputs": []
    },
    {
      "cell_type": "code",
      "source": [],
      "metadata": {
        "id": "ImVSXp2uKiva"
      },
      "execution_count": null,
      "outputs": []
    },
    {
      "cell_type": "code",
      "source": [],
      "metadata": {
        "id": "MNfcVcYwKisV"
      },
      "execution_count": null,
      "outputs": []
    },
    {
      "cell_type": "code",
      "source": [],
      "metadata": {
        "id": "ED7tgeo5KipZ"
      },
      "execution_count": null,
      "outputs": []
    },
    {
      "cell_type": "code",
      "source": [],
      "metadata": {
        "id": "vk1RUvuHKimd"
      },
      "execution_count": null,
      "outputs": []
    },
    {
      "cell_type": "code",
      "source": [],
      "metadata": {
        "id": "I5ZhLdN7Kijh"
      },
      "execution_count": null,
      "outputs": []
    },
    {
      "cell_type": "code",
      "source": [],
      "metadata": {
        "id": "jY_-9ZJjKigl"
      },
      "execution_count": null,
      "outputs": []
    },
    {
      "cell_type": "code",
      "source": [],
      "metadata": {
        "id": "7l--yT4IKidq"
      },
      "execution_count": null,
      "outputs": []
    },
    {
      "cell_type": "code",
      "source": [],
      "metadata": {
        "id": "7N-5nw-rKiX0"
      },
      "execution_count": null,
      "outputs": []
    }
  ]
}