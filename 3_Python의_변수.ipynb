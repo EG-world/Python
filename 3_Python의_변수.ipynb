{
  "nbformat": 4,
  "nbformat_minor": 0,
  "metadata": {
    "colab": {
      "provenance": [],
      "authorship_tag": "ABX9TyOfaLo243ceUa7PBTBCEVHw",
      "include_colab_link": true
    },
    "kernelspec": {
      "name": "python3",
      "display_name": "Python 3"
    },
    "language_info": {
      "name": "python"
    }
  },
  "cells": [
    {
      "cell_type": "markdown",
      "metadata": {
        "id": "view-in-github",
        "colab_type": "text"
      },
      "source": [
        "<a href=\"https://colab.research.google.com/github/EG-world/Python/blob/main/3_Python%EC%9D%98_%EB%B3%80%EC%88%98.ipynb\" target=\"_parent\"><img src=\"https://colab.research.google.com/assets/colab-badge.svg\" alt=\"Open In Colab\"/></a>"
      ]
    },
    {
      "cell_type": "markdown",
      "source": [
        "# **1. 변수**\n",
        "변수는 프로그래밍에서 데이터를 저장하고 관리하는 데 사용되는 중요한 개념입니다. 변수는 이름이 붙은 메모리 공간으로, 값을 저장하거나 참조할 때 사용됩니다."
      ],
      "metadata": {
        "id": "m_mZFD1Xers-"
      }
    },
    {
      "cell_type": "markdown",
      "source": [
        "### 1-1. 파이썬의 메모리 구조\n",
        "* 프로그램이 실행되기 위해서 먼저 프로그램이 메모리에 로드 되어야 한다.\n",
        "* 프로그램에서 사용되는 변수들을 저장 할 메모리가 필요\n",
        "* 컴퓨터 운영체제는 프로그램 실행을 위해 메모리를 나누어 관리\n",
        "* 파이썬의 메모리 영역\n",
        "  * Code 영역 : 실행할 프로그램의 코드가 저장되는 영역\n",
        "  * Data 영역 : 프로그램의 전역변수, 지역변수 들이 저장되는 영역\n",
        "  * Stack 영역 : 함수의 호출과 관계되는 지역변수, 매개변수가 저장되는 영역\n",
        "  * Heap 영역 : 사용자(개발자)가 직접 관리 할 수 있는 메모리 영역"
      ],
      "metadata": {
        "id": "c0psvM-Ve_Dw"
      }
    },
    {
      "cell_type": "markdown",
      "source": [
        "### 1-2. 변수의 사용\n",
        "ex_ 변수명 = 값"
      ],
      "metadata": {
        "id": "QgoaeGqce_Za"
      }
    },
    {
      "cell_type": "code",
      "source": [
        "name = '이유진'\n",
        "print(name)"
      ],
      "metadata": {
        "id": "BysP8bZZe_bv",
        "colab": {
          "base_uri": "https://localhost:8080/"
        },
        "outputId": "2801c84b-5573-4fe8-aa89-6ff87e35de0d"
      },
      "execution_count": 1,
      "outputs": [
        {
          "output_type": "stream",
          "name": "stdout",
          "text": [
            "이유진\n"
          ]
        }
      ]
    },
    {
      "cell_type": "code",
      "source": [
        "age = 20\n",
        "print(age)"
      ],
      "metadata": {
        "id": "wZ6RwxkIe_dh",
        "colab": {
          "base_uri": "https://localhost:8080/"
        },
        "outputId": "b9e3e765-ebd6-431b-dd8f-243d86474df4"
      },
      "execution_count": 2,
      "outputs": [
        {
          "output_type": "stream",
          "name": "stdout",
          "text": [
            "20\n"
          ]
        }
      ]
    },
    {
      "cell_type": "code",
      "source": [
        "print(name)\n",
        "name = '김주리'\n",
        "print(name)"
      ],
      "metadata": {
        "id": "FFnFJ5N0e_f2",
        "colab": {
          "base_uri": "https://localhost:8080/"
        },
        "outputId": "a4193a17-3fdb-448a-ce16-3e696e9bfd90"
      },
      "execution_count": 3,
      "outputs": [
        {
          "output_type": "stream",
          "name": "stdout",
          "text": [
            "이유진\n",
            "김주리\n"
          ]
        }
      ]
    },
    {
      "cell_type": "markdown",
      "source": [
        "### 1-3. 변수 이름 작성하는 방법\n",
        "파이썬 변수는 대소문자를 구분하며, 예약어 (예: if, while, for 등)는 변수 이름으로 사용할 수 없습니다. 변수 이름은 알파벳으로 시작해야 하며, 숫자나 특수문자는 첫 글자로 올 수 없습니다. 변수 이름은 의미있고 알아보기 쉬운 이름으로 지정하는 것이 좋습니다."
      ],
      "metadata": {
        "id": "sz249rnke_iN"
      }
    },
    {
      "cell_type": "code",
      "source": [
        "num = 10 # Scala(데이터 1개)를 저장하는 경우 관례적으로 변수의 이름은 소문자를 사용.\n",
        "Num = 20 # 두 단어를 합쳐 표현하는 경우 -> ex) myScore 와 같이 표현한다.\n",
        "NuM = 30\n",
        "print(num, Num, NuM)"
      ],
      "metadata": {
        "id": "YxBzVztye_kj",
        "colab": {
          "base_uri": "https://localhost:8080/"
        },
        "outputId": "91d7d416-5dcb-41d5-a0b4-33d7f0683ead"
      },
      "execution_count": 4,
      "outputs": [
        {
          "output_type": "stream",
          "name": "stdout",
          "text": [
            "10 20 30\n"
          ]
        }
      ]
    },
    {
      "cell_type": "code",
      "source": [
        "num1 = 100\n",
        "# 1num = 100 # 변수 이름은 항상 영문자로 시작해야한다!! SyntaxError: invalid decimal literal"
      ],
      "metadata": {
        "id": "8Zb5wROGe_m5"
      },
      "execution_count": 6,
      "outputs": []
    },
    {
      "cell_type": "code",
      "source": [
        "숫자1 = 100\n",
        "숫자2 = 200\n",
        "print(숫자1)\n",
        "print(숫자2)"
      ],
      "metadata": {
        "colab": {
          "base_uri": "https://localhost:8080/"
        },
        "id": "5hgQnk3BliTN",
        "outputId": "c2f10253-e5a0-4222-99bd-0bc00b959810"
      },
      "execution_count": 7,
      "outputs": [
        {
          "output_type": "stream",
          "name": "stdout",
          "text": [
            "100\n",
            "200\n"
          ]
        }
      ]
    },
    {
      "cell_type": "markdown",
      "source": [
        "# **2. 변수의 자료형**\n",
        "파이썬은 동적 타이핑(dynamic typing) 언어로, 변수의 타입을 선언할 필요 없이 값을 할당할 때 자동으로 타입을 추론합니다. 이는 프로그래머가 변수의 타입을 직접 명시할 필요 없이 더 유연하게 코드를 작성할 수 있는 장점을 제공합니다. 그렇지만 이로 인해 잘못된 타입의 값이 변수에 할당되는 상황도 발생할 수 있습니다."
      ],
      "metadata": {
        "id": "MCxjUw7vfAak"
      }
    },
    {
      "cell_type": "code",
      "source": [
        "name = '김사과'\n",
        "age = 20\n",
        "weight = 50.5\n",
        "isLover = False\n",
        "\n",
        "print(name, age, weight, isLover)"
      ],
      "metadata": {
        "colab": {
          "base_uri": "https://localhost:8080/"
        },
        "id": "WpTRxBCRrQ32",
        "outputId": "b5df3d77-eced-43a5-b675-6e501b084f96"
      },
      "execution_count": 21,
      "outputs": [
        {
          "output_type": "stream",
          "name": "stdout",
          "text": [
            "김사과 20 50.5 False\n"
          ]
        }
      ]
    },
    {
      "cell_type": "code",
      "source": [
        "# type() : Python에서 객체의 타입(클래스)를 확인\n",
        "print(type(name)) # <class 'str'> : 문자열\n",
        "print(type(age)) # <class 'int'> : 정수\n",
        "print(type(weight)) # <class 'float'> : 실수\n",
        "print(type(isLover)) # <class 'bool'> : 참, 거짓\n",
        "type(name)"
      ],
      "metadata": {
        "id": "Myduzto2fAYR",
        "colab": {
          "base_uri": "https://localhost:8080/"
        },
        "outputId": "47e9d7d0-ed8d-42bb-9fe9-8c20a2e16028"
      },
      "execution_count": 17,
      "outputs": [
        {
          "output_type": "stream",
          "name": "stdout",
          "text": [
            "<class 'str'>\n",
            "<class 'int'>\n",
            "<class 'float'>\n",
            "<class 'bool'>\n"
          ]
        },
        {
          "output_type": "execute_result",
          "data": {
            "text/plain": [
              "str"
            ]
          },
          "metadata": {},
          "execution_count": 17
        }
      ]
    },
    {
      "cell_type": "markdown",
      "source": [
        "# **3. 변수의 삭제**\n",
        "변수를 삭제하기 위해 del 문을 사용할 수 있습니다. del 문은 지정된 변수를 제거하고 해당 메모리 공간을 해제합니다. 변수가 삭제되면 해당 이름으로 변수에 더 이상 접근할 수 없습니다."
      ],
      "metadata": {
        "id": "Cq3Ikzamskfg"
      }
    },
    {
      "cell_type": "code",
      "source": [
        "name, age, weight, isLover"
      ],
      "metadata": {
        "id": "INkrfQrkfAV4",
        "colab": {
          "base_uri": "https://localhost:8080/"
        },
        "outputId": "6302c08b-bdda-4f09-8beb-9f5cb48b7b4a"
      },
      "execution_count": 18,
      "outputs": [
        {
          "output_type": "execute_result",
          "data": {
            "text/plain": [
              "('김사과', 20, 50.5, False)"
            ]
          },
          "metadata": {},
          "execution_count": 18
        }
      ]
    },
    {
      "cell_type": "code",
      "source": [
        "del isLover"
      ],
      "metadata": {
        "id": "JfCGCjuhfAS7"
      },
      "execution_count": 22,
      "outputs": []
    },
    {
      "cell_type": "code",
      "source": [
        "# isLover # NameError: name 'isLover' is not defined"
      ],
      "metadata": {
        "id": "GgcbJCGpfAQA",
        "colab": {
          "base_uri": "https://localhost:8080/",
          "height": 147
        },
        "outputId": "1f6c3d98-edab-4805-92ae-d0245892ea59"
      },
      "execution_count": 23,
      "outputs": [
        {
          "output_type": "error",
          "ename": "NameError",
          "evalue": "name 'isLover' is not defined",
          "traceback": [
            "\u001b[0;31m---------------------------------------------------------------------------\u001b[0m",
            "\u001b[0;31mNameError\u001b[0m                                 Traceback (most recent call last)",
            "\u001b[0;32m<ipython-input-23-228a18a978be>\u001b[0m in \u001b[0;36m<cell line: 1>\u001b[0;34m()\u001b[0m\n\u001b[0;32m----> 1\u001b[0;31m \u001b[0misLover\u001b[0m\u001b[0;34m\u001b[0m\u001b[0;34m\u001b[0m\u001b[0m\n\u001b[0m",
            "\u001b[0;31mNameError\u001b[0m: name 'isLover' is not defined"
          ]
        }
      ]
    },
    {
      "cell_type": "code",
      "source": [
        "name1='김사과'\n",
        "name2=name1\n",
        "del name1\n",
        "print(name2)"
      ],
      "metadata": {
        "id": "tSzeEms3fANr",
        "colab": {
          "base_uri": "https://localhost:8080/"
        },
        "outputId": "c0ad2856-b973-4b3b-81c0-8c7eda1b9697"
      },
      "execution_count": 24,
      "outputs": [
        {
          "output_type": "stream",
          "name": "stdout",
          "text": [
            "김사과\n"
          ]
        }
      ]
    },
    {
      "cell_type": "code",
      "source": [],
      "metadata": {
        "id": "jQFKQ-DIfALU"
      },
      "execution_count": null,
      "outputs": []
    },
    {
      "cell_type": "code",
      "source": [],
      "metadata": {
        "id": "D4oEHwCWfAIY"
      },
      "execution_count": null,
      "outputs": []
    },
    {
      "cell_type": "code",
      "source": [],
      "metadata": {
        "id": "tZ5xL3fBfAGB"
      },
      "execution_count": null,
      "outputs": []
    },
    {
      "cell_type": "code",
      "source": [],
      "metadata": {
        "id": "Nnsq9JApfAAy"
      },
      "execution_count": null,
      "outputs": []
    },
    {
      "cell_type": "code",
      "source": [],
      "metadata": {
        "id": "k8IroUrPe__A"
      },
      "execution_count": null,
      "outputs": []
    },
    {
      "cell_type": "code",
      "source": [],
      "metadata": {
        "id": "41QiNJRHe_8o"
      },
      "execution_count": null,
      "outputs": []
    },
    {
      "cell_type": "code",
      "source": [],
      "metadata": {
        "id": "UF3qBaude_6S"
      },
      "execution_count": null,
      "outputs": []
    },
    {
      "cell_type": "code",
      "source": [],
      "metadata": {
        "id": "813oqkDke_39"
      },
      "execution_count": null,
      "outputs": []
    },
    {
      "cell_type": "code",
      "source": [],
      "metadata": {
        "id": "-_AqIYebe_1B"
      },
      "execution_count": null,
      "outputs": []
    },
    {
      "cell_type": "code",
      "source": [],
      "metadata": {
        "id": "06PByxTTe_pa"
      },
      "execution_count": null,
      "outputs": []
    }
  ]
}