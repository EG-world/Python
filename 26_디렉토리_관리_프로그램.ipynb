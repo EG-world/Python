{
  "cells": [
    {
      "cell_type": "markdown",
      "metadata": {
        "id": "view-in-github",
        "colab_type": "text"
      },
      "source": [
        "<a href=\"https://colab.research.google.com/github/EG-world/Python/blob/main/26_%EB%94%94%EB%A0%89%ED%86%A0%EB%A6%AC_%EA%B4%80%EB%A6%AC_%ED%94%84%EB%A1%9C%EA%B7%B8%EB%9E%A8.ipynb\" target=\"_parent\"><img src=\"https://colab.research.google.com/assets/colab-badge.svg\" alt=\"Open In Colab\"/></a>"
      ]
    },
    {
      "cell_type": "markdown",
      "id": "ed451995-9b57-46c6-8c5e-677d4b3331dd",
      "metadata": {
        "id": "ed451995-9b57-46c6-8c5e-677d4b3331dd"
      },
      "source": [
        "# **1. 압축파일 정리하기**"
      ]
    },
    {
      "cell_type": "code",
      "execution_count": null,
      "id": "14182e3c-7e54-4ccb-b825-974882d7724b",
      "metadata": {
        "id": "14182e3c-7e54-4ccb-b825-974882d7724b"
      },
      "outputs": [],
      "source": [
        "import os\n",
        "import glob\n",
        "import shutil\n",
        "import fnmatch\n",
        "import pathlib\n",
        "import zipfile"
      ]
    },
    {
      "cell_type": "code",
      "execution_count": null,
      "id": "367e7dcd-59fd-49ef-91fe-f0ae71f877f9",
      "metadata": {
        "id": "367e7dcd-59fd-49ef-91fe-f0ae71f877f9",
        "outputId": "eeaa4996-8c03-4177-c3e3-69a60e4b92e6"
      },
      "outputs": [
        {
          "data": {
            "text/plain": [
              "'C:\\\\EGpro\\\\JupyterNotebook'"
            ]
          },
          "execution_count": 4,
          "metadata": {},
          "output_type": "execute_result"
        }
      ],
      "source": [
        "# 현재 경로 알아보기\n",
        "os.getcwd()"
      ]
    },
    {
      "cell_type": "code",
      "execution_count": null,
      "id": "3a6f4a80-9e96-440c-b5c8-54df890f6709",
      "metadata": {
        "id": "3a6f4a80-9e96-440c-b5c8-54df890f6709"
      },
      "outputs": [],
      "source": [
        "# 정리 대상 디렉토리 경로 설정하기\n",
        "target_path = './정리'"
      ]
    },
    {
      "cell_type": "code",
      "execution_count": null,
      "id": "280147ae-1716-4ef5-9640-064df4ca9a1a",
      "metadata": {
        "id": "280147ae-1716-4ef5-9640-064df4ca9a1a",
        "outputId": "9635cb46-9956-4c1b-bf5a-5cbfe58e5d20"
      },
      "outputs": [
        {
          "name": "stdout",
          "output_type": "stream",
          "text": [
            "['./정리\\\\고라니.zip']\n"
          ]
        }
      ],
      "source": [
        "# '정리' 디렉토리에서 압축 파일 확인하기\n",
        "zipfile_path = []\n",
        "for filename in glob.glob(os.path.join(target_path, '**/*.zip'), recursive=True) : # recursive = 현재위치에서도 찾을것이다.\n",
        "    zipfile_path.append(filename)\n",
        "print(zipfile_path)"
      ]
    },
    {
      "cell_type": "code",
      "execution_count": null,
      "id": "108c4b52-6110-481b-a1c8-298940301ebf",
      "metadata": {
        "id": "108c4b52-6110-481b-a1c8-298940301ebf"
      },
      "outputs": [],
      "source": [
        "# 압축파일 해제하기\n",
        "for filename in zipfile_path :\n",
        "    with zipfile.ZipFile(filename) as myzip :\n",
        "        myzip.extractall(target_path)"
      ]
    },
    {
      "cell_type": "code",
      "execution_count": null,
      "id": "1150699f-3691-4d03-bea6-2994992c0efe",
      "metadata": {
        "id": "1150699f-3691-4d03-bea6-2994992c0efe"
      },
      "outputs": [],
      "source": [
        "# 파일 이름 변경 후 압축파일 해제하기\n",
        "for filename in zipfile_path :\n",
        "    with zipfile.ZipFile(filename) as myzip :\n",
        "        zipinfo = myzip.infolist()\n",
        "        # print(zipinfo)\n",
        "        for info in zipinfo :\n",
        "            decode_name = info.filename.encode('cp437').decode('euc-kr')   # utf-8 은 3바이트 이지만 우리나라 주변국 들이 사용하기엔 euc-kr을 사용하는게\n",
        "            info.filename = os.path.join(target_path, decode_name)         # 데이터 용량이 효율적이다.\n",
        "            myzip.extract(info)"
      ]
    },
    {
      "cell_type": "code",
      "execution_count": null,
      "id": "d847bb4e-ec8e-449f-aeb2-27f7285876ca",
      "metadata": {
        "id": "d847bb4e-ec8e-449f-aeb2-27f7285876ca"
      },
      "outputs": [],
      "source": []
    },
    {
      "cell_type": "code",
      "execution_count": null,
      "id": "0183a4da-6eb8-4685-801d-13afa3c0ca4c",
      "metadata": {
        "id": "0183a4da-6eb8-4685-801d-13afa3c0ca4c"
      },
      "outputs": [],
      "source": []
    },
    {
      "cell_type": "code",
      "execution_count": null,
      "id": "2c5b9a76-bcd2-4054-b699-a75b88efb4d3",
      "metadata": {
        "id": "2c5b9a76-bcd2-4054-b699-a75b88efb4d3"
      },
      "outputs": [],
      "source": []
    },
    {
      "cell_type": "code",
      "execution_count": null,
      "id": "06c22155-1159-4cb6-b7c6-d52ba6c1d8bc",
      "metadata": {
        "id": "06c22155-1159-4cb6-b7c6-d52ba6c1d8bc"
      },
      "outputs": [],
      "source": []
    },
    {
      "cell_type": "code",
      "execution_count": null,
      "id": "784cb27a-ad15-4ac9-993b-f09add7dc72b",
      "metadata": {
        "id": "784cb27a-ad15-4ac9-993b-f09add7dc72b"
      },
      "outputs": [],
      "source": []
    },
    {
      "cell_type": "code",
      "execution_count": null,
      "id": "948ece19-ade2-4756-a914-0b1e3ac77d66",
      "metadata": {
        "id": "948ece19-ade2-4756-a914-0b1e3ac77d66"
      },
      "outputs": [],
      "source": []
    },
    {
      "cell_type": "code",
      "execution_count": null,
      "id": "2303ff82-f46f-43b2-ac95-eafa2de40886",
      "metadata": {
        "id": "2303ff82-f46f-43b2-ac95-eafa2de40886"
      },
      "outputs": [],
      "source": []
    },
    {
      "cell_type": "code",
      "execution_count": null,
      "id": "e42ee9b8-5b4b-4de1-a054-c961873eb0fd",
      "metadata": {
        "id": "e42ee9b8-5b4b-4de1-a054-c961873eb0fd"
      },
      "outputs": [],
      "source": []
    },
    {
      "cell_type": "code",
      "execution_count": null,
      "id": "87fb22e1-b201-460a-b5f8-c6677b715767",
      "metadata": {
        "id": "87fb22e1-b201-460a-b5f8-c6677b715767"
      },
      "outputs": [],
      "source": []
    },
    {
      "cell_type": "code",
      "execution_count": null,
      "id": "9f35ad23-5cb6-4571-b7c6-4d361bfe8ea5",
      "metadata": {
        "id": "9f35ad23-5cb6-4571-b7c6-4d361bfe8ea5"
      },
      "outputs": [],
      "source": []
    },
    {
      "cell_type": "code",
      "execution_count": null,
      "id": "99e91d49-db1c-4cfb-940b-24fa7b67fcbb",
      "metadata": {
        "id": "99e91d49-db1c-4cfb-940b-24fa7b67fcbb"
      },
      "outputs": [],
      "source": []
    },
    {
      "cell_type": "code",
      "execution_count": null,
      "id": "876e0bef-a6f0-4f76-a5f6-9f95928aa3e2",
      "metadata": {
        "id": "876e0bef-a6f0-4f76-a5f6-9f95928aa3e2"
      },
      "outputs": [],
      "source": []
    },
    {
      "cell_type": "code",
      "execution_count": null,
      "id": "97fe01cf-33f1-4cc6-aa8c-4fdd7fb2f457",
      "metadata": {
        "id": "97fe01cf-33f1-4cc6-aa8c-4fdd7fb2f457"
      },
      "outputs": [],
      "source": []
    },
    {
      "cell_type": "code",
      "execution_count": null,
      "id": "b04f2bb1-4042-4ce1-b8d1-9d0033a56308",
      "metadata": {
        "id": "b04f2bb1-4042-4ce1-b8d1-9d0033a56308"
      },
      "outputs": [],
      "source": []
    },
    {
      "cell_type": "code",
      "execution_count": null,
      "id": "3ff7e882-7251-48b1-bb8e-54612f62b2a2",
      "metadata": {
        "id": "3ff7e882-7251-48b1-bb8e-54612f62b2a2"
      },
      "outputs": [],
      "source": []
    },
    {
      "cell_type": "code",
      "execution_count": null,
      "id": "f3827a3d-fece-4f26-8be4-dba994f274e3",
      "metadata": {
        "id": "f3827a3d-fece-4f26-8be4-dba994f274e3"
      },
      "outputs": [],
      "source": []
    },
    {
      "cell_type": "code",
      "execution_count": null,
      "id": "85ddb9c9-ecc1-4fd9-91aa-6d13041a163e",
      "metadata": {
        "id": "85ddb9c9-ecc1-4fd9-91aa-6d13041a163e"
      },
      "outputs": [],
      "source": []
    }
  ],
  "metadata": {
    "kernelspec": {
      "display_name": "Python 3 (ipykernel)",
      "language": "python",
      "name": "python3"
    },
    "language_info": {
      "codemirror_mode": {
        "name": "ipython",
        "version": 3
      },
      "file_extension": ".py",
      "mimetype": "text/x-python",
      "name": "python",
      "nbconvert_exporter": "python",
      "pygments_lexer": "ipython3",
      "version": "3.11.9"
    },
    "colab": {
      "provenance": [],
      "include_colab_link": true
    }
  },
  "nbformat": 4,
  "nbformat_minor": 5
}