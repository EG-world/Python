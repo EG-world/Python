{
  "cells": [
    {
      "cell_type": "markdown",
      "metadata": {
        "id": "view-in-github",
        "colab_type": "text"
      },
      "source": [
        "<a href=\"https://colab.research.google.com/github/EG-world/Python/blob/main/26_%EB%94%94%EB%A0%89%ED%86%A0%EB%A6%AC_%EA%B4%80%EB%A6%AC_%ED%94%84%EB%A1%9C%EA%B7%B8%EB%9E%A8.ipynb\" target=\"_parent\"><img src=\"https://colab.research.google.com/assets/colab-badge.svg\" alt=\"Open In Colab\"/></a>"
      ]
    },
    {
      "cell_type": "markdown",
      "id": "ed451995-9b57-46c6-8c5e-677d4b3331dd",
      "metadata": {
        "id": "ed451995-9b57-46c6-8c5e-677d4b3331dd"
      },
      "source": [
        "# **1. 압축파일 정리하기**"
      ]
    },
    {
      "cell_type": "code",
      "execution_count": null,
      "id": "14182e3c-7e54-4ccb-b825-974882d7724b",
      "metadata": {
        "id": "14182e3c-7e54-4ccb-b825-974882d7724b"
      },
      "outputs": [],
      "source": [
        "import os\n",
        "import glob\n",
        "import shutil\n",
        "import fnmatch\n",
        "import pathlib\n",
        "import zipfile"
      ]
    },
    {
      "cell_type": "code",
      "execution_count": null,
      "id": "367e7dcd-59fd-49ef-91fe-f0ae71f877f9",
      "metadata": {
        "id": "367e7dcd-59fd-49ef-91fe-f0ae71f877f9",
        "outputId": "279efc0b-1f79-4524-cc57-239a59c5dc3e"
      },
      "outputs": [
        {
          "data": {
            "text/plain": [
              "'C:\\\\EGpro\\\\JupyterNotebook'"
            ]
          },
          "execution_count": 53,
          "metadata": {},
          "output_type": "execute_result"
        }
      ],
      "source": [
        "# 현재 경로 알아보기\n",
        "os.getcwd()"
      ]
    },
    {
      "cell_type": "code",
      "execution_count": null,
      "id": "3a6f4a80-9e96-440c-b5c8-54df890f6709",
      "metadata": {
        "id": "3a6f4a80-9e96-440c-b5c8-54df890f6709"
      },
      "outputs": [],
      "source": [
        "# 정리 대상 디렉토리 경로 설정하기\n",
        "target_path = './정리'"
      ]
    },
    {
      "cell_type": "code",
      "execution_count": null,
      "id": "280147ae-1716-4ef5-9640-064df4ca9a1a",
      "metadata": {
        "id": "280147ae-1716-4ef5-9640-064df4ca9a1a",
        "outputId": "481dd591-6bb9-4be1-acfb-06deb1f4eaa8"
      },
      "outputs": [
        {
          "name": "stdout",
          "output_type": "stream",
          "text": [
            "['./정리\\\\고라니.zip']\n"
          ]
        }
      ],
      "source": [
        "# '정리' 디렉토리에서 압축 파일 확인하기\n",
        "zipfile_path = []\n",
        "for filename in glob.glob(os.path.join(target_path, '**/*.zip'), recursive=True) : # recursive = 현재위치에서도 찾을것이다.\n",
        "    zipfile_path.append(filename)\n",
        "print(zipfile_path)"
      ]
    },
    {
      "cell_type": "code",
      "execution_count": null,
      "id": "108c4b52-6110-481b-a1c8-298940301ebf",
      "metadata": {
        "id": "108c4b52-6110-481b-a1c8-298940301ebf"
      },
      "outputs": [],
      "source": [
        "# 압축파일 해제하기\n",
        "for filename in zipfile_path :\n",
        "    with zipfile.ZipFile(filename) as myzip :\n",
        "        myzip.extractall(target_path)"
      ]
    },
    {
      "cell_type": "code",
      "execution_count": null,
      "id": "1150699f-3691-4d03-bea6-2994992c0efe",
      "metadata": {
        "id": "1150699f-3691-4d03-bea6-2994992c0efe"
      },
      "outputs": [],
      "source": [
        "# 파일 이름 변경 후 압축파일 해제하기\n",
        "for filename in zipfile_path :\n",
        "    with zipfile.ZipFile(filename) as myzip :\n",
        "        zipinfo = myzip.infolist()\n",
        "        # print(zipinfo)\n",
        "        for info in zipinfo :\n",
        "            decode_name = info.filename.encode('cp437').decode('euc-kr')   # utf-8 은 3바이트 이지만 우리나라 주변국 들이 사용하기엔 euc-kr을 사용하는게\n",
        "            info.filename = os.path.join(target_path, decode_name)         # 데이터 용량이 효율적이다.\n",
        "            myzip.extract(info)"
      ]
    },
    {
      "cell_type": "code",
      "execution_count": null,
      "id": "d847bb4e-ec8e-449f-aeb2-27f7285876ca",
      "metadata": {
        "id": "d847bb4e-ec8e-449f-aeb2-27f7285876ca",
        "outputId": "dd856b0f-0696-48cb-a82d-749cac5c9dec"
      },
      "outputs": [
        {
          "name": "stdout",
          "output_type": "stream",
          "text": [
            "['./정리\\\\데이터저장_물류.zip']\n"
          ]
        }
      ],
      "source": [
        "# '고라니.zip' 삭제 후 실행\n",
        "zipfile_path = []\n",
        "for filename in glob.glob(os.path.join(target_path, '**/*.zip'), recursive=True) : # recursive = 현재위치에서도 찾을것이다.\n",
        "    zipfile_path.append(filename)\n",
        "print(zipfile_path)"
      ]
    },
    {
      "cell_type": "code",
      "execution_count": null,
      "id": "0183a4da-6eb8-4685-801d-13afa3c0ca4c",
      "metadata": {
        "id": "0183a4da-6eb8-4685-801d-13afa3c0ca4c"
      },
      "outputs": [],
      "source": [
        "for filename in zipfile_path :\n",
        "    with zipfile.ZipFile(filename) as myzip :\n",
        "        zipinfo = myzip.infolist()\n",
        "        # print(zipinfo)\n",
        "        for info in zipinfo :\n",
        "            decode_name = info.filename.encode('cp437').decode('euc-kr')\n",
        "            info.filename = os.path.join(target_path, decode_name)\n",
        "            myzip.extract(info)"
      ]
    },
    {
      "cell_type": "markdown",
      "id": "613d898b-60e0-4102-b670-3f068dd5b337",
      "metadata": {
        "id": "613d898b-60e0-4102-b670-3f068dd5b337"
      },
      "source": [
        "# **2. 파일명 정리하기**"
      ]
    },
    {
      "cell_type": "code",
      "execution_count": null,
      "id": "06c22155-1159-4cb6-b7c6-d52ba6c1d8bc",
      "metadata": {
        "id": "06c22155-1159-4cb6-b7c6-d52ba6c1d8bc",
        "outputId": "d5a2e57d-647f-446e-e6f8-be8f2065f3d7"
      },
      "outputs": [
        {
          "name": "stdout",
          "output_type": "stream",
          "text": [
            "Requirement already satisfied: openpyxl in c:\\users\\user\\appdata\\local\\programs\\python\\python311\\lib\\site-packages (3.1.5)\n",
            "Requirement already satisfied: et-xmlfile in c:\\users\\user\\appdata\\local\\programs\\python\\python311\\lib\\site-packages (from openpyxl) (1.1.0)\n"
          ]
        },
        {
          "name": "stderr",
          "output_type": "stream",
          "text": [
            "\n",
            "[notice] A new release of pip is available: 24.0 -> 24.2\n",
            "[notice] To update, run: python.exe -m pip install --upgrade pip\n"
          ]
        }
      ],
      "source": [
        "!pip install openpyxl"
      ]
    },
    {
      "cell_type": "code",
      "execution_count": null,
      "id": "784cb27a-ad15-4ac9-993b-f09add7dc72b",
      "metadata": {
        "id": "784cb27a-ad15-4ac9-993b-f09add7dc72b"
      },
      "outputs": [],
      "source": [
        "import openpyxl as opx"
      ]
    },
    {
      "cell_type": "code",
      "execution_count": null,
      "id": "e10e3e6b-14b1-4b02-a1b4-bc19bded613f",
      "metadata": {
        "id": "e10e3e6b-14b1-4b02-a1b4-bc19bded613f"
      },
      "outputs": [],
      "source": [
        "def getFileName(target_path):\n",
        "    wb = opx.Workbook()\n",
        "    ws = wb.active\n",
        "\n",
        "    ws.cell(row=1, column=1).value = '파일경로'\n",
        "    ws.cell(row=1, column=2).value = '파일명(변경전)'\n",
        "    ws.cell(row=1, column=3).value = '파일명(변경후)'\n",
        "\n",
        "    i=2\n",
        "\n",
        "    current_dir = target_path\n",
        "    filelist = os.listdir(current_dir)\n",
        "\n",
        "    for filename in filelist:\n",
        "        ws.cell(row=i, column=1).value = current_dir + '/'\n",
        "        ws.cell(row=i, column=2).value = filename\n",
        "        i=i+1\n",
        "\n",
        "    wb.save(os.path.join(target_path, 'filelist.xlsx'))"
      ]
    },
    {
      "cell_type": "code",
      "execution_count": null,
      "id": "a2e6730b-27ca-4257-b023-879e6d6f0ab3",
      "metadata": {
        "id": "a2e6730b-27ca-4257-b023-879e6d6f0ab3",
        "outputId": "20d2e585-3fae-4db5-aad0-8f2098aa1e5d"
      },
      "outputs": [
        {
          "data": {
            "text/plain": [
              "'./정리'"
            ]
          },
          "execution_count": 62,
          "metadata": {},
          "output_type": "execute_result"
        }
      ],
      "source": [
        "target_path"
      ]
    },
    {
      "cell_type": "code",
      "execution_count": null,
      "id": "4a8227db-b664-4bee-bdc4-819fd530e769",
      "metadata": {
        "id": "4a8227db-b664-4bee-bdc4-819fd530e769"
      },
      "outputs": [],
      "source": [
        "getFileName(target_path)"
      ]
    },
    {
      "cell_type": "markdown",
      "id": "9b708b17-3ba9-406f-b7c7-8c4e46dabbfc",
      "metadata": {
        "id": "9b708b17-3ba9-406f-b7c7-8c4e46dabbfc"
      },
      "source": [
        "# **3. 파일명 변경하기**\n",
        "* filelist.xlsx을 열어 \"파일명(변경 후)\" 열에 파일명(변경 전)\"을 복사\n",
        "* 변경할 파일명을 모두 수정"
      ]
    },
    {
      "cell_type": "markdown",
      "id": "c09f69c8-ebed-4c94-a7a3-8c3d52d6d705",
      "metadata": {
        "id": "c09f69c8-ebed-4c94-a7a3-8c3d52d6d705"
      },
      "source": [
        "### 문제\n",
        "```\n",
        "def excelRead(filepath) :\n",
        "  pass\n",
        "```\n",
        "\n",
        "* 단, 튜플로 (디렉토리, 변경 전 파일명, 변경 후 파일명) 으로 나열되는 리스트를 반환\n",
        "* 예) ('./정리/'. 'A"
      ]
    },
    {
      "cell_type": "code",
      "execution_count": null,
      "id": "9f35ad23-5cb6-4571-b7c6-4d361bfe8ea5",
      "metadata": {
        "id": "9f35ad23-5cb6-4571-b7c6-4d361bfe8ea5"
      },
      "outputs": [],
      "source": [
        "def excelRead(filepath) :\n",
        "    wb = opx.load_workbook(filepath)\n",
        "    ws = wb.active  # 시트에 있는 모든 데이터를 참조함.\n",
        "\n",
        "    dirp = [r[0].value for r in ws]\n",
        "    before = [r[1].value for r in ws]\n",
        "    after = [r[2].value for r in ws]\n",
        "\n",
        "    datalist = []\n",
        "    # for t in zip(dirp, before, after) :\n",
        "    #     datalist.append(t)\n",
        "    len_num = len(dirp)\n",
        "    for i in range(1, len_num) :\n",
        "        temp_tuple = (dirp[i], before[i], after[i])\n",
        "        datalist.append(temp_tuple)\n",
        "\n",
        "    return datalist"
      ]
    },
    {
      "cell_type": "code",
      "execution_count": null,
      "id": "876e0bef-a6f0-4f76-a5f6-9f95928aa3e2",
      "metadata": {
        "id": "876e0bef-a6f0-4f76-a5f6-9f95928aa3e2",
        "outputId": "545b1779-720c-4d09-a178-bcfff11978fc"
      },
      "outputs": [
        {
          "name": "stdout",
          "output_type": "stream",
          "text": [
            "[('./정리/', 'A_2022_01_13_부서로그_인사_001.pdf', 'A_2022_01_13_부서로그_인사_001.pdf'), ('./정리/', 'A_2022_01_13_부서로그_인사_002.pdf', 'A_2022_01_13_부서로그_인사_002.pdf'), ('./정리/', 'A_2022_01_13_부서로그_인사_003.pdf', 'A_2022_01_13_부서로그_인사_003.pdf'), ('./정리/', 'A_2022_04_10_생산로그_생산_001.pdf', 'A_2022_04_10_생산로그_생산_001.pdf'), ('./정리/', 'A_2022_04_10_생산로그_생산_002.pdf', 'A_2022_04_10_생산로그_생산_002.pdf'), ('./정리/', 'A_2022_04_10_생산로그_생산_003.pdf', 'A_2022_04_10_생산로그_생산_003.pdf'), ('./정리/', 'A_2022_04_10_생산로그_생산_004.pdf', 'A_2022_04_10_생산로그_생산_004.pdf'), ('./정리/', 'A_2022_06_30_생산로그_생산_001.pdf', 'A_2022_06_30_생산로그_생산_001.pdf'), ('./정리/', 'A_2022_06_30_생산로그_생산_002.pdf', 'A_2022_06_30_생산로그_생산_002.pdf'), ('./정리/', 'A_2022_07_20_부서로그_인사_001.pdf', 'A_2022_07_20_부서로그_인사_001.pdf'), ('./정리/', 'A_2022_07_20_부서로그_인사_002.pdf', 'A_2022_07_20_부서로그_인사_002.pdf'), ('./정리/', 'A_2022_07_20_부서로그_인사_003.pdf', 'A_2022_07_20_부서로그_인사_003.pdf'), ('./정리/', 'A_2022_07_20_부서로그_인사_004 (1).pdf', 'A_2022_07_20_부서로그_인사_004.pdf'), ('./정리/', 'B_2022_02_20_상반기_클래스설계_001.xlsx', 'B_2022_02_20_상반기_클래스설계_001.xlsx'), ('./정리/', 'B_2022_02_20_상반기_클래스설계_002.xlsx', 'B_2022_02_20_상반기_클래스설계_002.xlsx'), ('./정리/', 'B_2022_06_20_하반기_클래스설계_001.xlsx', 'B_2022_06_20_하반기_클래스설계_001.xlsx'), ('./정리/', 'B_2022_06_30_하반기_클래스설계_002.xlsx', 'B_2022_06_30_하반기_클래스설계_002.xlsx'), ('./정리/', 'C_2022_03_30_데이터베이스_ERD_001.xlsx', 'C_2022_03_30_데이터베이스_ERD_001.xlsx'), ('./정리/', 'C_2022_03_30_데이터베이스_ERD_002.xlsx', 'C_2022_03_30_데이터베이스_ERD_002.xlsx'), ('./정리/', 'C_2022_03_30_데이터베이스_ERD_003.xlsx', 'C_2022_03_30_데이터베이스_ERD_003.xlsx'), ('./정리/', 'C_2022_09_10_데이터베이스_ERD_001 (1).xlsx', 'C_2022_09_10_데이터베이스_ERD_001.xlsx'), ('./정리/', 'C_2022_09_10_데이터베이스_ERD_002.xlsx', 'C_2022_09_10_데이터베이스_ERD_002.xlsx'), ('./정리/', 'C_2022_09_10_데이터베이스_ERD_003.xlsx', 'C_2022_09_10_데이터베이스_ERD_003.xlsx'), ('./정리/', 'D_20220110_데이터저장_물류_001.pdf', 'D_20220110_데이터저장_물류_001.pdf'), ('./정리/', 'D_20220110_데이터저장_물류_002.pdf', 'D_20220110_데이터저장_물류_002.pdf'), ('./정리/', 'D_20220723_데이터저장_물류_001.pdf', 'D_20220723_데이터저장_물류_001.pdf'), ('./정리/', 'D_20220723_센터가동현황_물류_002.pdf', 'D_20220723_센터가동현황_물류_002.pdf'), ('./정리/', '내사진.jpg', '내사진.jpg'), ('./정리/', '데이터저장_물류.zip', '데이터저장_물류.zip'), ('./정리/', '새파일1_복사본.txt', '새파일.txt'), ('./정리/', '점심시간.txt', '점심시간.txt'), ('./정리/', '주피터노트북.txt', '주피터노트북_사용법.txt')]\n"
          ]
        }
      ],
      "source": [
        "rename_list = excelRead(os.path.join(target_path, 'filelist.xlsx'))\n",
        "print(rename_list)"
      ]
    },
    {
      "cell_type": "code",
      "execution_count": null,
      "id": "97fe01cf-33f1-4cc6-aa8c-4fdd7fb2f457",
      "metadata": {
        "id": "97fe01cf-33f1-4cc6-aa8c-4fdd7fb2f457"
      },
      "outputs": [],
      "source": [
        "def fileRename(datalist) :\n",
        "    for data in datalist :\n",
        "        print(data[1] + '의 파일명을' + data[2] + '로 변경합니다')\n",
        "        shutil.move(data[0] + data[1], data[0]+data[2])"
      ]
    },
    {
      "cell_type": "code",
      "execution_count": null,
      "id": "b04f2bb1-4042-4ce1-b8d1-9d0033a56308",
      "metadata": {
        "id": "b04f2bb1-4042-4ce1-b8d1-9d0033a56308",
        "outputId": "664c260d-e5a2-4afc-9065-1ba4783aa327"
      },
      "outputs": [
        {
          "name": "stdout",
          "output_type": "stream",
          "text": [
            "A_2022_01_13_부서로그_인사_001.pdf의 파일명을A_2022_01_13_부서로그_인사_001.pdf로 변경합니다\n",
            "A_2022_01_13_부서로그_인사_002.pdf의 파일명을A_2022_01_13_부서로그_인사_002.pdf로 변경합니다\n",
            "A_2022_01_13_부서로그_인사_003.pdf의 파일명을A_2022_01_13_부서로그_인사_003.pdf로 변경합니다\n",
            "A_2022_04_10_생산로그_생산_001.pdf의 파일명을A_2022_04_10_생산로그_생산_001.pdf로 변경합니다\n",
            "A_2022_04_10_생산로그_생산_002.pdf의 파일명을A_2022_04_10_생산로그_생산_002.pdf로 변경합니다\n",
            "A_2022_04_10_생산로그_생산_003.pdf의 파일명을A_2022_04_10_생산로그_생산_003.pdf로 변경합니다\n",
            "A_2022_04_10_생산로그_생산_004.pdf의 파일명을A_2022_04_10_생산로그_생산_004.pdf로 변경합니다\n",
            "A_2022_06_30_생산로그_생산_001.pdf의 파일명을A_2022_06_30_생산로그_생산_001.pdf로 변경합니다\n",
            "A_2022_06_30_생산로그_생산_002.pdf의 파일명을A_2022_06_30_생산로그_생산_002.pdf로 변경합니다\n",
            "A_2022_07_20_부서로그_인사_001.pdf의 파일명을A_2022_07_20_부서로그_인사_001.pdf로 변경합니다\n",
            "A_2022_07_20_부서로그_인사_002.pdf의 파일명을A_2022_07_20_부서로그_인사_002.pdf로 변경합니다\n",
            "A_2022_07_20_부서로그_인사_003.pdf의 파일명을A_2022_07_20_부서로그_인사_003.pdf로 변경합니다\n",
            "A_2022_07_20_부서로그_인사_004 (1).pdf의 파일명을A_2022_07_20_부서로그_인사_004.pdf로 변경합니다\n",
            "B_2022_02_20_상반기_클래스설계_001.xlsx의 파일명을B_2022_02_20_상반기_클래스설계_001.xlsx로 변경합니다\n",
            "B_2022_02_20_상반기_클래스설계_002.xlsx의 파일명을B_2022_02_20_상반기_클래스설계_002.xlsx로 변경합니다\n",
            "B_2022_06_20_하반기_클래스설계_001.xlsx의 파일명을B_2022_06_20_하반기_클래스설계_001.xlsx로 변경합니다\n",
            "B_2022_06_30_하반기_클래스설계_002.xlsx의 파일명을B_2022_06_30_하반기_클래스설계_002.xlsx로 변경합니다\n",
            "C_2022_03_30_데이터베이스_ERD_001.xlsx의 파일명을C_2022_03_30_데이터베이스_ERD_001.xlsx로 변경합니다\n",
            "C_2022_03_30_데이터베이스_ERD_002.xlsx의 파일명을C_2022_03_30_데이터베이스_ERD_002.xlsx로 변경합니다\n",
            "C_2022_03_30_데이터베이스_ERD_003.xlsx의 파일명을C_2022_03_30_데이터베이스_ERD_003.xlsx로 변경합니다\n",
            "C_2022_09_10_데이터베이스_ERD_001 (1).xlsx의 파일명을C_2022_09_10_데이터베이스_ERD_001.xlsx로 변경합니다\n",
            "C_2022_09_10_데이터베이스_ERD_002.xlsx의 파일명을C_2022_09_10_데이터베이스_ERD_002.xlsx로 변경합니다\n",
            "C_2022_09_10_데이터베이스_ERD_003.xlsx의 파일명을C_2022_09_10_데이터베이스_ERD_003.xlsx로 변경합니다\n",
            "D_20220110_데이터저장_물류_001.pdf의 파일명을D_20220110_데이터저장_물류_001.pdf로 변경합니다\n",
            "D_20220110_데이터저장_물류_002.pdf의 파일명을D_20220110_데이터저장_물류_002.pdf로 변경합니다\n",
            "D_20220723_데이터저장_물류_001.pdf의 파일명을D_20220723_데이터저장_물류_001.pdf로 변경합니다\n",
            "D_20220723_센터가동현황_물류_002.pdf의 파일명을D_20220723_센터가동현황_물류_002.pdf로 변경합니다\n",
            "내사진.jpg의 파일명을내사진.jpg로 변경합니다\n",
            "데이터저장_물류.zip의 파일명을데이터저장_물류.zip로 변경합니다\n",
            "새파일1_복사본.txt의 파일명을새파일.txt로 변경합니다\n",
            "점심시간.txt의 파일명을점심시간.txt로 변경합니다\n",
            "주피터노트북.txt의 파일명을주피터노트북_사용법.txt로 변경합니다\n"
          ]
        }
      ],
      "source": [
        "fileRename(rename_list)"
      ]
    },
    {
      "cell_type": "markdown",
      "id": "2934e1b0-535c-45d5-9cb0-0416033527aa",
      "metadata": {
        "id": "2934e1b0-535c-45d5-9cb0-0416033527aa"
      },
      "source": [
        "# **4. 카테고리 뽑기**\n",
        "```\n",
        "def categoryList(target_path) :\n",
        "    pass\n",
        "```\n",
        "* 단, fnmath.fnmatch() 메서드를 사용\n",
        "* 예) ['생산', '클래스설계', '물류', 'ERD', '인사']"
      ]
    },
    {
      "cell_type": "code",
      "execution_count": null,
      "id": "f3827a3d-fece-4f26-8be4-dba994f274e3",
      "metadata": {
        "id": "f3827a3d-fece-4f26-8be4-dba994f274e3"
      },
      "outputs": [],
      "source": [
        "def categoryList(target_path) :\n",
        "    li = []\n",
        "    for filename in os.listdir(os.path.join(target_path)) :\n",
        "            if fnmatch.fnmatch(filename, '*생산*') :\n",
        "                li.append('생산')\n",
        "            elif fnmatch.fnmatch(filename, '*클래스설계*') :\n",
        "                li.append('클래스설계')\n",
        "            elif fnmatch.fnmatch(filename, '*물류*') :\n",
        "                li.append('물류')\n",
        "            elif fnmatch.fnmatch(filename, '*ERD*') :\n",
        "                li.append('ERD')\n",
        "            elif fnmatch.fnmatch(filename, '*인사*') :\n",
        "                li.append('인사')\n",
        "\n",
        "    return list(set(li))"
      ]
    },
    {
      "cell_type": "code",
      "execution_count": null,
      "id": "15c933d1-56dd-4782-86c3-4112d455c23a",
      "metadata": {
        "id": "15c933d1-56dd-4782-86c3-4112d455c23a",
        "outputId": "f40ca0f4-0369-4eb6-d7d9-b2f038ac9259"
      },
      "outputs": [
        {
          "data": {
            "text/plain": [
              "['인사', '생산', '클래스설계', 'ERD', '물류']"
            ]
          },
          "execution_count": 121,
          "metadata": {},
          "output_type": "execute_result"
        }
      ],
      "source": [
        "categoryList(target_path)"
      ]
    },
    {
      "cell_type": "code",
      "execution_count": null,
      "id": "8c238d27-82a6-466d-92eb-6965ad79ddfa",
      "metadata": {
        "id": "8c238d27-82a6-466d-92eb-6965ad79ddfa"
      },
      "outputs": [],
      "source": [
        "def categoryList1(target_path) :\n",
        "    file_list = []\n",
        "    for filename in os.listdir(target_path) :\n",
        "        if fnmatch.fnmatch(filename, '*_[0-9][0-9][0-9].*') :\n",
        "            file_list.append(filename)\n",
        "    category = []\n",
        "    for file in file_list :\n",
        "        temp_list = file.split('_') # ['A','2022','01','13','부서로그','인사','001.pdf']\n",
        "        category.append(temp_list[-2])\n",
        "    return list(set(category))"
      ]
    },
    {
      "cell_type": "code",
      "execution_count": null,
      "id": "9969d3a1-b5e8-48d0-bd9d-94f07c4cc531",
      "metadata": {
        "id": "9969d3a1-b5e8-48d0-bd9d-94f07c4cc531",
        "outputId": "80884bc4-6725-4777-dfa9-808137a2ba94"
      },
      "outputs": [
        {
          "data": {
            "text/plain": [
              "['인사', '생산', '클래스설계', 'ERD', '물류']"
            ]
          },
          "execution_count": 91,
          "metadata": {},
          "output_type": "execute_result"
        }
      ],
      "source": [
        "categoryList1(target_path)"
      ]
    },
    {
      "cell_type": "code",
      "execution_count": null,
      "id": "f8be644e-ffdf-44ef-856a-de6c23d145d5",
      "metadata": {
        "id": "f8be644e-ffdf-44ef-856a-de6c23d145d5",
        "outputId": "87c9cf7a-a7e0-4ae6-f3f8-f8556f021753"
      },
      "outputs": [
        {
          "name": "stdout",
          "output_type": "stream",
          "text": [
            "['인사', '생산', '클래스설계', 'ERD', '물류', '기타']\n"
          ]
        }
      ],
      "source": [
        "catelist = categoryList(target_path) + ['기타']\n",
        "print(catelist)"
      ]
    },
    {
      "cell_type": "markdown",
      "id": "0fa938d5-fe9a-420d-8e5e-67b330d8e652",
      "metadata": {
        "id": "0fa938d5-fe9a-420d-8e5e-67b330d8e652"
      },
      "source": [
        "# **5. 파일 분류 및 이동하기**"
      ]
    },
    {
      "cell_type": "code",
      "execution_count": null,
      "id": "e8c5ab8c-4bca-48a2-b237-899442ff01a2",
      "metadata": {
        "id": "e8c5ab8c-4bca-48a2-b237-899442ff01a2"
      },
      "outputs": [],
      "source": [
        "new_path = './new_정리'"
      ]
    },
    {
      "cell_type": "code",
      "execution_count": null,
      "id": "e5167d4f-2919-4c29-aee8-b8a792b01669",
      "metadata": {
        "id": "e5167d4f-2919-4c29-aee8-b8a792b01669"
      },
      "outputs": [],
      "source": [
        "def makeDir(new_path, catelist) :\n",
        "    for category in catelist :\n",
        "        new_dir = pathlib.Path(os.path.join(new_path, category)) # './new_정리' + '/물류'\n",
        "        new_dir.mkdir(parents=True, exist_ok=True)\n",
        "# parents -> new_정리 라는 파일이 없다면 생성, exist_ok -> for문으로 인해 이미 만들어져있는 new_정리 오류를 무시함."
      ]
    },
    {
      "cell_type": "code",
      "execution_count": null,
      "id": "119be7f1-d666-4225-a625-48442f07ff64",
      "metadata": {
        "id": "119be7f1-d666-4225-a625-48442f07ff64"
      },
      "outputs": [],
      "source": [
        "makeDir(new_path, catelist)"
      ]
    },
    {
      "cell_type": "markdown",
      "id": "816f4ccc-9d14-4a8f-a3be-1bd17797aab6",
      "metadata": {
        "id": "816f4ccc-9d14-4a8f-a3be-1bd17797aab6"
      },
      "source": [
        "### 문제\n",
        "* '정리' 디렉토리에 있는 모든 파일을 'new_정리'에 있는 디렉토리에 따라 파일을 분류하여 저장하기\n",
        "* 단, 파일 이름에 따라 디렉토리에 맞춰 저장 (카테고리가 맞지 않은 파일은 모두 '기타' 디렉토리에 저장)\n",
        "\n",
        "```\n",
        "def moveFile(new_path, target_path, catelist) :\n",
        "    pass\n",
        "```"
      ]
    },
    {
      "cell_type": "code",
      "execution_count": null,
      "id": "79cd6d72-39d5-4220-b912-eb48cae199a9",
      "metadata": {
        "id": "79cd6d72-39d5-4220-b912-eb48cae199a9"
      },
      "outputs": [],
      "source": [
        "# def moveFile(new_path, target_path, catelist) :\n",
        "#     for filename in os.listdir(target_path) :\n",
        "#             if fnmatch.fnmatch(filename, '*생산*') :\n",
        "#                 shutil.move(target_path +'/'+ filename, f'{new_path}/{catelist[1]}/{filename}')\n",
        "#             elif fnmatch.fnmatch(filename, '*클래스설계*') :\n",
        "#                 shutil.move(target_path+'/' +filename, f'{new_path}/{catelist[2]}/{filename}')\n",
        "#             elif fnmatch.fnmatch(filename, '*물류*') :\n",
        "#                 shutil.move(target_path+'/' +filename, f'{new_path}/{catelist[4]}/{filename}')\n",
        "#             elif fnmatch.fnmatch(filename, '*ERD*') :\n",
        "#                 shutil.move(target_path+'/' +filename, f'{new_path}/{catelist[3]}/{filename}')\n",
        "#             elif fnmatch.fnmatch(filename, '*인사*') :\n",
        "#                 shutil.move(target_path+'/' +filename, f'{new_path}/{catelist[0]}/{filename}')\n",
        "#             else :\n",
        "#                 shutil.move(target_path+'/' +filename, f'{new_path}/{catelist[5]}/{filename}')"
      ]
    },
    {
      "cell_type": "code",
      "execution_count": null,
      "id": "0352870a-7043-4fcb-a09c-be3a7ce36c81",
      "metadata": {
        "id": "0352870a-7043-4fcb-a09c-be3a7ce36c81"
      },
      "outputs": [],
      "source": [
        "# moveFile(new_path, target_path, catelist)"
      ]
    },
    {
      "cell_type": "code",
      "execution_count": null,
      "id": "68fb1502-3728-4f74-b510-9e74e60203a7",
      "metadata": {
        "id": "68fb1502-3728-4f74-b510-9e74e60203a7"
      },
      "outputs": [],
      "source": [
        "def moveFile(new_path, target_path, catelist) :\n",
        "    dirlist = os.listdir(new_path)\n",
        "    filelist = os.listdir(target_path)\n",
        "\n",
        "    categorydic = {}\n",
        "    for file in filelist :\n",
        "        try :\n",
        "            temp_list = file.split('_')\n",
        "            assert temp_list[-2] in catelist\n",
        "            categorydic[file] = temp_list[-2]\n",
        "        except :\n",
        "            categorydic[file] = '기타'\n",
        "\n",
        "    for key, value in categorydic.items() :\n",
        "        shutil.copy(target_path + '/' + key, new_path + '/' + value)"
      ]
    },
    {
      "cell_type": "code",
      "execution_count": null,
      "id": "c677097b-9584-45d9-a093-09f226c97842",
      "metadata": {
        "id": "c677097b-9584-45d9-a093-09f226c97842"
      },
      "outputs": [],
      "source": [
        "moveFile(new_path, target_path, catelist)"
      ]
    },
    {
      "cell_type": "markdown",
      "id": "63cfff6b-ca38-4776-8b46-d52b427c53c3",
      "metadata": {
        "id": "63cfff6b-ca38-4776-8b46-d52b427c53c3"
      },
      "source": [
        "### assert\n",
        "* 파이썬에서 디버깅 목적으로 사용하는 구문\n",
        "* 조건이 참인지 확인하고 거짓이면 AssertionError를 발생시킴\n",
        "* 디버그 모드에만 동작하며, 배포시 작동되지 않음"
      ]
    },
    {
      "cell_type": "code",
      "execution_count": null,
      "id": "10fa2b85-a427-4721-9234-1725019744c9",
      "metadata": {
        "id": "10fa2b85-a427-4721-9234-1725019744c9"
      },
      "outputs": [],
      "source": [
        "def divide(a, b) :\n",
        "    assert b != 0, \"b는 0이 될 수 없습니다\"\n",
        "    return a/b"
      ]
    },
    {
      "cell_type": "code",
      "execution_count": null,
      "id": "0e5cf44a-0c32-4188-8546-0b0a0f85ddb9",
      "metadata": {
        "id": "0e5cf44a-0c32-4188-8546-0b0a0f85ddb9",
        "outputId": "8a0db792-2c21-4c1b-e71a-c23d8110d12c"
      },
      "outputs": [
        {
          "ename": "AssertionError",
          "evalue": "b는 0이 될 수 없습니다",
          "output_type": "error",
          "traceback": [
            "\u001b[1;31m---------------------------------------------------------------------------\u001b[0m",
            "\u001b[1;31mAssertionError\u001b[0m                            Traceback (most recent call last)",
            "Cell \u001b[1;32mIn[114], line 1\u001b[0m\n\u001b[1;32m----> 1\u001b[0m \u001b[38;5;28mprint\u001b[39m(\u001b[43mdivide\u001b[49m\u001b[43m(\u001b[49m\u001b[38;5;241;43m10\u001b[39;49m\u001b[43m,\u001b[49m\u001b[38;5;241;43m0\u001b[39;49m\u001b[43m)\u001b[49m)\n",
            "Cell \u001b[1;32mIn[113], line 2\u001b[0m, in \u001b[0;36mdivide\u001b[1;34m(a, b)\u001b[0m\n\u001b[0;32m      1\u001b[0m \u001b[38;5;28;01mdef\u001b[39;00m \u001b[38;5;21mdivide\u001b[39m(a, b) :\n\u001b[1;32m----> 2\u001b[0m     \u001b[38;5;28;01massert\u001b[39;00m b \u001b[38;5;241m!=\u001b[39m \u001b[38;5;241m0\u001b[39m, \u001b[38;5;124m\"\u001b[39m\u001b[38;5;124mb는 0이 될 수 없습니다\u001b[39m\u001b[38;5;124m\"\u001b[39m\n\u001b[0;32m      3\u001b[0m     \u001b[38;5;28;01mreturn\u001b[39;00m a\u001b[38;5;241m/\u001b[39mb\n",
            "\u001b[1;31mAssertionError\u001b[0m: b는 0이 될 수 없습니다"
          ]
        }
      ],
      "source": [
        "print(divide(10,0))"
      ]
    },
    {
      "cell_type": "markdown",
      "id": "6c7d9dcb-a27a-40c4-91c7-8b6ede19baa9",
      "metadata": {
        "id": "6c7d9dcb-a27a-40c4-91c7-8b6ede19baa9"
      },
      "source": [
        "### 과제\n",
        "파이썬에 사진 정보를 읽어올 수 있는 모듈이 있다.\n",
        "그걸 이용하여 사진을 생각했을 때 분류를 할 수 있다.\n",
        "한번 해보자."
      ]
    },
    {
      "cell_type": "code",
      "execution_count": null,
      "id": "785ba73b-60f7-4a1f-85ba-af993c6b381e",
      "metadata": {
        "id": "785ba73b-60f7-4a1f-85ba-af993c6b381e"
      },
      "outputs": [],
      "source": []
    },
    {
      "cell_type": "code",
      "execution_count": null,
      "id": "7f8baa85-e57c-47d8-ba67-4d850eff1c6f",
      "metadata": {
        "id": "7f8baa85-e57c-47d8-ba67-4d850eff1c6f"
      },
      "outputs": [],
      "source": []
    },
    {
      "cell_type": "code",
      "execution_count": null,
      "id": "7f29c672-29e0-4cbf-9461-a2b149d17a77",
      "metadata": {
        "id": "7f29c672-29e0-4cbf-9461-a2b149d17a77"
      },
      "outputs": [],
      "source": []
    },
    {
      "cell_type": "code",
      "execution_count": null,
      "id": "98e11867-473e-4ed9-b023-25c19ae91362",
      "metadata": {
        "id": "98e11867-473e-4ed9-b023-25c19ae91362"
      },
      "outputs": [],
      "source": []
    },
    {
      "cell_type": "code",
      "execution_count": null,
      "id": "9209ac46-d0c1-4c46-a19f-4b70277d14d8",
      "metadata": {
        "id": "9209ac46-d0c1-4c46-a19f-4b70277d14d8"
      },
      "outputs": [],
      "source": []
    },
    {
      "cell_type": "code",
      "execution_count": null,
      "id": "a1053d90-06c8-44cd-a7af-3c9e3abb9222",
      "metadata": {
        "id": "a1053d90-06c8-44cd-a7af-3c9e3abb9222"
      },
      "outputs": [],
      "source": []
    }
  ],
  "metadata": {
    "kernelspec": {
      "display_name": "Python 3 (ipykernel)",
      "language": "python",
      "name": "python3"
    },
    "language_info": {
      "codemirror_mode": {
        "name": "ipython",
        "version": 3
      },
      "file_extension": ".py",
      "mimetype": "text/x-python",
      "name": "python",
      "nbconvert_exporter": "python",
      "pygments_lexer": "ipython3",
      "version": "3.11.9"
    },
    "colab": {
      "provenance": [],
      "include_colab_link": true
    }
  },
  "nbformat": 4,
  "nbformat_minor": 5
}