{
  "nbformat": 4,
  "nbformat_minor": 0,
  "metadata": {
    "colab": {
      "provenance": [],
      "mount_file_id": "165KU3JAX_rOHbFcXZsGPRTDqouUAD8a5",
      "authorship_tag": "ABX9TyP/IGRDVDdC0Kvjuq+PNQzh",
      "include_colab_link": true
    },
    "kernelspec": {
      "name": "python3",
      "display_name": "Python 3"
    },
    "language_info": {
      "name": "python"
    }
  },
  "cells": [
    {
      "cell_type": "markdown",
      "metadata": {
        "id": "view-in-github",
        "colab_type": "text"
      },
      "source": [
        "<a href=\"https://colab.research.google.com/github/EG-world/Python/blob/main/21_%ED%8C%8C%EC%9D%B4%EC%8D%AC_%EB%AA%A8%EB%93%88.ipynb\" target=\"_parent\"><img src=\"https://colab.research.google.com/assets/colab-badge.svg\" alt=\"Open In Colab\"/></a>"
      ]
    },
    {
      "cell_type": "markdown",
      "source": [
        "# **1. 모듈**\n",
        "파이썬에서 모듈을 만들려면 간단히 .py 확장자를 가진 파일에 코드를 작성하면 됩니다. 모듈은 단순한 함수 뿐만 아니라 변수, 클래스 등도 포함할 수 있으며, 다른 스크립트에서 import 구문을 사용하여 가져올 수 있습니다.\n",
        "```\n",
        "import 모듈명\n",
        "```"
      ],
      "metadata": {
        "id": "31khd2rAbXUh"
      }
    },
    {
      "cell_type": "code",
      "source": [
        "import math_tools"
      ],
      "metadata": {
        "id": "9dEXtDR6bjaN"
      },
      "execution_count": 1,
      "outputs": []
    },
    {
      "cell_type": "code",
      "source": [
        "# 모듈 변수\n",
        "print(math_tools.PI)"
      ],
      "metadata": {
        "colab": {
          "base_uri": "https://localhost:8080/"
        },
        "id": "GllUqnvDbjXP",
        "outputId": "61bdc21c-f030-4529-8e0a-62a3696cd0c3"
      },
      "execution_count": 3,
      "outputs": [
        {
          "output_type": "stream",
          "name": "stdout",
          "text": [
            "3.141592653\n"
          ]
        }
      ]
    },
    {
      "cell_type": "code",
      "source": [
        "# 모듈 함수\n",
        "print(math_tools.add(10, 3))\n",
        "print(math_tools.subtract(10, 3))"
      ],
      "metadata": {
        "colab": {
          "base_uri": "https://localhost:8080/"
        },
        "id": "1NVjXyg4bjUU",
        "outputId": "4d7ed5e8-7351-4327-c0ed-602a8458a5eb"
      },
      "execution_count": 7,
      "outputs": [
        {
          "output_type": "stream",
          "name": "stdout",
          "text": [
            "13\n",
            "7\n"
          ]
        }
      ]
    },
    {
      "cell_type": "code",
      "source": [
        "# 모듈 클래스\n",
        "circle = math_tools.Circle(5)\n",
        "print(circle.area())"
      ],
      "metadata": {
        "colab": {
          "base_uri": "https://localhost:8080/"
        },
        "id": "WXpPZVZSbjQQ",
        "outputId": "0b9bb84b-dea8-4b8e-dac4-821ce3fc0b75"
      },
      "execution_count": 10,
      "outputs": [
        {
          "output_type": "stream",
          "name": "stdout",
          "text": [
            "78.539816325\n"
          ]
        }
      ]
    },
    {
      "cell_type": "code",
      "source": [
        "# 필요한 속성, 클래스만 가져오기\n",
        "from math_tools import PI, Circle"
      ],
      "metadata": {
        "id": "4i2Jn2mLbjNS"
      },
      "execution_count": 11,
      "outputs": []
    },
    {
      "cell_type": "code",
      "source": [
        "print(PI)   # 이미 가져왔기 때문에 모듈. 을 사용 안할 수 있다.\n",
        "circle = Circle(3)\n",
        "print(circle.area())"
      ],
      "metadata": {
        "colab": {
          "base_uri": "https://localhost:8080/"
        },
        "id": "BRa68-6SbjJ9",
        "outputId": "831d05c1-54d1-4b68-afe9-928b51c8c727"
      },
      "execution_count": 14,
      "outputs": [
        {
          "output_type": "stream",
          "name": "stdout",
          "text": [
            "3.141592653\n",
            "28.274333877\n"
          ]
        }
      ]
    },
    {
      "cell_type": "code",
      "source": [
        "# 모듈을 별명을 이용해서 사용하기\n",
        "import math_tools as mt"
      ],
      "metadata": {
        "id": "k0Kx1RuMbjG1"
      },
      "execution_count": 15,
      "outputs": []
    },
    {
      "cell_type": "code",
      "source": [
        "print(mt.PI)\n",
        "circle = mt.Circle(10)\n",
        "print(circle.area())"
      ],
      "metadata": {
        "colab": {
          "base_uri": "https://localhost:8080/"
        },
        "id": "zf0mld9ubjDV",
        "outputId": "1b56a554-c0c7-4c46-f07b-f2dc00cd278c"
      },
      "execution_count": 17,
      "outputs": [
        {
          "output_type": "stream",
          "name": "stdout",
          "text": [
            "3.141592653\n",
            "314.1592653\n"
          ]
        }
      ]
    },
    {
      "cell_type": "markdown",
      "source": [
        "# **2. 구글드라이브를 활용한 모듈 사용**"
      ],
      "metadata": {
        "id": "gkdbBiMHbi_0"
      }
    },
    {
      "cell_type": "code",
      "source": [
        "path = '/content/drive/MyDrive/KDT OCR개발/1. python문법/module'"
      ],
      "metadata": {
        "id": "L8Ieq-C0bi83"
      },
      "execution_count": 18,
      "outputs": []
    },
    {
      "cell_type": "code",
      "source": [
        "import sys"
      ],
      "metadata": {
        "id": "icXVeEAgbi57"
      },
      "execution_count": 19,
      "outputs": []
    },
    {
      "cell_type": "code",
      "source": [
        "sys.path.append(path)"
      ],
      "metadata": {
        "id": "P3GepJzsbi2b"
      },
      "execution_count": 20,
      "outputs": []
    },
    {
      "cell_type": "code",
      "source": [
        "import math_tools as mt\n",
        "print(mt.PI)\n",
        "circle = mt.Circle(10)\n",
        "print(circle.area())"
      ],
      "metadata": {
        "colab": {
          "base_uri": "https://localhost:8080/"
        },
        "id": "KnZGZtxjbiy5",
        "outputId": "7994354d-ee4d-4d88-b4f1-8c290088eb74"
      },
      "execution_count": 22,
      "outputs": [
        {
          "output_type": "stream",
          "name": "stdout",
          "text": [
            "3.141592653\n",
            "314.1592653\n"
          ]
        }
      ]
    },
    {
      "cell_type": "markdown",
      "source": [
        "# **3. 패키지**\n",
        "파이썬에서 패키지는 모듈들을 포함하고 있는 디렉터리입니다. 모듈은 파이썬 코드를 담고 있는 파일이며, 여러 모듈을 논리적으로 그룹화하려는 경우 패키지를 사용합니다. 패키지를 사용하면 관련된 기능들을 함께 묶어서 코드를 더욱 체계적으로 관리할 수 있습니다.\n",
        "```\n",
        "my_package/\n",
        "│\n",
        "├── __init__.py\n",
        "│\n",
        "├── module_a.py\n",
        "│\n",
        "└── sub_package/\n",
        "    │\n",
        "    ├── __init__.py\n",
        "    └── module_b.py\n",
        "\n",
        "\n",
        "import a.b (서브패키지인 b패키지 사용)\n",
        "```"
      ],
      "metadata": {
        "id": "wJm-jGFhbivZ"
      }
    },
    {
      "cell_type": "markdown",
      "source": [
        "### \\_\\_init__.py의 역할\n",
        "기본적으로 패키지의 초기화 코드를 포함할 수 있습니다. 예를 들어, 패키지가 import 될 때 특정 변수를 설정하거나 다른 초기화 작업을 수행하려면 \\_\\_init__.py 파일에 해당 코드를 작성합니다.\n",
        "\n",
        "또한, \\_\\_init__.py 파일을 사용하여 패키지 레벨에서의 import를 제어할 수 있습니다. 예를 들어, from shapes import *를 했을 때 어떤 모듈이 import 될지 정의할 수 있습니다."
      ],
      "metadata": {
        "id": "RNZ0zv6Nbisd"
      }
    },
    {
      "cell_type": "code",
      "source": [
        "from shapes import *  # circle, rectangle"
      ],
      "metadata": {
        "id": "FXOYstFhbiph"
      },
      "execution_count": 24,
      "outputs": []
    },
    {
      "cell_type": "code",
      "source": [
        "print(circle.area(5))\n",
        "print(circle.circumference(5))"
      ],
      "metadata": {
        "colab": {
          "base_uri": "https://localhost:8080/"
        },
        "id": "X6z1SIP7yau_",
        "outputId": "fa568b4e-44e6-492a-aa8a-3c03270427fa"
      },
      "execution_count": 25,
      "outputs": [
        {
          "output_type": "stream",
          "name": "stdout",
          "text": [
            "78.53981625\n",
            "31.4159265\n"
          ]
        }
      ]
    },
    {
      "cell_type": "code",
      "source": [
        "print(rectangle.area(4, 6))\n",
        "print(rectangle.perimeter(4,6))"
      ],
      "metadata": {
        "colab": {
          "base_uri": "https://localhost:8080/"
        },
        "id": "kjnK7VgSbilb",
        "outputId": "202cace8-d98e-41a1-93c4-c2a48c7382c8"
      },
      "execution_count": 26,
      "outputs": [
        {
          "output_type": "stream",
          "name": "stdout",
          "text": [
            "24\n",
            "20\n"
          ]
        }
      ]
    },
    {
      "cell_type": "code",
      "source": [
        "from shapes.circle import area as circle_area\n",
        "from shapes.rectangle import area as rectangle_area"
      ],
      "metadata": {
        "id": "U3YUbhFfbiif"
      },
      "execution_count": 27,
      "outputs": []
    },
    {
      "cell_type": "code",
      "source": [
        "print(circle_area(5), rectangle_area(4,6))"
      ],
      "metadata": {
        "colab": {
          "base_uri": "https://localhost:8080/"
        },
        "id": "kW9jx5uJbie-",
        "outputId": "c848eca1-9129-472a-fbd2-49b0fcedb9ba"
      },
      "execution_count": 31,
      "outputs": [
        {
          "output_type": "stream",
          "name": "stdout",
          "text": [
            "78.53981625 24\n"
          ]
        }
      ]
    },
    {
      "cell_type": "code",
      "source": [],
      "metadata": {
        "id": "QDjyTeHebicC"
      },
      "execution_count": null,
      "outputs": []
    },
    {
      "cell_type": "code",
      "source": [],
      "metadata": {
        "id": "-F6ehmLabiYh"
      },
      "execution_count": null,
      "outputs": []
    },
    {
      "cell_type": "code",
      "source": [],
      "metadata": {
        "id": "HaqoZdl3biVl"
      },
      "execution_count": null,
      "outputs": []
    },
    {
      "cell_type": "code",
      "source": [],
      "metadata": {
        "id": "xWlTNAZJbiSG"
      },
      "execution_count": null,
      "outputs": []
    },
    {
      "cell_type": "code",
      "source": [],
      "metadata": {
        "id": "m1eq_VyIbiPK"
      },
      "execution_count": null,
      "outputs": []
    },
    {
      "cell_type": "code",
      "source": [],
      "metadata": {
        "id": "SXyI8p_rbiMO"
      },
      "execution_count": null,
      "outputs": []
    },
    {
      "cell_type": "code",
      "source": [],
      "metadata": {
        "id": "5lVGfyAkbiJT"
      },
      "execution_count": null,
      "outputs": []
    },
    {
      "cell_type": "code",
      "source": [],
      "metadata": {
        "id": "6-P2VPpEbh5A"
      },
      "execution_count": null,
      "outputs": []
    }
  ]
}