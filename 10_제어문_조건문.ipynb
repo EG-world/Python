{
  "nbformat": 4,
  "nbformat_minor": 0,
  "metadata": {
    "colab": {
      "provenance": [],
      "authorship_tag": "ABX9TyMVMUqpsQlHB8pfW5z5O4Og",
      "include_colab_link": true
    },
    "kernelspec": {
      "name": "python3",
      "display_name": "Python 3"
    },
    "language_info": {
      "name": "python"
    }
  },
  "cells": [
    {
      "cell_type": "markdown",
      "metadata": {
        "id": "view-in-github",
        "colab_type": "text"
      },
      "source": [
        "<a href=\"https://colab.research.google.com/github/EG-world/Python/blob/main/10_%EC%A0%9C%EC%96%B4%EB%AC%B8_%EC%A1%B0%EA%B1%B4%EB%AC%B8.ipynb\" target=\"_parent\"><img src=\"https://colab.research.google.com/assets/colab-badge.svg\" alt=\"Open In Colab\"/></a>"
      ]
    },
    {
      "cell_type": "markdown",
      "source": [
        "# **1. 조건문**\n",
        "조건문은 코드의 실행 흐름을 제어하기 위해 사용하는 구문입니다. 이 조건문은 주어진 조건이 참인지 거짓인지에 따라 다른 코드를 실행하게 합니다.\n"
      ],
      "metadata": {
        "id": "URySeW_6hyUY"
      }
    },
    {
      "cell_type": "markdown",
      "source": [
        "# **2. if문**\n",
        "가장 기본적인 조건문입니다. 특정 조건이 참(True)일 경우에만 해당 블록 내의 코드가 실행됩니다.\n",
        "```\n",
        "if 조건:\n",
        "    실행할 코드\n",
        "```"
      ],
      "metadata": {
        "id": "dVGU6A-rh23Y"
      }
    },
    {
      "cell_type": "code",
      "source": [
        "if True :\n",
        "  print('결과는 참입니다.')\n",
        "print('프로그램을 종료합니다.')"
      ],
      "metadata": {
        "colab": {
          "base_uri": "https://localhost:8080/"
        },
        "id": "W_XURRgikE0d",
        "outputId": "ee1cb735-535c-47f7-d0e3-12de314cc8b9"
      },
      "execution_count": 1,
      "outputs": [
        {
          "output_type": "stream",
          "name": "stdout",
          "text": [
            "결과는 참입니다.\n",
            "프로그램을 종료합니다.\n"
          ]
        }
      ]
    },
    {
      "cell_type": "code",
      "source": [
        "if False :\n",
        "  print('결과는 참입니다.')\n",
        "print('프로그램을 종료합니다.')"
      ],
      "metadata": {
        "id": "cWrnnvjJlKhh"
      },
      "execution_count": null,
      "outputs": []
    },
    {
      "cell_type": "code",
      "source": [
        "if '안녕하세요' :\n",
        "  print('결과는 참입니다')\n",
        "print('프로그램을 종료합니다.')"
      ],
      "metadata": {
        "colab": {
          "base_uri": "https://localhost:8080/"
        },
        "id": "3mN8q1bwlTgq",
        "outputId": "db47d22e-6917-434b-8323-2188afc16cb0"
      },
      "execution_count": 4,
      "outputs": [
        {
          "output_type": "stream",
          "name": "stdout",
          "text": [
            "결과는 참입니다\n",
            "프로그램을 종료합니다.\n"
          ]
        }
      ]
    },
    {
      "cell_type": "code",
      "source": [
        "if '' :\n",
        "  print('결과는 참입니다.')\n",
        "print('프로그램을 종료합니다.')"
      ],
      "metadata": {
        "colab": {
          "base_uri": "https://localhost:8080/"
        },
        "id": "CFjpA4ctlTdJ",
        "outputId": "5997d763-0b1f-46ae-9d11-4779d3049eba"
      },
      "execution_count": 5,
      "outputs": [
        {
          "output_type": "stream",
          "name": "stdout",
          "text": [
            "프로그램을 종료합니다.\n"
          ]
        }
      ]
    },
    {
      "cell_type": "code",
      "source": [
        "if '안녕하세요' :print('결과는 참입니다')\n",
        "print('프로그램을 종료합니다.')"
      ],
      "metadata": {
        "colab": {
          "base_uri": "https://localhost:8080/"
        },
        "id": "saoOjRgflTZC",
        "outputId": "140ee619-3f48-4c24-a4c8-5a93e27426b0"
      },
      "execution_count": 6,
      "outputs": [
        {
          "output_type": "stream",
          "name": "stdout",
          "text": [
            "결과는 참입니다\n",
            "프로그램을 종료합니다.\n"
          ]
        }
      ]
    },
    {
      "cell_type": "code",
      "source": [
        "if '' :print('결과는 참입니다')\n",
        "print('프로그램을 종료합니다.')"
      ],
      "metadata": {
        "colab": {
          "base_uri": "https://localhost:8080/"
        },
        "id": "D3OzSOXIlTVi",
        "outputId": "acbbaebf-0d50-452c-9fd0-f7e273e54825"
      },
      "execution_count": 7,
      "outputs": [
        {
          "output_type": "stream",
          "name": "stdout",
          "text": [
            "프로그램을 종료합니다.\n"
          ]
        }
      ]
    },
    {
      "cell_type": "code",
      "source": [
        "age = int(input('나이를 입력하세요 : '))\n",
        "if age > 19 :\n",
        "  print('성인입니다.')\n",
        "print('입력한 나이 : ', age)"
      ],
      "metadata": {
        "colab": {
          "base_uri": "https://localhost:8080/"
        },
        "id": "dXA3dd2alTSm",
        "outputId": "e44b3032-eeb7-4162-ef14-7b6fb344d89d"
      },
      "execution_count": 9,
      "outputs": [
        {
          "output_type": "stream",
          "name": "stdout",
          "text": [
            "나이를 입력하세요 : 15\n",
            "입력한 나이 :  15\n"
          ]
        }
      ]
    },
    {
      "cell_type": "code",
      "source": [
        "age = int(input('나이를 입력하세요 : '))\n",
        "if age > 19 :\n",
        "  print('성인입니다.')\n",
        "  print('넷플릭스 성인영화를 감상할 수 있어요')\n",
        "print('입력한 나이 :',age)"
      ],
      "metadata": {
        "colab": {
          "base_uri": "https://localhost:8080/"
        },
        "id": "zPHSYujAlTPr",
        "outputId": "9b793028-22a0-4c2d-bee4-27b70c0ce0f3"
      },
      "execution_count": 12,
      "outputs": [
        {
          "output_type": "stream",
          "name": "stdout",
          "text": [
            "나이를 입력하세요 : 20\n",
            "성인입니다.\n",
            "넷플릭스 성인영화를 감상할 수 있어요\n",
            "입력한 나이 : 20\n"
          ]
        }
      ]
    },
    {
      "cell_type": "markdown",
      "source": [
        "# **3. else 문**\n",
        "else는 파이썬의 조건문 구조에서 if와 elif 조건들이 모두 거짓으로 평가될 경우 실행되는 부분을 정의하는 데 사용됩니다. else는 선택적으로 사용될 수 있으며, 그 자체로는 어떤 조건을 갖지 않습니다. 다시 말해, else 블록은 위의 if와 elif 조건들이 모두 만족되지 않는 경우에만 실행됩니다.\n",
        "```\n",
        "if 조건1:\n",
        "    코드 블록1\n",
        "elif 조걸2:\n",
        "    코드 블록2\n",
        "else:\n",
        "    코드 블록3\n",
        "```"
      ],
      "metadata": {
        "id": "wTS3BbeilTIF"
      }
    },
    {
      "cell_type": "code",
      "source": [
        "age = int(input('나이를 입력하세요 : '))\n",
        "if age > 19 :\n",
        "  print('성인입니다.')\n",
        "  print('넷플릭스 성인영화를 감상할 수 있어요')\n",
        "else :\n",
        "  print('미성년 입니다.')\n",
        "  print('디즈니 플러스를 보세요.')\n",
        "print('입력한 나이 :',age)"
      ],
      "metadata": {
        "colab": {
          "base_uri": "https://localhost:8080/"
        },
        "id": "_PrcjgSLlTFH",
        "outputId": "e972ef01-bbc8-4174-9c5b-e7252fcd15f6"
      },
      "execution_count": 15,
      "outputs": [
        {
          "output_type": "stream",
          "name": "stdout",
          "text": [
            "나이를 입력하세요 : 15\n",
            "미성년 입니다.\n",
            "디즈니 플러스를 보세요.\n",
            "입력한 나이 : 15\n"
          ]
        }
      ]
    },
    {
      "cell_type": "markdown",
      "source": [
        "# **4. elif문**\n",
        "elif는 if-else 구조에서 추가적인 조건을 검사하기 위해 사용되는 키워드입니다. elif는 \"else if\"의 줄임말이며, 주어진 여러 조건 중에서 하나만 참일 때 실행되는 코드 블록을 정의합니다.\n",
        "```\n",
        "if 조건1:\n",
        "    코드 블록1\n",
        "elif 조건2:\n",
        "    코드 블록2\n",
        "elif 조건3:\n",
        "    코드 블록3\n",
        "else:\n",
        "    코드 블록4\n",
        "```"
      ],
      "metadata": {
        "id": "v-rlQXh1lTBm"
      }
    },
    {
      "cell_type": "code",
      "source": [
        "age = int(input('나이를 입력하세요 : '))\n",
        "if age > 19 :\n",
        "  print('성인입니다.')\n",
        "elif age > 14 :\n",
        "  print('청소년입니다.')\n",
        "elif age > 6 :\n",
        "  print('어린이 입니다.')\n",
        "elif age > 0 :\n",
        "  print('유아입니다.')\n",
        "else:\n",
        "  print('입력을 다시 확인하세요')\n",
        "\n",
        "print('입력한 나이 :',age)"
      ],
      "metadata": {
        "colab": {
          "base_uri": "https://localhost:8080/"
        },
        "id": "B0zSDs0flS-s",
        "outputId": "49f6c913-6518-4534-e999-6adc06ecb671"
      },
      "execution_count": 16,
      "outputs": [
        {
          "output_type": "stream",
          "name": "stdout",
          "text": [
            "나이를 입력하세요 : 13\n",
            "어린이 입니다.\n",
            "입력한 나이 : 13\n"
          ]
        }
      ]
    },
    {
      "cell_type": "markdown",
      "source": [
        "### 문제 1\n",
        "아래와 같은 조건을 만족하는 로그인 프로그램을 만들어보자.\n",
        "* 아이디를 입력하세요 : 아이디 입력\n",
        "* 비밀번호를 입력하세요 : 비밀번호 입력\n",
        "* 결과는 \"로그인 되었습니다\" 또는 \"아이디 또는 비밀번호를 확인하세요\" 라고 출력\n",
        "* 단, 아이디 : apple, 비밀번호 : 1234 인 경우 \"로그인 성공!\""
      ],
      "metadata": {
        "id": "Pjh4OWZylS7K"
      }
    },
    {
      "cell_type": "code",
      "source": [
        "id = input('아이디를 입력하세요 : ')\n",
        "pw = input('비밀번호를 입력하세요 : ')\n",
        "if id == 'apple' and pw == '1234' :\n",
        "  print('로그인 되었습니다.')\n",
        "else :\n",
        "  print('아이디 또는 비밀번호를 확인하세요.')"
      ],
      "metadata": {
        "colab": {
          "base_uri": "https://localhost:8080/"
        },
        "id": "H6LyOZN6lS4O",
        "outputId": "edad8d1a-f5bc-45a7-dc7d-a36183c5018f"
      },
      "execution_count": 21,
      "outputs": [
        {
          "output_type": "stream",
          "name": "stdout",
          "text": [
            "아이디를 입력하세요 : apple\n",
            "비밀번호를 입력하세요 : 1234\n",
            "로그인 되었습니다.\n"
          ]
        }
      ]
    },
    {
      "cell_type": "markdown",
      "source": [
        "### 문제2\n",
        "주민등록번호를 입력받아 성별을 판별하는 프로그램을 만들어보자\n",
        "* 주민등록번호를 입력하세요 : 주민등록번호 입력\n",
        "* 결과는 7번째 숫자가 홀수면 \"남자\" or 짝수면 \"여자\" 라고 출력\n",
        "* 001011-3068518을 입력"
      ],
      "metadata": {
        "id": "86yNjeOsu8v5"
      }
    },
    {
      "cell_type": "code",
      "source": [
        "num = input('주민등록번호를 입력하세요 : ')\n",
        "if int(num[7])%2 == 0:\n",
        "  print(\"여자\")\n",
        "else :\n",
        "  print('남자')"
      ],
      "metadata": {
        "colab": {
          "base_uri": "https://localhost:8080/"
        },
        "id": "7bJaYEO4lSxO",
        "outputId": "6b00ab5a-f646-4433-ef87-1f4c4f6f6e88"
      },
      "execution_count": 23,
      "outputs": [
        {
          "output_type": "stream",
          "name": "stdout",
          "text": [
            "주민등록번호를 입력하세요 : 001011-8068518\n",
            "여자\n"
          ]
        }
      ]
    },
    {
      "cell_type": "markdown",
      "source": [
        "### 문제3\n",
        "* 국어점수, 영어점수, 수학점수를 입력받아 총점, 평균, 학점을 구하는 프로그램을 작성\n",
        "*단, 입력방식은 (국어/영어/수학) 형태로 입력(ex: 100/70/85)하며 학점은 평균을 기준으로 90점이상 A, 80점 이상 B, 70점 이상 C, 60점 이상 D, 나머지는 F라고 함."
      ],
      "metadata": {
        "id": "Plg30yVWlSrW"
      }
    },
    {
      "cell_type": "code",
      "source": [
        "kor, eng, math = input('국어/영어/수학 형태로 점수를 입력하세요 : ').split('/')\n",
        "sum = int(kor) + int(eng) + int(math)\n",
        "avg = sum/3\n",
        "if avg >= 90 :\n",
        "  print(\"A\")\n",
        "elif avg >= 80 :\n",
        "  print(\"B\")\n",
        "elif avg >= 70 :\n",
        "  print(\"C\")\n",
        "elif avg >= 60 :\n",
        "  print(\"D\")\n",
        "else :\n",
        "  print('F')"
      ],
      "metadata": {
        "colab": {
          "base_uri": "https://localhost:8080/"
        },
        "id": "JWtOz-LolSlg",
        "outputId": "96a15566-4734-4d3e-a22c-0eee9550260f"
      },
      "execution_count": 33,
      "outputs": [
        {
          "output_type": "stream",
          "name": "stdout",
          "text": [
            "국어/영어/수학 형태로 점수를 입력하세요 : 100/20/30\n",
            "F\n"
          ]
        }
      ]
    },
    {
      "cell_type": "code",
      "source": [
        "kor, eng, math = map(int, input('국어/영어/수학 형태로 점수를 입력하세요 : ').split('/'))\n",
        "sum = kor + eng + math\n",
        "avg = sum/3\n",
        "hak = 'F'\n",
        "if avg >= 90 :\n",
        "  hak = 'A'\n",
        "elif avg >= 80 :\n",
        "  hak = 'B'\n",
        "elif avg >= 70 :\n",
        "  hak = 'C'\n",
        "elif avg >= 60 :\n",
        "  hak = 'D'\n",
        "print('총점:{}, 평균:{:.2f}, 학점:{}'.format(sum, avg, hak))"
      ],
      "metadata": {
        "colab": {
          "base_uri": "https://localhost:8080/"
        },
        "id": "VR_Nn1s6lSOA",
        "outputId": "4bd3cdde-683f-49b1-f4d4-9646e25a4909"
      },
      "execution_count": 37,
      "outputs": [
        {
          "output_type": "stream",
          "name": "stdout",
          "text": [
            "국어/영어/수학 형태로 점수를 입력하세요 : 100/77/50\n",
            "총점:227, 평균:75.67, 학점:C\n"
          ]
        }
      ]
    },
    {
      "cell_type": "code",
      "source": [
        "print('성격 유형 테스트에 오신걸 환영합니다!')\n",
        "\n",
        "answer1 = input('다른 사람과 함께 있는것을 좋아하나요? (y/n): ').strip().lower()\n",
        "\n",
        "# 첫번째 질문 : 외향적, 내향적\n",
        "\n",
        "# 외향적\n",
        "if answer1 == 'y' :\n",
        "  # 두번째 질문\n",
        "  answer2 = input('새로운 사람을 만나는 것이 즐거운가요? (y/n): ').strip().lower()\n",
        "  if answer2 == 'y':\n",
        "    answer3 = input('많은 사람과 함께하는 것을 선호하나요? (y/n): ').strip().lower()\n",
        "    if answer3 == 'y' :\n",
        "      personality_type = '외향적이고 사교적인 성격입니다.'\n",
        "    else :\n",
        "      personality_type = '외향적이고 신중한 성격입니다'\n",
        "  else :\n",
        "    personality_type = '외향적이고 안정을 추구하는 성격입니다'\n",
        "\n",
        "# 내향적\n",
        "else :\n",
        "  answer4 = input('혼자 있는 것이 즐거운가요? (y/n): ').strip().lower()\n",
        "  if answer4 == 'y':\n",
        "    personality_type = '내향적이고 소극적인 성격입니다'\n",
        "  else :\n",
        "    personality_type = '내향적이고 밝은 성격'\n",
        "\n",
        "print(f'당신은 {personality_type}')"
      ],
      "metadata": {
        "colab": {
          "base_uri": "https://localhost:8080/"
        },
        "id": "5eD2GQ61lM70",
        "outputId": "552dc98c-fba2-44a5-9c53-b0ceb7d246bc"
      },
      "execution_count": 41,
      "outputs": [
        {
          "output_type": "stream",
          "name": "stdout",
          "text": [
            "성격 유형 테스트에 오신걸 환영합니다!\n",
            "다른 사람과 함께 있는것을 좋아하나요? (y/n): ㅛ\n",
            "혼자 있는 것이 즐거운가요? (y/n): ㅜ\n",
            "당신은 내향적이고 밝은 성격\n"
          ]
        }
      ]
    },
    {
      "cell_type": "markdown",
      "source": [
        "### 과제\n",
        "중복 if문을 사용하여 위 예제와 비슷한 프로그램을 자유롭게 작성"
      ],
      "metadata": {
        "id": "qY5mxRcf_ugq"
      }
    },
    {
      "cell_type": "markdown",
      "source": [
        "# **5. 조건부 표현식(Conditional Expression)**\n",
        "조건부 표현식은 파이썬에서 삼항연산자라고도 불립니다. 간단한 if-else 구문을 더 간결하게 표현할 수 있는 방법을 제공합니다.\n",
        "```\n",
        "조건이 참인 경우 값 if condition else 조건이 거짓인 경우 값\n",
        "```"
      ],
      "metadata": {
        "id": "y5VdTxcYAPdd"
      }
    },
    {
      "cell_type": "code",
      "source": [
        "num = int(input('숫자를 입력하세요 : '))\n",
        "if num % 2 == 0 :\n",
        "  print('짝수')\n",
        "else :\n",
        "  print('홀수')"
      ],
      "metadata": {
        "colab": {
          "base_uri": "https://localhost:8080/"
        },
        "id": "z7tsRcvwAlqM",
        "outputId": "ec86360c-f01d-4684-8c71-f4d1044465f7"
      },
      "execution_count": 42,
      "outputs": [
        {
          "output_type": "stream",
          "name": "stdout",
          "text": [
            "숫자를 입력하세요 : 8\n",
            "짝수\n"
          ]
        }
      ]
    },
    {
      "cell_type": "code",
      "source": [
        "num = int(input('숫자를 입력하세요 : '))\n",
        "print('짝수') if num % 2==0 else print('홀수')"
      ],
      "metadata": {
        "colab": {
          "base_uri": "https://localhost:8080/"
        },
        "id": "PhExb5waBYHc",
        "outputId": "e23e4b89-63dc-4081-fa02-fcea2838fafe"
      },
      "execution_count": 44,
      "outputs": [
        {
          "output_type": "stream",
          "name": "stdout",
          "text": [
            "숫자를 입력하세요 : 7\n",
            "홀수\n"
          ]
        }
      ]
    },
    {
      "cell_type": "code",
      "source": [
        "age = int(input('나이를 입력하세요 : '))\n",
        "print('성인입니다' if age > 19 else\n",
        "      '청소년입니다' if age > 14 else\n",
        "      '어린이입니다' if age > 6 else\n",
        "      '유아입니다' if age > 0 else\n",
        "      '다시 입력해주세요')"
      ],
      "metadata": {
        "colab": {
          "base_uri": "https://localhost:8080/"
        },
        "id": "pJH2yAYzDRjU",
        "outputId": "663a46bf-3ca8-421e-a7c1-46adc918f6c0"
      },
      "execution_count": 49,
      "outputs": [
        {
          "output_type": "stream",
          "name": "stdout",
          "text": [
            "나이를 입력하세요 : 13\n",
            "어린이입니다\n"
          ]
        }
      ]
    },
    {
      "cell_type": "code",
      "source": [
        "print('성인입니다') if age>19 else\\\n",
        "print('청소년입니다') if age>14\\\n",
        "else print('어린이입니다')"
      ],
      "metadata": {
        "colab": {
          "base_uri": "https://localhost:8080/"
        },
        "id": "iZ7X6QiID-qv",
        "outputId": "53cefce8-0b83-4597-9768-49ed1c58e196"
      },
      "execution_count": 50,
      "outputs": [
        {
          "output_type": "stream",
          "name": "stdout",
          "text": [
            "어린이입니다\n"
          ]
        }
      ]
    },
    {
      "cell_type": "code",
      "source": [],
      "metadata": {
        "id": "NyBn6z12EeL8"
      },
      "execution_count": null,
      "outputs": []
    }
  ]
}