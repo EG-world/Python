{
  "nbformat": 4,
  "nbformat_minor": 0,
  "metadata": {
    "colab": {
      "provenance": [],
      "authorship_tag": "ABX9TyNPyFe1NscV5Q4ZXy/Wx7uH",
      "include_colab_link": true
    },
    "kernelspec": {
      "name": "python3",
      "display_name": "Python 3"
    },
    "language_info": {
      "name": "python"
    }
  },
  "cells": [
    {
      "cell_type": "markdown",
      "metadata": {
        "id": "view-in-github",
        "colab_type": "text"
      },
      "source": [
        "<a href=\"https://colab.research.google.com/github/EG-world/Python/blob/main/25_%ED%8C%8C%EC%9D%BC_%EC%9E%85%EC%B6%9C%EB%A0%A5_%EB%AA%A8%EB%93%88.ipynb\" target=\"_parent\"><img src=\"https://colab.research.google.com/assets/colab-badge.svg\" alt=\"Open In Colab\"/></a>"
      ]
    },
    {
      "cell_type": "markdown",
      "source": [
        "# **1. OS**\n",
        "파이썬의 os 모듈은 운영 체제와 상호 작용하는 많은 함수와 유틸리티를 제공합니다. 이 모듈을 사용하면 파일, 디렉터리 또는 운영 체제에 관한 작업을 수행할 수 있습니다."
      ],
      "metadata": {
        "id": "4Bnbyxze2jZ0"
      }
    },
    {
      "cell_type": "code",
      "source": [
        "import os"
      ],
      "metadata": {
        "id": "WhmN49Bq2rK8"
      },
      "execution_count": null,
      "outputs": []
    },
    {
      "cell_type": "code",
      "source": [
        "# getcwd() : 현재 경로를 확인\n",
        "os.getcwd()"
      ],
      "metadata": {
        "colab": {
          "base_uri": "https://localhost:8080/",
          "height": 35
        },
        "id": "zVYF0vEd3ANN",
        "outputId": "10a77554-41e1-49f3-806c-e01d56306650"
      },
      "execution_count": null,
      "outputs": [
        {
          "output_type": "execute_result",
          "data": {
            "text/plain": [
              "'/content'"
            ],
            "application/vnd.google.colaboratory.intrinsic+json": {
              "type": "string"
            }
          },
          "metadata": {},
          "execution_count": 2
        }
      ]
    },
    {
      "cell_type": "code",
      "source": [
        "# listdir() : 디렉토리 안에 파일(디렉토리)을 리스트로 반환\n",
        "os.listdir(os.getcwd())"
      ],
      "metadata": {
        "colab": {
          "base_uri": "https://localhost:8080/"
        },
        "id": "0WEAaGXp3CpK",
        "outputId": "688eb563-a03a-4d31-f741-cf14d02f4598"
      },
      "execution_count": null,
      "outputs": [
        {
          "output_type": "execute_result",
          "data": {
            "text/plain": [
              "['.config', 'sample_data']"
            ]
          },
          "metadata": {},
          "execution_count": 3
        }
      ]
    },
    {
      "cell_type": "code",
      "source": [
        "data_dir = './data/'\n",
        "file_path = os.path.join(data_dir, 'output.txt')\n",
        "print(file_path)"
      ],
      "metadata": {
        "colab": {
          "base_uri": "https://localhost:8080/"
        },
        "id": "yCI9as8I3bNf",
        "outputId": "d7828b05-1a81-4809-fb6d-4d794d744b8c"
      },
      "execution_count": null,
      "outputs": [
        {
          "output_type": "stream",
          "name": "stdout",
          "text": [
            "./data/output.txt\n"
          ]
        }
      ]
    },
    {
      "cell_type": "markdown",
      "source": [
        "# **2. glob**\n",
        "glob 모듈은 파일과 폴더 이름을 찾을 때 사용하는 파이썬의 도구입니다. 이 모듈의 이름은 \"전역적으로 찾기\"라는 의미의 \"global\"에서 유래했습니다. glob는 특정 패턴에 일치하는 파일이나 폴더 이름을 쉽게 찾아줍니다. (아래 파일을 다운로드 받아 압축을 풀고 예제를 진행합니다.)"
      ],
      "metadata": {
        "id": "pUh39USL3xu8"
      }
    },
    {
      "cell_type": "code",
      "source": [
        "import glob"
      ],
      "metadata": {
        "id": "pb8RisDWJcfI"
      },
      "execution_count": null,
      "outputs": []
    },
    {
      "cell_type": "code",
      "source": [
        "glob.glob(os.path.join('./data/', '*.txt'))"
      ],
      "metadata": {
        "colab": {
          "base_uri": "https://localhost:8080/"
        },
        "id": "-5zJrEuLJejt",
        "outputId": "2ae04648-4b4d-4b76-be05-0560bb878f6a"
      },
      "execution_count": null,
      "outputs": [
        {
          "output_type": "execute_result",
          "data": {
            "text/plain": [
              "[]"
            ]
          },
          "metadata": {},
          "execution_count": 6
        }
      ]
    },
    {
      "cell_type": "code",
      "source": [
        "os.path.join('./data/', '*.txt')"
      ],
      "metadata": {
        "colab": {
          "base_uri": "https://localhost:8080/",
          "height": 35
        },
        "id": "_5-syzmkJgKw",
        "outputId": "54585b40-85e4-42e3-84c1-086c08efa85e"
      },
      "execution_count": null,
      "outputs": [
        {
          "output_type": "execute_result",
          "data": {
            "text/plain": [
              "'./data/*.txt'"
            ],
            "application/vnd.google.colaboratory.intrinsic+json": {
              "type": "string"
            }
          },
          "metadata": {},
          "execution_count": 7
        }
      ]
    },
    {
      "cell_type": "code",
      "source": [
        "# 이후 주피터 노트북을 사용하여 코딩하였습니다."
      ],
      "metadata": {
        "id": "jG_c1oebJhcq"
      },
      "execution_count": null,
      "outputs": []
    },
    {
      "cell_type": "markdown",
      "source": [
        "```\n",
        "# 현재 경로의 txt파일 찾기\n",
        "for filename in glob.glob('*/*.txt') :\n",
        "    print(filename)\n",
        "# 하위 디렉토리의 txt 파일 찾기\n",
        "for filename in glob.glob('**/*.txt') :\n",
        "    print(filename)\n",
        "# 현재 디렉토리와 하위 디렉토리 전부 txt파일 찾기\n",
        "for filename in glob.glob('**/*.txt', recursive=True) :\n",
        "    print(filename)\n",
        "# 파일명 글자수 및 모든 확장명으로 찾기\n",
        "for filename in glob.glob('???.*', recursive=True) :\n",
        "    print(filename)\n",
        "# 문자열 패턴 포함 파일명 찾기\n",
        "for filename in glob.glob('[a-z][a-z][a-z][a-z][a-z][a-z].*', recursive=True) :\n",
        "    print(filename)\n",
        "for filename in glob.glob('**/텍스*.*') :\n",
        "    print(filename)\n",
        "for filename in glob.glob('**/*파일*.*') :\n",
        "    print(filename)\n",
        "for filename in glob.glob('**/*스*파*.*') :\n",
        "    print(filename)\n",
        "```"
      ],
      "metadata": {
        "id": "iDGKttfTL8eB"
      }
    },
    {
      "cell_type": "markdown",
      "source": [
        "# **3. shutil**\n",
        "shutil 모듈은 파이썬에서 고수준 파일 연산을 수행하기 위한 유틸리티 모듈입니다. 기본적인 os 모듈에서 제공하는 기능을 확장하여, 파일 및 디렉터리를 복사, 이동, 삭제하는 데 사용할 수 있는 더 다양한 함수를 제공합니다."
      ],
      "metadata": {
        "id": "EpI-8Ti2MR09"
      }
    },
    {
      "cell_type": "code",
      "source": [
        "import shutil"
      ],
      "metadata": {
        "id": "WS6IY-KJMWVx"
      },
      "execution_count": null,
      "outputs": []
    },
    {
      "cell_type": "markdown",
      "source": [
        "```\n",
        "# 파일 복사\n",
        "shutil.copy('사과.txt', '사과_복사본.txt')\n",
        "\n",
        "# 파일 이동\n",
        "shutil.move('사과.txt', 'data/사과_이동.txt')\n",
        "\n",
        "# 확장명 바꾸기\n",
        "shutil.move('abcdef.txt', '파이썬파일.py')\n",
        "```\n"
      ],
      "metadata": {
        "id": "mUO0vhMRMT81"
      }
    },
    {
      "cell_type": "markdown",
      "source": [
        "# **4. fnmatch**\n",
        "파일 이름을 패턴 매칭 할 때 사용하는 모듈"
      ],
      "metadata": {
        "id": "jvdHjRkGMc9k"
      }
    },
    {
      "cell_type": "code",
      "source": [
        "import fnmatch"
      ],
      "metadata": {
        "id": "UC-kFzscZuSm"
      },
      "execution_count": 1,
      "outputs": []
    },
    {
      "cell_type": "markdown",
      "source": [
        "```\n",
        "# 파일 이름이 패턴에 맞는지 확인\n",
        "print(fnmatch.fnmatch('example.txt', '*.txt'))\n",
        "print(fnmatch.fnmatch('example.py', '*.txt'))\n",
        "\n",
        "for filename in os.listdir('data') :\n",
        "    if fnmatch.fnmatch(filename, '?????[0-9].txt') : # ????? : 다섯 글자이며 [0-9]범위안에 숫자가 들어가있는.txt파일\n",
        "  \n",
        "        print(filename)\n",
        "```"
      ],
      "metadata": {
        "id": "WHKCeRpWZvl3"
      }
    },
    {
      "cell_type": "code",
      "source": [],
      "metadata": {
        "id": "ACaa7KkwZ0Wu"
      },
      "execution_count": null,
      "outputs": []
    }
  ]
}