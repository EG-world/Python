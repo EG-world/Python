{
  "cells": [
    {
      "cell_type": "markdown",
      "metadata": {
        "id": "view-in-github",
        "colab_type": "text"
      },
      "source": [
        "<a href=\"https://colab.research.google.com/github/EG-world/Python/blob/main/25_%ED%8C%8C%EC%9D%BC_%EC%9E%85%EC%B6%9C%EB%A0%A5_%EB%AA%A8%EB%93%88.ipynb\" target=\"_parent\"><img src=\"https://colab.research.google.com/assets/colab-badge.svg\" alt=\"Open In Colab\"/></a>"
      ]
    },
    {
      "cell_type": "markdown",
      "id": "bc48c97e-cd7d-415f-9ffa-32afae3850b9",
      "metadata": {
        "id": "bc48c97e-cd7d-415f-9ffa-32afae3850b9"
      },
      "source": [
        "# **1. OS**\n",
        "파이썬의 os 모듈은 운영 체제와 상호 작용하는 많은 함수와 유틸리티를 제공합니다. 이 모듈을 사용하면 파일, 디렉터리 또는 운영 체제에 관한 작업을 수행할 수 있습니다."
      ]
    },
    {
      "cell_type": "code",
      "execution_count": null,
      "id": "cc73a423-1dff-4d80-86d5-afdca648b719",
      "metadata": {
        "id": "cc73a423-1dff-4d80-86d5-afdca648b719"
      },
      "outputs": [],
      "source": [
        "import os"
      ]
    },
    {
      "cell_type": "code",
      "execution_count": null,
      "id": "bda2962c-bcc9-4e7c-9321-019cccba43b1",
      "metadata": {
        "id": "bda2962c-bcc9-4e7c-9321-019cccba43b1",
        "outputId": "95e0eabc-3d43-4a06-dfce-39fd3a1e0f04"
      },
      "outputs": [
        {
          "data": {
            "text/plain": [
              "'C:\\\\EGpro\\\\JupyterNotebook'"
            ]
          },
          "execution_count": 5,
          "metadata": {},
          "output_type": "execute_result"
        }
      ],
      "source": [
        "# 현재경로를 확인\n",
        "os.getcwd()"
      ]
    },
    {
      "cell_type": "code",
      "execution_count": null,
      "id": "bb3ef103-3527-4fcc-a46b-8ae3522ce9e3",
      "metadata": {
        "id": "bb3ef103-3527-4fcc-a46b-8ae3522ce9e3",
        "outputId": "6731be5b-a5c3-46e9-b2a0-486c08f118a7"
      },
      "outputs": [
        {
          "data": {
            "text/plain": [
              "['.ipynb_checkpoints',\n",
              " '25. 파일 입출력 모듈.ipynb',\n",
              " '텍스트파일1.txt',\n",
              " '텍스트파일2.txt',\n",
              " '텍스트파일3.txt']"
            ]
          },
          "execution_count": 6,
          "metadata": {},
          "output_type": "execute_result"
        }
      ],
      "source": [
        "# listdir() : 디렉토리 안에 파일(디렉토리)을 리스트로 반환\n",
        "os.listdir(os.getcwd())"
      ]
    },
    {
      "cell_type": "code",
      "execution_count": null,
      "id": "418fd21f-3144-43ef-9cec-85cd105ac63f",
      "metadata": {
        "id": "418fd21f-3144-43ef-9cec-85cd105ac63f",
        "outputId": "3476ee5f-d8de-4bc7-edd5-fa411f63bb69"
      },
      "outputs": [
        {
          "name": "stdout",
          "output_type": "stream",
          "text": [
            "./data/output.txt\n"
          ]
        }
      ],
      "source": [
        "# 특정 경로 만들기\n",
        "data_dir = './data/'\n",
        "file_path = os.path.join(data_dir, 'output.txt')\n",
        "print(file_path)"
      ]
    },
    {
      "cell_type": "markdown",
      "id": "0e9ce744-dd0e-4a0b-810b-586f39d68bd0",
      "metadata": {
        "id": "0e9ce744-dd0e-4a0b-810b-586f39d68bd0"
      },
      "source": [
        "# **2. glob**\n",
        "glob 모듈은 파일과 폴더 이름을 찾을 때 사용하는 파이썬의 도구입니다. 이 모듈의 이름은 \"전역적으로 찾기\"라는 의미의 \"global\"에서 유래했습니다. glob는 특정 패턴에 일치하는 파일이나 폴더 이름을 쉽게 찾아줍니다. (아래 파일을 다운로드 받아 압축을 풀고 예제를 진행합니다.)"
      ]
    },
    {
      "cell_type": "code",
      "execution_count": null,
      "id": "ae0866a9-71b2-48fd-8ba8-9d5824cdbd6e",
      "metadata": {
        "id": "ae0866a9-71b2-48fd-8ba8-9d5824cdbd6e"
      },
      "outputs": [],
      "source": [
        "import glob"
      ]
    },
    {
      "cell_type": "code",
      "execution_count": null,
      "id": "b2a26d57-c021-4fbd-9ce3-3cd58d560832",
      "metadata": {
        "id": "b2a26d57-c021-4fbd-9ce3-3cd58d560832",
        "outputId": "9fe0dbe5-865d-4c7d-fe39-227f5126d9cd"
      },
      "outputs": [
        {
          "data": {
            "text/plain": [
              "['./data\\\\텍스트파일1.txt', './data\\\\텍스트파일2.txt', './data\\\\텍스트파일3.txt']"
            ]
          },
          "execution_count": 10,
          "metadata": {},
          "output_type": "execute_result"
        }
      ],
      "source": [
        "glob.glob(os.path.join('./data/', '*.txt'))"
      ]
    },
    {
      "cell_type": "code",
      "execution_count": null,
      "id": "7effe5b0-4545-4d24-b709-e0cd4e470b3d",
      "metadata": {
        "id": "7effe5b0-4545-4d24-b709-e0cd4e470b3d",
        "outputId": "3b1412ea-5d41-48d1-d8bf-4b77f32b855b"
      },
      "outputs": [
        {
          "data": {
            "text/plain": [
              "'./data/*.txt'"
            ]
          },
          "execution_count": 15,
          "metadata": {},
          "output_type": "execute_result"
        }
      ],
      "source": [
        "os.path.join('./data/', '*.txt')"
      ]
    },
    {
      "cell_type": "code",
      "execution_count": null,
      "id": "7f48d4d5-35ba-46bf-b19d-4050db42ec98",
      "metadata": {
        "id": "7f48d4d5-35ba-46bf-b19d-4050db42ec98",
        "outputId": "553da274-7f22-42e7-8c5a-17747de1c3db"
      },
      "outputs": [
        {
          "data": {
            "text/plain": [
              "['./data\\\\텍스트파일1.txt', './data\\\\텍스트파일2.txt', './data\\\\텍스트파일3.txt']"
            ]
          },
          "execution_count": 16,
          "metadata": {},
          "output_type": "execute_result"
        }
      ],
      "source": [
        "glob.glob('./data/*.txt')"
      ]
    },
    {
      "cell_type": "code",
      "execution_count": null,
      "id": "ddb572a6-1574-460c-b839-5a8d48a05a81",
      "metadata": {
        "id": "ddb572a6-1574-460c-b839-5a8d48a05a81",
        "outputId": "dec503d2-baf9-462c-a4db-0e4f24f30d1b"
      },
      "outputs": [
        {
          "name": "stdout",
          "output_type": "stream",
          "text": [
            "data\\텍스트파일1.txt\n",
            "data\\텍스트파일2.txt\n",
            "data\\텍스트파일3.txt\n"
          ]
        }
      ],
      "source": [
        "# 현재 경로의 txt파일 찾기\n",
        "for filename in glob.glob('*/*.txt') :\n",
        "    print(filename)"
      ]
    },
    {
      "cell_type": "code",
      "execution_count": null,
      "id": "94dc7f70-31e5-4b12-9b78-aa45ad634dd5",
      "metadata": {
        "id": "94dc7f70-31e5-4b12-9b78-aa45ad634dd5",
        "outputId": "6226e8ef-8d8d-4226-9c6a-77a472f20471"
      },
      "outputs": [
        {
          "name": "stdout",
          "output_type": "stream",
          "text": [
            "data\\텍스트파일1.txt\n",
            "data\\텍스트파일2.txt\n",
            "data\\텍스트파일3.txt\n"
          ]
        }
      ],
      "source": [
        "# 하위 디렉토리의 txt 파일 찾기\n",
        "for filename in glob.glob('**/*.txt') :\n",
        "    print(filename)"
      ]
    },
    {
      "cell_type": "code",
      "execution_count": null,
      "id": "a29a3dd0-8d0e-41b3-9abb-55750781d2d0",
      "metadata": {
        "id": "a29a3dd0-8d0e-41b3-9abb-55750781d2d0",
        "outputId": "a30a81ef-39f3-4447-b87c-3c4af8bf7598"
      },
      "outputs": [
        {
          "name": "stdout",
          "output_type": "stream",
          "text": [
            "바나나.txt\n",
            "사과.txt\n",
            "오렌지.txt\n",
            "텍스트파일1.txt\n",
            "텍스트파일2.txt\n",
            "텍스트파일3.txt\n",
            "data\\텍스트파일1.txt\n",
            "data\\텍스트파일2.txt\n",
            "data\\텍스트파일3.txt\n"
          ]
        }
      ],
      "source": [
        "# 현재 디렉토리와 하위 디렉토리 전부 txt파일 찾기\n",
        "for filename in glob.glob('**/*.txt', recursive=True) :\n",
        "    print(filename)"
      ]
    },
    {
      "cell_type": "code",
      "execution_count": null,
      "id": "d928b3ad-d8db-4c7d-9402-1a51899e4364",
      "metadata": {
        "id": "d928b3ad-d8db-4c7d-9402-1a51899e4364",
        "outputId": "dda33757-13af-4161-de70-fefdc3155651"
      },
      "outputs": [
        {
          "name": "stdout",
          "output_type": "stream",
          "text": [
            "바나나.txt\n",
            "오렌지.txt\n"
          ]
        }
      ],
      "source": [
        "# 파일명 글자수 및 모든 확장명으로 찾기\n",
        "for filename in glob.glob('???.*', recursive=True) :\n",
        "    print(filename)"
      ]
    },
    {
      "cell_type": "code",
      "execution_count": null,
      "id": "3ebf3ef7-36f9-4400-8ea6-ffadee748030",
      "metadata": {
        "id": "3ebf3ef7-36f9-4400-8ea6-ffadee748030",
        "outputId": "774811cb-3e29-44c9-dbbb-dc5287781f1c"
      },
      "outputs": [
        {
          "name": "stdout",
          "output_type": "stream",
          "text": [
            "abcdef.txt\n"
          ]
        }
      ],
      "source": [
        "# 문자열 패턴 포함 파일명 찾기\n",
        "for filename in glob.glob('[a-z][a-z][a-z][a-z][a-z][a-z].*', recursive=True) :\n",
        "    print(filename)"
      ]
    },
    {
      "cell_type": "code",
      "execution_count": null,
      "id": "ead1876b-0210-416c-870d-e4edb7ee94ed",
      "metadata": {
        "id": "ead1876b-0210-416c-870d-e4edb7ee94ed",
        "outputId": "38d83ff5-dc51-4cbf-8684-3763650acc88"
      },
      "outputs": [
        {
          "name": "stdout",
          "output_type": "stream",
          "text": [
            "data\\텍스트파일1.txt\n",
            "data\\텍스트파일2.txt\n",
            "data\\텍스트파일3.txt\n"
          ]
        }
      ],
      "source": [
        "for filename in glob.glob('**/텍스*.*') :\n",
        "    print(filename)"
      ]
    },
    {
      "cell_type": "code",
      "execution_count": null,
      "id": "1dfcfd22-1f88-4f28-abde-94bc2cbe374f",
      "metadata": {
        "id": "1dfcfd22-1f88-4f28-abde-94bc2cbe374f",
        "outputId": "1cf60f9c-345f-42ce-c868-1d5cce4a3296"
      },
      "outputs": [
        {
          "name": "stdout",
          "output_type": "stream",
          "text": [
            "data\\텍스트파일1.txt\n",
            "data\\텍스트파일2.txt\n",
            "data\\텍스트파일3.txt\n"
          ]
        }
      ],
      "source": [
        "for filename in glob.glob('**/*파일*.*') :\n",
        "    print(filename)"
      ]
    },
    {
      "cell_type": "code",
      "execution_count": null,
      "id": "6c6c76c7-232f-4151-9d7d-0bdc51a39b58",
      "metadata": {
        "id": "6c6c76c7-232f-4151-9d7d-0bdc51a39b58",
        "outputId": "c0f330fb-e88f-4e1c-d33e-e24a0f44a18f"
      },
      "outputs": [
        {
          "name": "stdout",
          "output_type": "stream",
          "text": [
            "data\\텍스트파일1.txt\n",
            "data\\텍스트파일2.txt\n",
            "data\\텍스트파일3.txt\n"
          ]
        }
      ],
      "source": [
        "for filename in glob.glob('**/*스*파*.*') :\n",
        "    print(filename)"
      ]
    },
    {
      "cell_type": "markdown",
      "id": "1f300333-3c66-4d6f-a20b-438ad39aa247",
      "metadata": {
        "id": "1f300333-3c66-4d6f-a20b-438ad39aa247"
      },
      "source": [
        "# **3. shutil**\n",
        "shutil 모듈은 파이썬에서 고수준 파일 연산을 수행하기 위한 유틸리티 모듈입니다. 기본적인 os 모듈에서 제공하는 기능을 확장하여, 파일 및 디렉터리를 복사, 이동, 삭제하는 데 사용할 수 있는 더 다양한 함수를 제공합니다."
      ]
    },
    {
      "cell_type": "code",
      "execution_count": null,
      "id": "29e2aed0-7882-4cf6-b2a1-d98e92a7ec3a",
      "metadata": {
        "id": "29e2aed0-7882-4cf6-b2a1-d98e92a7ec3a"
      },
      "outputs": [],
      "source": [
        "import shutil"
      ]
    },
    {
      "cell_type": "code",
      "execution_count": null,
      "id": "21e43316-8de6-45c1-873e-27600d1dac15",
      "metadata": {
        "id": "21e43316-8de6-45c1-873e-27600d1dac15",
        "outputId": "40e60a2a-22df-4164-84d3-952aafc2ed22"
      },
      "outputs": [
        {
          "data": {
            "text/plain": [
              "'사과_복사본.txt'"
            ]
          },
          "execution_count": 37,
          "metadata": {},
          "output_type": "execute_result"
        }
      ],
      "source": [
        "# 파일 복사\n",
        "shutil.copy('사과.txt', '사과_복사본.txt')"
      ]
    },
    {
      "cell_type": "code",
      "execution_count": null,
      "id": "98fe0171-1df5-45b0-b363-44c064f468b1",
      "metadata": {
        "id": "98fe0171-1df5-45b0-b363-44c064f468b1",
        "outputId": "a60c6b28-d0a0-4288-c159-a617d60e59e2"
      },
      "outputs": [
        {
          "data": {
            "text/plain": [
              "'data/사과_이동.txt'"
            ]
          },
          "execution_count": 38,
          "metadata": {},
          "output_type": "execute_result"
        }
      ],
      "source": [
        "# 파일 이동\n",
        "shutil.move('사과.txt', 'data/사과_이동.txt')"
      ]
    },
    {
      "cell_type": "code",
      "execution_count": null,
      "id": "128936b5-2946-4413-b20a-74be35962b22",
      "metadata": {
        "id": "128936b5-2946-4413-b20a-74be35962b22",
        "outputId": "77183b97-1fbf-4aae-c8cb-73a82165526d"
      },
      "outputs": [
        {
          "data": {
            "text/plain": [
              "'파이썬파일.py'"
            ]
          },
          "execution_count": 39,
          "metadata": {},
          "output_type": "execute_result"
        }
      ],
      "source": [
        "# 확장명 바꾸기\n",
        "shutil.move('abcdef.txt', '파이썬파일.py')"
      ]
    },
    {
      "cell_type": "markdown",
      "id": "06dc2a37-8cea-40a2-877b-5027a30af54f",
      "metadata": {
        "id": "06dc2a37-8cea-40a2-877b-5027a30af54f"
      },
      "source": [
        "# **4. fnmatch**\n",
        "파일 이름을 패턴 매칭 할 때 사용하는 모듈"
      ]
    },
    {
      "cell_type": "code",
      "execution_count": null,
      "id": "62c11200-9dc4-45f8-8892-c81f7c31438c",
      "metadata": {
        "id": "62c11200-9dc4-45f8-8892-c81f7c31438c"
      },
      "outputs": [],
      "source": [
        "import fnmatch"
      ]
    },
    {
      "cell_type": "code",
      "execution_count": null,
      "id": "5520765c-1d50-43eb-a98e-cc40bd6cff3d",
      "metadata": {
        "id": "5520765c-1d50-43eb-a98e-cc40bd6cff3d",
        "outputId": "2517d459-97fe-41ff-8718-ef026d9508d3"
      },
      "outputs": [
        {
          "name": "stdout",
          "output_type": "stream",
          "text": [
            "True\n",
            "False\n"
          ]
        }
      ],
      "source": [
        "# 파일 이름이 패턴에 맞는지 확인\n",
        "print(fnmatch.fnmatch('example.txt', '*.txt'))\n",
        "print(fnmatch.fnmatch('example.py', '*.txt'))"
      ]
    },
    {
      "cell_type": "code",
      "execution_count": null,
      "id": "a5b410a4-acad-4bd3-a233-6795a6e53f1c",
      "metadata": {
        "id": "a5b410a4-acad-4bd3-a233-6795a6e53f1c",
        "outputId": "3e675a2a-c677-4d4a-dbe5-bba5fdb0238e"
      },
      "outputs": [
        {
          "name": "stdout",
          "output_type": "stream",
          "text": [
            "텍스트파일1.txt\n",
            "텍스트파일2.txt\n",
            "텍스트파일3.txt\n"
          ]
        }
      ],
      "source": [
        "for filename in os.listdir('data') :\n",
        "    if fnmatch.fnmatch(filename, '?????[0-9].txt') :\n",
        "        print(filename)"
      ]
    },
    {
      "cell_type": "code",
      "execution_count": null,
      "id": "9109b705-d4eb-4a1d-904f-7427cf141e0d",
      "metadata": {
        "id": "9109b705-d4eb-4a1d-904f-7427cf141e0d",
        "outputId": "0b9608b3-e597-45d6-ac12-15bc3571a6a1"
      },
      "outputs": [
        {
          "data": {
            "text/plain": [
              "['.DS_Store', '사과_이동.txt', '텍스트파일1.txt', '텍스트파일2.txt', '텍스트파일3.txt']"
            ]
          },
          "execution_count": 45,
          "metadata": {},
          "output_type": "execute_result"
        }
      ],
      "source": [
        "os.listdir('data')"
      ]
    },
    {
      "cell_type": "markdown",
      "id": "6fe5bacd-a7f4-4dc5-b983-70498f2e4c47",
      "metadata": {
        "id": "6fe5bacd-a7f4-4dc5-b983-70498f2e4c47"
      },
      "source": [
        "# **5. path library**\n",
        "디렉토리의 경로를 객체지향 방식으로 다룰 수 있게 도와주는 모듈"
      ]
    },
    {
      "cell_type": "code",
      "execution_count": null,
      "id": "03c06098-aa67-4b4d-9a6d-1733cf9f4091",
      "metadata": {
        "id": "03c06098-aa67-4b4d-9a6d-1733cf9f4091"
      },
      "outputs": [],
      "source": [
        "from pathlib import Path"
      ]
    },
    {
      "cell_type": "code",
      "execution_count": null,
      "id": "855912c4-873a-4f5a-ba87-0f06bcc2f141",
      "metadata": {
        "id": "855912c4-873a-4f5a-ba87-0f06bcc2f141",
        "outputId": "f33bdb33-f58f-4757-c5d3-6bd0f92dc6b3"
      },
      "outputs": [
        {
          "name": "stdout",
          "output_type": "stream",
          "text": [
            ".\n",
            "data\\file.txt\n"
          ]
        }
      ],
      "source": [
        "# 경로를 하나의 객체로 만듦\n",
        "current_path = Path('.')\n",
        "print(current_path)\n",
        "\n",
        "file_path = Path('data/file.txt')\n",
        "print(file_path)"
      ]
    },
    {
      "cell_type": "code",
      "execution_count": null,
      "id": "5e9a134d-c25b-43c5-83c4-5c79e7d5f429",
      "metadata": {
        "id": "5e9a134d-c25b-43c5-83c4-5c79e7d5f429",
        "outputId": "f7979859-2f45-4504-9b30-62e0a60953dd"
      },
      "outputs": [
        {
          "name": "stdout",
          "output_type": "stream",
          "text": [
            "data\\file.txt\n"
          ]
        }
      ],
      "source": [
        "# 경로 만들기\n",
        "new_path = Path('data')/ 'file.txt'\n",
        "print(new_path)"
      ]
    },
    {
      "cell_type": "code",
      "execution_count": null,
      "id": "95255b4d-d3d7-4ea6-a379-184b47773315",
      "metadata": {
        "id": "95255b4d-d3d7-4ea6-a379-184b47773315",
        "outputId": "061f3770-e1af-4603-8e17-b0159597bb89"
      },
      "outputs": [
        {
          "name": "stdout",
          "output_type": "stream",
          "text": [
            "파일이 존재합니다\n"
          ]
        }
      ],
      "source": [
        "# 파일 존재 유무 확인하기\n",
        "file_path = Path('data/텍스트파일1.txt')\n",
        "\n",
        "if file_path.exists() :\n",
        "    print('파일이 존재합니다')\n",
        "else :\n",
        "    print('파일이 존재하지 않습니다.')"
      ]
    },
    {
      "cell_type": "code",
      "execution_count": null,
      "id": "202d9d3d-c5a7-4f2b-8e2b-7e6c6267d26c",
      "metadata": {
        "id": "202d9d3d-c5a7-4f2b-8e2b-7e6c6267d26c"
      },
      "outputs": [],
      "source": [
        "dir_path = Path('data/user/new_folder')\n",
        "# parents : 상위 디렉토리까지 자동으로 생성함\n",
        "# exist_ok : 이미 디렉토리가 있어도 오류를 발생시키지 않음\n",
        "dir_path.mkdir(parents=True, exist_ok=True)"
      ]
    },
    {
      "cell_type": "markdown",
      "id": "b1b7c872-6aae-4afb-87b8-6945ebd5f4fd",
      "metadata": {
        "id": "b1b7c872-6aae-4afb-87b8-6945ebd5f4fd"
      },
      "source": [
        "# **6. zipfile**\n",
        "* zip 파일을 읽고 쓰기 위한 표준 라이브러리\n",
        "* 데이터를 효율적으로 저장하거나 전송할 때 사용(여러 개의 파일을 하나로 묶고, 크기를 줄임)"
      ]
    },
    {
      "cell_type": "code",
      "execution_count": null,
      "id": "8887d47f-a28a-4baa-b2d2-ad1806225121",
      "metadata": {
        "id": "8887d47f-a28a-4baa-b2d2-ad1806225121"
      },
      "outputs": [],
      "source": [
        "import zipfile"
      ]
    },
    {
      "cell_type": "code",
      "execution_count": null,
      "id": "eb95858f-04b7-42e5-99f3-c84eb328fd62",
      "metadata": {
        "id": "eb95858f-04b7-42e5-99f3-c84eb328fd62"
      },
      "outputs": [],
      "source": [
        "# 압축하기\n",
        "with zipfile.ZipFile('data/새파일.zip', 'w') as myzip :\n",
        "    myzip.write('data/텍스트파일1.txt')\n",
        "    myzip.write('data/텍스트파일2.txt')\n",
        "    myzip.write('data/텍스트파일3.txt')\n",
        "    myzip.write('data/사과_이동.txt')"
      ]
    },
    {
      "cell_type": "code",
      "execution_count": null,
      "id": "33cc77b5-b4de-49d9-8ac9-bcf04dd4542b",
      "metadata": {
        "id": "33cc77b5-b4de-49d9-8ac9-bcf04dd4542b",
        "outputId": "9371f1ba-dad1-4b79-9962-f77fffe72033"
      },
      "outputs": [
        {
          "name": "stdout",
          "output_type": "stream",
          "text": [
            "['data/텍스트파일1.txt', 'data/텍스트파일2.txt', 'data/텍스트파일3.txt', 'data/사과_이동.txt']\n",
            "1. 안녕하세요! 파이썬!\n",
            "2. 안녕하세요! 파이썬!\n",
            "3. 안녕하세요! 파이썬!\n",
            "4. 안녕하세요! 파이썬!\n",
            "5. 안녕하세요! 파이썬!\n"
          ]
        }
      ],
      "source": [
        "# 압축 파일 내용 확인\n",
        "with zipfile.ZipFile('data/새파일.zip', 'r') as myzip :\n",
        "    print(myzip.namelist())\n",
        "    with myzip.open('data/텍스트파일1.txt') as myfile :\n",
        "        print(myfile.read().decode()) # decode() : 해석해라"
      ]
    },
    {
      "cell_type": "code",
      "execution_count": null,
      "id": "a3d3f6b3-6399-462e-b60a-90da8819c85e",
      "metadata": {
        "id": "a3d3f6b3-6399-462e-b60a-90da8819c85e"
      },
      "outputs": [],
      "source": [
        "# 압축 풀기\n",
        "with zipfile.ZipFile('data/새파일.zip', 'r') as myzip :\n",
        "    myzip.extractall()"
      ]
    },
    {
      "cell_type": "code",
      "execution_count": null,
      "id": "1497de6e-2133-4938-aadd-5da770cffd23",
      "metadata": {
        "id": "1497de6e-2133-4938-aadd-5da770cffd23"
      },
      "outputs": [],
      "source": [
        "# 특정 파일만 압축 풀기\n",
        "with zipfile.ZipFile('data/새파일.zip', 'r') as myzip :\n",
        "    myzip.extract('data/텍스트파일1.txt', 'output')"
      ]
    },
    {
      "cell_type": "code",
      "execution_count": null,
      "id": "83610eee-99a1-4580-a873-6f7d749ef7a6",
      "metadata": {
        "id": "83610eee-99a1-4580-a873-6f7d749ef7a6"
      },
      "outputs": [],
      "source": [
        "# 압축 파일 추가하기\n",
        "with zipfile.ZipFile('data/새파일.zip', 'a') as myzip :\n",
        "    myzip.write('data/바나나.txt')"
      ]
    },
    {
      "cell_type": "markdown",
      "id": "714ce988-cdb3-49e6-a403-c1413e666a83",
      "metadata": {
        "id": "714ce988-cdb3-49e6-a403-c1413e666a83"
      },
      "source": [
        "# **7. openxl**\n",
        "파이썬에서 엑셀 파일을 읽고, 쓰고, 수정할 수 있게 해주는 모듈"
      ]
    },
    {
      "cell_type": "code",
      "execution_count": null,
      "id": "9a46ac69-5853-4afb-a622-e4896ef377bd",
      "metadata": {
        "id": "9a46ac69-5853-4afb-a622-e4896ef377bd",
        "outputId": "fcae29a4-5e28-407c-934c-fa5c8d2b61d1"
      },
      "outputs": [
        {
          "name": "stderr",
          "output_type": "stream",
          "text": [
            "\n",
            "[notice] A new release of pip is available: 24.0 -> 24.2\n",
            "[notice] To update, run: python.exe -m pip install --upgrade pip\n"
          ]
        }
      ],
      "source": [
        "!pip install -q openpyxl"
      ]
    },
    {
      "cell_type": "code",
      "execution_count": null,
      "id": "5cb602d4-b16b-4c42-9626-a5e32565a203",
      "metadata": {
        "id": "5cb602d4-b16b-4c42-9626-a5e32565a203"
      },
      "outputs": [],
      "source": [
        "import openpyxl as opx"
      ]
    },
    {
      "cell_type": "code",
      "execution_count": null,
      "id": "45d05f59-098e-4637-ad73-2944838d042a",
      "metadata": {
        "id": "45d05f59-098e-4637-ad73-2944838d042a"
      },
      "outputs": [],
      "source": [
        "# 새 워크북 생성\n",
        "wb = opx.Workbook()\n",
        "\n",
        "# 시트 선택\n",
        "sheet = wb.active\n",
        "\n",
        "# 셀에 데이터 쓰기\n",
        "sheet['A1'] = 'Hello'\n",
        "sheet['B1'] = 'Python'\n",
        "\n",
        "# 엑셀 파일 저장\n",
        "wb.save('test.xlsx')"
      ]
    },
    {
      "cell_type": "code",
      "execution_count": null,
      "id": "2eaa4e48-a462-412f-80f5-d67737f4e2e6",
      "metadata": {
        "id": "2eaa4e48-a462-412f-80f5-d67737f4e2e6",
        "outputId": "b5631f30-d1c6-45f6-ced8-1413d5882c2f"
      },
      "outputs": [
        {
          "name": "stdout",
          "output_type": "stream",
          "text": [
            "Hello\n",
            "Python\n",
            "None\n"
          ]
        }
      ],
      "source": [
        "wb = opx.load_workbook('test.xlsx')\n",
        "sheet = wb.active\n",
        "print(sheet['A1'].value)\n",
        "print(sheet['B1'].value)\n",
        "print(sheet['C1'].value)"
      ]
    },
    {
      "cell_type": "code",
      "execution_count": null,
      "id": "8b3e7737-f95d-413a-8631-28c4085fabd7",
      "metadata": {
        "id": "8b3e7737-f95d-413a-8631-28c4085fabd7"
      },
      "outputs": [],
      "source": [
        "wb = opx.Workbook()\n",
        "sheet = wb.active\n",
        "sheet.title = '첫번째 시트'\n",
        "wb.create_sheet(title='두번째 시트')\n",
        "wb.create_sheet(title='세번쨰 시트')\n",
        "\n",
        "sheet2 = wb['두번째 시트']\n",
        "sheet2['A1'] = '두번째 시트에 데이터를 추가'\n",
        "\n",
        "wb.save('test2.xlsx')"
      ]
    },
    {
      "cell_type": "markdown",
      "id": "fd3a6a70-37f7-46c3-9c8f-efb237a10208",
      "metadata": {
        "id": "fd3a6a70-37f7-46c3-9c8f-efb237a10208"
      },
      "source": [
        "### 문제1\n",
        "(student_scores.xlsx)\n",
        "\n",
        "첫번째 시트에 A1에 이름 B1에 점수\n",
        "\n",
        "시트 이름은 학생명단\n",
        "\n",
        "김사과 98\n",
        "\n",
        "반하나 85\n",
        "\n",
        "오렌지 95\n",
        "\n",
        "이메론 76\n"
      ]
    },
    {
      "cell_type": "code",
      "execution_count": null,
      "id": "2bf84d64-adb1-40ad-9fd0-4737643c52f2",
      "metadata": {
        "id": "2bf84d64-adb1-40ad-9fd0-4737643c52f2"
      },
      "outputs": [],
      "source": [
        "from typing import List"
      ]
    },
    {
      "cell_type": "code",
      "execution_count": null,
      "id": "cdfbfd04-7a18-4b11-ae0d-e295296f9725",
      "metadata": {
        "id": "cdfbfd04-7a18-4b11-ae0d-e295296f9725"
      },
      "outputs": [],
      "source": [
        "stu_name: List[str] = ['김사과', '반하나', '오렌지', '이메론']\n",
        "stu_score: List[int] = [98, 85, 95, 76]"
      ]
    },
    {
      "cell_type": "code",
      "execution_count": null,
      "id": "429f9ecf-5cd0-44e9-9da0-0fe3d2d319dc",
      "metadata": {
        "id": "429f9ecf-5cd0-44e9-9da0-0fe3d2d319dc"
      },
      "outputs": [],
      "source": [
        "wb = opx.Workbook()\n",
        "sheet = wb.active\n",
        "sheet.title = '학생 명단'\n",
        "sheet['A1'] = '이름'\n",
        "sheet['B1'] = '점수'\n",
        "for i in range(2,6) :\n",
        "    sheet[f'A{i}'] = stu_name[i-2]\n",
        "    sheet[f'B{i}'] = stu_score[i-2]\n",
        "\n",
        "wb.save('student_scores.xlsx')"
      ]
    },
    {
      "cell_type": "code",
      "execution_count": null,
      "id": "0804205c-293b-46e6-b127-71960eb97659",
      "metadata": {
        "id": "0804205c-293b-46e6-b127-71960eb97659"
      },
      "outputs": [],
      "source": [
        "# 강사님 코드\n",
        "wb = opx.Workbook()\n",
        "sheet = wb.active\n",
        "sheet.title = '학생명단'\n",
        "sheet['A1'] = '이름'\n",
        "sheet['B1'] = '점수'\n",
        "\n",
        "student = [\n",
        "    ('김사과', 98),\n",
        "    ('반하나', 85),\n",
        "    ('오렌지', 95),\n",
        "    ('이메론', 76)\n",
        "]\n",
        "\n",
        "for idx, (name, score) in enumerate(student, start=2) :\n",
        "    sheet[f'A{idx}'] = name\n",
        "    sheet[f'B{idx}'] = score\n",
        "\n",
        "wb.save('stu_sc_teacher.xlsx')"
      ]
    },
    {
      "cell_type": "markdown",
      "id": "66c8315d-5e65-4b2d-98a8-21cff9329451",
      "metadata": {
        "id": "66c8315d-5e65-4b2d-98a8-21cff9329451"
      },
      "source": [
        "### 과제\n",
        "엑셀을 이용한 '업무 자동화' 프로젝트 프로그램을 만들어보자\n",
        "* 자유롭게 문서 양식을 선택하여 작성"
      ]
    },
    {
      "cell_type": "code",
      "execution_count": null,
      "id": "36b31d1c-fc90-4d2d-869a-c5dcc7f5b99e",
      "metadata": {
        "id": "36b31d1c-fc90-4d2d-869a-c5dcc7f5b99e"
      },
      "outputs": [],
      "source": [
        "from openpyxl import Font, Alignment, Border, Side, PatternFill, color\n",
        "from datetime import date\n",
        "\n",
        "wb = openpyxl.Workbook()\n",
        "sheet = wb.active\n",
        "sheet.title = '업무 자동화'\n",
        "\n",
        "sheet.merge_cells('A1:E1')\n",
        "sheet['A1'] = date.today()\n",
        "\n",
        "wb.save('assignment.xlsx')"
      ]
    },
    {
      "cell_type": "code",
      "execution_count": null,
      "id": "c2344f1b-1095-4052-b7c0-a0a5a1881154",
      "metadata": {
        "id": "c2344f1b-1095-4052-b7c0-a0a5a1881154"
      },
      "outputs": [],
      "source": []
    }
  ],
  "metadata": {
    "kernelspec": {
      "display_name": "Python 3 (ipykernel)",
      "language": "python",
      "name": "python3"
    },
    "language_info": {
      "codemirror_mode": {
        "name": "ipython",
        "version": 3
      },
      "file_extension": ".py",
      "mimetype": "text/x-python",
      "name": "python",
      "nbconvert_exporter": "python",
      "pygments_lexer": "ipython3",
      "version": "3.11.9"
    },
    "colab": {
      "provenance": [],
      "include_colab_link": true
    }
  },
  "nbformat": 4,
  "nbformat_minor": 5
}