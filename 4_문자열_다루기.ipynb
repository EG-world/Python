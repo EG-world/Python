{
  "nbformat": 4,
  "nbformat_minor": 0,
  "metadata": {
    "colab": {
      "provenance": [],
      "authorship_tag": "ABX9TyMxMVq81JJn2K74BZf5FcvY",
      "include_colab_link": true
    },
    "kernelspec": {
      "name": "python3",
      "display_name": "Python 3"
    },
    "language_info": {
      "name": "python"
    }
  },
  "cells": [
    {
      "cell_type": "markdown",
      "metadata": {
        "id": "view-in-github",
        "colab_type": "text"
      },
      "source": [
        "<a href=\"https://colab.research.google.com/github/EG-world/Python/blob/main/4_%EB%AC%B8%EC%9E%90%EC%97%B4_%EB%8B%A4%EB%A3%A8%EA%B8%B0.ipynb\" target=\"_parent\"><img src=\"https://colab.research.google.com/assets/colab-badge.svg\" alt=\"Open In Colab\"/></a>"
      ]
    },
    {
      "cell_type": "markdown",
      "source": [
        "# **1. 문자열이란?**\n",
        "파이썬에서 문자열은 텍스트 데이터를 다루는 데 사용되는 중요한 데이터 타입입니다. 문자열은 작은 따옴표(')나 큰 따옴표(\"), 세 개의 따옴표(''', \"\"\")로 둘러싸인 텍스트로 표현됩니다.\n",
        "\n"
      ],
      "metadata": {
        "id": "N3LTu6dZxMOJ"
      }
    },
    {
      "cell_type": "code",
      "source": [
        "str1 = '오늘도 즐거운 파이썬 수업'\n",
        "print(str1)\n",
        "str2 = \"오늘도 즐거운 파이썬 수업\"\n",
        "print(str2)\n",
        "str3 = '''김사과 :\n",
        "오늘 수업 정말 즐겁네요\n",
        "그렇죠? '''\n",
        "print(str3)"
      ],
      "metadata": {
        "colab": {
          "base_uri": "https://localhost:8080/"
        },
        "id": "KCnMOS2TxShs",
        "outputId": "f14f8471-78a3-4ba3-d7da-376588704dee"
      },
      "execution_count": 2,
      "outputs": [
        {
          "output_type": "stream",
          "name": "stdout",
          "text": [
            "오늘도 즐거운 파이썬 수업\n",
            "오늘도 즐거운 파이썬 수업\n",
            "김사과 :\n",
            "오늘 수업 정말 즐겁네요\n",
            "그렇죠? \n"
          ]
        }
      ]
    },
    {
      "cell_type": "code",
      "source": [
        "str1 = 'hello'\n",
        "str2 = 'hello'\n",
        "# is : Python에서 두 객체가 같은 객체인지 여부를 비교. 동일한 주소를 가지는지 확인\n",
        "print(str1 is str2)"
      ],
      "metadata": {
        "colab": {
          "base_uri": "https://localhost:8080/"
        },
        "id": "gLxXotpKxg_X",
        "outputId": "e41af2c5-742f-40eb-af51-cf5353532b64"
      },
      "execution_count": 3,
      "outputs": [
        {
          "output_type": "stream",
          "name": "stdout",
          "text": [
            "True\n"
          ]
        }
      ]
    },
    {
      "cell_type": "code",
      "source": [],
      "metadata": {
        "id": "NW7AZBK_y7Xk"
      },
      "execution_count": null,
      "outputs": []
    }
  ]
}