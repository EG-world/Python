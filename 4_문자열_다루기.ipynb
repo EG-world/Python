{
  "nbformat": 4,
  "nbformat_minor": 0,
  "metadata": {
    "colab": {
      "provenance": [],
      "authorship_tag": "ABX9TyP4ILxDZLDwNIlPfsxR0i9L",
      "include_colab_link": true
    },
    "kernelspec": {
      "name": "python3",
      "display_name": "Python 3"
    },
    "language_info": {
      "name": "python"
    }
  },
  "cells": [
    {
      "cell_type": "markdown",
      "metadata": {
        "id": "view-in-github",
        "colab_type": "text"
      },
      "source": [
        "<a href=\"https://colab.research.google.com/github/EG-world/Python/blob/main/4_%EB%AC%B8%EC%9E%90%EC%97%B4_%EB%8B%A4%EB%A3%A8%EA%B8%B0.ipynb\" target=\"_parent\"><img src=\"https://colab.research.google.com/assets/colab-badge.svg\" alt=\"Open In Colab\"/></a>"
      ]
    },
    {
      "cell_type": "markdown",
      "source": [
        "# **1. 문자열이란?**\n",
        "파이썬에서 문자열은 텍스트 데이터를 다루는 데 사용되는 중요한 데이터 타입입니다. 문자열은 작은 따옴표(')나 큰 따옴표(\"), 세 개의 따옴표(''', \"\"\")로 둘러싸인 텍스트로 표현됩니다.\n",
        "\n"
      ],
      "metadata": {
        "id": "N3LTu6dZxMOJ"
      }
    },
    {
      "cell_type": "code",
      "source": [
        "str1 = '오늘도 즐거운 파이썬 수업'\n",
        "print(str1)\n",
        "str2 = \"오늘도 즐거운 파이썬 수업\"\n",
        "print(str2)\n",
        "str3 = '''김사과 :\n",
        "오늘 수업 정말 즐겁네요\n",
        "그렇죠? '''\n",
        "print(str3)"
      ],
      "metadata": {
        "colab": {
          "base_uri": "https://localhost:8080/"
        },
        "id": "KCnMOS2TxShs",
        "outputId": "f14f8471-78a3-4ba3-d7da-376588704dee"
      },
      "execution_count": 2,
      "outputs": [
        {
          "output_type": "stream",
          "name": "stdout",
          "text": [
            "오늘도 즐거운 파이썬 수업\n",
            "오늘도 즐거운 파이썬 수업\n",
            "김사과 :\n",
            "오늘 수업 정말 즐겁네요\n",
            "그렇죠? \n"
          ]
        }
      ]
    },
    {
      "cell_type": "code",
      "source": [
        "str1 = 'hello'\n",
        "str2 = 'hello'\n",
        "# is : Python에서 두 객체가 같은 객체인지 여부를 비교. 동일한 주소를 가지는지 확인\n",
        "print(str1 is str2)"
      ],
      "metadata": {
        "colab": {
          "base_uri": "https://localhost:8080/"
        },
        "id": "gLxXotpKxg_X",
        "outputId": "e41af2c5-742f-40eb-af51-cf5353532b64"
      },
      "execution_count": 3,
      "outputs": [
        {
          "output_type": "stream",
          "name": "stdout",
          "text": [
            "True\n"
          ]
        }
      ]
    },
    {
      "cell_type": "code",
      "source": [
        "# id() : 객체의 고유한 메모리 주소를 반환\n",
        "text = 'hello'\n",
        "print(id(text))\n",
        "text2 = 'hello'\n",
        "print(id(text2))\n",
        "text3='Hello'\n",
        "print(id(text3))"
      ],
      "metadata": {
        "colab": {
          "base_uri": "https://localhost:8080/"
        },
        "id": "NW7AZBK_y7Xk",
        "outputId": "44a2c493-2701-4ce7-dec3-aa596aec71a1"
      },
      "execution_count": 8,
      "outputs": [
        {
          "output_type": "stream",
          "name": "stdout",
          "text": [
            "134013876029296\n",
            "134013876029296\n",
            "134013854012976\n"
          ]
        }
      ]
    },
    {
      "cell_type": "markdown",
      "source": [
        "# **2. 문자열 함수와 연산자**\n"
      ],
      "metadata": {
        "id": "kqnXT5Gg4rXh"
      }
    },
    {
      "cell_type": "code",
      "source": [
        "# len() : 문자열의 길이를 int타입으로 반환\n",
        "text = 'Hello, Python!'\n",
        "print(len(text))"
      ],
      "metadata": {
        "colab": {
          "base_uri": "https://localhost:8080/"
        },
        "id": "GibhzBM-5vkf",
        "outputId": "db0f4b1a-cf81-47fc-c2c8-07193faaa447"
      },
      "execution_count": 10,
      "outputs": [
        {
          "output_type": "stream",
          "name": "stdout",
          "text": [
            "14\n"
          ]
        }
      ]
    },
    {
      "cell_type": "code",
      "source": [
        "str1 = 'abcdefg'\n",
        "len(str1)\n",
        "len(text)"
      ],
      "metadata": {
        "colab": {
          "base_uri": "https://localhost:8080/"
        },
        "id": "UXOg8ElQ596O",
        "outputId": "812f684d-5992-4004-ba52-c9ebf85b67eb"
      },
      "execution_count": 11,
      "outputs": [
        {
          "output_type": "execute_result",
          "data": {
            "text/plain": [
              "14"
            ]
          },
          "metadata": {},
          "execution_count": 11
        }
      ]
    },
    {
      "cell_type": "code",
      "source": [
        "# + : 두 문자열을 합쳐 새로운 문자열을 생성하는 연산자\n",
        "name = '김사과'\n",
        "age = 20\n",
        "# message = name + ', ' + age # TypeError: can only concatenate str (not \"int\") to str\n",
        "message = name + ', ' + str(age)\n",
        "message"
      ],
      "metadata": {
        "colab": {
          "base_uri": "https://localhost:8080/",
          "height": 35
        },
        "id": "zUtP96786e3e",
        "outputId": "73453b35-05e1-473d-85dc-05ff56cf2f8b"
      },
      "execution_count": 18,
      "outputs": [
        {
          "output_type": "execute_result",
          "data": {
            "text/plain": [
              "'김사과, 20'"
            ],
            "application/vnd.google.colaboratory.intrinsic+json": {
              "type": "string"
            }
          },
          "metadata": {},
          "execution_count": 18
        }
      ]
    },
    {
      "cell_type": "code",
      "source": [
        "message = f'{name}, {str(age)}'\n",
        "print(message)"
      ],
      "metadata": {
        "colab": {
          "base_uri": "https://localhost:8080/"
        },
        "id": "BAUSTjBp63zn",
        "outputId": "2a38d135-53c2-469c-aa59-091b11809b0b"
      },
      "execution_count": 20,
      "outputs": [
        {
          "output_type": "stream",
          "name": "stdout",
          "text": [
            "김사과, 20\n"
          ]
        }
      ]
    },
    {
      "cell_type": "code",
      "source": [
        "# * : 문자열을 반복할 때 사용하는 연산자\n",
        "apple = '🍎' * 3\n",
        "print(apple)"
      ],
      "metadata": {
        "colab": {
          "base_uri": "https://localhost:8080/"
        },
        "id": "A6hyU7Z68A2r",
        "outputId": "28558ec1-0e1d-4482-fe6f-721a862ed8b8"
      },
      "execution_count": 22,
      "outputs": [
        {
          "output_type": "stream",
          "name": "stdout",
          "text": [
            "🍎🍎🍎\n"
          ]
        }
      ]
    },
    {
      "cell_type": "markdown",
      "source": [
        "# **3. 문자열 인덱싱과 슬라이싱**"
      ],
      "metadata": {
        "id": "0FhzKqIj8RId"
      }
    },
    {
      "cell_type": "markdown",
      "source": [
        "### 3-1. 인덱싱\n",
        "인덱스를 이용하여 문자를 추출"
      ],
      "metadata": {
        "id": "V-3Vkjaj8_mt"
      }
    },
    {
      "cell_type": "code",
      "source": [
        "text = '문자열 인덱싱과 슬라이싱: 문자열 내부의 문자에 인덱스를 사용하여 접근하거나 슬라이스할 수 있습니다.'\n",
        "print(text)"
      ],
      "metadata": {
        "colab": {
          "base_uri": "https://localhost:8080/"
        },
        "id": "q_ZLLSMO9DWS",
        "outputId": "fa0432f6-bb57-4e23-b392-8201da6dae54"
      },
      "execution_count": 23,
      "outputs": [
        {
          "output_type": "stream",
          "name": "stdout",
          "text": [
            "문자열 인덱싱과 슬라이싱: 문자열 내부의 문자에 인덱스를 사용하여 접근하거나 슬라이스할 수 있습니다.\n"
          ]
        }
      ]
    },
    {
      "cell_type": "code",
      "source": [
        "text = '문자열 인덱싱과 슬라이싱: 문자열 내부의 문자에 인덱스를 사용하여 접근하거나 슬라이스할 수 있습니다.'\n",
        "print(text[0])\n",
        "print(text[2])\n",
        "print(text[12])\n",
        "print(text[-1]) # 마지막 문자\n",
        "print(text[-2]) # 마지막에서 두번째"
      ],
      "metadata": {
        "colab": {
          "base_uri": "https://localhost:8080/"
        },
        "id": "CllO_IsA9Gyo",
        "outputId": "0b816852-7247-4dbe-b56d-0efedae8cfc4"
      },
      "execution_count": 25,
      "outputs": [
        {
          "output_type": "stream",
          "name": "stdout",
          "text": [
            "문\n",
            "열\n",
            "싱\n",
            ".\n",
            "다\n"
          ]
        }
      ]
    },
    {
      "cell_type": "markdown",
      "source": [
        "### 3-2. 슬라이싱\n",
        "문자열의 일부(구간)를 추출하는 방법"
      ],
      "metadata": {
        "id": "t1gqDGPR9DSw"
      }
    },
    {
      "cell_type": "code",
      "source": [
        "# text = 문자열 인덱싱과 슬라이싱: 문자열 내부의 문자에 인덱스를 사용하여 접근하거나 슬라이스할 수 있습니다.\n",
        "print(text[0:6]) # 처음부터 6직전까지(5까지)\n",
        "print(text[8:16]) # 8부터 16직전까지(15까지)\n",
        "print(text[:16]) # 처음부터 16직전까지(15까지) 0은 생략이 가능하다!\n",
        "print(text[8:]) # 8부터 끝까지 (끝까지도 생략이 가능하다!)\n",
        "print(text[:]) # 처음부터 끝까지 (둘다 생략한 버전)"
      ],
      "metadata": {
        "colab": {
          "base_uri": "https://localhost:8080/"
        },
        "id": "0rYPOBQF9DPx",
        "outputId": "22a9c674-1748-438d-9aab-df49fb90ae66"
      },
      "execution_count": 27,
      "outputs": [
        {
          "output_type": "stream",
          "name": "stdout",
          "text": [
            "문자열 인덱\n",
            " 슬라이싱: 문\n",
            "문자열 인덱싱과 슬라이싱: 문\n",
            " 슬라이싱: 문자열 내부의 문자에 인덱스를 사용하여 접근하거나 슬라이스할 수 있습니다.\n",
            "문자열 인덱싱과 슬라이싱: 문자열 내부의 문자에 인덱스를 사용하여 접근하거나 슬라이스할 수 있습니다.\n"
          ]
        }
      ]
    },
    {
      "cell_type": "markdown",
      "source": [
        "# **4. 문자열 메서드**\n",
        "문자열 메서드는 문자열 객체에 적용되는 함수로, 문자열을 조작하거나 변환하는 다양한 작업을 수행할 수 있게 해줍니다."
      ],
      "metadata": {
        "id": "WAYUwfMh9DMR"
      }
    },
    {
      "cell_type": "code",
      "source": [
        "# upper(), lower() : 문자열을 대문자, 소문자로 변환\n",
        "text = 'hello, Python'\n",
        "print(text.upper())\n",
        "print(text.lower())"
      ],
      "metadata": {
        "colab": {
          "base_uri": "https://localhost:8080/",
          "height": 35
        },
        "id": "qoyDKPX79DJV",
        "outputId": "a270695e-3162-4794-e983-3bd44545ec33"
      },
      "execution_count": 29,
      "outputs": [
        {
          "output_type": "execute_result",
          "data": {
            "text/plain": [
              "'hello, Python'"
            ],
            "application/vnd.google.colaboratory.intrinsic+json": {
              "type": "string"
            }
          },
          "metadata": {},
          "execution_count": 29
        }
      ]
    },
    {
      "cell_type": "code",
      "source": [
        "# count() : 문자열의 특정 문자열의 등장 횟수를 반환\n",
        "text = 'Hello, Python'\n",
        "print(text.count('o'))\n",
        "print(text.count('ll'))\n",
        "print(text.count('N'))"
      ],
      "metadata": {
        "colab": {
          "base_uri": "https://localhost:8080/"
        },
        "id": "gBENF-8J9DGZ",
        "outputId": "da61c933-3ffd-4e1e-e893-735073e47522"
      },
      "execution_count": 30,
      "outputs": [
        {
          "output_type": "stream",
          "name": "stdout",
          "text": [
            "2\n",
            "1\n",
            "0\n"
          ]
        }
      ]
    },
    {
      "cell_type": "code",
      "source": [
        "# find() : 문자열의 특정 문자열이 첫 번째 등장하는 위치(인덱스)를 반환\n",
        "print(text.find('o'))\n",
        "print(text.find('ll'))\n",
        "print(text.find('N')) # 없다면 -1 반환\n",
        "print(text.rfind('o')) # rfind() 오른쪽에서부터 찾기\n",
        "print(text.find('o',6)) # index 6 이후부터 'o'의 위치를 찾음"
      ],
      "metadata": {
        "colab": {
          "base_uri": "https://localhost:8080/"
        },
        "id": "5clGBvwz9DC4",
        "outputId": "56180ba8-6003-4064-b4aa-0bd688b26f21"
      },
      "execution_count": 35,
      "outputs": [
        {
          "output_type": "stream",
          "name": "stdout",
          "text": [
            "4\n",
            "2\n",
            "-1\n",
            "11\n",
            "11\n"
          ]
        }
      ]
    },
    {
      "cell_type": "code",
      "source": [
        "# replace() : 문자열에서 특정 문자열을 찾아 다른 문자열로 치환\n",
        "print(text.replace('Python', 'Java'))"
      ],
      "metadata": {
        "colab": {
          "base_uri": "https://localhost:8080/"
        },
        "id": "bixyEYtN9C_X",
        "outputId": "ce73f4f2-e3bf-4e97-d661-5b9cb26979ff"
      },
      "execution_count": 36,
      "outputs": [
        {
          "output_type": "stream",
          "name": "stdout",
          "text": [
            "Hello, Java\n"
          ]
        }
      ]
    },
    {
      "cell_type": "code",
      "source": [
        "# strip() : 문자열의 양쪽 공백을 제거\n",
        "text = '      Hello, Python    '\n",
        "print(text)\n",
        "print(text.strip())\n",
        "print(text.rstrip())\n",
        "print(text.lstrip())"
      ],
      "metadata": {
        "colab": {
          "base_uri": "https://localhost:8080/"
        },
        "id": "vWsoyW6w9C72",
        "outputId": "a66437be-6a4e-4f10-803d-85ee298a3561"
      },
      "execution_count": 40,
      "outputs": [
        {
          "output_type": "stream",
          "name": "stdout",
          "text": [
            "      Hello, Python    \n",
            "Hello, Python\n",
            "      Hello, Python\n",
            "Hello, Python    \n"
          ]
        }
      ]
    },
    {
      "cell_type": "code",
      "source": [
        "# split() : 특정 문자열을 기준으로 문자열을 분리\n",
        "text = '김사과 반하나 오렌지 이메론'\n",
        "name = text.split() # 문자열을 함수에 전달하지 않으면 ' ' 기본값\n",
        "print(name)\n",
        "text = '김사과🐼반하나🐼오렌지🐼이메론'\n",
        "print(text.split('🐼'))"
      ],
      "metadata": {
        "colab": {
          "base_uri": "https://localhost:8080/"
        },
        "id": "Wdj286bt9C0z",
        "outputId": "0af4c20a-2fb9-400c-cf41-616d17f2a4e6"
      },
      "execution_count": 46,
      "outputs": [
        {
          "output_type": "stream",
          "name": "stdout",
          "text": [
            "['김사과', '반하나', '오렌지', '이메론']\n",
            "['김사과', '반하나', '오렌지', '이메론']\n"
          ]
        }
      ]
    },
    {
      "cell_type": "code",
      "source": [
        "# join() : 문자열을 구성하는 각 요소 사이에 특정한 구분자를 삽입\n",
        "text = 'hello'\n",
        "print('😎'.join(text))"
      ],
      "metadata": {
        "colab": {
          "base_uri": "https://localhost:8080/"
        },
        "id": "-KwAu_8p9Cui",
        "outputId": "42bd4198-aeb5-4435-b57d-f00afa836f32"
      },
      "execution_count": 47,
      "outputs": [
        {
          "output_type": "stream",
          "name": "stdout",
          "text": [
            "h😎e😎l😎l😎o\n"
          ]
        }
      ]
    },
    {
      "cell_type": "code",
      "source": [
        "alpha = 'abcde'\n",
        "','.join(alpha).split(',')"
      ],
      "metadata": {
        "colab": {
          "base_uri": "https://localhost:8080/"
        },
        "id": "HtTKaV_-9Crd",
        "outputId": "7e62ded3-fb77-4be8-b3b1-87965eda170e"
      },
      "execution_count": 50,
      "outputs": [
        {
          "output_type": "execute_result",
          "data": {
            "text/plain": [
              "['a', 'b', 'c', 'd', 'e']"
            ]
          },
          "metadata": {},
          "execution_count": 50
        }
      ]
    },
    {
      "cell_type": "code",
      "source": [
        "# startswith(), endswith() : 문자열에서 특정 문자열로 시작, 종료되는 문자열인지 확인\n",
        "text = 'Hello, Python'\n",
        "print(text.startswith('Hello'))\n",
        "print(text.startswith('hello'))\n",
        "print(text.endswith('!'))\n",
        "print(text.endswith('n'))"
      ],
      "metadata": {
        "colab": {
          "base_uri": "https://localhost:8080/"
        },
        "id": "ZWtEuVfNWWse",
        "outputId": "2b17b6dd-eca5-4cf9-de4a-b89fd1204694"
      },
      "execution_count": 52,
      "outputs": [
        {
          "output_type": "stream",
          "name": "stdout",
          "text": [
            "True\n",
            "False\n",
            "False\n",
            "True\n"
          ]
        }
      ]
    },
    {
      "cell_type": "markdown",
      "source": [
        "---\n",
        "### 과제"
      ],
      "metadata": {
        "id": "PYB-SHgR9Coh"
      }
    },
    {
      "cell_type": "code",
      "source": [
        "1 + 1"
      ],
      "metadata": {
        "colab": {
          "base_uri": "https://localhost:8080/"
        },
        "id": "TTQdbgXd9Ck_",
        "outputId": "d316bbed-67f3-4e1c-c203-6c30fa9342a3"
      },
      "execution_count": 53,
      "outputs": [
        {
          "output_type": "execute_result",
          "data": {
            "text/plain": [
              "2"
            ]
          },
          "metadata": {},
          "execution_count": 53
        }
      ]
    },
    {
      "cell_type": "code",
      "source": [
        "1 + 1 == 2"
      ],
      "metadata": {
        "colab": {
          "base_uri": "https://localhost:8080/"
        },
        "id": "R89BFRmZ9Chg",
        "outputId": "51772a0a-e368-417a-9507-8c76b0927ca3"
      },
      "execution_count": 54,
      "outputs": [
        {
          "output_type": "execute_result",
          "data": {
            "text/plain": [
              "True"
            ]
          },
          "metadata": {},
          "execution_count": 54
        }
      ]
    },
    {
      "cell_type": "code",
      "source": [
        "0.1 + 1.1 == 1.2"
      ],
      "metadata": {
        "colab": {
          "base_uri": "https://localhost:8080/"
        },
        "id": "KBcdQLr79Cd8",
        "outputId": "6e9d4b39-5c59-4529-cc55-48aeb752aef1"
      },
      "execution_count": 55,
      "outputs": [
        {
          "output_type": "execute_result",
          "data": {
            "text/plain": [
              "False"
            ]
          },
          "metadata": {},
          "execution_count": 55
        }
      ]
    },
    {
      "cell_type": "markdown",
      "source": [
        "도대체 위 결과가 왜 저렇게 나옴 이 과제이다."
      ],
      "metadata": {
        "id": "fI9CXnm99CbB"
      }
    },
    {
      "cell_type": "code",
      "source": [],
      "metadata": {
        "id": "Yn3X9Mpl9CYt"
      },
      "execution_count": null,
      "outputs": []
    },
    {
      "cell_type": "code",
      "source": [],
      "metadata": {
        "id": "MZ31ErKQ9CVx"
      },
      "execution_count": null,
      "outputs": []
    },
    {
      "cell_type": "code",
      "source": [],
      "metadata": {
        "id": "hp-Q56tA9CTa"
      },
      "execution_count": null,
      "outputs": []
    },
    {
      "cell_type": "code",
      "source": [],
      "metadata": {
        "id": "kZ3rhXrR9CQf"
      },
      "execution_count": null,
      "outputs": []
    },
    {
      "cell_type": "code",
      "source": [],
      "metadata": {
        "id": "eTQxb7aU9COI"
      },
      "execution_count": null,
      "outputs": []
    },
    {
      "cell_type": "code",
      "source": [],
      "metadata": {
        "id": "UYHF1ADE9BcQ"
      },
      "execution_count": null,
      "outputs": []
    }
  ]
}