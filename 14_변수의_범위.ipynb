{
  "nbformat": 4,
  "nbformat_minor": 0,
  "metadata": {
    "colab": {
      "provenance": [],
      "authorship_tag": "ABX9TyOemmuunYdgGJM8EiyL4UF9",
      "include_colab_link": true
    },
    "kernelspec": {
      "name": "python3",
      "display_name": "Python 3"
    },
    "language_info": {
      "name": "python"
    }
  },
  "cells": [
    {
      "cell_type": "markdown",
      "metadata": {
        "id": "view-in-github",
        "colab_type": "text"
      },
      "source": [
        "<a href=\"https://colab.research.google.com/github/EG-world/Python/blob/main/14_%EB%B3%80%EC%88%98%EC%9D%98_%EB%B2%94%EC%9C%84.ipynb\" target=\"_parent\"><img src=\"https://colab.research.google.com/assets/colab-badge.svg\" alt=\"Open In Colab\"/></a>"
      ]
    },
    {
      "cell_type": "markdown",
      "source": [
        "# **1. 스코프(scope)**\n",
        "파이썬에서 변수의 범위(scope)는 해당 변수가 프로그램 내에서 참조되고 변경될 수 있는 영역을 의미합니다. 파이썬의 변수 범위는 크게 네 가지로 분류됩니다"
      ],
      "metadata": {
        "id": "0N-7hoW-WbYJ"
      }
    },
    {
      "cell_type": "markdown",
      "source": [
        "### 1-1. 지역 변수(Local)\n",
        "지역변수는 변수가 함수 내에서 정의될 때 해당 함수 내부를 의미합니다."
      ],
      "metadata": {
        "id": "rJGFPnd7WszP"
      }
    },
    {
      "cell_type": "code",
      "source": [
        "def local_func() :\n",
        "  local_var = '로컬 변수'\n",
        "  print(local_var)"
      ],
      "metadata": {
        "id": "KN7_Ge2bWyhj"
      },
      "execution_count": 1,
      "outputs": []
    },
    {
      "cell_type": "code",
      "source": [
        "# print(local_var) # NameError: name 'local_var' is not defined"
      ],
      "metadata": {
        "colab": {
          "base_uri": "https://localhost:8080/",
          "height": 147
        },
        "id": "d91KTtbrW536",
        "outputId": "5442cdf8-e2bb-4d7b-a16f-e1405d638dff"
      },
      "execution_count": 3,
      "outputs": [
        {
          "output_type": "error",
          "ename": "NameError",
          "evalue": "name 'local_var' is not defined",
          "traceback": [
            "\u001b[0;31m---------------------------------------------------------------------------\u001b[0m",
            "\u001b[0;31mNameError\u001b[0m                                 Traceback (most recent call last)",
            "\u001b[0;32m<ipython-input-3-8852b4c53ffd>\u001b[0m in \u001b[0;36m<cell line: 1>\u001b[0;34m()\u001b[0m\n\u001b[0;32m----> 1\u001b[0;31m \u001b[0mlocal_var\u001b[0m\u001b[0;34m\u001b[0m\u001b[0;34m\u001b[0m\u001b[0m\n\u001b[0m",
            "\u001b[0;31mNameError\u001b[0m: name 'local_var' is not defined"
          ]
        }
      ]
    },
    {
      "cell_type": "markdown",
      "source": [
        "### 1-2. 둘러싼 범위\n",
        "Enclosing scope는 내부 함수에서 외부 함수의 변수를 참조할 때 해당 외부 함수 범위를 의미합니다."
      ],
      "metadata": {
        "id": "pP9vYTuVXC6p"
      }
    },
    {
      "cell_type": "code",
      "source": [
        "def outer_func() :\n",
        "  enclosing_var = '둘러싼 범위 변수'\n",
        "  def inner_func() :\n",
        "    print(enclosing_var)\n",
        "  inner_func()"
      ],
      "metadata": {
        "id": "eHCQMSluXpeS"
      },
      "execution_count": 7,
      "outputs": []
    },
    {
      "cell_type": "code",
      "source": [
        "# inner_func() # NameError: name 'inner_func' is not defined\n",
        "outer_func()"
      ],
      "metadata": {
        "colab": {
          "base_uri": "https://localhost:8080/"
        },
        "id": "09JTKsHPXpbW",
        "outputId": "fadacce6-feca-4fbe-fbb9-2a64121ec817"
      },
      "execution_count": 8,
      "outputs": [
        {
          "output_type": "stream",
          "name": "stdout",
          "text": [
            "둘러싼 범위 변수\n"
          ]
        }
      ]
    },
    {
      "cell_type": "markdown",
      "source": [
        "### 1-3. 전역 범위(Global)\n",
        "Global scope는 변수가 스크립트의 최상위 수준에서 정의될 때 전체 스크립트 파일 내에서 해당 변수를 의미합니다."
      ],
      "metadata": {
        "id": "eJXmg-UcXpX1"
      }
    },
    {
      "cell_type": "code",
      "source": [
        "global_var = 10 # 전역 변수\n",
        "def test_func() :\n",
        "  global_var = 20 # 지역 변수\n",
        "  print(global_var)"
      ],
      "metadata": {
        "id": "uvtsfX1dXpR9"
      },
      "execution_count": 11,
      "outputs": []
    },
    {
      "cell_type": "code",
      "source": [
        "test_func()\n",
        "print(global_var)"
      ],
      "metadata": {
        "colab": {
          "base_uri": "https://localhost:8080/"
        },
        "id": "SKPaSv5gXpPC",
        "outputId": "3dc02ef2-12b4-47dd-e112-b643d4d6d628"
      },
      "execution_count": 14,
      "outputs": [
        {
          "output_type": "stream",
          "name": "stdout",
          "text": [
            "20\n",
            "10\n"
          ]
        }
      ]
    },
    {
      "cell_type": "code",
      "source": [
        "global_var = 10 # 전역 변수\n",
        "def test_func() :\n",
        "  global global_var # 전역변수로 변환\n",
        "  global_var = 20\n",
        "  print(global_var)\n",
        "\n",
        "test_func()\n",
        "print(global_var)"
      ],
      "metadata": {
        "colab": {
          "base_uri": "https://localhost:8080/"
        },
        "id": "ibWjgHUVXpMr",
        "outputId": "133e3919-b28a-4311-e6a2-46455d3e34bc"
      },
      "execution_count": 16,
      "outputs": [
        {
          "output_type": "stream",
          "name": "stdout",
          "text": [
            "20\n",
            "20\n"
          ]
        }
      ]
    },
    {
      "cell_type": "markdown",
      "source": [
        "### 1-4. 내장 범위(Bulit-in)\n",
        "Built-in scope는 파이썬의 내장 함수와 모듈들이 속하는 범위입니다. 예를 들어, print(), len() 같은 함수들이 여기에 해당됩니다."
      ],
      "metadata": {
        "id": "yggVevMjXpJw"
      }
    },
    {
      "cell_type": "markdown",
      "source": [
        "# **2. 변수의 범위 탐색 순서**\n",
        "```\n",
        "1. Local scope\n",
        "\n",
        "2. Enclosing scope\n",
        "\n",
        "3. Global scope\n",
        "\n",
        "4. Built-in scope\n",
        "```\n",
        "따라서 지역 범위에 동일한 이름의 변수가 없으면 파이썬은 둘러싼 범위를 확인하고, 그 다음으로 전역 범위, 마지막으로 내장 범위를 확인합니다.\n",
        "\n",
        "이렇게 변수의 범위를 이해하고 관리하는 것은 코드의 가독성과 유지 보수성을 높이고, 예기치 않은 오류를 방지하는 데 중요합니다."
      ],
      "metadata": {
        "id": "zNgLKGHqXpG0"
      }
    },
    {
      "cell_type": "code",
      "source": [],
      "metadata": {
        "id": "Kwog4J8MXpDT"
      },
      "execution_count": null,
      "outputs": []
    },
    {
      "cell_type": "code",
      "source": [],
      "metadata": {
        "id": "fmFRutc9XpA8"
      },
      "execution_count": null,
      "outputs": []
    },
    {
      "cell_type": "code",
      "source": [],
      "metadata": {
        "id": "8cpeRf1rXo9c"
      },
      "execution_count": null,
      "outputs": []
    },
    {
      "cell_type": "code",
      "source": [],
      "metadata": {
        "id": "y1vJAUQnXo6h"
      },
      "execution_count": null,
      "outputs": []
    },
    {
      "cell_type": "code",
      "source": [],
      "metadata": {
        "id": "s8Wt8ZHIXo4L"
      },
      "execution_count": null,
      "outputs": []
    },
    {
      "cell_type": "code",
      "source": [],
      "metadata": {
        "id": "bWqrDUfrXo1N"
      },
      "execution_count": null,
      "outputs": []
    },
    {
      "cell_type": "code",
      "source": [],
      "metadata": {
        "id": "_latvJe3Xoxu"
      },
      "execution_count": null,
      "outputs": []
    },
    {
      "cell_type": "code",
      "source": [],
      "metadata": {
        "id": "u3RzXaccXouL"
      },
      "execution_count": null,
      "outputs": []
    },
    {
      "cell_type": "code",
      "source": [],
      "metadata": {
        "id": "mM-PcLVtXoUG"
      },
      "execution_count": null,
      "outputs": []
    }
  ]
}