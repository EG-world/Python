{
  "nbformat": 4,
  "nbformat_minor": 0,
  "metadata": {
    "colab": {
      "provenance": [],
      "authorship_tag": "ABX9TyNt592fZmCRhHHG0xcYdBcx",
      "include_colab_link": true
    },
    "kernelspec": {
      "name": "python3",
      "display_name": "Python 3"
    },
    "language_info": {
      "name": "python"
    }
  },
  "cells": [
    {
      "cell_type": "markdown",
      "metadata": {
        "id": "view-in-github",
        "colab_type": "text"
      },
      "source": [
        "<a href=\"https://colab.research.google.com/github/EG-world/Python/blob/main/7_%EC%BB%AC%EB%A0%89%EC%85%98_%ED%83%80%EC%9E%85_Set.ipynb\" target=\"_parent\"><img src=\"https://colab.research.google.com/assets/colab-badge.svg\" alt=\"Open In Colab\"/></a>"
      ]
    },
    {
      "cell_type": "markdown",
      "source": [
        "# **1. Set**\n",
        "세트(set)는 중복되지 않는 항목들의 컬렉션입니다. (순서가 없기 때문에 인덱스를 사용하지 못한다.)"
      ],
      "metadata": {
        "id": "HjG4fFRQ13sC"
      }
    },
    {
      "cell_type": "code",
      "source": [
        "s1 = {1, 3, 5, 7}\n",
        "print(s1)\n",
        "print(type(s1))"
      ],
      "metadata": {
        "colab": {
          "base_uri": "https://localhost:8080/"
        },
        "id": "5YSEs3992I0E",
        "outputId": "77c75d61-b251-4d54-dde2-b36f59218e1b"
      },
      "execution_count": 2,
      "outputs": [
        {
          "output_type": "stream",
          "name": "stdout",
          "text": [
            "{1, 3, 5, 7}\n",
            "<class 'set'>\n"
          ]
        }
      ]
    },
    {
      "cell_type": "code",
      "source": [
        "s2 = {}\n",
        "print(s2)\n",
        "print(type(s2))"
      ],
      "metadata": {
        "colab": {
          "base_uri": "https://localhost:8080/"
        },
        "id": "LSG7VtHI2Iw-",
        "outputId": "933a0413-18ad-474b-98c5-fb0ea7f33655"
      },
      "execution_count": 3,
      "outputs": [
        {
          "output_type": "stream",
          "name": "stdout",
          "text": [
            "{}\n",
            "<class 'dict'>\n"
          ]
        }
      ]
    },
    {
      "cell_type": "code",
      "source": [
        "s3 = set([1, 3, 5, 7])\n",
        "print(s3)\n",
        "print(type(s3))"
      ],
      "metadata": {
        "colab": {
          "base_uri": "https://localhost:8080/"
        },
        "id": "FnDazLOn2IuC",
        "outputId": "44e75462-b94c-475d-e59e-90ac72c8e4cd"
      },
      "execution_count": 4,
      "outputs": [
        {
          "output_type": "stream",
          "name": "stdout",
          "text": [
            "{1, 3, 5, 7}\n",
            "<class 'set'>\n"
          ]
        }
      ]
    },
    {
      "cell_type": "code",
      "source": [
        "li1 = [1, 2, 3, 4]\n",
        "print(type(li1))\n",
        "s4 = set(li1)\n",
        "print(s4)\n",
        "print(type(s4))"
      ],
      "metadata": {
        "colab": {
          "base_uri": "https://localhost:8080/"
        },
        "id": "CI9o4wcu2IoO",
        "outputId": "d136b8c7-d202-4da2-8f1c-fca53dddc1ad"
      },
      "execution_count": 7,
      "outputs": [
        {
          "output_type": "stream",
          "name": "stdout",
          "text": [
            "<class 'list'>\n",
            "{1, 2, 3, 4}\n",
            "<class 'set'>\n"
          ]
        }
      ]
    },
    {
      "cell_type": "code",
      "source": [
        "s5 = {1, 3, 5, 3, 7, 9, 1, 5, 10, 7}\n",
        "print(s5)"
      ],
      "metadata": {
        "colab": {
          "base_uri": "https://localhost:8080/"
        },
        "id": "ycZO9I2c2IlP",
        "outputId": "859e466e-e280-47f4-b193-eb859fe7c194"
      },
      "execution_count": 8,
      "outputs": [
        {
          "output_type": "stream",
          "name": "stdout",
          "text": [
            "{1, 3, 5, 7, 9, 10}\n"
          ]
        }
      ]
    },
    {
      "cell_type": "code",
      "source": [
        "li2 = [1, 3, 5, 3, 7, 9, 1, 5, 10, 7]\n",
        "print(li2)\n",
        "s6 = set(li2)\n",
        "print(s6)\n",
        "print(type(s6))"
      ],
      "metadata": {
        "colab": {
          "base_uri": "https://localhost:8080/"
        },
        "id": "2iYlM19Q2IiS",
        "outputId": "b4af41f0-34a9-40d2-ecfd-e9d7e05db9a4"
      },
      "execution_count": 9,
      "outputs": [
        {
          "output_type": "stream",
          "name": "stdout",
          "text": [
            "[1, 3, 5, 3, 7, 9, 1, 5, 10, 7]\n",
            "{1, 3, 5, 7, 9, 10}\n",
            "<class 'set'>\n"
          ]
        }
      ]
    },
    {
      "cell_type": "code",
      "source": [
        "s1 = {1, 3, 5, 7}\n",
        "print(s1)\n",
        "# add() : 세트의 요소를 추가 # 위치는 정해지지 않는다.\n",
        "s1.add(2)\n",
        "print(s1)\n",
        "s1.add(4)\n",
        "print(s1)\n",
        "s1.add(7)\n",
        "print(s1)"
      ],
      "metadata": {
        "colab": {
          "base_uri": "https://localhost:8080/"
        },
        "id": "6tUHOB402IfX",
        "outputId": "3cbfacf0-3819-4994-d436-f58bdaa755cd"
      },
      "execution_count": 12,
      "outputs": [
        {
          "output_type": "stream",
          "name": "stdout",
          "text": [
            "{1, 3, 5, 7}\n",
            "{1, 2, 3, 5, 7}\n",
            "{1, 2, 3, 4, 5, 7}\n",
            "{1, 2, 3, 4, 5, 7}\n"
          ]
        }
      ]
    },
    {
      "cell_type": "code",
      "source": [
        "s1 = {1, 3, 5, 7}\n",
        "print(s1)\n",
        "# update() : 세트에 여러 요소를 추가\n",
        "s1.update([2, 4, 6, 8, 10])\n",
        "print(s1)"
      ],
      "metadata": {
        "colab": {
          "base_uri": "https://localhost:8080/"
        },
        "id": "YOdhlhs72IcZ",
        "outputId": "1316f38d-448a-40a0-ad24-6ea1ab05db37"
      },
      "execution_count": 13,
      "outputs": [
        {
          "output_type": "stream",
          "name": "stdout",
          "text": [
            "{1, 3, 5, 7}\n",
            "{1, 2, 3, 4, 5, 6, 7, 8, 10}\n"
          ]
        }
      ]
    },
    {
      "cell_type": "code",
      "source": [
        "s1 = {1, 3, 5, 7}\n",
        "print(s1)\n",
        "s1.remove(3)\n",
        "print(s1)\n",
        "# s1.remove(3) # KeyError: 3"
      ],
      "metadata": {
        "colab": {
          "base_uri": "https://localhost:8080/"
        },
        "id": "us2BW-tZ2IYU",
        "outputId": "3cb32d68-a9c0-4653-ca93-bd588c7af257"
      },
      "execution_count": 15,
      "outputs": [
        {
          "output_type": "stream",
          "name": "stdout",
          "text": [
            "{1, 3, 5, 7}\n",
            "{1, 5, 7}\n"
          ]
        }
      ]
    },
    {
      "cell_type": "code",
      "source": [
        "s1 = {1, 3, 5, 7}\n",
        "print(s1)\n",
        "s1.discard(3)\n",
        "print(s1)\n",
        "s1.discard(3)\n",
        "print(s1)"
      ],
      "metadata": {
        "colab": {
          "base_uri": "https://localhost:8080/"
        },
        "id": "JRYoY2er2IUx",
        "outputId": "64d6bf5e-ebde-47c3-c77a-4ca60c64daec"
      },
      "execution_count": 16,
      "outputs": [
        {
          "output_type": "stream",
          "name": "stdout",
          "text": [
            "{1, 3, 5, 7}\n",
            "{1, 5, 7}\n",
            "{1, 5, 7}\n"
          ]
        }
      ]
    },
    {
      "cell_type": "code",
      "source": [
        "s1 = {1, 3, 5, 7}\n",
        "print(s1)\n",
        "s2 = s1 # 메모리 주소를 복사\n",
        "print(id(s1))\n",
        "print(id(s2))\n",
        "# copy() : 세트를 복사 (똑같이 복사를 하되 주소는 다름)\n",
        "s2 = s1.copy() # 데이터를 복사\n",
        "print(s1)\n",
        "print(s2)\n",
        "print(id(s1))\n",
        "print(id(s2))"
      ],
      "metadata": {
        "colab": {
          "base_uri": "https://localhost:8080/"
        },
        "id": "kkAVlrDn2IHS",
        "outputId": "1ca5c5b2-c98b-4425-827e-5e18290626da"
      },
      "execution_count": 18,
      "outputs": [
        {
          "output_type": "stream",
          "name": "stdout",
          "text": [
            "{1, 3, 5, 7}\n",
            "132218365340224\n",
            "132218365340224\n",
            "{1, 3, 5, 7}\n",
            "{1, 3, 5, 7}\n",
            "132218365340224\n",
            "132218365340448\n"
          ]
        }
      ]
    },
    {
      "cell_type": "code",
      "source": [
        "s3 = {10, 20, 30, 40, 50}\n",
        "s4 = {30, 40, 50, 60, 70}\n",
        "# union() : 합집합을 계산하여 반환\n",
        "result1 = s3.union(s4)\n",
        "print(result1)\n",
        "result2 = s3 | s4\n",
        "print(result2)"
      ],
      "metadata": {
        "colab": {
          "base_uri": "https://localhost:8080/"
        },
        "id": "-X3UEhb02IEX",
        "outputId": "b985c8e2-9b9b-4e95-e8f7-e35e2ab5b92f"
      },
      "execution_count": 22,
      "outputs": [
        {
          "output_type": "stream",
          "name": "stdout",
          "text": [
            "{70, 40, 10, 50, 20, 60, 30}\n",
            "{70, 40, 10, 50, 20, 60, 30}\n"
          ]
        }
      ]
    },
    {
      "cell_type": "code",
      "source": [
        "s3 = {10, 20, 30, 40, 50}\n",
        "s4 = {30, 40, 50, 60, 70}\n",
        "# intersection() : 교집합을 계산하여 반환\n",
        "result1 = s3.intersection(s4)\n",
        "print(result1)\n",
        "result2 = s3 & s4\n",
        "print(result2)"
      ],
      "metadata": {
        "colab": {
          "base_uri": "https://localhost:8080/"
        },
        "id": "kyD-5uv92IA0",
        "outputId": "56d9dbf2-f08c-4290-9fbd-3c05fb779ec2"
      },
      "execution_count": 26,
      "outputs": [
        {
          "output_type": "stream",
          "name": "stdout",
          "text": [
            "{40, 50, 30}\n",
            "{40, 50, 30}\n"
          ]
        }
      ]
    },
    {
      "cell_type": "code",
      "source": [
        "s3 = {10, 20, 30, 40, 50}\n",
        "s4 = {30, 40, 50, 60, 70}\n",
        "# difference() : 차집합을 계산하여 반환\n",
        "result1 = s3.difference(s4)\n",
        "print(result1)\n",
        "result2 = s3 - s4\n",
        "print(result2)"
      ],
      "metadata": {
        "colab": {
          "base_uri": "https://localhost:8080/"
        },
        "id": "F3Rt7h682H94",
        "outputId": "14e89346-6153-419d-dc2f-3a5be8d7715a"
      },
      "execution_count": 28,
      "outputs": [
        {
          "output_type": "stream",
          "name": "stdout",
          "text": [
            "{10, 20}\n",
            "{10, 20}\n"
          ]
        }
      ]
    },
    {
      "cell_type": "code",
      "source": [
        "s3 = {10, 20, 30, 40, 50}\n",
        "s4 = {30, 40, 50, 60, 70}\n",
        "# symmetric_difference() : 대칭 차집합을 계산하여 반환\n",
        "result1 = s3.symmetric_difference(s4)\n",
        "print(result1)\n",
        "result2 = s3 ^ s4\n",
        "print(result2)"
      ],
      "metadata": {
        "colab": {
          "base_uri": "https://localhost:8080/"
        },
        "id": "0zE8S_mq2H68",
        "outputId": "593be456-b78e-45b5-a384-9805f5503d39"
      },
      "execution_count": 30,
      "outputs": [
        {
          "output_type": "stream",
          "name": "stdout",
          "text": [
            "{20, 70, 10, 60}\n",
            "{20, 70, 10, 60}\n"
          ]
        }
      ]
    },
    {
      "cell_type": "code",
      "source": [],
      "metadata": {
        "id": "kkK9_jp62H4A"
      },
      "execution_count": null,
      "outputs": []
    },
    {
      "cell_type": "code",
      "source": [],
      "metadata": {
        "id": "oBVMRAVt2H1E"
      },
      "execution_count": null,
      "outputs": []
    },
    {
      "cell_type": "code",
      "source": [],
      "metadata": {
        "id": "pgBXyEb42HyK"
      },
      "execution_count": null,
      "outputs": []
    },
    {
      "cell_type": "code",
      "source": [],
      "metadata": {
        "id": "S0JQ_Pgr2Hvy"
      },
      "execution_count": null,
      "outputs": []
    },
    {
      "cell_type": "code",
      "source": [],
      "metadata": {
        "id": "9nXUrDBx2Htd"
      },
      "execution_count": null,
      "outputs": []
    },
    {
      "cell_type": "code",
      "source": [],
      "metadata": {
        "id": "WZKsPuI72Hqh"
      },
      "execution_count": null,
      "outputs": []
    },
    {
      "cell_type": "code",
      "source": [],
      "metadata": {
        "id": "i2v-S5y-2Hnw"
      },
      "execution_count": null,
      "outputs": []
    },
    {
      "cell_type": "code",
      "source": [],
      "metadata": {
        "id": "WYpKn2J22HSA"
      },
      "execution_count": null,
      "outputs": []
    }
  ]
}