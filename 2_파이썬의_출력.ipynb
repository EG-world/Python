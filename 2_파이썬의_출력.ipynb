{
  "nbformat": 4,
  "nbformat_minor": 0,
  "metadata": {
    "colab": {
      "provenance": [],
      "authorship_tag": "ABX9TyM2wCZ+cKqGtaopGg22gfWD",
      "include_colab_link": true
    },
    "kernelspec": {
      "name": "python3",
      "display_name": "Python 3"
    },
    "language_info": {
      "name": "python"
    }
  },
  "cells": [
    {
      "cell_type": "markdown",
      "metadata": {
        "id": "view-in-github",
        "colab_type": "text"
      },
      "source": [
        "<a href=\"https://colab.research.google.com/github/EG-world/Python/blob/main/2_%ED%8C%8C%EC%9D%B4%EC%8D%AC%EC%9D%98_%EC%B6%9C%EB%A0%A5.ipynb\" target=\"_parent\"><img src=\"https://colab.research.google.com/assets/colab-badge.svg\" alt=\"Open In Colab\"/></a>"
      ]
    },
    {
      "cell_type": "markdown",
      "source": [
        "# **1. print 함수**\n",
        "print() 함수는 파이썬의 기본 출력 함수로, 터미널이나 콘솔 창에 텍스트나 데이터를 출력하기 위해 사용됩니다.\n",
        "\n"
      ],
      "metadata": {
        "id": "DfO02qceLIiY"
      }
    },
    {
      "cell_type": "code",
      "source": [
        "print('안녕하세요 파이썬')\n",
        "print(\"안녕하세요 파이썬\")\n",
        "print(\"'안녕하세요' 파이썬\")\n",
        "print('\"안녕하세요\" 파이썬')\n",
        "print(10)\n",
        "print('10')\n",
        "print(10, 20, 30, 40 ,50)\n",
        "print('안녕하세요','파이썬','!!')"
      ],
      "metadata": {
        "colab": {
          "base_uri": "https://localhost:8080/"
        },
        "id": "CXv3nD8ILYWP",
        "outputId": "319c9619-0294-4722-ca90-5cc4e3e0d130"
      },
      "execution_count": null,
      "outputs": [
        {
          "output_type": "stream",
          "name": "stdout",
          "text": [
            "안녕하세요 파이썬\n",
            "안녕하세요 파이썬\n",
            "'안녕하세요' 파이썬\n",
            "\"안녕하세요\" 파이썬\n",
            "10\n",
            "10\n",
            "10 20 30 40 50\n",
            "안녕하세요 파이썬 !!\n"
          ]
        }
      ]
    },
    {
      "cell_type": "code",
      "source": [
        "print('안녕하세요','파이썬',sep='👴')\n",
        "print('안녕하세요','파이썬',sep='*')"
      ],
      "metadata": {
        "colab": {
          "base_uri": "https://localhost:8080/"
        },
        "id": "47gRqn5lQZw1",
        "outputId": "5d87b5e9-1d66-4b04-918b-b7e56026a52f"
      },
      "execution_count": null,
      "outputs": [
        {
          "output_type": "stream",
          "name": "stdout",
          "text": [
            "안녕하세요👴파이썬\n",
            "안녕하세요*파이썬\n"
          ]
        }
      ]
    },
    {
      "cell_type": "code",
      "source": [
        "print('안녕하세요')\n",
        "print('파이썬')"
      ],
      "metadata": {
        "colab": {
          "base_uri": "https://localhost:8080/"
        },
        "id": "Bm8z0tiZU7TV",
        "outputId": "2e715032-4e0e-446a-ad72-8603a160498f"
      },
      "execution_count": null,
      "outputs": [
        {
          "output_type": "stream",
          "name": "stdout",
          "text": [
            "안녕하세요\n",
            "파이썬\n"
          ]
        }
      ]
    },
    {
      "cell_type": "code",
      "source": [
        "print('안녕하세요','파이썬', end='')\n",
        "print('Hello')"
      ],
      "metadata": {
        "colab": {
          "base_uri": "https://localhost:8080/"
        },
        "id": "TrPI0aUWVZsR",
        "outputId": "1e3bd8af-17e0-47bf-bd43-5e5372a8f25e"
      },
      "execution_count": null,
      "outputs": [
        {
          "output_type": "stream",
          "name": "stdout",
          "text": [
            "안녕하세요 파이썬Hello\n"
          ]
        }
      ]
    },
    {
      "cell_type": "code",
      "source": [
        "print('안녕하세요','파이썬', end='🙏')\n",
        "print('Hello')"
      ],
      "metadata": {
        "colab": {
          "base_uri": "https://localhost:8080/"
        },
        "id": "KBCf8EOWVq35",
        "outputId": "bb2ab847-accd-49a2-82c0-dfc1b9ad88ba"
      },
      "execution_count": null,
      "outputs": [
        {
          "output_type": "stream",
          "name": "stdout",
          "text": [
            "안녕하세요 파이썬🙏Hello\n"
          ]
        }
      ]
    },
    {
      "cell_type": "markdown",
      "source": [
        "# **2, Python의 escape 문자**\n",
        "파이썬에서 이스케이프 문자는 문자열 안에서 특별한 의미를 가지는 문자들을 나타내기 위해 사용됩니다. 이스케이프 문자는 백슬래시(\\\\)로 시작하며, 문자열 내에서 특정한 동작이나 특수 문자를 표현하기 위해 사용됩니다."
      ],
      "metadata": {
        "id": "i0WjF8SWV_Ga"
      }
    },
    {
      "cell_type": "code",
      "source": [
        "print('안녕하세요\\n파이썬')\n",
        "print('이름\\t이유진')\n",
        "print('\\\\파이썬은 너무 재밌네\\\\')\n",
        "print(\"\\\"하잉\\\"\")"
      ],
      "metadata": {
        "colab": {
          "base_uri": "https://localhost:8080/"
        },
        "id": "YJUFPV-3WII3",
        "outputId": "09a0020b-ee9c-44aa-d1cc-be9ec37d5f95"
      },
      "execution_count": null,
      "outputs": [
        {
          "output_type": "stream",
          "name": "stdout",
          "text": [
            "안녕하세요\n",
            "파이썬\n",
            "이름\t이유진\n",
            "\\파이썬은 너무 재밌네\\\n",
            "\"하잉\"\n"
          ]
        }
      ]
    },
    {
      "cell_type": "code",
      "source": [
        "print('안녕하세요','파이썬', end='\\n')\n",
        "print('Hello')"
      ],
      "metadata": {
        "colab": {
          "base_uri": "https://localhost:8080/"
        },
        "id": "_s_ndMekWodc",
        "outputId": "3facbf23-fb1b-48ef-ace1-650a9fe544e3"
      },
      "execution_count": null,
      "outputs": [
        {
          "output_type": "stream",
          "name": "stdout",
          "text": [
            "안녕하세요 파이썬\n",
            "Hello\n"
          ]
        }
      ]
    },
    {
      "cell_type": "markdown",
      "source": [
        "# **3. print 함수 내의 연산**\n",
        "print() 함수는 문자열뿐만 아니라 숫자와 연산 결과도 출력할 수 있습니다."
      ],
      "metadata": {
        "id": "AAvTbhtfXRBU"
      }
    },
    {
      "cell_type": "code",
      "source": [
        "print(10)\n",
        "print(10 + 5)\n",
        "print('덧셈 :', 10 + 5)\n",
        "print('사칙연산 :', 10 + 5 * 2)\n",
        "print('사칙연산 :', (10 + 5) * 2)\n",
        "print('나눗셈 :', 10 / 5)\n",
        "print('정수 나눗셈 :', 10 // 3)\n",
        "print('나머지 :', 10 % 3)\n",
        "print('거듭제곱', 10 ** 3)"
      ],
      "metadata": {
        "colab": {
          "base_uri": "https://localhost:8080/"
        },
        "id": "fh4ozybsXYLA",
        "outputId": "6eddf114-284a-4c40-f9c6-eeee614665a2"
      },
      "execution_count": null,
      "outputs": [
        {
          "output_type": "stream",
          "name": "stdout",
          "text": [
            "10\n",
            "15\n",
            "덧셈 : 15\n",
            "사칙연산 : 20\n",
            "사칙연산 : 30\n",
            "나눗셈 : 2.0\n",
            "정수 나눗셈 : 3\n",
            "나머지 : 1\n",
            "거듭제곱 1000\n"
          ]
        }
      ]
    },
    {
      "cell_type": "markdown",
      "source": [
        "# **4. 출력서식 지정**\n",
        "파이썬의 print() 함수는 출력 서식을 지정하여 값을 형식화하고 출력하는 기능을 제공합니다. 서식 지정자와 함께 사용되는 % 연산자와 format() 메서드를 사용하여 원하는 형식으로 출력할 수 있습니다."
      ],
      "metadata": {
        "id": "xsyChuFKXmEs"
      }
    },
    {
      "cell_type": "code",
      "source": [
        "print('정수 :', 100)\n",
        "print('정수 :%d' %100)\n",
        "print('정수 : %d' %100.5)\n",
        "print('실수 : %f' %100.5)\n",
        "print('실수 : %f' %100)\n",
        "print('문자열 : %s' %'파이썬')\n",
        "print('문자열 : %s' %100)"
      ],
      "metadata": {
        "colab": {
          "base_uri": "https://localhost:8080/"
        },
        "id": "46CIEeRcQDes",
        "outputId": "2a339f87-5bce-4320-aac1-49e138467ac4"
      },
      "execution_count": 13,
      "outputs": [
        {
          "output_type": "stream",
          "name": "stdout",
          "text": [
            "정수 : 100\n",
            "정수 :100\n",
            "정수 : 100\n",
            "실수 : 100.500000\n",
            "실수 : 100.000000\n",
            "문자열 : 파이썬\n",
            "문자열 : 100\n"
          ]
        }
      ]
    },
    {
      "cell_type": "code",
      "source": [
        "print(f'정수 :{100}')"
      ],
      "metadata": {
        "colab": {
          "base_uri": "https://localhost:8080/"
        },
        "id": "iZ-JvrAwRsIL",
        "outputId": "1aa9060b-c491-4be5-e811-504bcdec29db"
      },
      "execution_count": 14,
      "outputs": [
        {
          "output_type": "stream",
          "name": "stdout",
          "text": [
            "정수 :100\n"
          ]
        }
      ]
    },
    {
      "cell_type": "code",
      "source": [
        "num = 100\n",
        "print(f'정수 : {num}')"
      ],
      "metadata": {
        "colab": {
          "base_uri": "https://localhost:8080/"
        },
        "id": "lTylLYC2UXA_",
        "outputId": "ccbb5c4c-7d54-457f-e4fc-ee4ef296da3c"
      },
      "execution_count": 16,
      "outputs": [
        {
          "output_type": "stream",
          "name": "stdout",
          "text": [
            "정수 : 100\n"
          ]
        }
      ]
    },
    {
      "cell_type": "code",
      "source": [
        "print(f'정수연산 : {100 + 50}')"
      ],
      "metadata": {
        "colab": {
          "base_uri": "https://localhost:8080/"
        },
        "id": "45eWo5YtUfxq",
        "outputId": "d7db3fd6-1018-49f7-c57e-d190e341b358"
      },
      "execution_count": 17,
      "outputs": [
        {
          "output_type": "stream",
          "name": "stdout",
          "text": [
            "정수연산 : 150\n"
          ]
        }
      ]
    },
    {
      "cell_type": "code",
      "source": [
        "print('%d + %d = %d' %(5,3,5+3))"
      ],
      "metadata": {
        "colab": {
          "base_uri": "https://localhost:8080/"
        },
        "id": "XVLFCqjHU7li",
        "outputId": "aa44dee9-e90f-4602-e58a-8d1d4968094e"
      },
      "execution_count": 21,
      "outputs": [
        {
          "output_type": "stream",
          "name": "stdout",
          "text": [
            "5 + 3 = 8\n"
          ]
        }
      ]
    },
    {
      "cell_type": "code",
      "source": [
        "print(f'{5} + {3} = {5+3}')"
      ],
      "metadata": {
        "colab": {
          "base_uri": "https://localhost:8080/"
        },
        "id": "jbaa-PhlWCeC",
        "outputId": "a131053c-85f2-4ca4-d8e7-e540c0aef89d"
      },
      "execution_count": 24,
      "outputs": [
        {
          "output_type": "stream",
          "name": "stdout",
          "text": [
            "5 + 3 = 8\n"
          ]
        }
      ]
    },
    {
      "cell_type": "code",
      "source": [
        "print('내 친구들 : {}, {}, {}'.format('용호중', '이지민', '안민혁'))"
      ],
      "metadata": {
        "colab": {
          "base_uri": "https://localhost:8080/"
        },
        "id": "VxHF5ZuOWRWm",
        "outputId": "8cb7964d-f0ce-47a0-8e93-e873c4da200d"
      },
      "execution_count": 26,
      "outputs": [
        {
          "output_type": "stream",
          "name": "stdout",
          "text": [
            "내 친구들 : 용호중, 이지민, 안민혁\n"
          ]
        }
      ]
    },
    {
      "cell_type": "code",
      "source": [
        "print('이름: %s, 나이: %d' %('이유진', 25))"
      ],
      "metadata": {
        "colab": {
          "base_uri": "https://localhost:8080/"
        },
        "id": "ByuesBW4VSjD",
        "outputId": "9d2f18ff-5ff2-4347-eea8-859f17b09bdf"
      },
      "execution_count": 27,
      "outputs": [
        {
          "output_type": "stream",
          "name": "stdout",
          "text": [
            "이름: 이유진, 나이: 25\n"
          ]
        }
      ]
    },
    {
      "cell_type": "code",
      "source": [
        "print('이름: {}, 나이: {}'.format('이유진', 25))"
      ],
      "metadata": {
        "colab": {
          "base_uri": "https://localhost:8080/"
        },
        "id": "Ufg487wuWPpJ",
        "outputId": "f83175d9-85b5-4f90-b60c-4b1f4b6f02fa"
      },
      "execution_count": 28,
      "outputs": [
        {
          "output_type": "stream",
          "name": "stdout",
          "text": [
            "이름: 이유진, 나이: 25\n"
          ]
        }
      ]
    },
    {
      "cell_type": "code",
      "source": [
        "print('체중 : %f' % 50.12345)\n",
        "print('체중 : %.2f' % 50.12345)\n"
      ],
      "metadata": {
        "colab": {
          "base_uri": "https://localhost:8080/"
        },
        "id": "22A4FP4GV7XX",
        "outputId": "553e6a73-55ff-4e99-e4fc-4eb0fe23146e"
      },
      "execution_count": 30,
      "outputs": [
        {
          "output_type": "stream",
          "name": "stdout",
          "text": [
            "체중 : 50.123450\n",
            "체중 : 50.12\n"
          ]
        }
      ]
    },
    {
      "cell_type": "code",
      "source": [],
      "metadata": {
        "id": "HfaW_dyFXPMU"
      },
      "execution_count": null,
      "outputs": []
    }
  ]
}