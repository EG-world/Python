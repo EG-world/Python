{
  "nbformat": 4,
  "nbformat_minor": 0,
  "metadata": {
    "colab": {
      "provenance": [],
      "authorship_tag": "ABX9TyM/0vYs4orOi2ETRiyNzaUd",
      "include_colab_link": true
    },
    "kernelspec": {
      "name": "python3",
      "display_name": "Python 3"
    },
    "language_info": {
      "name": "python"
    }
  },
  "cells": [
    {
      "cell_type": "markdown",
      "metadata": {
        "id": "view-in-github",
        "colab_type": "text"
      },
      "source": [
        "<a href=\"https://colab.research.google.com/github/EG-world/Python/blob/main/2_%ED%8C%8C%EC%9D%B4%EC%8D%AC%EC%9D%98_%EC%B6%9C%EB%A0%A5.ipynb\" target=\"_parent\"><img src=\"https://colab.research.google.com/assets/colab-badge.svg\" alt=\"Open In Colab\"/></a>"
      ]
    },
    {
      "cell_type": "markdown",
      "source": [
        "# **1. print 함수**\n",
        "print() 함수는 파이썬의 기본 출력 함수로, 터미널이나 콘솔 창에 텍스트나 데이터를 출력하기 위해 사용됩니다.\n",
        "\n"
      ],
      "metadata": {
        "id": "DfO02qceLIiY"
      }
    },
    {
      "cell_type": "code",
      "source": [
        "print('안녕하세요 파이썬')\n",
        "print(\"안녕하세요 파이썬\")\n",
        "print(\"'안녕하세요' 파이썬\")\n",
        "print('\"안녕하세요\" 파이썬')\n",
        "print(10)\n",
        "print('10')\n",
        "print(10, 20, 30, 40 ,50)\n",
        "print('안녕하세요','파이썬','!!')"
      ],
      "metadata": {
        "colab": {
          "base_uri": "https://localhost:8080/"
        },
        "id": "CXv3nD8ILYWP",
        "outputId": "319c9619-0294-4722-ca90-5cc4e3e0d130"
      },
      "execution_count": null,
      "outputs": [
        {
          "output_type": "stream",
          "name": "stdout",
          "text": [
            "안녕하세요 파이썬\n",
            "안녕하세요 파이썬\n",
            "'안녕하세요' 파이썬\n",
            "\"안녕하세요\" 파이썬\n",
            "10\n",
            "10\n",
            "10 20 30 40 50\n",
            "안녕하세요 파이썬 !!\n"
          ]
        }
      ]
    },
    {
      "cell_type": "code",
      "source": [
        "print('안녕하세요','파이썬',sep='👴')\n",
        "print('안녕하세요','파이썬',sep='*')"
      ],
      "metadata": {
        "colab": {
          "base_uri": "https://localhost:8080/"
        },
        "id": "47gRqn5lQZw1",
        "outputId": "5d87b5e9-1d66-4b04-918b-b7e56026a52f"
      },
      "execution_count": null,
      "outputs": [
        {
          "output_type": "stream",
          "name": "stdout",
          "text": [
            "안녕하세요👴파이썬\n",
            "안녕하세요*파이썬\n"
          ]
        }
      ]
    },
    {
      "cell_type": "code",
      "source": [
        "print('안녕하세요')\n",
        "print('파이썬')"
      ],
      "metadata": {
        "colab": {
          "base_uri": "https://localhost:8080/"
        },
        "id": "Bm8z0tiZU7TV",
        "outputId": "2e715032-4e0e-446a-ad72-8603a160498f"
      },
      "execution_count": null,
      "outputs": [
        {
          "output_type": "stream",
          "name": "stdout",
          "text": [
            "안녕하세요\n",
            "파이썬\n"
          ]
        }
      ]
    },
    {
      "cell_type": "code",
      "source": [
        "print('안녕하세요','파이썬', end='')\n",
        "print('Hello')"
      ],
      "metadata": {
        "colab": {
          "base_uri": "https://localhost:8080/"
        },
        "id": "TrPI0aUWVZsR",
        "outputId": "1e3bd8af-17e0-47bf-bd43-5e5372a8f25e"
      },
      "execution_count": null,
      "outputs": [
        {
          "output_type": "stream",
          "name": "stdout",
          "text": [
            "안녕하세요 파이썬Hello\n"
          ]
        }
      ]
    },
    {
      "cell_type": "code",
      "source": [
        "print('안녕하세요','파이썬', end='🙏')\n",
        "print('Hello')"
      ],
      "metadata": {
        "colab": {
          "base_uri": "https://localhost:8080/"
        },
        "id": "KBCf8EOWVq35",
        "outputId": "bb2ab847-accd-49a2-82c0-dfc1b9ad88ba"
      },
      "execution_count": null,
      "outputs": [
        {
          "output_type": "stream",
          "name": "stdout",
          "text": [
            "안녕하세요 파이썬🙏Hello\n"
          ]
        }
      ]
    },
    {
      "cell_type": "markdown",
      "source": [
        "# **2, Python의 escape 문자**\n",
        "파이썬에서 이스케이프 문자는 문자열 안에서 특별한 의미를 가지는 문자들을 나타내기 위해 사용됩니다. 이스케이프 문자는 백슬래시(\\\\)로 시작하며, 문자열 내에서 특정한 동작이나 특수 문자를 표현하기 위해 사용됩니다."
      ],
      "metadata": {
        "id": "i0WjF8SWV_Ga"
      }
    },
    {
      "cell_type": "code",
      "source": [
        "print('안녕하세요\\n파이썬')\n",
        "print('이름\\t이유진')\n",
        "print('\\\\파이썬은 너무 재밌네\\\\')\n",
        "print(\"\\\"하잉\\\"\")"
      ],
      "metadata": {
        "colab": {
          "base_uri": "https://localhost:8080/"
        },
        "id": "YJUFPV-3WII3",
        "outputId": "09a0020b-ee9c-44aa-d1cc-be9ec37d5f95"
      },
      "execution_count": null,
      "outputs": [
        {
          "output_type": "stream",
          "name": "stdout",
          "text": [
            "안녕하세요\n",
            "파이썬\n",
            "이름\t이유진\n",
            "\\파이썬은 너무 재밌네\\\n",
            "\"하잉\"\n"
          ]
        }
      ]
    },
    {
      "cell_type": "code",
      "source": [
        "print('안녕하세요','파이썬', end='\\n')\n",
        "print('Hello')"
      ],
      "metadata": {
        "colab": {
          "base_uri": "https://localhost:8080/"
        },
        "id": "_s_ndMekWodc",
        "outputId": "3facbf23-fb1b-48ef-ace1-650a9fe544e3"
      },
      "execution_count": null,
      "outputs": [
        {
          "output_type": "stream",
          "name": "stdout",
          "text": [
            "안녕하세요 파이썬\n",
            "Hello\n"
          ]
        }
      ]
    },
    {
      "cell_type": "markdown",
      "source": [
        "# **3. print 함수 내의 연산**\n",
        "print() 함수는 문자열뿐만 아니라 숫자와 연산 결과도 출력할 수 있습니다."
      ],
      "metadata": {
        "id": "AAvTbhtfXRBU"
      }
    },
    {
      "cell_type": "code",
      "source": [
        "print(10)\n",
        "print(10 + 5)\n",
        "print('덧셈 :', 10 + 5)\n",
        "print('사칙연산 :', 10 + 5 * 2)\n",
        "print('사칙연산 :', (10 + 5) * 2)\n",
        "print('나눗셈 :', 10 / 5)\n",
        "print('정수 나눗셈 :', 10 // 3)\n",
        "print('나머지 :', 10 % 3)\n",
        "print('거듭제곱', 10 ** 3)"
      ],
      "metadata": {
        "colab": {
          "base_uri": "https://localhost:8080/"
        },
        "id": "fh4ozybsXYLA",
        "outputId": "6eddf114-284a-4c40-f9c6-eeee614665a2"
      },
      "execution_count": null,
      "outputs": [
        {
          "output_type": "stream",
          "name": "stdout",
          "text": [
            "10\n",
            "15\n",
            "덧셈 : 15\n",
            "사칙연산 : 20\n",
            "사칙연산 : 30\n",
            "나눗셈 : 2.0\n",
            "정수 나눗셈 : 3\n",
            "나머지 : 1\n",
            "거듭제곱 1000\n"
          ]
        }
      ]
    },
    {
      "cell_type": "code",
      "source": [],
      "metadata": {
        "id": "xsyChuFKXmEs"
      },
      "execution_count": null,
      "outputs": []
    }
  ]
}