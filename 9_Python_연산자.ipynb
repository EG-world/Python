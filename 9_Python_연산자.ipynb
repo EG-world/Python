{
  "nbformat": 4,
  "nbformat_minor": 0,
  "metadata": {
    "colab": {
      "provenance": [],
      "authorship_tag": "ABX9TyOZFXKejZlWMYALzw3WOXLt",
      "include_colab_link": true
    },
    "kernelspec": {
      "name": "python3",
      "display_name": "Python 3"
    },
    "language_info": {
      "name": "python"
    }
  },
  "cells": [
    {
      "cell_type": "markdown",
      "metadata": {
        "id": "view-in-github",
        "colab_type": "text"
      },
      "source": [
        "<a href=\"https://colab.research.google.com/github/EG-world/Python/blob/main/9_Python_%EC%97%B0%EC%82%B0%EC%9E%90.ipynb\" target=\"_parent\"><img src=\"https://colab.research.google.com/assets/colab-badge.svg\" alt=\"Open In Colab\"/></a>"
      ]
    },
    {
      "cell_type": "markdown",
      "source": [
        "# **1. 산술 연산자**\n",
        "산술 연산자는 주로 수치 데이터 유형에 대한 기본 산술 연산을 수행하기 위해 사용됩니다.\n",
        "```\n",
        "+ : 더하기\n",
        "- : 빼기\n",
        "* : 곱하기\n",
        "/ : 나누기\n",
        "//: 몫 (정수 나누기)\n",
        "% : 나머지\n",
        "**: 지수 (거듭제곱)\n",
        "```"
      ],
      "metadata": {
        "id": "5JTVLksPkArJ"
      }
    },
    {
      "cell_type": "code",
      "source": [
        "num1 = 10\n",
        "num2 = 3\n",
        "print(num1 + num2)\n",
        "print(num1 - num2)\n",
        "print(num1 * num2)\n",
        "print(num1 / num2)\n",
        "print(num1 // num2)\n",
        "print(num1 % num2)\n",
        "print(num1 ** num2)"
      ],
      "metadata": {
        "colab": {
          "base_uri": "https://localhost:8080/"
        },
        "id": "W_rImYlpkHVT",
        "outputId": "58817810-db13-4c02-999f-fd8d93498975"
      },
      "execution_count": 2,
      "outputs": [
        {
          "output_type": "stream",
          "name": "stdout",
          "text": [
            "13\n",
            "7\n",
            "30\n",
            "3.3333333333333335\n",
            "3\n",
            "1\n",
            "1000\n"
          ]
        }
      ]
    },
    {
      "cell_type": "markdown",
      "source": [
        "# **2. 비교 연산자**\n",
        "비교 연산자는 주로 두 값을 비교하는 데 사용되며, 그 결과는 항상 불리언(True 또는 False) 값입니다.\n",
        "```\n",
        "==: 동등\n",
        "!=: 동등하지 않음\n",
        "< : 작다\n",
        "<=: 작거나 같다\n",
        "> : 크다\n",
        ">=: 크거나 같다\n",
        "```"
      ],
      "metadata": {
        "id": "1MiLZ8X_koVs"
      }
    },
    {
      "cell_type": "code",
      "source": [
        "num1 = 10\n",
        "num2 = 3\n",
        "print(num1 == num2)\n",
        "print(num1 != num2)\n",
        "print(num1 > num2)\n",
        "print(num1 >= num2)\n",
        "print(num1 < num2)\n",
        "print(num1 <= num2)"
      ],
      "metadata": {
        "colab": {
          "base_uri": "https://localhost:8080/"
        },
        "id": "-wo70vvtk3lw",
        "outputId": "aee2a750-5dff-420b-ba43-88bae6d9dd33"
      },
      "execution_count": 3,
      "outputs": [
        {
          "output_type": "stream",
          "name": "stdout",
          "text": [
            "False\n",
            "True\n",
            "True\n",
            "True\n",
            "False\n",
            "False\n"
          ]
        }
      ]
    },
    {
      "cell_type": "markdown",
      "source": [
        "# **3. 할당 연산자**\n",
        "변수에 값을 할당하는데 사용됩니다. 파이썬에서는 기본 할당 연산자 외에도 복합 할당 연산자를 제공하여 코드를 간결하게 작성할 수 있게 도와줍니다.\n",
        "```\n",
        "= : 할당\n",
        "+= : 더하기 후 할당\n",
        "-= : 빼기 후 할당\n",
        "*= : 곱하기 후 할당\n",
        "/= : 나누기 후 할당\n",
        "//=: 몫 후 할당\n",
        "%= : 나머지 후 할당\n",
        "**=: 지수 후 할당\n",
        "```"
      ],
      "metadata": {
        "id": "mxRY3Jf9mCd2"
      }
    },
    {
      "cell_type": "code",
      "source": [
        "num = 10\n",
        "\n",
        "num += 1\n",
        "print(num)\n",
        "num -= 1\n",
        "print(num)\n",
        "num *= 10\n",
        "print(num)\n",
        "num /= 2\n",
        "print(num)\n",
        "num %= 3\n",
        "print(num)"
      ],
      "metadata": {
        "colab": {
          "base_uri": "https://localhost:8080/"
        },
        "id": "eAKyX8iImRGV",
        "outputId": "19fa42b3-6216-4ef6-9ee1-c45b40272ede"
      },
      "execution_count": 10,
      "outputs": [
        {
          "output_type": "stream",
          "name": "stdout",
          "text": [
            "11\n",
            "10\n",
            "100\n",
            "50.0\n",
            "2.0\n"
          ]
        }
      ]
    },
    {
      "cell_type": "markdown",
      "source": [
        "# **4. 비트 연산자**\n",
        "비트 연산자는 정수를 이진 비트로 표현했을 때 사용하는 연산자들입니다. 각 연산자는 정수의 비트 단위로 동작합니다.\n",
        "```\n",
        "& : 비트 단위 AND\n",
        "| : 비트 단위 OR\n",
        "^ : 비트 단위 XOR\n",
        "~ : 비트 단위 NOT\n",
        "<< : 왼쪽 시프트\n",
        ">> : 오른쪽 시프트\n",
        "```\n",
        "\n",
        "✔ 데이터의 크기를 나타내는 단위\n",
        "1. 비트(bit) : 데이터의 가장 작은 단위 (0 또는 1의 값을 가짐)\n",
        "2. 바이트(Byte) : 8bit로 구성, 문자 하나(영문 기준) ASCII\n",
        "3. 킬로바이트(KB) : 1024 byte\n",
        "4. 메가바이트(MB) : 1024 KB\n",
        "5. 기가바이트(GB) : 1024 MB\n",
        "6. 테라바이트(TB) : 1024 GB\n",
        "7. 페타바이트(PB) : 1024 TB\n",
        "8. 엑사바이트, 제타바이트, 요타바이트, ....\n"
      ],
      "metadata": {
        "id": "EXqcSdRPpwO5"
      }
    },
    {
      "cell_type": "code",
      "source": [
        "num1 = 60\n",
        "num2 = 13\n",
        "print(num1 & num2)\n",
        "print(num1 | num2)\n",
        "print(num1 ^ num2)\n",
        "print(~num1)\n",
        "print(num1 << 2)\n",
        "print(num1 >> 2)\n",
        "\n",
        "\n",
        "# AND 00001100\n",
        "# OR  00111101\n",
        "# XOR 00110001\n",
        "# ~num1 11000100 , 2의 보수로 음수를 구함 (비트를 모두 뒤집은 후 1을 더함)\n",
        "# num1 << 2 11110000\n",
        "# num1 >> 2 1111|"
      ],
      "metadata": {
        "colab": {
          "base_uri": "https://localhost:8080/"
        },
        "id": "Yw2IfUG2qVPx",
        "outputId": "034a07f5-a2dc-404b-8986-7caa2d8862db"
      },
      "execution_count": 14,
      "outputs": [
        {
          "output_type": "stream",
          "name": "stdout",
          "text": [
            "12\n",
            "61\n",
            "49\n",
            "-61\n",
            "240\n",
            "15\n"
          ]
        }
      ]
    },
    {
      "cell_type": "markdown",
      "source": [
        "# **5. 논리 연산자**\n",
        "파이썬에서의 논리 연산자는 주로 불린(Boolean) 값을 조작하기 위해 사용됩니다. 그러나 파이썬의 논리 연산자는 다른 언어와는 다르게, 연산의 결과로 항상 True 또는 False만을 반환하는 것은 아닙니다. 대신 마지막으로 평가된 피연산자의 값을 반환합니다.\n",
        "```\n",
        "and: 논리 AND\n",
        "or : 논리 OR\n",
        "not: 논리 NOT\n",
        "```\n",
        "\n",
        "✔ 파이썬에서 불린(Boolean)으로 평가되는 값\n",
        "1. True로 평가 되는 값\n",
        "```\n",
        "Boolean : True\n",
        "0이 아닌 숫자 ex) 1, 3.5, -1, -2.1 등\n",
        "문자열과 바이트 문자열 : ex) 'Hello', b'hello'\n",
        "모든 리스트, 튜플, 세트, 딕셔너리(단, 빈 컨테이너가 아닌 형태)\n",
        "```\n",
        "\n",
        "2. False로 평가되는 값\n",
        "```\n",
        "Boolean : False\n",
        "숫자 : 0, 0.0\n",
        "문자열 : 빈 문자열 '' 및 빈 바이트 문자열 b''\n",
        "리스트, 튜플, 세트, 딕셔터리의 빈 값\n",
        "None\n",
        "```"
      ],
      "metadata": {
        "id": "CE_MjnyzuMAE"
      }
    },
    {
      "cell_type": "code",
      "source": [
        "num1 = 10\n",
        "num2 = 3\n",
        "result1 = num1 > num2  # True\n",
        "result2 = num1 == num2 # False\n",
        "print(result1 and result2)\n",
        "print(result1 or result2)\n",
        "print(not result1)"
      ],
      "metadata": {
        "colab": {
          "base_uri": "https://localhost:8080/"
        },
        "id": "MhO8L30qyQ8A",
        "outputId": "abd0ecd5-acc4-466b-89f4-82013a7f04ae"
      },
      "execution_count": 19,
      "outputs": [
        {
          "output_type": "stream",
          "name": "stdout",
          "text": [
            "False\n",
            "True\n",
            "False\n"
          ]
        }
      ]
    },
    {
      "cell_type": "code",
      "source": [
        "print(True and False)\n",
        "print(True and True)\n",
        "print(True or False)\n",
        "print(not False)"
      ],
      "metadata": {
        "colab": {
          "base_uri": "https://localhost:8080/"
        },
        "id": "WSmJ-HIi4aBZ",
        "outputId": "30f1fecf-2235-42f4-a38e-f2fbaf13cae9"
      },
      "execution_count": 20,
      "outputs": [
        {
          "output_type": "stream",
          "name": "stdout",
          "text": [
            "False\n",
            "True\n",
            "True\n",
            "True\n"
          ]
        }
      ]
    },
    {
      "cell_type": "code",
      "source": [
        "print(False and 10)\n",
        "print(True and 10)\n",
        "print(True and 0)\n",
        "print(0 and True)\n",
        "print(1 and 10)"
      ],
      "metadata": {
        "colab": {
          "base_uri": "https://localhost:8080/"
        },
        "id": "zIzalDf8yv60",
        "outputId": "d57fa454-e4a3-44cc-8b53-87aed1f76fe9"
      },
      "execution_count": 24,
      "outputs": [
        {
          "output_type": "stream",
          "name": "stdout",
          "text": [
            "False\n",
            "10\n",
            "0\n",
            "0\n",
            "10\n"
          ]
        }
      ]
    },
    {
      "cell_type": "code",
      "source": [
        "print(True and 10)\n",
        "print(10 or False)\n",
        "print(False or [])\n",
        "print(False or 3)\n",
        "print('Hello' or 3)\n",
        "print('' or 'Hello')\n",
        "print(None or '안녕')"
      ],
      "metadata": {
        "colab": {
          "base_uri": "https://localhost:8080/"
        },
        "id": "0Dcbx0VQ5V8L",
        "outputId": "22999caf-0fd2-4823-8de3-19992ea9f193"
      },
      "execution_count": 29,
      "outputs": [
        {
          "output_type": "stream",
          "name": "stdout",
          "text": [
            "10\n",
            "10\n",
            "[]\n",
            "3\n",
            "Hello\n",
            "Hello\n",
            "안녕\n"
          ]
        }
      ]
    },
    {
      "cell_type": "code",
      "source": [
        "print(not True)\n",
        "print(not 2)\n",
        "print(not [])"
      ],
      "metadata": {
        "colab": {
          "base_uri": "https://localhost:8080/"
        },
        "id": "8vej--QJ5vTL",
        "outputId": "c38af407-d846-4bab-db68-5690091e4c7e"
      },
      "execution_count": 33,
      "outputs": [
        {
          "output_type": "stream",
          "name": "stdout",
          "text": [
            "False\n",
            "False\n",
            "True\n"
          ]
        }
      ]
    },
    {
      "cell_type": "code",
      "source": [],
      "metadata": {
        "id": "11mDSZke5_hm"
      },
      "execution_count": null,
      "outputs": []
    }
  ]
}