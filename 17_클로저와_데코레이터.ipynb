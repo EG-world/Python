{
  "nbformat": 4,
  "nbformat_minor": 0,
  "metadata": {
    "colab": {
      "provenance": [],
      "authorship_tag": "ABX9TyNL3ULlJJs102PDaefj/yCd",
      "include_colab_link": true
    },
    "kernelspec": {
      "name": "python3",
      "display_name": "Python 3"
    },
    "language_info": {
      "name": "python"
    }
  },
  "cells": [
    {
      "cell_type": "markdown",
      "metadata": {
        "id": "view-in-github",
        "colab_type": "text"
      },
      "source": [
        "<a href=\"https://colab.research.google.com/github/EG-world/Python/blob/main/17_%ED%81%B4%EB%A1%9C%EC%A0%80%EC%99%80_%EB%8D%B0%EC%BD%94%EB%A0%88%EC%9D%B4%ED%84%B0.ipynb\" target=\"_parent\"><img src=\"https://colab.research.google.com/assets/colab-badge.svg\" alt=\"Open In Colab\"/></a>"
      ]
    },
    {
      "cell_type": "markdown",
      "source": [
        "# **1. 클로저(Closure)**\n",
        "클로저는 프로그래밍 언어에서 중요한 개념 중 하나로, 함수와 그 함수가 참조하는 외부 변수(또는 자유 변수) 사이의 관계를 나타냅니다. 클로저는 함수의 내부에서 정의된 함수로, 내부 함수가 외부 함수의 변수에 접근할 수 있고, 외부 함수는 내부 함수를 반환할 수 있습니다. 이로 인해 함수와 그 함수가 참조하는 상태(변수)를 함께 저장하고 유지할 수 있습니다."
      ],
      "metadata": {
        "id": "A9YS6c755q63"
      }
    },
    {
      "cell_type": "code",
      "source": [
        "def mul2(n) :\n",
        "  return n*2"
      ],
      "metadata": {
        "id": "qNZJk7_w51zK"
      },
      "execution_count": 1,
      "outputs": []
    },
    {
      "cell_type": "code",
      "source": [
        "print(mul2(10))\n",
        "print(mul2(5))"
      ],
      "metadata": {
        "colab": {
          "base_uri": "https://localhost:8080/"
        },
        "id": "I9iD4X9J51oo",
        "outputId": "c1cb248c-e741-4ea9-bb46-0238c3462450"
      },
      "execution_count": 2,
      "outputs": [
        {
          "output_type": "stream",
          "name": "stdout",
          "text": [
            "20\n",
            "10\n"
          ]
        }
      ]
    },
    {
      "cell_type": "code",
      "source": [
        "def mul5(n) :\n",
        "  return n*5"
      ],
      "metadata": {
        "id": "3TgXlYM-51mR"
      },
      "execution_count": 3,
      "outputs": []
    },
    {
      "cell_type": "code",
      "source": [
        "print(mul5(10))\n",
        "print(mul5(5))"
      ],
      "metadata": {
        "colab": {
          "base_uri": "https://localhost:8080/"
        },
        "id": "pXh3KDSa51iw",
        "outputId": "4bf53228-9c7d-4802-e857-a0f45545302f"
      },
      "execution_count": 4,
      "outputs": [
        {
          "output_type": "stream",
          "name": "stdout",
          "text": [
            "50\n",
            "25\n"
          ]
        }
      ]
    },
    {
      "cell_type": "code",
      "source": [
        "class Mul :\n",
        "  def __init__(self, m) :\n",
        "    self.m = m\n",
        "\n",
        "  def mul(self, n) :\n",
        "    return self.m * n"
      ],
      "metadata": {
        "id": "K_B52_9q51f0"
      },
      "execution_count": 6,
      "outputs": []
    },
    {
      "cell_type": "code",
      "source": [
        "mul2 = Mul(2)\n",
        "print(mul2.mul(10))\n",
        "print(mul2.mul(5))"
      ],
      "metadata": {
        "colab": {
          "base_uri": "https://localhost:8080/"
        },
        "id": "fOOYQqS451cU",
        "outputId": "f62a4bcd-fd61-4983-9c67-e032c8cd46cf"
      },
      "execution_count": 10,
      "outputs": [
        {
          "output_type": "stream",
          "name": "stdout",
          "text": [
            "20\n",
            "10\n"
          ]
        }
      ]
    },
    {
      "cell_type": "code",
      "source": [
        "mul5 = Mul(5)\n",
        "print(mul5.mul(10))\n",
        "print(mul5.mul(5))"
      ],
      "metadata": {
        "colab": {
          "base_uri": "https://localhost:8080/"
        },
        "id": "NVzd62MY51ZY",
        "outputId": "46ad5361-583e-4f8f-fe2b-4d0e98c5e38e"
      },
      "execution_count": 11,
      "outputs": [
        {
          "output_type": "stream",
          "name": "stdout",
          "text": [
            "50\n",
            "25\n"
          ]
        }
      ]
    },
    {
      "cell_type": "code",
      "source": [
        "class Mul :\n",
        "  def __init__(self, m) :\n",
        "    print('__init 호출')\n",
        "    self.m = m\n",
        "\n",
        "  def __call__(self, n) :\n",
        "    print('call 호출')\n",
        "    return self.m * n"
      ],
      "metadata": {
        "id": "C_-lUQLH51Tj"
      },
      "execution_count": 15,
      "outputs": []
    },
    {
      "cell_type": "code",
      "source": [
        "mul2 = Mul(2)\n",
        "mul2(2)"
      ],
      "metadata": {
        "colab": {
          "base_uri": "https://localhost:8080/"
        },
        "id": "JwIom4HB51NF",
        "outputId": "1a898565-13ce-4191-8b00-605966575352"
      },
      "execution_count": 16,
      "outputs": [
        {
          "output_type": "stream",
          "name": "stdout",
          "text": [
            "__init 호출\n",
            "call 호출\n"
          ]
        },
        {
          "output_type": "execute_result",
          "data": {
            "text/plain": [
              "4"
            ]
          },
          "metadata": {},
          "execution_count": 16
        }
      ]
    },
    {
      "cell_type": "code",
      "source": [
        "# 클로저 사용하기\n",
        "def mul(m) :\n",
        "  def wrapper(n) :\n",
        "    return m * n\n",
        "  return wrapper"
      ],
      "metadata": {
        "id": "afBCiC6551Kv"
      },
      "execution_count": 17,
      "outputs": []
    },
    {
      "cell_type": "code",
      "source": [
        "mul2 = mul(2)\n",
        "'''\n",
        "  def wrapper(n) :\n",
        "    return 2 * n\n",
        "'''\n",
        "mul2(5)"
      ],
      "metadata": {
        "colab": {
          "base_uri": "https://localhost:8080/"
        },
        "id": "CgCYqMwR51HO",
        "outputId": "dbb0845b-e1df-43d1-dc80-8068ed23601d"
      },
      "execution_count": 20,
      "outputs": [
        {
          "output_type": "execute_result",
          "data": {
            "text/plain": [
              "10"
            ]
          },
          "metadata": {},
          "execution_count": 20
        }
      ]
    },
    {
      "cell_type": "markdown",
      "source": [
        "# **2. 데코레이터(Decorator)**\n",
        "데코레이터는 파이썬에서 함수나 메서드의 동작을 수정하거나 확장하기 위한 강력한 도구입니다. 데코레이터는 함수나 메서드를 래핑하거나 감싸서 추가 기능을 제공하며, 코드 재사용성과 가독성을 향상시킵니다. 데코레이터는 @ 기호를 사용하여 함수나 메서드 위에 적용됩니다.\n",
        "\n"
      ],
      "metadata": {
        "id": "OKJnOPQn51Dt"
      }
    },
    {
      "cell_type": "code",
      "source": [
        "import time"
      ],
      "metadata": {
        "id": "0FrtW2nh51AM"
      },
      "execution_count": 21,
      "outputs": []
    },
    {
      "cell_type": "code",
      "source": [
        "def func1(a, b) :\n",
        "  start = time.time()\n",
        "  print('함수가 시작되었습니다.')\n",
        "\n",
        "  result = a + b\n",
        "\n",
        "  end = time.time()\n",
        "\n",
        "  print(f'함수 수행시간 : {end-start}')\n",
        "  return result"
      ],
      "metadata": {
        "id": "Kv4d1GIl508F"
      },
      "execution_count": 27,
      "outputs": []
    },
    {
      "cell_type": "code",
      "source": [
        "result = func1(10, 3)\n",
        "print(result)"
      ],
      "metadata": {
        "colab": {
          "base_uri": "https://localhost:8080/"
        },
        "id": "2x0_1f255ztl",
        "outputId": "f88adb7e-a352-4cf4-e6db-56bda4327881"
      },
      "execution_count": 28,
      "outputs": [
        {
          "output_type": "stream",
          "name": "stdout",
          "text": [
            "함수가 시작되었습니다.\n",
            "함수 수행시간 : 0.0008933544158935547\n",
            "13\n"
          ]
        }
      ]
    },
    {
      "cell_type": "code",
      "source": [
        "def func2(a, b) :\n",
        "  start = time.time()\n",
        "  print('함수가 시작되었습니다.')\n",
        "\n",
        "  result = a * b\n",
        "\n",
        "  end = time.time()\n",
        "\n",
        "  print(f'함수 수행시간 : {end-start}')\n",
        "  return result"
      ],
      "metadata": {
        "id": "q_5LBdsT-uTg"
      },
      "execution_count": 29,
      "outputs": []
    },
    {
      "cell_type": "code",
      "source": [
        "result = func2(10, 3)\n",
        "print(result)"
      ],
      "metadata": {
        "colab": {
          "base_uri": "https://localhost:8080/"
        },
        "id": "eoHAok02-6fG",
        "outputId": "300f1ad1-6175-4f2a-c8e2-6e2f1d0288ea"
      },
      "execution_count": 30,
      "outputs": [
        {
          "output_type": "stream",
          "name": "stdout",
          "text": [
            "함수가 시작되었습니다.\n",
            "함수 수행시간 : 0.001088857650756836\n",
            "30\n"
          ]
        }
      ]
    },
    {
      "cell_type": "code",
      "source": [
        "def func1(a, b) :\n",
        "  result = a + b\n",
        "  return result\n",
        "\n",
        "def func2(a, b) :\n",
        "  result = a * b\n",
        "  return result"
      ],
      "metadata": {
        "id": "cXpIuFRO-7qX"
      },
      "execution_count": 31,
      "outputs": []
    },
    {
      "cell_type": "code",
      "source": [
        "def elapsed(func) :\n",
        "  def wrapper(a, b) :\n",
        "    start = time.time()\n",
        "    print('함수가 시작되었습니다.')\n",
        "\n",
        "    result = func(a,b)\n",
        "\n",
        "    end = time.time()\n",
        "    print(f'함수 수행시간 : {end-start}')\n",
        "    return result\n",
        "  return wrapper"
      ],
      "metadata": {
        "id": "SXUJPX4g_ayu"
      },
      "execution_count": 32,
      "outputs": []
    },
    {
      "cell_type": "code",
      "source": [
        "deco1 = elapsed(func1)\n",
        "result = deco1(10, 3)\n",
        "print(result)\n",
        "\n",
        "deco2 = elapsed(func2)\n",
        "result = deco2(10,3)\n",
        "print(result)"
      ],
      "metadata": {
        "colab": {
          "base_uri": "https://localhost:8080/"
        },
        "id": "nhgNOsTMAC4p",
        "outputId": "134f5acc-31b5-43d9-c4a4-2757a0cd5b2e"
      },
      "execution_count": 33,
      "outputs": [
        {
          "output_type": "stream",
          "name": "stdout",
          "text": [
            "함수가 시작되었습니다.\n",
            "함수 수행시간 : 0.0017347335815429688\n",
            "13\n",
            "함수가 시작되었습니다.\n",
            "함수 수행시간 : 1.8835067749023438e-05\n",
            "30\n"
          ]
        }
      ]
    },
    {
      "cell_type": "code",
      "source": [
        "@elapsed            # elapsed가\n",
        "def func1(a, b) :\n",
        "  result = a + b\n",
        "  return result\n",
        "\n",
        "@elapsed\n",
        "def func2(a, b) :\n",
        "  result = a * b\n",
        "  return result\n",
        "\n",
        "@elapsed\n",
        "def func3(a, b) :\n",
        "  result = a / b\n",
        "  return result"
      ],
      "metadata": {
        "id": "O93WC3c_Ahbq"
      },
      "execution_count": 39,
      "outputs": []
    },
    {
      "cell_type": "code",
      "source": [
        "result = func3(10, 3)\n",
        "print(result)"
      ],
      "metadata": {
        "colab": {
          "base_uri": "https://localhost:8080/"
        },
        "id": "x0GUbhvBA2jm",
        "outputId": "66e9c879-5a2c-40e9-f92b-ef2d36b65935"
      },
      "execution_count": 41,
      "outputs": [
        {
          "output_type": "stream",
          "name": "stdout",
          "text": [
            "함수가 시작되었습니다.\n",
            "함수 수행시간 : 0.0003764629364013672\n",
            "3.3333333333333335\n"
          ]
        }
      ]
    },
    {
      "cell_type": "code",
      "source": [],
      "metadata": {
        "id": "sln644BAA4y6"
      },
      "execution_count": null,
      "outputs": []
    }
  ]
}