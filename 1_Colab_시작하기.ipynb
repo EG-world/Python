{
  "nbformat": 4,
  "nbformat_minor": 0,
  "metadata": {
    "colab": {
      "provenance": [],
      "authorship_tag": "ABX9TyMLq5/04FMBgUxwpdiajWoW",
      "include_colab_link": true
    },
    "kernelspec": {
      "name": "python3",
      "display_name": "Python 3"
    },
    "language_info": {
      "name": "python"
    }
  },
  "cells": [
    {
      "cell_type": "markdown",
      "metadata": {
        "id": "view-in-github",
        "colab_type": "text"
      },
      "source": [
        "<a href=\"https://colab.research.google.com/github/EG-world/Python/blob/main/1_Colab_%EC%8B%9C%EC%9E%91%ED%95%98%EA%B8%B0.ipynb\" target=\"_parent\"><img src=\"https://colab.research.google.com/assets/colab-badge.svg\" alt=\"Open In Colab\"/></a>"
      ]
    },
    {
      "cell_type": "markdown",
      "source": [
        "# **1. 코랩이란?**\n",
        "구글 코랩(Colab)은 구글에서 제공하는 클라우드 기반의 Jupyter 노트북 환경입니다. 주로 Python 코드를 작성하고 실행하는 데 사용되며, 데이터 분석, 기계 학습, 딥러닝 등의 작업에 유용합니다."
      ],
      "metadata": {
        "id": "Y1ZYwSND_ENx"
      }
    },
    {
      "cell_type": "markdown",
      "source": [
        "# **2. 마크다운(Markdown)**\n",
        "일반 텍스트 기반의 경량 마크업 언어\n",
        "\n",
        "```\n",
        "1) 제목\n",
        "# 제목1\n",
        "## 제목2\n",
        "### 제목3\n",
        "...\n",
        "###### 제목6\n",
        "\n",
        "2) 강조\n",
        "볼드체 : **볼드체** 또는 __볼드체__\n",
        "이탤릭체 : *이탤릭체* 또는 _이탤릭체_\n",
        "\n",
        "3) 목록\n",
        "순서가 없는 목록 : 앞에 -, *, +를 사용\n",
        "순서가 있는 목록 : 숫자.(점)을 사용\n",
        "\n",
        "4) 링크\n",
        "[문자열](URL주소)\n",
        "\n",
        "5) 이미지\n",
        "![문자열](이미지 주소)\n",
        "\n",
        "6) 수평선 만들기\n",
        "3개 이상의 -. *, _ 를 연속으로 작성\n",
        "```"
      ],
      "metadata": {
        "id": "rs81Sraz_bfr"
      }
    },
    {
      "cell_type": "markdown",
      "source": [
        "# **제목1**\n",
        "* 작은 제목 1\n",
        "## __제목2__\n",
        "1. 작은 제목 2\n",
        "### *제목3*\n",
        "#### _제목4_\n",
        "##### 제목5\n",
        "###### 제목6"
      ],
      "metadata": {
        "id": "oUnoYafH_9bb"
      }
    },
    {
      "cell_type": "markdown",
      "source": [
        "[python 공식 홈페이지](https://www.python.org/)\n",
        "***\n",
        "![python logo](https://www.python.org/static/img/python-logo.png)\n",
        "\n"
      ],
      "metadata": {
        "id": "5bMnIY5ZAiFV"
      }
    },
    {
      "cell_type": "markdown",
      "source": [
        "# **3. Colab 환경**"
      ],
      "metadata": {
        "id": "TqtERyl0E4Ad"
      }
    },
    {
      "cell_type": "markdown",
      "source": [
        "### 3-1. os"
      ],
      "metadata": {
        "id": "SBwvuacGHKqR"
      }
    },
    {
      "cell_type": "markdown",
      "source": [
        "↓ !(느낌표) 로 시작하면 Linux 언어를 사용하겠다! 라는 뜻."
      ],
      "metadata": {
        "id": "i4BkHTF7G4va"
      }
    },
    {
      "cell_type": "code",
      "source": [
        "!cat /etc/issue.net"
      ],
      "metadata": {
        "colab": {
          "base_uri": "https://localhost:8080/"
        },
        "id": "4g2bLkgFGHQK",
        "outputId": "2b6822f5-6e97-4854-c3c2-9124e26b594d"
      },
      "execution_count": null,
      "outputs": [
        {
          "output_type": "stream",
          "name": "stdout",
          "text": [
            "Ubuntu 22.04.3 LTS\n"
          ]
        }
      ]
    },
    {
      "cell_type": "markdown",
      "source": [
        "### 3-2. Python Version"
      ],
      "metadata": {
        "id": "1_8DC555G92a"
      }
    },
    {
      "cell_type": "code",
      "source": [
        "!python --version"
      ],
      "metadata": {
        "colab": {
          "base_uri": "https://localhost:8080/"
        },
        "id": "stwnfCfnHSwH",
        "outputId": "df6f13ad-0b4a-4831-e2f7-f281d863a9af"
      },
      "execution_count": null,
      "outputs": [
        {
          "output_type": "stream",
          "name": "stdout",
          "text": [
            "Python 3.10.12\n"
          ]
        }
      ]
    },
    {
      "cell_type": "markdown",
      "source": [
        "# **4. 셀의 종류**\n",
        "* 텍스트 셀: 마크다운 문법을 사용하여 텍스트를 작성할 수 있습니다.\n",
        "* 코드 셀: Python 코드를 작성하고 실행할 수 있습니다."
      ],
      "metadata": {
        "id": "cPVihfpRHX9F"
      }
    },
    {
      "cell_type": "markdown",
      "source": [
        "### 4-1. 셀의 삽입 방법\n",
        "* 좌측 상단의 \"코드\" 또는 \"텍스트\" 버튼을 눌러 삽입\n",
        "* 코드셀을 위 삽입 : Ctrl + M A\n",
        "* 코드셀을 아래 삽임 : Ctrl + M B"
      ],
      "metadata": {
        "id": "cK_O_klMH4IY"
      }
    },
    {
      "cell_type": "markdown",
      "source": [
        "### 4-2. 셀을 변경하는 방법\n",
        "* 코드셀을 텍스트 셀로 변경 : Ctrl + M M\n",
        "* 텍스트셀을 코드셀로 변경 : Ctrl + M Y"
      ],
      "metadata": {
        "id": "ttvB7IDMIE27"
      }
    },
    {
      "cell_type": "markdown",
      "source": [
        "### 4-3. 셀을 삭제하는 방법\n",
        "* 셀 우측의 휴지통 아이콘을 클릭\n",
        "* Ctrl + M D"
      ],
      "metadata": {
        "id": "vev_lnZKIrau"
      }
    },
    {
      "cell_type": "markdown",
      "source": [
        "# **5.셀의 실행하는 방법**\n",
        "* Ctrl + Enter : 해당 셀 실행 후 커서는 해당 셀에 남음\n",
        "* Shift + Enter : 해당 셀 실행 후 커서는 다음 셀로\n",
        "* Alt + Enter : 해당 셀 실행 후 다음 셀을 삽입 후 넘어감"
      ],
      "metadata": {
        "id": "uQg2Y-xfIz3E"
      }
    },
    {
      "cell_type": "code",
      "source": [
        "print(\"안녕하세요\")"
      ],
      "metadata": {
        "id": "CpLCqjWjJGPL",
        "colab": {
          "base_uri": "https://localhost:8080/"
        },
        "outputId": "a394bbfb-450c-4f6b-c52e-73ca745b4da8"
      },
      "execution_count": null,
      "outputs": [
        {
          "output_type": "stream",
          "name": "stdout",
          "text": [
            "안녕하세요\n"
          ]
        }
      ]
    },
    {
      "cell_type": "markdown",
      "source": [
        "# **6. 실행 취소**\n",
        "* Ctrl + M Z : 실행한 내용을 취소\n",
        "* Ctrl + Shift + Y : 취소한 내용을 다시 실행"
      ],
      "metadata": {
        "id": "Kwbx9uDRKIrH"
      }
    },
    {
      "cell_type": "code",
      "source": [],
      "metadata": {
        "id": "g7Rs98lRKjhG"
      },
      "execution_count": null,
      "outputs": []
    },
    {
      "cell_type": "code",
      "source": [],
      "metadata": {
        "id": "8-UkWTp8Kjwu"
      },
      "execution_count": null,
      "outputs": []
    },
    {
      "cell_type": "code",
      "source": [],
      "metadata": {
        "id": "SVXyXO-EKjzp"
      },
      "execution_count": null,
      "outputs": []
    },
    {
      "cell_type": "code",
      "source": [],
      "metadata": {
        "id": "6hjBiIePKj2m"
      },
      "execution_count": null,
      "outputs": []
    },
    {
      "cell_type": "code",
      "source": [],
      "metadata": {
        "id": "Cpano7CAKj9D"
      },
      "execution_count": null,
      "outputs": []
    }
  ]
}